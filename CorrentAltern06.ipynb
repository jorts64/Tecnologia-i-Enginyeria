{
 "cells": [
  {
   "cell_type": "markdown",
   "id": "fe940066-452e-4578-8296-3ae1d0096ffa",
   "metadata": {
    "editable": true,
    "slideshow": {
     "slide_type": ""
    },
    "tags": []
   },
   "source": [
    "# Circuits sèrie AC"
   ]
  },
  {
   "cell_type": "markdown",
   "id": "87976f44-70ff-4561-ad14-662f7f5cbd0f",
   "metadata": {
    "editable": true,
    "slideshow": {
     "slide_type": ""
    },
    "tags": []
   },
   "source": [
    "```{admonition} Pàgina en desenvolupament\n",
    "Encara estem treballant en aquest document.   \n",
    "Esperem oferir-vos properament el seu contingut.   \n",
    "Disculpeu les molèsties.\n",
    "```"
   ]
  },
  {
   "cell_type": "code",
   "execution_count": null,
   "id": "761e1620-13ca-404e-a232-1bdb9c66a956",
   "metadata": {
    "editable": true,
    "slideshow": {
     "slide_type": ""
    },
    "tags": []
   },
   "outputs": [],
   "source": []
  }
 ],
 "metadata": {
  "kernelspec": {
   "display_name": "venvPy3",
   "language": "python",
   "name": "venvpy3"
  },
  "language_info": {
   "codemirror_mode": {
    "name": "ipython",
    "version": 3
   },
   "file_extension": ".py",
   "mimetype": "text/x-python",
   "name": "python",
   "nbconvert_exporter": "python",
   "pygments_lexer": "ipython3",
   "version": "3.10.12"
  }
 },
 "nbformat": 4,
 "nbformat_minor": 5
}
