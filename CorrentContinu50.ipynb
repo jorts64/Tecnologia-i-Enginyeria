{
 "cells": [
  {
   "cell_type": "markdown",
   "id": "1445d964-faf3-4f83-8e7f-29d86ed07c68",
   "metadata": {
    "editable": true,
    "slideshow": {
     "slide_type": ""
    },
    "tags": []
   },
   "source": [
    "# Aplicacions de les resistències"
   ]
  },
  {
   "attachments": {},
   "cell_type": "markdown",
   "id": "e2a2f4b4-d277-42e0-b6e2-25ef5fe2fb71",
   "metadata": {
    "editable": true,
    "slideshow": {
     "slide_type": ""
    },
    "tags": []
   },
   "source": [
    "Recordem les lleis bàsiques\n",
    "\n",
    "$$ I = \\frac{U}{R}$$\n",
    "\n",
    "$$P = U \\cdot I = \\frac{U^2}{R} = I^2 \\cdot R$$  "
   ]
  },
  {
   "cell_type": "markdown",
   "id": "fa919cb2-aab2-4eed-8dc6-2461e3feb46a",
   "metadata": {
    "editable": true,
    "slideshow": {
     "slide_type": ""
    },
    "tags": []
   },
   "source": [
    "## Producció de calor\n",
    "\n",
    "Al tema anterior ja hem vist un exemple. Típicament s'utilitzen fils que moltes vegades s'enrotllen en anti-inductiu (el fil es doblega per la meitat, d'aquesta manera no fa d'electroimant ni provoca interferències radioelèctriques (RFI)\n",
    "\n",
    "$$P =  \\frac{U^2}{R}$$  "
   ]
  },
  {
   "cell_type": "markdown",
   "id": "8d6fee63-8bb1-4a9c-9356-786d8304793a",
   "metadata": {
    "editable": true,
    "slideshow": {
     "slide_type": ""
    },
    "tags": []
   },
   "source": [
    "## Limitació d'intensitat\n",
    "\n",
    "![](img/CorrentContinu/ledpol.png)\n",
    "\n",
    "$$ I = \\frac{U-U_{led}}{R}$$"
   ]
  },
  {
   "cell_type": "markdown",
   "id": "49be81b8-4027-410c-8a36-bb742c466855",
   "metadata": {
    "editable": true,
    "slideshow": {
     "slide_type": ""
    },
    "tags": []
   },
   "source": [
    "## Consigna de tensió"
   ]
  },
  {
   "cell_type": "markdown",
   "id": "e0986005-6461-4528-bf14-81d8df6ece5e",
   "metadata": {
    "editable": true,
    "slideshow": {
     "slide_type": ""
    },
    "tags": []
   },
   "source": [
    "![](img/CorrentContinu/divTen1.png)  \n",
    "\n",
    "$$V_{out}= \\frac{R_2}{R_1+R_2} \\cdot 5\\ V$$\n",
    "\n",
    "### Exemples d'aplicació\n",
    "\n",
    "\n",
    "| Comparació amb la resistència d'una NTC. | Un potenciòmetre pot reemplaçar les dues resistències. És una connexió que estem acostumats a veure al taller si treballem amb entrades analògiques d'un microprocessador, com l'Arduino | De vegades hem de limitar la intensitat de mostreig, com ara quan polaritzem un transistor amb la sortida |\n",
    "| :---: | :---: | :---: |\n",
    "| ![](img/CorrentContinu/divTen2.png)    |![](img/CorrentContinu/divTen3.png)    | ![](img/CorrentContinu/divTen4.png)    |\n",
    "|  |  |  |\n",
    "\n",
    "\n",
    "Veiem en un simulador com varia el voltatge en funció de la temperatura:\n",
    " "
   ]
  },
  {
   "cell_type": "code",
   "execution_count": 1,
   "id": "fd02dba3-aa57-4c13-b0e1-d8e3e7eeac7a",
   "metadata": {
    "editable": true,
    "slideshow": {
     "slide_type": ""
    },
    "tags": [
     "hide-input"
    ]
   },
   "outputs": [
    {
     "data": {
      "text/html": [
       " <iframe src=\"https://www.falstad.com/circuit/circuitjs.html?ctz=CQAgDOB0YzCsICMZICYaoOyYMxgByoBsAnCZiHBAlZQKYC0iiAUAA4gAsiRI6+XHn3wCc4cCwBufThFRxeqWUky8IEZQnVQ4LAE4gc6PgUPHUI8clgsctIxEQWzc049gQcRMAgbLEtCg4zCQgACp0ALZsdHoAhgAuAK56dCwA7i4mAtyKbhkyjqqFSM5gBUqOzg6lAuWZlXwKJRZ1FcqtWZ31XZa5wm1AA\" width=800 height=\"425\"></iframe> \n"
      ],
      "text/plain": [
       "<IPython.core.display.HTML object>"
      ]
     },
     "metadata": {},
     "output_type": "display_data"
    }
   ],
   "source": [
    "%%html\n",
    " <iframe src=\"https://www.falstad.com/circuit/circuitjs.html?ctz=CQAgDOB0YzCsICMZICYaoOyYMxgByoBsAnCZiHBAlZQKYC0iiAUAA4gAsiRI6+XHn3wCc4cCwBufThFRxeqWUky8IEZQnVQ4LAE4gc6PgUPHUI8clgsctIxEQWzc049gQcRMAgbLEtCg4zCQgACp0ALZsdHoAhgAuAK56dCwA7i4mAtyKbhkyjqqFSM5gBUqOzg6lAuWZlXwKJRZ1FcqtWZ31XZa5wm1AA\" width=800 height=\"425\"></iframe> "
   ]
  },
  {
   "cell_type": "code",
   "execution_count": null,
   "id": "87b29fcb-e9ad-4717-86bf-c5f7aa189428",
   "metadata": {
    "editable": true,
    "slideshow": {
     "slide_type": ""
    },
    "tags": []
   },
   "outputs": [],
   "source": []
  }
 ],
 "metadata": {
  "kernelspec": {
   "display_name": "venvPy3",
   "language": "python",
   "name": "venvpy3"
  },
  "language_info": {
   "codemirror_mode": {
    "name": "ipython",
    "version": 3
   },
   "file_extension": ".py",
   "mimetype": "text/x-python",
   "name": "python",
   "nbconvert_exporter": "python",
   "pygments_lexer": "ipython3",
   "version": "3.10.12"
  }
 },
 "nbformat": 4,
 "nbformat_minor": 5
}
