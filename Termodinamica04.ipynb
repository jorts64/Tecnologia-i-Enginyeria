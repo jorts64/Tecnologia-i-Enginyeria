{
 "cells": [
  {
   "cell_type": "markdown",
   "id": "7df2f400-65dd-4ff5-a83c-0669f20bf51c",
   "metadata": {
    "editable": true,
    "slideshow": {
     "slide_type": ""
    },
    "tags": []
   },
   "source": [
    "# L'entropia."
   ]
  },
  {
   "cell_type": "markdown",
   "id": "1a9e6cde-4451-4471-af01-9a2ad2f3c176",
   "metadata": {
    "editable": true,
    "slideshow": {
     "slide_type": ""
    },
    "tags": []
   },
   "source": [
    "```{admonition} Pàgina en desenvolupament\n",
    "Encara estem treballant en aquest document.   \n",
    "Esperem oferir-vos properament el seu contingut.   \n",
    "Disculpeu les molèsties.\n",
    "```"
   ]
  },
  {
   "cell_type": "markdown",
   "id": "6dd81f2b-5024-42e9-8683-0a83b7834682",
   "metadata": {},
   "source": [
    ">El cambio de energía ¿era básicamente distinto del cambio de temperatura?, se preguntaba Clausius. Le recordaba una pregunta parecida que se había hecho hacía años cuando analizaba las máquinas de vapor, a saber: « ¿Un incremento de calor es básicamente distinto de un incremento de trabajo?». Recordaba que había propuesto con atrevimiento que no eran lo mismo, que eran dos variantes de una misma cosa: incrementos de energía. Esa afirmación le había conducido a la Ley de la Conservación de la Energía.\n",
    ">\n",
    ">Por analogía, Clausius decidió entonces proponer algo que tenía ese mismo alcance: los cambios de energía y de temperatura, como los que se daban en el comportamiento irreversible del calor, no eran sino variantes de una misma cosa: cambios de entropía. «He acuñado intencionadamente la palabra entropía para que sea lo más parecida posible a la palabra energía —explicaba Clausius—, porque las dos magnitudes... están casi tan imbricadas en su significado físico que parece deseable cierta similitud en su denominación.»\n",
    "\n",
    "Aquests paràgrafs de *Cinco ecuaciones que cambiaron el mundo*{cite}`Cinco_ecuaciones_que_cambiaron_el_mundo` descriuen el naixement d'un dels conceptes més potents en la ciència: el concepte d'*entropia*.\n",
    "\n",
    "A termodinàmica el seu càlcul és relativament senzill:\n",
    "\n",
    "$\\Delta S = \\Large \\frac{Q}{T}$\n",
    "\n",
    "Però una cosa és calcular l'entropia i una altra comprendre el seu significat.\n",
    "\n",
    "No és fàcil definir-la. Feu una ullada a l'article de la [Wikipedia](https://en.wikipedia.org/wiki/Entropy).\n",
    "\n",
    "Avui en dia el concepte d'entropia s'aplica a moltes disciplines: teoria de la informació (Entropia de Shannon), forats negres, intel·ligència artificial, definició de vida, economia ...\n",
    "\n",
    "En aquest sentit recomano la lectura de fragments dels següents llibres:\n",
    "* *Cinco ecuaciones que cambiaron el mundo: Rudolf Clausius y la Segunda Ley de la Termodinámica*\n",
    "* *Física de lo imposible: Máquinas de movimiento perpetuo*\n",
    "* *Teorías del todo: Siendo y llegando a ser organizado*\n",
    "* *Escrits fonamentals sobre el segon principi de la termodinàmica: pàg XXIX*\n",
    "* *Inteligencia artificial avanzada: 2.2. Màxima entropía*\n",
    "* *Vida inteligente en el universo: pàg 217*\n",
    "* *Paradigmas Económicos Y Desarrollo Sostenible: La entropía y la economía*\n",
    "\n",
    "Tal vegada després d'aquestes lectures tindreu una petita idea del seu significat. Jo encara hi treballo!\n"
   ]
  },
  {
   "cell_type": "code",
   "execution_count": null,
   "id": "b67345e3-633f-4dcb-8959-4773b3440af9",
   "metadata": {},
   "outputs": [],
   "source": []
  }
 ],
 "metadata": {
  "kernelspec": {
   "display_name": "venvPy3",
   "language": "python",
   "name": "venvpy3"
  },
  "language_info": {
   "codemirror_mode": {
    "name": "ipython",
    "version": 3
   },
   "file_extension": ".py",
   "mimetype": "text/x-python",
   "name": "python",
   "nbconvert_exporter": "python",
   "pygments_lexer": "ipython3",
   "version": "3.10.12"
  }
 },
 "nbformat": 4,
 "nbformat_minor": 5
}
