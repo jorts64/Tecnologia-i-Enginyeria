{
 "cells": [
  {
   "cell_type": "markdown",
   "id": "7df2f400-65dd-4ff5-a83c-0669f20bf51c",
   "metadata": {
    "editable": true,
    "slideshow": {
     "slide_type": ""
    },
    "tags": []
   },
   "source": [
    "# Aplicació de l'àlgebra de Boole al disseny de circuits electrònics"
   ]
  },
  {
   "cell_type": "markdown",
   "id": "e58a9bef-f1d9-44a2-b7b8-2f24ec1c9f03",
   "metadata": {
    "editable": true,
    "slideshow": {
     "slide_type": ""
    },
    "tags": []
   },
   "source": [
    "```{admonition} Pàgina en desenvolupament\n",
    "Encara estem treballant en aquest document.   \n",
    "Esperem oferir-vos properament el seu contingut.   \n",
    "Disculpeu les molèsties.\n",
    "```"
   ]
  },
  {
   "cell_type": "markdown",
   "id": "0f8b3be1-6f0c-4c77-8684-5a1c25f899b6",
   "metadata": {
    "editable": true,
    "slideshow": {
     "slide_type": ""
    },
    "tags": []
   },
   "source": [
    "## PAU 2001 S2 2 \n",
    "\n",
    "![](img/Control/BooleP01.png)\n",
    "\n",
    "![](img/Control/BooleS01.png)\n"
   ]
  },
  {
   "cell_type": "markdown",
   "id": "96541402-0f0c-4a30-bac4-a29f9aa1b72b",
   "metadata": {
    "editable": true,
    "slideshow": {
     "slide_type": ""
    },
    "tags": []
   },
   "source": [
    "## PAU 2003 S2 2 \n",
    "\n",
    "![](img/Control/BooleP02.png)\n",
    "\n",
    "![](img/Control/BooleS02.png)\n"
   ]
  },
  {
   "cell_type": "markdown",
   "id": "9fbf9f39-fe0f-48bb-99db-0260a48971c4",
   "metadata": {
    "editable": true,
    "slideshow": {
     "slide_type": ""
    },
    "tags": []
   },
   "source": [
    "## PAU 2005 S3 2 \n",
    "\n",
    "![](img/Control/BooleP03.png)\n",
    "\n",
    "![](img/Control/BooleS03.png)\n"
   ]
  },
  {
   "cell_type": "code",
   "execution_count": null,
   "id": "cd1c9071-5a78-4de5-acd8-fbb7aa2fe64f",
   "metadata": {},
   "outputs": [],
   "source": []
  }
 ],
 "metadata": {
  "kernelspec": {
   "display_name": "venvPy3",
   "language": "python",
   "name": "venvpy3"
  },
  "language_info": {
   "codemirror_mode": {
    "name": "ipython",
    "version": 3
   },
   "file_extension": ".py",
   "mimetype": "text/x-python",
   "name": "python",
   "nbconvert_exporter": "python",
   "pygments_lexer": "ipython3",
   "version": "3.10.12"
  }
 },
 "nbformat": 4,
 "nbformat_minor": 5
}
