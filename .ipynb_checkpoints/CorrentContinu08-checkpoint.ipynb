{
 "cells": [
  {
   "cell_type": "markdown",
   "id": "c3ddf60f-8786-4e5c-802a-d0193f3c0e5c",
   "metadata": {
    "editable": true,
    "slideshow": {
     "slide_type": ""
    },
    "tags": []
   },
   "source": [
    "# Exercicis resolts 2/2"
   ]
  },
  {
   "cell_type": "markdown",
   "id": "01a47ff2-fcca-4e43-a3bd-fd197816f5de",
   "metadata": {},
   "source": [
    "## PAU 2005 S1 4B "
   ]
  },
  {
   "cell_type": "markdown",
   "id": "5f7ada18-4c3e-48c4-a62d-cd34882caa14",
   "metadata": {},
   "source": [
    "![](img/CorrentContinu/PAU2005S1P4B.png) "
   ]
  },
  {
   "cell_type": "markdown",
   "id": "f2e3d970-207b-46eb-a03c-c1932bdd25d7",
   "metadata": {},
   "source": [
    "a)\n",
    "\n",
    "$U = 3 \\cdot U_{led}$\n",
    "\n",
    "$I = 8 \\cdot I_{led}$"
   ]
  },
  {
   "cell_type": "code",
   "execution_count": 1,
   "id": "a6e64c33-096d-4c11-9665-aedcb3fc1ca4",
   "metadata": {},
   "outputs": [
    {
     "data": {
      "text/plain": [
       "(10.8, 0.16)"
      ]
     },
     "execution_count": 1,
     "metadata": {},
     "output_type": "execute_result"
    }
   ],
   "source": [
    "U = 3*3.6\n",
    "I = 8*20E-3\n",
    "U,I"
   ]
  },
  {
   "cell_type": "markdown",
   "id": "1070fda5-769a-4846-a556-a964fd365925",
   "metadata": {},
   "source": [
    "$E_{led} = U_{led} \\cdot I_{led} \\cdot t$\n",
    "\n",
    "$E_{total} = 24 \\cdot E_{led}$"
   ]
  },
  {
   "cell_type": "code",
   "execution_count": 2,
   "id": "9a0084b4-dc42-43a8-be85-c1746cb834c5",
   "metadata": {},
   "outputs": [
    {
     "data": {
      "text/plain": [
       "(0.5760000000000001, 13.824000000000002)"
      ]
     },
     "execution_count": 2,
     "metadata": {},
     "output_type": "execute_result"
    }
   ],
   "source": [
    "Eled=3.6*20E-3*8\n",
    "Etotal=24*Eled\n",
    "Eled,Etotal"
   ]
  },
  {
   "cell_type": "markdown",
   "id": "fd6784f7-eb1d-4b42-83d5-7ee36b2cdbfd",
   "metadata": {},
   "source": [
    "$\\Large t_b=\\frac{c_{bat}}{I}$"
   ]
  },
  {
   "cell_type": "code",
   "execution_count": 3,
   "id": "f0020180-3ef1-4519-a690-052c98abc0df",
   "metadata": {},
   "outputs": [
    {
     "data": {
      "text/plain": [
       "11.25"
      ]
     },
     "execution_count": 3,
     "metadata": {},
     "output_type": "execute_result"
    }
   ],
   "source": [
    "tb=1.8/I\n",
    "tb"
   ]
  },
  {
   "cell_type": "markdown",
   "id": "d0418e1d-2a0c-46bf-9ccc-897b61b6acc3",
   "metadata": {},
   "source": [
    "## PAU 2009 S4 4B"
   ]
  },
  {
   "cell_type": "markdown",
   "id": "81aae6de-b80f-495c-9538-8522cd8091db",
   "metadata": {},
   "source": [
    "![](img/CorrentContinu/PAU2009S4P4B.png)"
   ]
  },
  {
   "cell_type": "markdown",
   "id": "7a7e7a34-0872-4ac2-a17e-0a249ec51d11",
   "metadata": {},
   "source": [
    "a)\n",
    "\n",
    "$\\Large U = I_{34} \\cdot (R_3 + R_4) \\Rightarrow I_{34} = \\frac{U}{R_3+R_4}$"
   ]
  },
  {
   "cell_type": "code",
   "execution_count": 4,
   "id": "cfbeafb6-1659-4983-8e05-2a2ab912475e",
   "metadata": {},
   "outputs": [
    {
     "data": {
      "text/plain": [
       "0.016"
      ]
     },
     "execution_count": 4,
     "metadata": {},
     "output_type": "execute_result"
    }
   ],
   "source": [
    "I34=6/(250+125)\n",
    "I34"
   ]
  },
  {
   "cell_type": "markdown",
   "id": "094e46bf-0aad-4fa5-904b-8e8bf7d8b0f6",
   "metadata": {},
   "source": [
    "b)\n",
    "\n",
    "$ U_{DB} = I_{34} \\cdot R_4 $\n"
   ]
  },
  {
   "cell_type": "code",
   "execution_count": 5,
   "id": "a62754dc-a8e0-4c4d-9964-6e97601b8398",
   "metadata": {},
   "outputs": [
    {
     "data": {
      "text/plain": [
       "2.0"
      ]
     },
     "execution_count": 5,
     "metadata": {},
     "output_type": "execute_result"
    }
   ],
   "source": [
    "Udb=I34*125\n",
    "Udb"
   ]
  },
  {
   "cell_type": "markdown",
   "id": "1fa32f75-2481-4c32-8b12-5cc793145c2f",
   "metadata": {},
   "source": [
    "c)\n",
    "\n",
    "pont equil·librat $\\Rightarrow U_{CB} = U_{DB}$\n",
    "\n",
    "$\\Large I_2 = \\frac{U_{CB}}{R_2} = \\frac{U_{DB}}{R_2}$"
   ]
  },
  {
   "cell_type": "code",
   "execution_count": 6,
   "id": "6b941473-d3a6-4f87-a463-336fac7d6dd6",
   "metadata": {},
   "outputs": [
    {
     "data": {
      "text/plain": [
       "0.01"
      ]
     },
     "execution_count": 6,
     "metadata": {},
     "output_type": "execute_result"
    }
   ],
   "source": [
    "I2=Udb/200\n",
    "I2"
   ]
  },
  {
   "cell_type": "markdown",
   "id": "bd7db575-72a0-40fb-a9e8-ba8814eecbd3",
   "metadata": {},
   "source": [
    "d)\n",
    "\n",
    "pont equil·librat $\\Rightarrow I_1 = I_2$\n",
    "\n",
    "$U = I_1 \\cdot R_1 + I_2 \\cdot R_2 = I_2 \\cdot (R_1+R_2)$\n",
    "\n",
    "$\\Large \\Rightarrow R_1 = \\frac{U}{I_2} - R_2 $"
   ]
  },
  {
   "cell_type": "code",
   "execution_count": 7,
   "id": "b0e0de7e-bbcc-4ecf-9872-a16f9faed2b5",
   "metadata": {},
   "outputs": [
    {
     "data": {
      "text/plain": [
       "400.0"
      ]
     },
     "execution_count": 7,
     "metadata": {},
     "output_type": "execute_result"
    }
   ],
   "source": [
    "R1=6/I2-200\n",
    "R1"
   ]
  },
  {
   "cell_type": "markdown",
   "id": "9a8c5617-188b-4fe2-ac12-35b3bc2df02f",
   "metadata": {},
   "source": [
    "Per entendre millor aquest problema et recomano aquesta [animació](https://www.compadre.org/Physlets/circuits/prob30_7.cfm?NOH=1). Al nostre problema $R_1$ és el valor desconegut i $R_2$ el valor ajustat amb una caixa de resistències. "
   ]
  },
  {
   "cell_type": "code",
   "execution_count": null,
   "id": "c9786440-081c-4431-bdf0-acea419d60c1",
   "metadata": {},
   "outputs": [],
   "source": []
  }
 ],
 "metadata": {
  "kernelspec": {
   "display_name": "venvPy3",
   "language": "python",
   "name": "venvpy3"
  },
  "language_info": {
   "codemirror_mode": {
    "name": "ipython",
    "version": 3
   },
   "file_extension": ".py",
   "mimetype": "text/x-python",
   "name": "python",
   "nbconvert_exporter": "python",
   "pygments_lexer": "ipython3",
   "version": "3.10.12"
  }
 },
 "nbformat": 4,
 "nbformat_minor": 5
}
