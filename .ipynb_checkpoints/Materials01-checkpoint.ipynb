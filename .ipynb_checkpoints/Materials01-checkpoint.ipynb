{
 "cells": [
  {
   "attachments": {},
   "cell_type": "markdown",
   "id": "335800ff-d505-4474-ac94-b35559842ace",
   "metadata": {
    "editable": true,
    "slideshow": {
     "slide_type": ""
    },
    "tags": []
   },
   "source": [
    "# Materials\n",
    "\n"
   ]
  },
  {
   "cell_type": "markdown",
   "id": "f0b79faa-9f2d-484c-86c4-c7345c8e1bdf",
   "metadata": {
    "editable": true,
    "slideshow": {
     "slide_type": ""
    },
    "tags": []
   },
   "source": [
    "```{admonition} Pàgina en desenvolupament\n",
    "Encara estem treballant en aquest document.   \n",
    "Esperem oferir-vos properament el seu contingut.   \n",
    "Disculpeu les molèsties.\n",
    "```"
   ]
  },
  {
   "cell_type": "markdown",
   "id": "8154cc53-53a8-4b0f-8447-7374c834e946",
   "metadata": {},
   "source": [
    "Per ara podeu consultar el meu llibre en PDF [Llibre CC Tecnologia Industrial I. Materials](http://www.jorts.net/ebooks/TI1-3_Materials.pdf)"
   ]
  },
  {
   "cell_type": "code",
   "execution_count": null,
   "id": "a152d980-ec20-4bcc-8d26-2c0f752dd069",
   "metadata": {},
   "outputs": [],
   "source": []
  }
 ],
 "metadata": {
  "kernelspec": {
   "display_name": "venvPy3",
   "language": "python",
   "name": "venvpy3"
  },
  "language_info": {
   "codemirror_mode": {
    "name": "ipython",
    "version": 3
   },
   "file_extension": ".py",
   "mimetype": "text/x-python",
   "name": "python",
   "nbconvert_exporter": "python",
   "pygments_lexer": "ipython3",
   "version": "3.10.12"
  }
 },
 "nbformat": 4,
 "nbformat_minor": 5
}
