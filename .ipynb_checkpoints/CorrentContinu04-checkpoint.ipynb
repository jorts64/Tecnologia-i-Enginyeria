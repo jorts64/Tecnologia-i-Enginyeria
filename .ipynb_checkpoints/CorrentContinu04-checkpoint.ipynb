{
 "cells": [
  {
   "cell_type": "markdown",
   "id": "c3ddf60f-8786-4e5c-802a-d0193f3c0e5c",
   "metadata": {
    "editable": true,
    "slideshow": {
     "slide_type": ""
    },
    "tags": []
   },
   "source": [
    "# Exercicis resolts 1/2"
   ]
  },
  {
   "cell_type": "markdown",
   "id": "01a47ff2-fcca-4e43-a3bd-fd197816f5de",
   "metadata": {},
   "source": [
    "## PAU 2000 S6 4B"
   ]
  },
  {
   "cell_type": "markdown",
   "id": "5f7ada18-4c3e-48c4-a62d-cd34882caa14",
   "metadata": {},
   "source": [
    "![](img/CorrentContinu/PAU2000S6P4B.png)"
   ]
  },
  {
   "cell_type": "markdown",
   "id": "e95d3539-5774-45ae-9acf-0bec1a92530b",
   "metadata": {},
   "source": [
    "a)\n",
    "\n",
    "**posició 1:**\n",
    "\n",
    "![](img/CorrentContinu/PAU2000S6P4Bfig1.png)\n",
    "\n",
    "**posició 2:**\n",
    "\n",
    "![](img/CorrentContinu/PAU2000S6P4Bfig2.png)\n"
   ]
  },
  {
   "cell_type": "markdown",
   "id": "cabdae02-520d-4ae3-aba8-6cfc7d239636",
   "metadata": {},
   "source": [
    "b)\n",
    "\n",
    "**posició 1:**\n",
    "\n",
    "Resistències en paral·lel\n",
    "\n",
    "$R_p = (\\frac{1}{R} + \\frac{1}{R})^{-1} = (\\frac{2}{R})^{-1} = \\frac{R}{2}$\n",
    "\n",
    "$ I_{tot} = \\frac{U}{R_p} $"
   ]
  },
  {
   "cell_type": "code",
   "execution_count": 1,
   "id": "12fcbebd-9f8b-4d06-b4bf-78344129e35e",
   "metadata": {},
   "outputs": [
    {
     "data": {
      "text/plain": [
       "10.0"
      ]
     },
     "execution_count": 1,
     "metadata": {},
     "output_type": "execute_result"
    }
   ],
   "source": [
    "Rp = 44/2\n",
    "U = 220\n",
    "Itot = U/Rp\n",
    "Itot"
   ]
  },
  {
   "cell_type": "markdown",
   "id": "69fdbe1a-4068-4f0f-a07f-06084f197dba",
   "metadata": {},
   "source": [
    "Es a dir, en total 10A subministrats pel generador, 5A circulen per cada resistència"
   ]
  },
  {
   "cell_type": "markdown",
   "id": "c9193151-2d5b-407e-919a-0d85b955cc9c",
   "metadata": {},
   "source": [
    "**posició 2:**\n",
    "\n",
    "Resistències en sèrie\n",
    "\n",
    "$R_s = R + R = 2R$\n",
    "\n",
    "$ I_{tot} = \\frac{U}{R_s} $"
   ]
  },
  {
   "cell_type": "code",
   "execution_count": 2,
   "id": "fb735cbd-e8b7-41c9-8c7f-b2c1c0454c30",
   "metadata": {},
   "outputs": [
    {
     "data": {
      "text/plain": [
       "2.5"
      ]
     },
     "execution_count": 2,
     "metadata": {},
     "output_type": "execute_result"
    }
   ],
   "source": [
    "Rs = 2 * 44\n",
    "U = 220\n",
    "Itot = U/Rs\n",
    "Itot"
   ]
  },
  {
   "cell_type": "markdown",
   "id": "4770bc63-4d96-43bf-8fdd-30e2a7d8ee75",
   "metadata": {},
   "source": [
    "Es a dir 2,5A subministrats pel generador, que passen per les dues resistències"
   ]
  },
  {
   "cell_type": "markdown",
   "id": "b4199228-ff05-442c-bb30-156c111e0126",
   "metadata": {},
   "source": [
    "c)\n",
    "\n",
    "$P = U \\cdot I_{tot}$"
   ]
  },
  {
   "cell_type": "markdown",
   "id": "fd783a0f-3d3d-40ca-bbb1-246962ddb5af",
   "metadata": {},
   "source": [
    "**posició 1:**"
   ]
  },
  {
   "cell_type": "code",
   "execution_count": 3,
   "id": "3a34e5ae-e668-4926-a2e2-ea788d116866",
   "metadata": {},
   "outputs": [
    {
     "data": {
      "text/plain": [
       "2200"
      ]
     },
     "execution_count": 3,
     "metadata": {},
     "output_type": "execute_result"
    }
   ],
   "source": [
    "P = 220 * 10\n",
    "P"
   ]
  },
  {
   "cell_type": "markdown",
   "id": "5bd67abb-2f7b-4971-94d9-9a69fe6b3a27",
   "metadata": {},
   "source": [
    "2200 W consumits pel calefactor"
   ]
  },
  {
   "cell_type": "markdown",
   "id": "40a49a06-632b-40fb-bd1f-210f69e3c200",
   "metadata": {},
   "source": [
    "**posició 2:**"
   ]
  },
  {
   "cell_type": "code",
   "execution_count": 4,
   "id": "e69cfe2f-55bd-4099-ae41-2db0b1606524",
   "metadata": {},
   "outputs": [
    {
     "data": {
      "text/plain": [
       "550.0"
      ]
     },
     "execution_count": 4,
     "metadata": {},
     "output_type": "execute_result"
    }
   ],
   "source": [
    "P = 220 * 2.5\n",
    "P"
   ]
  },
  {
   "cell_type": "markdown",
   "id": "3e854f73-2d9b-44b8-9ce8-4ee09aa44107",
   "metadata": {},
   "source": [
    "550 W consumits pel calefactor"
   ]
  },
  {
   "cell_type": "markdown",
   "id": "d0418e1d-2a0c-46bf-9ccc-897b61b6acc3",
   "metadata": {},
   "source": [
    "## PAU 2005 S3 3B"
   ]
  },
  {
   "cell_type": "markdown",
   "id": "81aae6de-b80f-495c-9538-8522cd8091db",
   "metadata": {},
   "source": [
    "![](img/CorrentContinu/PAU2005S3P3B.png)"
   ]
  },
  {
   "cell_type": "markdown",
   "id": "7a7e7a34-0872-4ac2-a17e-0a249ec51d11",
   "metadata": {},
   "source": [
    "$R_{tot} = R + R_p \\Rightarrow R_{mín} = 47\\Omega + 0\\Omega = 47\\Omega, R_{màx} =  47\\Omega + 50\\Omega = 97\\Omega$\n",
    "\n",
    "$I = \\frac{U}{R_{tot}} \\Rightarrow I_{màx} = \\frac{U}{R_{min}}, I_{min} = \\frac{U}{R_{màx}}$ "
   ]
  },
  {
   "cell_type": "code",
   "execution_count": 5,
   "id": "11626079-3c92-459d-9933-cb420bdd4e38",
   "metadata": {
    "scrolled": true
   },
   "outputs": [
    {
     "data": {
      "text/plain": [
       "0.5106382978723404"
      ]
     },
     "execution_count": 5,
     "metadata": {},
     "output_type": "execute_result"
    }
   ],
   "source": [
    "U = 24\n",
    "Rmin = 47\n",
    "Imax = U/Rmin\n",
    "Imax"
   ]
  },
  {
   "cell_type": "code",
   "execution_count": 6,
   "id": "a49f1581-8120-4fc4-8383-481ae19da239",
   "metadata": {},
   "outputs": [
    {
     "data": {
      "text/plain": [
       "0.24742268041237114"
      ]
     },
     "execution_count": 6,
     "metadata": {},
     "output_type": "execute_result"
    }
   ],
   "source": [
    "U = 24\n",
    "Rmax = 97\n",
    "Imin = U/Rmax\n",
    "Imin"
   ]
  },
  {
   "cell_type": "markdown",
   "id": "1ba961a6-348d-457c-acbd-1e78a3e26371",
   "metadata": {},
   "source": [
    "Per tant $I{màx} = 510,6 mA$ i $I{mín} = 247,4 mA$ "
   ]
  },
  {
   "cell_type": "markdown",
   "id": "30a14825-e033-43d7-89c1-e72e00c211fe",
   "metadata": {},
   "source": [
    "b)"
   ]
  },
  {
   "cell_type": "code",
   "execution_count": 7,
   "id": "208b6cbc-e6b0-416e-9a62-63400832b5db",
   "metadata": {},
   "outputs": [
    {
     "data": {
      "image/png": "[encoded data removed]",
      "text/plain": [
       "<Figure size 640x480 with 1 Axes>"
      ]
     },
     "metadata": {},
     "output_type": "display_data"
    }
   ],
   "source": [
    "import matplotlib.pyplot as plt\n",
    "import numpy as np\n",
    "U = 24\n",
    "x = np.linspace(0, 50, 100)\n",
    "plt.plot(x, U/(47+x)) \n",
    "plt.xlabel('$R_p [ \\Omega ]$')\n",
    "plt.ylabel('I [A]')\n",
    "plt.title(\"Intensitat\")\n",
    "plt.show();"
   ]
  },
  {
   "cell_type": "markdown",
   "id": "66bbdff5-9140-41ac-8edf-8f2dbdb5f882",
   "metadata": {},
   "source": [
    "c)\n",
    "\n",
    "$PR = I^2 \\cdot R = (\\frac{U}{R+R_p})^2 \\cdot R$\n",
    "\n",
    "$PR_{màx} \\Rightarrow  R_p = 0  \\Rightarrow PR_{màx} = \\frac{U^2}{R}$"
   ]
  },
  {
   "cell_type": "code",
   "execution_count": 8,
   "id": "56b24080-3c80-4fb4-b71a-cbc8123dbd3f",
   "metadata": {
    "scrolled": true
   },
   "outputs": [
    {
     "data": {
      "text/plain": [
       "12.25531914893617"
      ]
     },
     "execution_count": 8,
     "metadata": {},
     "output_type": "execute_result"
    }
   ],
   "source": [
    "PRmax = U**2/47\n",
    "PRmax"
   ]
  },
  {
   "cell_type": "markdown",
   "id": "c8f032da-c0c0-457c-9dab-a10675c69ff6",
   "metadata": {},
   "source": [
    "Per tant la resistència R pot arribar a generar 12,25W, més dels 10W que pot dissipar"
   ]
  },
  {
   "cell_type": "markdown",
   "id": "07ca3518-876d-4179-a2c9-a2563c857a9a",
   "metadata": {},
   "source": [
    "$PR_p = I^2 \\cdot R_p = (\\frac{U}{R+R_p})^2 \\cdot R_p$\n",
    "\n",
    "$PR_{p,màx} \\Rightarrow  R_p = R  \\Rightarrow PR_{màx} = \\frac{U^2}{4R}$"
   ]
  },
  {
   "cell_type": "code",
   "execution_count": 9,
   "id": "1bde87a7-cd5b-41ee-8f4a-6247e1bfbaa7",
   "metadata": {
    "scrolled": true
   },
   "outputs": [
    {
     "data": {
      "text/plain": [
       "3.0638297872340425"
      ]
     },
     "execution_count": 9,
     "metadata": {},
     "output_type": "execute_result"
    }
   ],
   "source": [
    "PRPmax = U**2/(4*47)\n",
    "PRPmax"
   ]
  },
  {
   "cell_type": "markdown",
   "id": "47e4f883-58e9-4e76-b1cf-dddbb1597470",
   "metadata": {},
   "source": [
    "En canvi el potenciòmetre generarà com a màxim 3,063W, per sota del 10W que pot dissipar"
   ]
  },
  {
   "cell_type": "markdown",
   "id": "4b324249-a4a4-43eb-8fec-0e95b6c6634a",
   "metadata": {},
   "source": [
    "Veiem gràficament el comportament:"
   ]
  },
  {
   "cell_type": "code",
   "execution_count": 10,
   "id": "180d5e73-3e42-4741-8b2f-9cd507b1fdb7",
   "metadata": {},
   "outputs": [
    {
     "data": {
      "image/png": "[encoded data removed]",
      "text/plain": [
       "<Figure size 640x480 with 1 Axes>"
      ]
     },
     "metadata": {},
     "output_type": "display_data"
    }
   ],
   "source": [
    "import matplotlib.pyplot as plt\n",
    "import numpy as np\n",
    "U = 24\n",
    "x = np.linspace(0, 100, 50)\n",
    "plt.plot(x, 47*(U/(47+x))**2, label='P(R)')\n",
    "plt.plot(x, x*(U/(47+x))**2, label='$P(R_p)$')\n",
    "plt.plot(x, 47*(U/(47+x))**2+x*(U/(47+x))**2, label='$P_{total}$')\n",
    "plt.xlabel('$R_p [ \\Omega ]$')\n",
    "plt.ylabel('P [W]')\n",
    "plt.title(\"Potència dissipada\")\n",
    "plt.legend();\n",
    "plt.show();"
   ]
  },
  {
   "cell_type": "code",
   "execution_count": null,
   "id": "4b646c11-f8af-43bd-870e-64b98be32e4a",
   "metadata": {},
   "outputs": [],
   "source": []
  }
 ],
 "metadata": {
  "kernelspec": {
   "display_name": "venvPy3",
   "language": "python",
   "name": "venvpy3"
  },
  "language_info": {
   "codemirror_mode": {
    "name": "ipython",
    "version": 3
   },
   "file_extension": ".py",
   "mimetype": "text/x-python",
   "name": "python",
   "nbconvert_exporter": "python",
   "pygments_lexer": "ipython3",
   "version": "3.10.12"
  }
 },
 "nbformat": 4,
 "nbformat_minor": 5
}
