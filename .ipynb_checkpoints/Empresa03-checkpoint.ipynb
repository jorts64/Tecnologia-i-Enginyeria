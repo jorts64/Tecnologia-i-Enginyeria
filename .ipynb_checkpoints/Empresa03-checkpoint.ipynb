{
 "cells": [
  {
   "cell_type": "markdown",
   "id": "7df2f400-65dd-4ff5-a83c-0669f20bf51c",
   "metadata": {
    "editable": true,
    "slideshow": {
     "slide_type": ""
    },
    "tags": []
   },
   "source": [
    "# Pressupost del projecte"
   ]
  },
  {
   "cell_type": "markdown",
   "id": "8a581ac3-d120-4134-9d99-659e99ccb10b",
   "metadata": {
    "editable": true,
    "slideshow": {
     "slide_type": ""
    },
    "tags": []
   },
   "source": [
    "```{admonition} Pàgina en desenvolupament\n",
    "Encara estem treballant en aquest document.   \n",
    "Esperem oferir-vos properament el seu contingut.   \n",
    "Disculpeu les molèsties.\n",
    "```"
   ]
  },
  {
   "cell_type": "markdown",
   "id": "7480cf77-062c-49d9-b54c-e78b70b663ee",
   "metadata": {},
   "source": [
    "En realitat cal parlar de dos pressupostos diferents: el presupost del prototip, que és el cost del disseny i construcció d'un prototip viable; i el pressupost del producte, que és el cost del producte quan es posa a la venda i es fabrica en grans quantitats."
   ]
  },
  {
   "cell_type": "markdown",
   "id": "623fcf5e-2949-4a1a-8160-d4c389de46bc",
   "metadata": {
    "editable": true,
    "slideshow": {
     "slide_type": ""
    },
    "tags": []
   },
   "source": [
    "## Pressupost del prototip\n",
    "\n",
    "Tindrem dos tipus de despeses:\n",
    "\n",
    "- **Recursos Materials:** Investigar els costos dels materials necessaris per dur a terme el prototip.\n",
    "- **Recursos Humans:** Cal analitzar els costos associats amb el temps del personal, incloent-hi salaris, impostos i altres despeses relacionades.\n",
    "\n",
    "Veiem un exemple (dades reals del TR de Blai Harder *PROTOTIP D'UNA CASA INTEL·LIGENT CONTROLADA AMB UN COMANDAMENT PS3*).\n",
    "\n",
    "![](img/Empresa/BlaiH01.png)\n",
    "\n",
    "![](img/Empresa/BlaiH02.png)\n",
    "\n",
    "![](img/Empresa/BlaiH03.png)\n",
    "\n",
    "Calculem el cost de materials:"
   ]
  },
  {
   "cell_type": "code",
   "execution_count": 2,
   "id": "7ce990c6-5957-47b4-98c4-c2bbf78c4e41",
   "metadata": {
    "editable": true,
    "slideshow": {
     "slide_type": ""
    },
    "tags": []
   },
   "outputs": [
    {
     "data": {
      "text/plain": [
       "76.19"
      ]
     },
     "execution_count": 2,
     "metadata": {},
     "output_type": "execute_result"
    }
   ],
   "source": [
    "ME=3.79+9.31+0.66+0.32+0.70+2+1.81+0.78+1+0.71+4+2+4.09\n",
    "P3D=0.24+0.50+1.30+0.24\n",
    "MC=14.20+17.55+0.30+2.28+6.86+0.50+0.40+0.65\n",
    "CM=ME+P3D+MC\n",
    "CM"
   ]
  },
  {
   "cell_type": "markdown",
   "id": "23f5e260-86bc-46de-9d87-48f3f8b34e10",
   "metadata": {},
   "source": [
    "Ara el cost de la mà d'obra:"
   ]
  },
  {
   "cell_type": "code",
   "execution_count": 3,
   "id": "f45f0916-7109-430d-b6ea-4181715ea1e9",
   "metadata": {},
   "outputs": [
    {
     "data": {
      "text/plain": [
       "1453"
      ]
     },
     "execution_count": 3,
     "metadata": {},
     "output_type": "execute_result"
    }
   ],
   "source": [
    "CH=75+15+600+50+60+13+500+140\n",
    "CH"
   ]
  },
  {
   "cell_type": "markdown",
   "id": "191455b5-d33b-4917-8017-fa8b93eed4fa",
   "metadata": {},
   "source": [
    "En total aquest prototop té un cost de"
   ]
  },
  {
   "cell_type": "code",
   "execution_count": 4,
   "id": "be71f94c-47d4-45fc-b7c0-36e1ed8962ae",
   "metadata": {},
   "outputs": [
    {
     "data": {
      "text/plain": [
       "1529.19"
      ]
     },
     "execution_count": 4,
     "metadata": {},
     "output_type": "execute_result"
    }
   ],
   "source": [
    "CP=CM+CH\n",
    "CP"
   ]
  },
  {
   "cell_type": "markdown",
   "id": "2d810477-155b-4e3a-8da0-d1b155fbdad2",
   "metadata": {},
   "source": [
    "## Pressupost del producte\n",
    "\n",
    "Si us fixeu, gran part del cost del prototip ha estat la programació i el muntatge de la maqueta. Són pràcticament el 80% del cost del prototip.\n",
    "\n",
    "Però si comercialitzem aquest producte, no caldra tornar a fer la programació: el codi ja el tenim del prototip. Com amolt trigarem 5 minuts en carregar el mateix codi en el producte.\n",
    "\n",
    "Per altra banda, el muntatge de la maqueta ha estat molt artesanal. Si en lloc de tallar manualment la fusta i el cartro ploma fem servir una talladora laser el preu cau ràpidament. De fet, en Blai té els fitxers DXF dels perfils a la seva memòria, en 15 minuts el tindria adaptats a la talladora laser.\n",
    "\n",
    "De fet, de tots els apartats de mà d'obra únicament hauríem d'incloure al producte la placa, la càrrega del programa, la supervisió de la impressió 3D i el cost del nou muntatge optimitzat. D'aquesta manera podem reduir aquests 1453 € a, posem un marge generós, 200 €. \n",
    "\n",
    "Es clar que si comercialitzem el producte podem carregar una petita part del cost del prototip sobre el producte, i així recuperar el cost de R+D+I.\n",
    "\n",
    "Posem que fem 1000 unitats del producte. Com el prototip ha costat 1530 € carreguem 1,53 € del prototip en cada producte.\n",
    "\n",
    "Així el cost final del producte seria, per a una producció de 1000 unitats:"
   ]
  },
  {
   "cell_type": "code",
   "execution_count": 6,
   "id": "beb9b1d3-8087-4dac-af5d-27c939d393a2",
   "metadata": {},
   "outputs": [
    {
     "data": {
      "text/plain": [
       "277.71999999999997"
      ]
     },
     "execution_count": 6,
     "metadata": {},
     "output_type": "execute_result"
    }
   ],
   "source": [
    "CH2=200\n",
    "PP=1.53\n",
    "CP2=CM+CH2+PP\n",
    "CP2"
   ]
  },
  {
   "cell_type": "markdown",
   "id": "fb9a8836-2bb3-4db0-8fe2-c83f6123125e",
   "metadata": {},
   "source": [
    "Si posem el producte a un preu de venda de 400 €, ens podem emportar uns bons beneficis."
   ]
  },
  {
   "cell_type": "markdown",
   "id": "2440cc65-9228-4806-ae79-56988583b470",
   "metadata": {
    "editable": true,
    "slideshow": {
     "slide_type": ""
    },
    "tags": []
   },
   "source": [
    "## Anàlisi de costos. Càlcul del punt mort\n",
    "\n",
    "En realitat les coses són una mica més complicades. I si ens equivoquem i no venem les 1000 unitats? A partir de quin volum de vendes tindríem beneficis?\n",
    "\n",
    "Cal diferenciar 2 tipus de costos:\n",
    "\n",
    "- **costos fixos:** no varien amb la producció\n",
    "- **costos variables**  varien proporcionalment amb la producció \n",
    "\n",
    "En el nostre cas el cost del prototip és un cost fix. El tenim ecara que no es vengui res.\n",
    "El cost del material és un cost variable, així com el pru de la mà d'obra: si les ventes no van bé no comprem més materials ni montem més producte.\n",
    "Per altra banda produir 1000 unitats pot gastar molt la nostra impressora 3D. Afegim un nou cost fix, la compra d'una impressora 3D per 250 €.\n",
    "\n",
    "Per tant ara tenim de cost fix:"
   ]
  },
  {
   "cell_type": "code",
   "execution_count": 7,
   "id": "6d7ebc98-c2eb-4488-954d-64555ef6cedf",
   "metadata": {
    "editable": true,
    "slideshow": {
     "slide_type": ""
    },
    "tags": []
   },
   "outputs": [
    {
     "data": {
      "text/plain": [
       "1779.19"
      ]
     },
     "execution_count": 7,
     "metadata": {},
     "output_type": "execute_result"
    }
   ],
   "source": [
    "CF=1529.19+250\n",
    "CF"
   ]
  },
  {
   "cell_type": "markdown",
   "id": "9847ec00-3541-42ee-a1d7-acf21042ed82",
   "metadata": {},
   "source": [
    "El cost variable per unitat és"
   ]
  },
  {
   "cell_type": "code",
   "execution_count": 8,
   "id": "a008d477-c7de-4e29-9f07-3e673077ba67",
   "metadata": {},
   "outputs": [
    {
     "data": {
      "text/plain": [
       "276.19"
      ]
     },
     "execution_count": 8,
     "metadata": {},
     "output_type": "execute_result"
    }
   ],
   "source": [
    "CV=CM+CH2\n",
    "CV"
   ]
  },
  {
   "cell_type": "markdown",
   "id": "1fb4e82c-d5f3-4058-9d00-2aaa53862446",
   "metadata": {
    "editable": true,
    "slideshow": {
     "slide_type": ""
    },
    "tags": []
   },
   "source": [
    "Per tant per n unitats tenim unes despeses\n",
    "\n",
    "$d=CF+n\\cdot CV$\n",
    "\n",
    "I si venen les n unitats al preu de 400€ = PV tindremu ns ingressos\n",
    "\n",
    "$i=n \\cdot PV$\n",
    "\n",
    "Fem la gràfica d'aquestes 2 funcions:"
   ]
  },
  {
   "cell_type": "code",
   "execution_count": 13,
   "id": "a241c2e4-65a8-4dcd-821e-200fd4d43e14",
   "metadata": {
    "editable": true,
    "slideshow": {
     "slide_type": ""
    },
    "tags": [
     "hide-input"
    ]
   },
   "outputs": [
    {
     "data": {
      "image/png": "[encoded data removed]",
      "text/plain": [
       "<Figure size 640x480 with 1 Axes>"
      ]
     },
     "metadata": {},
     "output_type": "display_data"
    }
   ],
   "source": [
    "import matplotlib.pyplot as plt\n",
    "import numpy as np\n",
    "PV = 400\n",
    "n = np.linspace(0, 50, 50)\n",
    "plt.plot(n, n*PV, label='$ingressos$')\n",
    "plt.plot(n, CF+n*CV, label='despeses')\n",
    "plt.xlabel('n')\n",
    "plt.ylabel('€')\n",
    "plt.title(\"Anàlisi de costos\")\n",
    "plt.legend();\n",
    "plt.show();"
   ]
  },
  {
   "cell_type": "markdown",
   "id": "e32fcbfd-cdf7-4853-9768-ea50c044b928",
   "metadata": {
    "editable": true,
    "slideshow": {
     "slide_type": ""
    },
    "tags": []
   },
   "source": [
    "Fixeu-vos com es creuen les dues rectes al voltant de les 15 unitats. A la deta tindrem beneficis; a l'esquerra pèrdues.\n",
    "\n",
    "El punt de tall se'n diu **punt mort**. Anem a calcular-lo exactament:\n",
    "\n",
    "$CF+n\\cdot CV = n \\cdot PV \\Rightarrow n \\cdot PV - n\\cdot CV = CF \\Rightarrow n \\cdot (PV - CV) = CF$ \n",
    "\n",
    "$\\Large \\Rightarrow n  = \\frac{CF}{PV - CV}  $"
   ]
  },
  {
   "cell_type": "code",
   "execution_count": 14,
   "id": "9e27f6b9-c820-4279-af51-502b0288057c",
   "metadata": {
    "editable": true,
    "slideshow": {
     "slide_type": ""
    },
    "tags": []
   },
   "outputs": [
    {
     "data": {
      "text/plain": [
       "14.370325498748082"
      ]
     },
     "execution_count": 14,
     "metadata": {},
     "output_type": "execute_result"
    }
   ],
   "source": [
    "n=CF/(PV-CV)\n",
    "n"
   ]
  },
  {
   "cell_type": "markdown",
   "id": "7cdc1203-660a-4f52-a5ee-e21b82e40aae",
   "metadata": {
    "editable": true,
    "slideshow": {
     "slide_type": ""
    },
    "tags": []
   },
   "source": [
    "El que jo deia: hem de vendre 15 per no tenir pèrdues."
   ]
  },
  {
   "cell_type": "code",
   "execution_count": null,
   "id": "9863df18-3e08-47d6-a15a-cfa17608818c",
   "metadata": {
    "editable": true,
    "slideshow": {
     "slide_type": ""
    },
    "tags": []
   },
   "outputs": [],
   "source": []
  }
 ],
 "metadata": {
  "kernelspec": {
   "display_name": "venvPy3",
   "language": "python",
   "name": "venvpy3"
  },
  "language_info": {
   "codemirror_mode": {
    "name": "ipython",
    "version": 3
   },
   "file_extension": ".py",
   "mimetype": "text/x-python",
   "name": "python",
   "nbconvert_exporter": "python",
   "pygments_lexer": "ipython3",
   "version": "3.10.12"
  }
 },
 "nbformat": 4,
 "nbformat_minor": 5
}
