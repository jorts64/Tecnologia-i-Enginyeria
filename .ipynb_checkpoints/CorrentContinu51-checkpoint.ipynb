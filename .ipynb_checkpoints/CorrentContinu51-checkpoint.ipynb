{
 "cells": [
  {
   "cell_type": "markdown",
   "id": "c3ddf60f-8786-4e5c-802a-d0193f3c0e5c",
   "metadata": {
    "editable": true,
    "slideshow": {
     "slide_type": ""
    },
    "tags": []
   },
   "source": [
    "# Les resistències comercials"
   ]
  },
  {
   "cell_type": "markdown",
   "id": "9ab89ce9-5f8c-4ca7-9f42-71dcbb5f0c08",
   "metadata": {
    "editable": true,
    "slideshow": {
     "slide_type": ""
    },
    "tags": []
   },
   "source": [
    "## Codi de colors\n",
    "\n",
    "![](img/CorrentContinu/CodiColors.png)\n",
    "\n"
   ]
  },
  {
   "cell_type": "code",
   "execution_count": 4,
   "id": "1f401469-e90f-4553-85f4-913e6473a4c6",
   "metadata": {
    "editable": true,
    "slideshow": {
     "slide_type": ""
    },
    "tags": [
     "hide-input"
    ]
   },
   "outputs": [
    {
     "data": {
      "text/html": [
       " <iframe src=\"w3/resistor1/index.html\" width=600 height=\"550\"></iframe> \n"
      ],
      "text/plain": [
       "<IPython.core.display.HTML object>"
      ]
     },
     "metadata": {},
     "output_type": "display_data"
    }
   ],
   "source": [
    "%%html\n",
    " <iframe src=\"w3/resistor1/index.html\" width=600 height=\"550\"></iframe> "
   ]
  },
  {
   "cell_type": "markdown",
   "id": "8cbacf68-a451-4fab-b922-837099d70491",
   "metadata": {
    "editable": true,
    "slideshow": {
     "slide_type": ""
    },
    "tags": []
   },
   "source": [
    "## Valors comercialitzats\n",
    "\n",
    "La norma IEC 60063 defineix aquestes sèries de valors"
   ]
  },
  {
   "cell_type": "markdown",
   "id": "dcd2d23b-114d-40a0-ad96-efd0b302eb9f",
   "metadata": {
    "editable": true,
    "slideshow": {
     "slide_type": ""
    },
    "tags": []
   },
   "source": [
    "\n",
    "| E6 (20%)| E12 (10%)| E24 (5%)|E48 (2%)|E96 (1%)|E192 (0,5%)|\n",
    "| :---:| :---:| :---:|:---:|:---:|:---:|\n",
    "| 10 15 22 33 47 68 | 10 12 15 18 22 27 33 39 47 56 68 82 | 10 11 12 13 15 16 18 20 22 24 27 30 33 36 39 43 47 51 56 62 68 75 82 91 | 100 105 110 115 121 127 133 140 147 154 162 169 178 187 196 205 215 226 237 249 261 274 287 301 316 332 348 365 383 402 422 442 464 487 511 536 562 590 619 649 681 715 750 787 825 866 909 953 | 100 102 105 107 110 113 115 118 121 124 127 130 133 137 140 143 147 150 154 158 162 165 169 174 178 182 187 191 196 200 205 210 215 221 226 232 237 243 249 255 261 267 274 280 287 294 301 309 316 324 332 340 348 357 365 374 383 392 402 412 422 432 442 453 464 475 487 499 511 523 536 549 562 576 590 604 619 634 649 665 681 698 715 732 750 768 787 806 825 845 866 887 909 931 953 976 | 100 101 102 104 105 106 107 109 110 111 113 114 115 117 118 120 121 123 124 126 127 129 130 132 133 135 137 138 140 142 143 145 147 149 150 152 154 156 158 160 162 164 165 167 169 172 174 176 178 180 182 184 187 189 191 193 196 198 200 203 205 208 210 213 215 218 221 223 226 229 232 234 237 240 243 246 249 252 255 258 261 264 267 271 274 277 280 284 287 291 294 298 301 305 309 312 316 320 324 328 332 336 340 344 348 352 357 361 365 370 374 379 383 388 392 397 402 407 412 417 422 427 432 437 442 448 453 459 464 470 475 481 487 493 499 505 511 517 523 530 536 542 549 556 562 569 576 583 590 597 604 612 619 626 634 642 649 657 665 673 681 690 698 706 715 723 732 741 750 759 768 777 787 796 806 816 825 835 845 856 866 876 887 898 909 919 931 942 953 965 976 988|\n"
   ]
  },
  {
   "cell_type": "markdown",
   "id": "4122490a-22e1-4379-a331-9ea6bc8378be",
   "metadata": {
    "editable": true,
    "slideshow": {
     "slide_type": ""
    },
    "tags": []
   },
   "source": [
    "## Encapsulat segons la potència\n",
    "\n",
    "<a title=\"David Ludovino, CC BY-SA 3.0 &lt;https://creativecommons.org/licenses/by-sa/3.0&gt;, via Wikimedia Commons\" href=\"https://commons.wikimedia.org/wiki/File:Carbon_and_ceramic_resistors_of_different_power_ratings.jpg\"><img width=\"256\" alt=\"Carbon and ceramic resistors of different power ratings\" src=\"https://upload.wikimedia.org/wikipedia/commons/thumb/6/6b/Carbon_and_ceramic_resistors_of_different_power_ratings.jpg/256px-Carbon_and_ceramic_resistors_of_different_power_ratings.jpg\"></a>"
   ]
  },
  {
   "cell_type": "markdown",
   "id": "e83cd1fa-f47f-4609-9c5c-5b120ca40728",
   "metadata": {
    "editable": true,
    "slideshow": {
     "slide_type": ""
    },
    "tags": []
   },
   "source": [
    "## Resistències SMD\n",
    "\n",
    "<a title=\"Thomas Bresson\n",
    ", CC BY 3.0 &lt;https://creativecommons.org/licenses/by/3.0&gt;, via Wikimedia Commons\" href=\"https://commons.wikimedia.org/wiki/File:2013-01-10_21-36-44-comp-elec-20f.jpg\"><img width=\"512\" alt=\"2013-01-10 21-36-44-comp-elec-20f\" src=\"https://upload.wikimedia.org/wikipedia/commons/thumb/d/d3/2013-01-10_21-36-44-comp-elec-20f.jpg/512px-2013-01-10_21-36-44-comp-elec-20f.jpg\"></a>\n"
   ]
  },
  {
   "cell_type": "code",
   "execution_count": null,
   "id": "bdcefba5-f899-40c8-9358-4be7981ebb2a",
   "metadata": {
    "editable": true,
    "slideshow": {
     "slide_type": ""
    },
    "tags": []
   },
   "outputs": [],
   "source": []
  }
 ],
 "metadata": {
  "kernelspec": {
   "display_name": "venvPy3",
   "language": "python",
   "name": "venvpy3"
  },
  "language_info": {
   "codemirror_mode": {
    "name": "ipython",
    "version": 3
   },
   "file_extension": ".py",
   "mimetype": "text/x-python",
   "name": "python",
   "nbconvert_exporter": "python",
   "pygments_lexer": "ipython3",
   "version": "3.10.12"
  }
 },
 "nbformat": 4,
 "nbformat_minor": 5
}
