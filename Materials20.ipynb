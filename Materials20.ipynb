{
 "cells": [
  {
   "cell_type": "markdown",
   "id": "7df2f400-65dd-4ff5-a83c-0669f20bf51c",
   "metadata": {
    "editable": true,
    "slideshow": {
     "slide_type": ""
    },
    "tags": []
   },
   "source": [
    "# Materials tecnològics. Metal·lúrgia"
   ]
  },
  {
   "cell_type": "markdown",
   "id": "8a581ac3-d120-4134-9d99-659e99ccb10b",
   "metadata": {
    "editable": true,
    "slideshow": {
     "slide_type": ""
    },
    "tags": []
   },
   "source": [
    "```{admonition} Pàgina en desenvolupament\n",
    "Encara estem treballant en aquest document.   \n",
    "Esperem oferir-vos properament el seu contingut.   \n",
    "Disculpeu les molèsties.\n",
    "```"
   ]
  },
  {
   "cell_type": "markdown",
   "id": "d6d90703-9d98-430d-a809-1982fe694798",
   "metadata": {
    "editable": true,
    "slideshow": {
     "slide_type": ""
    },
    "tags": []
   },
   "source": [
    "Com podreu esbrinar, molts són el materials utilitzats i diversos els processos d’obtenció d’aquests materials i les formes de conformar-los. \n",
    "\n",
    "Farem una revisió dels més utilitzats o interessants, aprofundint en aquells aspectes rellevants que permetin tenir una visió de conjunt per aconseguir aquella cultureta imprescindible que tot enginyer o científic ha de tenir. Naturalment, des d’un punt de vista subjectiu d’aquest autor."
   ]
  },
  {
   "cell_type": "markdown",
   "id": "9a82b4f6-d7fa-445c-bf26-10d2080a15aa",
   "metadata": {
    "editable": true,
    "slideshow": {
     "slide_type": ""
    },
    "tags": []
   },
   "source": [
    "## Metal·lúrgia\n",
    "Els metalls ocupen un lloc privilegiat, han estat claus en el desenvolupament de la nostra societat. Només cal recordar els darrers períodes prehistòrics: edat del coure, edat del bronze, edat del ferro. \n",
    "\n",
    "Arribar al ferro és un altre nivell. La seva abundància, propietats i tractaments el converteixen en un material d’ús quotidià, encara avui en dia. No és d’estranyar que dins de la ciència de materials el seu estudi tingui nom propi, la *siderúrgia*. "
   ]
  },
  {
   "cell_type": "code",
   "execution_count": null,
   "id": "d2125374-8113-477d-b1cf-5dbe1f0f4150",
   "metadata": {
    "editable": true,
    "slideshow": {
     "slide_type": ""
    },
    "tags": []
   },
   "outputs": [],
   "source": []
  }
 ],
 "metadata": {
  "kernelspec": {
   "display_name": "venvPy3",
   "language": "python",
   "name": "venvpy3"
  },
  "language_info": {
   "codemirror_mode": {
    "name": "ipython",
    "version": 3
   },
   "file_extension": ".py",
   "mimetype": "text/x-python",
   "name": "python",
   "nbconvert_exporter": "python",
   "pygments_lexer": "ipython3",
   "version": "3.10.12"
  }
 },
 "nbformat": 4,
 "nbformat_minor": 5
}
