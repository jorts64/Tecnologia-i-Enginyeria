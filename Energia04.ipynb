{
 "cells": [
  {
   "cell_type": "markdown",
   "metadata": {},
   "source": [
    "# Energia Potencial. Energia mecànica"
   ]
  },
  {
   "cell_type": "markdown",
   "metadata": {},
   "source": [
    "Si deixem caure un bolígraf, aquest s'accelera degut a la força de la gravetat. Com aquesta força és conservativa, podem associar una energia potencial a la gravetat. Si ens limitem a treballar a un rang d'alçades raonable al voltant de la superfície del nostre planeta on podem considerar la g com a una constant igual a 9,81 m/s2, la seva expressió és simplifica a\n",
    "\n",
    "$E_p= mgh$\n",
    "\n",
    "on m és la massa del cos i h la seva alçada respecte a una referència arbitrària."
   ]
  },
  {
   "cell_type": "markdown",
   "metadata": {},
   "source": [
    "## Exemple\n",
    ">Un martinet de massa 200 kg cau des d'una alçada de 3,75 m sobre una estaca. Quina resistència ofereix la terra contra l'estaca, si aquesta penetra 0,5 m amb cada cop?\n",
    "\n",
    "$E_p = mgh = 200 \\ kg \\cdot 9,81 \\ m/s^2 \\ \\cdot 3,75 \\ m = 7,358 kJ$\n",
    "\n",
    "aquesta energia potencial es transforma en la caiguda en energia cinètica que amb l'impacte amb l'estaca venç la força resistent del terra realitzant un treball\n",
    "\n",
    "$W = F \\cdot d = E_c = E_p \\Rightarrow F = \\Large \\frac{E_p}{d} = \\frac{7,358 \\ kJ}{3,75 \\ m} = \\normalsize 14.72 \\ kN $"
   ]
  },
  {
   "cell_type": "markdown",
   "metadata": {},
   "source": [
    "## Energia mecànica\n",
    "\n",
    "Un cos té una energia mecànica equivalent a la suma de les seves energies cinètica i potencial:\n",
    "\n",
    "$E_m = E_c+ E_p$\n",
    "\n",
    "A molts problemes només apareix l'energia mecànica, de forma que la seva resolució potser força directe"
   ]
  },
  {
   "cell_type": "markdown",
   "metadata": {},
   "source": [
    "### Exemple\n",
    ">La torre de Collserola té una alçada vista de 267,5 m. Imaginem que un caragol mal col·locat al seu extrem superior cau a terra. A quina velocitat tindria l'impacte?\n",
    "\n",
    "Naturalment, menyspreem el fregament amb l'aire. En aquest cas es conserva l'energia mecànica, i tota l'energia potencial a dalt de la torre es converteix en energia cinètica quan impacta al terra:\n",
    "\n",
    "$E_{pi} = E_{cf} \\Rightarrow mgh = \\frac{1}{2} m v^2 \\Rightarrow v=\\sqrt{2gh} = \\sqrt{2\\cdot\\ 9,81 \\ m/s^2 \\ \\cdot 267,5 \\ m} = 72,45 \\ m/s$\n",
    "\n",
    "quí no es tracta d'una bola de pintura. Estem parlant d'un caragol metàl·lic, molt semblant a una bala, que arriba a una velocitat de 260 km/h. Per això s'extremen les precaucions en la seva construcció."
   ]
  },
  {
   "cell_type": "code",
   "execution_count": null,
   "metadata": {},
   "outputs": [],
   "source": []
  }
 ],
 "metadata": {
  "kernelspec": {
   "display_name": "venvPy3",
   "language": "python",
   "name": "venvpy3"
  },
  "language_info": {
   "codemirror_mode": {
    "name": "ipython",
    "version": 3
   },
   "file_extension": ".py",
   "mimetype": "text/x-python",
   "name": "python",
   "nbconvert_exporter": "python",
   "pygments_lexer": "ipython3",
   "version": "3.10.12"
  }
 },
 "nbformat": 4,
 "nbformat_minor": 4
}
