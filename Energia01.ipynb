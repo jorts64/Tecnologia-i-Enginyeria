{
 "cells": [
  {
   "cell_type": "markdown",
   "id": "7df2f400-65dd-4ff5-a83c-0669f20bf51c",
   "metadata": {
    "editable": true,
    "slideshow": {
     "slide_type": ""
    },
    "tags": []
   },
   "source": [
    "# Energia. Treball. Potència"
   ]
  },
  {
   "cell_type": "markdown",
   "id": "91567477-e59c-43d7-a67e-2c70da151b19",
   "metadata": {
    "editable": true,
    "slideshow": {
     "slide_type": ""
    },
    "tags": []
   },
   "source": [
    "```{admonition} Pàgina en desenvolupament\n",
    "Encara estem treballant en aquest document.   \n",
    "Esperem oferir-vos properament el seu contingut.   \n",
    "Disculpeu les molèsties.\n",
    "```"
   ]
  },
  {
   "cell_type": "markdown",
   "id": "a1ee98ab-c9e8-4dd1-a8b7-2911a9844ccf",
   "metadata": {},
   "source": [
    "Per ara podeu consultar el meu llibre en PDF [Llibre CC Tecnologia Industrial I. Energia. Treball. Potència.](http://www.jorts.net/ebooks/TI1-1_Energia.pdf)"
   ]
  },
  {
   "cell_type": "code",
   "execution_count": null,
   "id": "83ca5a33-67e6-4e7c-94be-932b598d43b7",
   "metadata": {},
   "outputs": [],
   "source": []
  }
 ],
 "metadata": {
  "kernelspec": {
   "display_name": "venvPy3",
   "language": "python",
   "name": "venvpy3"
  },
  "language_info": {
   "codemirror_mode": {
    "name": "ipython",
    "version": 3
   },
   "file_extension": ".py",
   "mimetype": "text/x-python",
   "name": "python",
   "nbconvert_exporter": "python",
   "pygments_lexer": "ipython3",
   "version": "3.10.12"
  }
 },
 "nbformat": 4,
 "nbformat_minor": 5
}
