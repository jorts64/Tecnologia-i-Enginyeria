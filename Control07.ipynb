{
 "cells": [
  {
   "cell_type": "markdown",
   "id": "7df2f400-65dd-4ff5-a83c-0669f20bf51c",
   "metadata": {
    "editable": true,
    "slideshow": {
     "slide_type": ""
    },
    "tags": []
   },
   "source": [
    "# Amplificadors operacionals i Comparadors"
   ]
  },
  {
   "cell_type": "markdown",
   "id": "e58a9bef-f1d9-44a2-b7b8-2f24ec1c9f03",
   "metadata": {
    "editable": true,
    "slideshow": {
     "slide_type": ""
    },
    "tags": []
   },
   "source": [
    "```{admonition} Pàgina en desenvolupament\n",
    "Encara estem treballant en aquest document.   \n",
    "Esperem oferir-vos properament el seu contingut.   \n",
    "Disculpeu les molèsties.\n",
    "```"
   ]
  },
  {
   "cell_type": "markdown",
   "id": "44ef35f5-3c63-4113-be7f-52e8ac9ef25c",
   "metadata": {},
   "source": [
    "Aquests dispositius electrònics, que podem trobar com a circuits integrats, donen una sortida en funció de la diferencia de dos tensions d'entrada. Es diferencien en que l'[amplificador operacional](https://ca.wikipedia.org/wiki/Amplificador_operacional) dona una resposta analògica proporcional a la diferència de tensió de les entrades i el  [comparador](https://ca.wikipedia.org/wiki/Comparador) dona una sortida digital {cite}`Electronics_and_instrumentation_for_scientists`. Tots dos comparteixen el mateix símbol:\n",
    "\n",
    "![](img/Control/ampOp01.png)"
   ]
  },
  {
   "cell_type": "markdown",
   "id": "a36bda7a-5a68-4c6f-8fe7-aa8719e693f3",
   "metadata": {},
   "source": [
    "## L'amplificador operacional\n",
    "\n",
    "El seu nom fa referència als [computadors analògics](https://ca.wikipedia.org/wiki/Computador_anal%C3%B2gic), on es feien servir molt.\n",
    "\n",
    "Aquest dispositiu dona una sortida $V_{out} = A (V_+ - V_-)$, on $A$ és el guany en llaç obert.\n",
    "\n",
    "Un amplificador operacional **ideal** té, entre altres, aquestes característiques:\n",
    "\n",
    "```{sidebar} Regles d'or\n",
    "Totes les característiques dels amplifiadors operacionals es poden resumir en aquestes dues regles d'or:\n",
    "\n",
    "Primera: A qualsevol malla la sortida farà el necessari per a que la diferència de voltatges a l'entrada sigui 0\n",
    "\n",
    "Segona: El corrent a les entrades és 0\n",
    "```\n",
    "\n",
    "* Guany infinit en llaç obert $A = \\infty$\n",
    "* Impedància d'entrada infinita $Z_{in} = \\infty$ i, per tant, el corrent elèctric d'entrada és zero.\n",
    "* Impedància de sortida zero $Z_{out} = 0$\n",
    "\n",
    "Així, una de les aplicacions típiques d'aquest dispositiu és el seguidor de tensió:\n",
    "\n",
    "![](img/Control/Op-Amp_Unity-Gain_Buffer.svg)\n",
    "\n",
    "$$V_{out} = A (V_{in} - V_{out})$$\n",
    "\n",
    "$$V_{out} = A V_{in} - A V_{out}$$\n",
    "\n",
    "$$V_{out} + A V_{out} = A V_{in} $$\n",
    "\n",
    "$$(A + 1) V_{out} = A V_{in} $$\n",
    "\n",
    "$$V_{out} = \\frac{A}{(A + 1)} V_{in} $$\n",
    "\n",
    "$$\\lim_{A\\to\\infty} \\frac{A}{A+1} = 1$$\n",
    "\n",
    "$$V_{out} = V_{in} $$\n",
    "\n",
    "Tenim el mateix voltatge, però sense treure corrent a l'entrada ($Z_{in} = \\infty$) i podem donar qualsevol corrent a la sortida ($Z_{out} = 0$). Això és especialment útil amb els sensors, on la mesura es podria falsejar sin agafem massa corrent del sensor.\n",
    "\n",
    "En la pràctica, els amplificadors operacionals **reals** tenen unes característiques raonables:\n",
    "\n",
    "* $A \\gt 100000$\n",
    "* $Z_{in} \\sim G\\Omega$\n",
    "* $Z_{out} \\sim 100\\ \\Omega$ però l'efecte Miller fa que baixi $Z_{out} \\sim m\\Omega$ quan està realimentat {cite}`Modelo_del_amplificador_operacional_real`.\n",
    "\n",
    "Els amplificadors operacionals són dispositius sofisticats. Aquí teniu l'esquema intern del [741](http://www.jorts.net/jupbook/pdf/ua741.pdf), dissenyat al 1968 i que avui en dia encara es comercialitza:\n",
    "\n",
    "<a title=\"Daniel Braun, CC BY-SA 3.0 &lt;http://creativecommons.org/licenses/by-sa/3.0/&gt;, via Wikimedia Commons\" href=\"https://commons.wikimedia.org/wiki/File:OpAmpTransistorLevel_Colored_Labeled.svg\"><img width=\"800\" alt=\"OpAmpTransistorLevel Colored Labeled\" src=\"https://upload.wikimedia.org/wikipedia/commons/thumb/e/e0/OpAmpTransistorLevel_Colored_Labeled.svg/512px-OpAmpTransistorLevel_Colored_Labeled.svg.png\"></a>\n"
   ]
  },
  {
   "cell_type": "markdown",
   "id": "1d8015a5-8d1a-4d20-b4c2-5299332706a6",
   "metadata": {
    "jp-MarkdownHeadingCollapsed": true
   },
   "source": [
    "### Aplicacions dels amplificadors operacionals\n",
    "\n",
    "Pràcticament podem fer qualsevol operació matemàtica amb aquests dispositius:\n",
    "\n",
    "| Aplicació | Esquema | Sortida |\n",
    "| :--- | :---: | :---: |\n",
    "| Amplificador diferencial | ![](img/Control/Op-Amp_Differential_Amplifier.svg) |$$\\begin{array}{c} V_{out} = V_2 - V_1 \\\\ \\\\ \\frac{R_1}{R_f} = \\frac{R_2}{R_g} \\end{array} $$|\n",
    "| Amplificador inversor | ![](img/Control/Op-Amp_Inverting_Amplifier.svg)| $$V_{out} = - V_{in} \\frac{ R_{f}}{R_{in} }$$\n",
    "| amplificador no inversor | ![](img/Control/Op-Amp_Non-Inverting_Amplifier.svg) | $$V_{out} = V_{in} \\left( 1 + \\frac{ R_2 }{ R_1 } \\right)$$|\n",
    "| Seguidor de tensió | ![](img/Control/Op-Amp_Unity-Gain_Buffer.svg) | $$V_{out} = V_{in}$$|\n",
    "| Amplificador sumador | ![](img/Control/Op-Amp_Summing_Amplifier.svg) | $$V_{out} = -R_{f} \\left( \\frac{V_1}{R_1} + \\frac{V_2}{R_2} + \\cdots + \\frac{V_n}{R_n} \\right) $$ |\n",
    "| Integrador inversor | ![](img/Control/Op-Amp_Integrating_Amplifier.svg)| $$V_{out}(t_1) = V_{out}(t_0) - \\frac{1}{RC} \\int_{t_0}^{t_1} V_{in}(t) \\,dt$$|\n",
    "| Derivador inversor | ![](img/Control/Op-Amp_Differentiating_Amplifier.svg)|$$V_{out} = -RC \\frac{dV_{in}}{dt}$$|\n",
    "| Logaritme | ![](img/Control/Op-Amp_Logarithmic_Amplifier.svg)|$$\\begin{array}{c} V_\\text{out} = -V_{T} \\ln \\left(\\frac{V_{in}}{I_{S} R}\\right) \\\\ \\\\ I_S = \\text{corrent de saturació} \\\\ \\\\ V_T = \\text{voltatge tèrmic} \\end{array} $$|\n",
    "| Exponencial | ![](img/Control/Op-Amp_Exponential_Amplifier.svg)|$$\\begin{array}{c} V_{out} = -R I_{S} e^{\\frac{V_{in}}{V_{T}}} \\\\ \\\\ I_S = \\text{corrent de saturació} \\\\ \\\\ V_T = \\text{voltatge tèrmic} \\end{array} $$|"
   ]
  },
  {
   "cell_type": "markdown",
   "id": "407b16bb-f0d6-4243-8b18-db8dee5497ed",
   "metadata": {},
   "source": [
    "### Productes comercials\n",
    "\n",
    "El 741 encara es comercialitza, però en aquest anys han aparegut amplificadors operacionals més optimitzats, la majoria d'ells sense necessitat de ajustar l'offset. Un circuit integrat molt utilitzat és el [LM324](http://www.jorts.net/jupbook/pdf/LM324.pdf), que porta 4 amplificadors operacionals en el mateix xip, i el [LM358](http://www.jorts.net/jupbook/pdf/LM358.pdf) que en porta 2:\n",
    "\n",
    "![](img/Control/lm324.png)\n",
    "![](img/Control/LM358.jpg)\n"
   ]
  },
  {
   "cell_type": "markdown",
   "id": "3062b400-d2d7-414e-9f2b-0dff34def603",
   "metadata": {},
   "source": [
    "## Comparadors\n",
    "\n",
    "Aquest dispositius donen una sortida digitals segons el signe de la diferència d'entrades:\n",
    "\n",
    "$$V_{o} = \n",
    "\\begin{cases} \n",
    " V_{cc},  & \\text{if }V_+ > V_-, \\\\\n",
    " 0,  & \\text{if }V_+ < V_-.\n",
    "\\end{cases}$$\n",
    "\n",
    "S'utilitzen molt amb sensors, on la senyal del sensor es compara amb un valor de consigna, donant una sortida digital. Per exemple la serie KY- de mòduls per arduino utilitza molt el comparador LM393 (porta 2 comparadors al mateix integrat), com és el cas d'aquest mòdul sensor de so KY-038:\n",
    "\n",
    "![](img/Control/KY-038.jpg) ![](img/Control/KY-038Sch.jpg)\n"
   ]
  },
  {
   "cell_type": "markdown",
   "id": "abd81877-a0b9-4742-b046-5ece08971169",
   "metadata": {},
   "source": [
    "### Productes comercials\n",
    "\n",
    "Un circuit integrat molt utilitzat és el [LM393](http://www.jorts.net/jupbook/pdf/LM393.pdf), que portaq 2 comparadors en el mateix xip:\n",
    "\n",
    "![](img/Control/lm393.gif)"
   ]
  },
  {
   "cell_type": "code",
   "execution_count": null,
   "id": "ba1bc4e9-4c5e-4e30-8f30-713a521da48c",
   "metadata": {},
   "outputs": [],
   "source": []
  }
 ],
 "metadata": {
  "kernelspec": {
   "display_name": "venvPy3",
   "language": "python",
   "name": "venvpy3"
  },
  "language_info": {
   "codemirror_mode": {
    "name": "ipython",
    "version": 3
   },
   "file_extension": ".py",
   "mimetype": "text/x-python",
   "name": "python",
   "nbconvert_exporter": "python",
   "pygments_lexer": "ipython3",
   "version": "3.10.12"
  }
 },
 "nbformat": 4,
 "nbformat_minor": 5
}
