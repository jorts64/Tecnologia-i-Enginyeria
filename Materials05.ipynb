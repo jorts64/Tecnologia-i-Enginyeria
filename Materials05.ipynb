{
 "cells": [
  {
   "cell_type": "markdown",
   "id": "7df2f400-65dd-4ff5-a83c-0669f20bf51c",
   "metadata": {
    "editable": true,
    "slideshow": {
     "slide_type": ""
    },
    "tags": []
   },
   "source": [
    "# Cristalls líquids"
   ]
  },
  {
   "cell_type": "markdown",
   "id": "8a581ac3-d120-4134-9d99-659e99ccb10b",
   "metadata": {
    "editable": true,
    "slideshow": {
     "slide_type": ""
    },
    "tags": []
   },
   "source": [
    "```{admonition} Pàgina en desenvolupament\n",
    "Encara estem treballant en aquest document.   \n",
    "Esperem oferir-vos properament el seu contingut.   \n",
    "Disculpeu les molèsties.\n",
    "```"
   ]
  },
  {
   "cell_type": "markdown",
   "id": "5bcd1355-e24f-42a4-a7db-bbfccb62e5f7",
   "metadata": {
    "editable": true,
    "slideshow": {
     "slide_type": ""
    },
    "tags": []
   },
   "source": [
    "Les molècules d’aquests materials són molt anisòtropes. Tenen forma de bastons, discs, per la qual cosa les propietats són diferents segons l’orientació de les molècules. Aquestes orientacions reben el nom de *mesofases*:  nemàtica, esmèctica, *twist* ...\n",
    "\n",
    "<a title=\"Mforesto, CC BY-SA 3.0 &lt;https://creativecommons.org/licenses/by-sa/3.0&gt;, via Wikimedia Commons\" href=\"https://commons.wikimedia.org/wiki/File:Tableau_r%C3%A9capitulatif_m%C3%A9sophases.jpg\"><img width=\"620\" alt=\"Tableau récapitulatif mésophases\" src=\"https://upload.wikimedia.org/wikipedia/commons/e/e2/Tableau_r%C3%A9capitulatif_m%C3%A9sophases.jpg\"></a>\n",
    "\n",
    "Una de les aplicacions més conegudes són els displays LCD. Com l’eix òptic depèn de l’orientació de les molècules (3) i aquest el podem canviar ‑transició de Fréedericksz- mitjançant un camp elèctric (2,4) , podem mostrar un contrast llum/foscor polaritzant la llum (1,5) que travessa el cristall líquid i es reflecteix (6) al fons. Si el cristall no pot respondre al pla de la llum tindrem  foscor.\n",
    "\n",
    "<a title=\"No machine-readable author provided. Ed g2s assumed (based on copyright claims)., CC BY-SA 2.5 &lt;https://creativecommons.org/licenses/by-sa/2.5&gt;, via Wikimedia Commons\" href=\"https://commons.wikimedia.org/wiki/File:LCD_layers.svg\"><img width=\"800\" alt=\"LCD layers\" src=\"https://upload.wikimedia.org/wikipedia/commons/d/dc/LCD_layers.svg\"></a>\n"
   ]
  },
  {
   "cell_type": "code",
   "execution_count": null,
   "id": "128c292b-0fc2-48ff-a737-012a31986616",
   "metadata": {
    "editable": true,
    "slideshow": {
     "slide_type": ""
    },
    "tags": []
   },
   "outputs": [],
   "source": []
  }
 ],
 "metadata": {
  "kernelspec": {
   "display_name": "venvPy3",
   "language": "python",
   "name": "venvpy3"
  },
  "language_info": {
   "codemirror_mode": {
    "name": "ipython",
    "version": 3
   },
   "file_extension": ".py",
   "mimetype": "text/x-python",
   "name": "python",
   "nbconvert_exporter": "python",
   "pygments_lexer": "ipython3",
   "version": "3.10.12"
  }
 },
 "nbformat": 4,
 "nbformat_minor": 5
}
