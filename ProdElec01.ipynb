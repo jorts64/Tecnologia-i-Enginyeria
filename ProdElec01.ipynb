{
 "cells": [
  {
   "cell_type": "markdown",
   "id": "5c6f346c-d0b3-4d55-80fd-38b6f5a8801a",
   "metadata": {
    "editable": true,
    "slideshow": {
     "slide_type": ""
    },
    "tags": []
   },
   "source": [
    "# Producció d'energia elèctrica"
   ]
  },
  {
   "cell_type": "markdown",
   "id": "2d7a3508-3b1a-4761-bf14-a5a6dc2aca64",
   "metadata": {
    "editable": true,
    "slideshow": {
     "slide_type": ""
    },
    "tags": []
   },
   "source": [
    "```{admonition} Pàgina en desenvolupament\n",
    "Encara estem treballant en aquest document.   \n",
    "Esperem oferir-vos properament el seu contingut.   \n",
    "Disculpeu les molèsties.\n",
    "```"
   ]
  },
  {
   "cell_type": "markdown",
   "id": "902c5923-6e76-4981-96d4-f992885e8dcf",
   "metadata": {},
   "source": [
    "Per ara podeu consultar el meu llibre en PDF [Llibre CC Tecnologia Industrial I. Producció d'energia elèctrica](http://www.jorts.net/ebooks/TI1-2_Centrals.pdf)"
   ]
  },
  {
   "cell_type": "code",
   "execution_count": null,
   "id": "09b89666-8dc9-4fc2-95ee-b356372efef2",
   "metadata": {},
   "outputs": [],
   "source": []
  }
 ],
 "metadata": {
  "kernelspec": {
   "display_name": "venvPy3",
   "language": "python",
   "name": "venvpy3"
  },
  "language_info": {
   "codemirror_mode": {
    "name": "ipython",
    "version": 3
   },
   "file_extension": ".py",
   "mimetype": "text/x-python",
   "name": "python",
   "nbconvert_exporter": "python",
   "pygments_lexer": "ipython3",
   "version": "3.10.12"
  }
 },
 "nbformat": 4,
 "nbformat_minor": 5
}
