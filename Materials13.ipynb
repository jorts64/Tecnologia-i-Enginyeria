{
 "cells": [
  {
   "cell_type": "markdown",
   "id": "7df2f400-65dd-4ff5-a83c-0669f20bf51c",
   "metadata": {
    "editable": true,
    "slideshow": {
     "slide_type": ""
    },
    "tags": []
   },
   "source": [
    "# Propietats tèrmiques"
   ]
  },
  {
   "cell_type": "markdown",
   "id": "8a581ac3-d120-4134-9d99-659e99ccb10b",
   "metadata": {
    "editable": true,
    "slideshow": {
     "slide_type": ""
    },
    "tags": []
   },
   "source": [
    "```{admonition} Pàgina en desenvolupament\n",
    "Encara estem treballant en aquest document.   \n",
    "Esperem oferir-vos properament el seu contingut.   \n",
    "Disculpeu les molèsties.\n",
    "```"
   ]
  },
  {
   "cell_type": "markdown",
   "id": "1c2086ad-5960-413c-99ec-ae424ff55d41",
   "metadata": {
    "editable": true,
    "slideshow": {
     "slide_type": ""
    },
    "tags": []
   },
   "source": [
    "## Calor latent. Calor específica.\n",
    "\n",
    "Si escalfem una substància pura podem observar un gràfic com el de la figura. Dintre d’un mateix estat observem que\n",
    "\n",
    "$Q = m\\cdot c_e \\cdot \\Delta T$\n",
    "\n",
    "on $c_e$ és la calor específica, que correspon a la pendent d’escalfament.\n",
    "\n",
    "Quan la substància canvia d’estat  veiem que\n",
    "\n",
    "$Q = m \\cdot L_i$\n",
    "\n",
    "on $L_i$ és el calor latent de fusió ($L_f$) o de vaporització ($L_v$), segons el canvi d’estat.\n",
    "\n",
    "Veiem la gràfica {cite}`IOC_BTX` amb tots els processos implicats:\n",
    "\n",
    "![](img/Materials/canvisestat.png)"
   ]
  },
  {
   "cell_type": "markdown",
   "id": "da2c74e9-136f-436c-b153-e54808666fc7",
   "metadata": {
    "editable": true,
    "slideshow": {
     "slide_type": ""
    },
    "tags": []
   },
   "source": [
    "## Conductibilitat tèrmica\n",
    "El flux de calor a través d’una placa de superfície $S$ i gruix $e$ depèn de la diferència de temperatures entre els costats de la placa i del material d’aquesta segons la llei de Fourier:\n",
    "\n",
    "$\\dot{Q} = \\large  \\lambda \\frac{S}{e}\\Delta T$\n",
    "\n",
    "on $\\lambda$ és la conductibilitat tèrmica del material.\n",
    "\n",
    "Cal destacar que les interfícies sòlid/gas tenen resistències tèrmiques molt elevades. El poliestirè té $\\lambda = 0,13 \\ W  \\ m^{-1} °C^{-1}$, però el poliestirè expandit té $\\lambda = 0,037 \\ W \\ m^{-1} °C^{-1}$ .\n",
    "\n",
    "A la pràctica es fa una analogia amb la llei d’Ohm per fer càlculs d’aïllament tèrmic amb diferents superfícies, materials i gruixos. $\\Delta T$ seria l’equivalent a la tensió, $\\large { (\\lambda \\frac{S}{e})}^{-1}$ a la resistència i $\\dot{Q}$ a la intensitat. D’aquesta manera podem utilitzar les mateixes expressions d’associacions de resistències (sèrie, paral·lel, mixt) en aquestes càlculs.\n",
    "\n"
   ]
  },
  {
   "cell_type": "markdown",
   "id": "7116a8c0-23d9-4d7d-b5da-090fb9b9ebac",
   "metadata": {
    "editable": true,
    "slideshow": {
     "slide_type": ""
    },
    "tags": []
   },
   "source": [
    "### Exemples"
   ]
  },
  {
   "cell_type": "markdown",
   "id": "899791a6-b466-400f-a5f5-efc67d59af3e",
   "metadata": {
    "editable": true,
    "jp-MarkdownHeadingCollapsed": true,
    "slideshow": {
     "slide_type": ""
    },
    "tags": []
   },
   "source": [
    "#### PAU 2001 S4 3B\n",
    "![](img/Materials/PAU2001S43B.png)\n",
    "![](img/Materials/PAU2001S43Bs.png)\n"
   ]
  },
  {
   "attachments": {},
   "cell_type": "markdown",
   "id": "3d87daf7-2b71-49a1-a03a-cc7fabb7151c",
   "metadata": {
    "editable": true,
    "slideshow": {
     "slide_type": ""
    },
    "tags": []
   },
   "source": [
    "## Dilatació tèrmica\n",
    "\n",
    "Els cossos s’expandeixen amb la calor. Un bon exemple el trobem a les vies del ferrocarril, on els raïls són molt llargs i si no es prenen precaucions poden deformar-se a l’estiu, provocant accidents.\n",
    "\n",
    "![](img/Materials/Rail_buckle.jpg)\n",
    "\n",
    "Altres exemples de situacions en que cal tenir en compte les dilatacions en el disseny són les cobertes de terrats, els ponts i altres edificis i construccions llargs que pateixen canvis de temperatura entre hivern i estiu.\n",
    "\n",
    "Si treballem amb una dimensió veurem que una longitud L0 experimenta un increment proporcional a L0 i a l’increment de temperatura i que depèn del material:\n",
    "\n",
    "$\\Delta L = \\alpha \\ L_0 \\ \\Delta T$\n",
    "\n",
    "on α és el coeficient de dilatació lineal del material. La nova longitud serà $L=L_0 \\ (1+\\alpha \\ \\Delta T)$\n",
    "\n",
    "Per a superfícies:\n",
    "\n",
    "$S = S_0  \\ (1+\\beta \\ \\Delta T)$ amb $\\beta = 2 \\ \\alpha$\n",
    "\n",
    "i per a volums:\n",
    "\n",
    "$V = V_0  \\ (1+\\gamma \\ \\Delta T)$ amb $\\gamma = 3 \\ \\alpha$\n",
    "\n",
    "Per evitar aquestes deformacions i trencaments abans senyalats s’utilitzen juntes de dilatació com la de la imatge, que permeten dilatacions i eviten aquests problemes.\n",
    "\n",
    "<a title=\"Magninhugo, CC BY-SA 3.0 &lt;https://creativecommons.org/licenses/by-sa/3.0&gt;, via Wikimedia Commons\" href=\"https://commons.wikimedia.org/wiki/File:Joint_de_dilatation_gi%C3%A8res.JPG\"><img width=\"612\" alt=\"Joint de dilatation gières\" src=\"https://upload.wikimedia.org/wikipedia/commons/e/e0/Joint_de_dilatation_gi%C3%A8res.JPG\"></a>\n",
    "\n",
    "Per altre banda la dilatació és el principi de funcionament dels termòmetres de mercuri o dels termòstats, controls intermitents i vàlvules basades en bimetalls.\n",
    "\n",
    "<a title=\"Patrick87, CC BY-SA 3.0 &lt;https://creativecommons.org/licenses/by-sa/3.0&gt;, via Wikimedia Commons\" href=\"https://commons.wikimedia.org/wiki/File:Bimetallic_stripe.svg\"><img width=\"437\" alt=\"Bimetallic stripe\" src=\"https://upload.wikimedia.org/wikipedia/commons/c/cb/Bimetallic_stripe.svg\"></a>\n",
    "\n",
    "Un bimetall és una peça composta per dos làmines de metalls diferents unides. Com els dois metalls tenen diferent coeficient de dilatació la peça es corba amb l’increment de temperatura. Si aquesta curvatura provoca l’obertura d’un circuit elèctric (com la peça és metàl·lica és conductora) tindrem un termòstat, com els utilitzats a planxes i estufes elèctriques.\n",
    "\n",
    "![](img/Materials/Termostato.jpg)\n",
    "\n",
    "Els relés tèrmics, sistemes de protecció contra sobrecàrregues febles i perllongades pels motors elèctrics, també utilitzen bimetalls en el seu funcionament.\n",
    "\n",
    "![](img/Materials/Motorschutzrelais.jpg)"
   ]
  },
  {
   "cell_type": "markdown",
   "id": "500d242e-a76d-4d87-beeb-ddfe9d2fa7be",
   "metadata": {
    "editable": true,
    "slideshow": {
     "slide_type": ""
    },
    "tags": []
   },
   "source": [
    "### Exemples"
   ]
  },
  {
   "cell_type": "markdown",
   "id": "ad66fb01-415f-45db-9404-8170f4f90d3c",
   "metadata": {
    "editable": true,
    "slideshow": {
     "slide_type": ""
    },
    "tags": []
   },
   "source": [
    "#### PAU 2000 S6 4A\n",
    "![](img/Materials/PAU2000S64A.png)\n",
    "![](img/Materials/PAU2000S64As.png)\n"
   ]
  },
  {
   "cell_type": "code",
   "execution_count": null,
   "id": "fff49dd8-7f21-4400-bd24-bf6db1437582",
   "metadata": {
    "editable": true,
    "slideshow": {
     "slide_type": ""
    },
    "tags": []
   },
   "outputs": [],
   "source": []
  }
 ],
 "metadata": {
  "kernelspec": {
   "display_name": "venvPy3",
   "language": "python",
   "name": "venvpy3"
  },
  "language_info": {
   "codemirror_mode": {
    "name": "ipython",
    "version": 3
   },
   "file_extension": ".py",
   "mimetype": "text/x-python",
   "name": "python",
   "nbconvert_exporter": "python",
   "pygments_lexer": "ipython3",
   "version": "3.10.12"
  }
 },
 "nbformat": 4,
 "nbformat_minor": 5
}
