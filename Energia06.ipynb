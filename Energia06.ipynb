{
 "cells": [
  {
   "cell_type": "markdown",
   "id": "7df2f400-65dd-4ff5-a83c-0669f20bf51c",
   "metadata": {
    "editable": true,
    "slideshow": {
     "slide_type": ""
    },
    "tags": []
   },
   "source": [
    "# Energia elèctrica"
   ]
  },
  {
   "cell_type": "markdown",
   "id": "8a581ac3-d120-4134-9d99-659e99ccb10b",
   "metadata": {
    "editable": true,
    "slideshow": {
     "slide_type": ""
    },
    "tags": []
   },
   "source": [
    "```{admonition} Pàgina en desenvolupament\n",
    "Encara estem treballant en aquest document.   \n",
    "Esperem oferir-vos properament el seu contingut.   \n",
    "Disculpeu les molèsties.\n",
    "```"
   ]
  },
  {
   "attachments": {},
   "cell_type": "markdown",
   "id": "c5702682-2dde-4169-b1d8-18c236e9e7e4",
   "metadata": {},
   "source": [
    "Sabem de l'ESO que\n",
    "\n",
    "$P = I \\ U$\n",
    "\t\n",
    "on I és la intensitat i U el voltatge.\n",
    "\n",
    "Si treballem amb resistències, la llei d'Ohm \n",
    "\n",
    "$I = \\Large \\frac{U}{R}$\n",
    " \n",
    "ens permet treballar una mica aquesta expressió:\n",
    "\n",
    "$P = I \\ U = I^2 \\ R = \\Large \\frac{U^2}{R}$\n",
    " \n",
    "Però és possible que a l'ESO no t'expliquessin que aquesta energia es pot emmagatzemar en un condensador. Aquest dispositiu es caracteritza per tenir una capacitat C, que indica la càrrega elèctrica emmagatzemada per cada volt\n",
    "\n",
    "$C \\equiv \\Large \\frac{Q}{U}$\n",
    "\t\n",
    "de forma que si tenim el condensador carregat a un cert voltatge U\n",
    "\n",
    "$E = Q \\ U = C \\ U^2$\n",
    "\n",
    "![](img/Energia/unitatsElec.png)"
   ]
  },
  {
   "cell_type": "markdown",
   "id": "5edd29ef-94a9-42f5-aa56-5528dfd6fe0a",
   "metadata": {},
   "source": [
    "## Energia del corrent altern\n",
    "A 2n curs de batxillerat veurem amb detall com es treballa amb corrent altern. Per ara, és suficient saber que amb corrent altern es pot treballar amb uns valors eficaços per al voltatge i la intensitat. Únicament cal tenir en compte que, en ser senyals temporals, poden estar desfasades un cert angle φ una respecte de l'altre, de forma que\n",
    "\n",
    "$P = I \\ U \\ cos \\varphi$\n",
    "  \t\n",
    "en el cas de treballar només amb resistències aquest desfasament és zero i podem escriure\n",
    "\n",
    " \n",
    "$P = I \\ U $\n",
    "\n",
    "La realitat és més complexa, com veurem el curs vinent. De fet, a corrent altern parlem de:\n",
    "* S,  potència aparent (mesurada en VA,  volt ampere)\t\t\t\t\n",
    "* P, potència activa (mesurada en W)\t\t\t\t\t\t\n",
    "* Q, potència reactuva (mesurada en var, volt ampere reactius\n",
    "* \n",
    "Aquest curs treballarem només amb la potència activa, ja que aquesta és la única que intervé en els intercanvis energètics.\n",
    "\n"
   ]
  },
  {
   "cell_type": "markdown",
   "id": "a520fdc3-cd7e-4b0d-a1a7-c854e2318c39",
   "metadata": {},
   "source": [
    "## Exemple\n",
    ">Un semàfor modern utilitza uns 100 LEDs per a cada posició en lloc de les antigues bombetes incandescents de 200 W. Si cada LED s'alimenta amb corrent continu de 2,5 V amb una intensitat de 20 mA, calcula la potència PL consumida per cada LED i  la  potència PC consumida pel conjunt de 100 LEDs\n",
    "\n",
    "$P_L = IU = 0,02 \\ A \\cdot 2,5 \\ V = 0,05 \\ W$\n",
    "\n",
    "$P_C = 100 \\cdot P_L = 100 \\cdot 0,05 \\ W = 5 \\ W$\n",
    "\n",
    "Hem passat d'una despesa de 200 W a només 5W. Fixeu-vos en l'estalvi energètic ( i de manteniment) que suposa el canvi a la tecnologia de LEDs.\n"
   ]
  },
  {
   "cell_type": "code",
   "execution_count": null,
   "id": "0f480052-a772-45a8-9c8e-5ba233510980",
   "metadata": {},
   "outputs": [],
   "source": []
  }
 ],
 "metadata": {
  "kernelspec": {
   "display_name": "venvPy3",
   "language": "python",
   "name": "venvpy3"
  },
  "language_info": {
   "codemirror_mode": {
    "name": "ipython",
    "version": 3
   },
   "file_extension": ".py",
   "mimetype": "text/x-python",
   "name": "python",
   "nbconvert_exporter": "python",
   "pygments_lexer": "ipython3",
   "version": "3.10.12"
  }
 },
 "nbformat": 4,
 "nbformat_minor": 5
}
