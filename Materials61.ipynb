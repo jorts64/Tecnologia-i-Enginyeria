{
 "cells": [
  {
   "attachments": {},
   "cell_type": "markdown",
   "id": "335800ff-d505-4474-ac94-b35559842ace",
   "metadata": {
    "editable": true,
    "slideshow": {
     "slide_type": ""
    },
    "tags": []
   },
   "source": [
    "# Termoplàstics\n"
   ]
  },
  {
   "cell_type": "markdown",
   "id": "f0b79faa-9f2d-484c-86c4-c7345c8e1bdf",
   "metadata": {
    "editable": true,
    "slideshow": {
     "slide_type": ""
    },
    "tags": []
   },
   "source": [
    "```{admonition} Pàgina en desenvolupament\n",
    "Encara estem treballant en aquest document.   \n",
    "Esperem oferir-vos properament el seu contingut.   \n",
    "Disculpeu les molèsties.\n",
    "```"
   ]
  },
  {
   "cell_type": "markdown",
   "id": "6ab499eb-cdcd-44cb-bf9e-221f67820018",
   "metadata": {},
   "source": [
    "\n",
    "| Plàstic | Nom | Propietats | Aplicacions | \n",
    "| :---: | :---| :--- | :---|\n",
    "| PET | Polietilè teleftarat | Molt resistent, lleuger, innocu. Alta transparència. Alta resistència al desgast i la corrosió. Coeficient de fricció molt baix. Bona resistència química i tèrmica. Bona barrera pel $CO_2$, acceptable pel $O_2$ i l'humitat. Resistència las raigs UV. | Ampolles de begudes, especialment les carbonatades. Textils. Mòduls fotovoltaics. Barreres impermeables pels cables submarins. Impressió 3d (PETG) de peces d'alta tecnologia per a aplicacions a medicina, aeronàutica i industria de l'automòvil o la producció de semàfors amb LEDs. Films per a cintes magnètiques d'audio i video. | \n",
    "| HDPE | Polietilè d'alta densitat | No és tòxic. Alta resistència a la compressió i tracció. Transparent. Resistent a baixes temperatures. Impermeable. Inert al contingut, baixa reactivitat. | Utensilis domèstics: cubs, recipients... Ampolles per a detergent, llexiu, xampú, lactis. Bosses de supermercat. Envasos per a pintures, olis, gelats. Tambors. Canonandes per a gas, telefonia, aigua potable, mineria. Peces mecàniques. Marcs de motxilla. Taps d'ampolla. Aillants de cables coaxials. Dipòsits de combustible per a vehicles. Cirurgia plàstica. Joguines |\n",
    "| PVC | Policlorur de vinil| Ampli rang de duresa. Impermeable. Genera gassos tòxics per incineració. | Canonades, soles de sabates, guants, vestits impemeables, mànigues. Discos de música. Marcs de finestres. Pel·lícules primes, de colors o transparents, amb adherència a la part posterior (vinils), tallades amb una talladora controlada per ordinador. Fundes de dossiers i carnets.  | \n",
    "| LDPE | Polietilè de baixa densitat | No és tòxic. Flexible, tou i lleuger. Transparent. Inert al contingut. Impermeable. Baix cost | Bosses, sacs, recobriment de sèquies. Canonades per a reg. Base per a bolquers d'un sol ús. Bosses per a sèrum. Contenidors hermètics domèstics. Tubs i poms: aliments, medicaments, cosmètics. |\n",
    "| PP | Polipropilè | Resistència a la temperatura.| Cadires i taules. Joguies. Paraxocs d'automòvils. Diposits de combustible. Recipients per a aliments per a microones i congelats. Films per embalatges.  Pots de plàstic per a productes làctics. Contenidors de plàstic resistent. Gerros de plàstic, bateries de cotxe, papereres, ampolles de productes farmacèutics, contenidors de gel, vaixelles i galledes. Aillament de cables elèctrics en ambients poc ventilats. Motlles de plàstic. Dispositius a medicina, ja que soporta la temperatura d'estitilitzacióe amb autoclau. Filtres per a l'aire, gas i líquids. Condensadors elèctrics. Canyetes. Cilindre exterior de bolígrafs. | \n",
    "| PS | Poliestiré | Transparent, es pot donar color amb pigments | Films transparents per a embalatges i embolcalls de productes alimentaris. Gots, plats i coberts d'un sol ús. Envasos per a iogurt. Safates per carn, peix, verdures, fruita, galetes. Prestatges i interior de les neveres. | \n",
    "| PSE | Poliestiré expandit | Blanc. Esponjos i tou | Embalatge, envasat, aïllament tèrmic i acústic. Revestiment interior de cascs de motoristes i ciclistes. Contenidors de planter per a cultius. Caixes de peix. Neveres per transport de vacunes. Embalatge protector en el transport de neveres, rentadores, ordinadors i petits electrodomèstics.  | \n",
    "| PMMA | Metacrilat, acrilic, polimetilmetacrilat, plexiglàs® | Transparent, excel·lent claredat òptica. Molt resistent. Alta resistència a l'impacte, 10-20 vegades la del vidre. Resistènt a la radiació UV. Excel·lent aillant tèrmic i acústic. Més lleuger que el vidre (~50%). Combustible, sense generar gassos tòxics. Fàcil mecanitzat. Atacat per  acetona, àcid acétic i d'altres compostos, especialment orgànics. Bon grau de biocompatibilitat. | Lents de fars (navegació). Fars i pilots de cotxes. Finestres, retòls lluminossos, rellotges. Parabrises d'avió. Claraboies, fins-i-tot de sumergibles. Marcs de fotos. Aquariums. Lents intraoculars. Reconstrucció i substitució de peces dentals. Lents de contacte dures.| 7 |\n",
    "| PTFE | Teflò, politetrafluoroetileno | Fricció negligible, la més baixa coneguda. Antiadherent. Alta resistència a la temperatura. Incombustible. Aillant elèctric molt flexible. | Estris de cuina, revestiment de paelles, superfícies d'encimeres. Puntes de bombes de dessoldadura tova. Revestiment antifricció de coixinets. Aïllament per a cables per a altes temperatures. Revestiments d'avions, coets i naus espacials. Elements articulats. Mànegues i conductes per on circulen productes químics. Superfícies de contacte de baixa fricció, com ara els tacs a la base dels ratolins d'ordinador. Circuits impressos exposats a freqüències de microones.| \n",
    "| Cel·lofana | | Transparent, fins-i-tot amb pigments. Flexible i resistent. Brillant. Adherent. Biodegradable. | Eebalatges, embolcalls i empaquetats. Cinta adhesiva cel·lo. |\n",
    "| PA | Niló, poliamida | Translúcid, brillant, fins-i-tot amb pigments. Molt resistent, flexible i impermeable. Inert. | Teixits, raspalls de dents, cordes de raquetes i guitarres. Xarxes de pesca. Paraigües. Engranatges i coixinets. Cremalleres. Cargols i femelles aïllants. Sutures a cirurgia. Pulseres de rellotge. Paracaigudes.  | \n",
    "| ABS |Acrilonitril butadiè estirè| Rigidesa, resistència a atacs químics,  estabilitat a alta temperatura, duresa. Tenacitat a qualsevol temperatura. Alta resistència a l'abrasió. Produeix gassos tòxics en la impressió 3D, les impresores han de ser tancades amb filtres de ventilació.|Parts cromades, parts internes i externes de la carrosseria dels cotxes que estiguin pintades. Joguines. Impressió 3D. Carcasses de teclats d'ordinadors, ratolins, impressores, televisors. Grapadores. Instruments musicals.|\n",
    "| PC |policarbonat|Resistent als productes químics, a la calor i a les radiacions ultraviolades. Dur i transparent. Alta resistència a l'impacte| Carcasses per a telèfons, portalàmpades, tires de contacte múltiple, peces de relés, endolls, interruptors de seguretat, components per a les calculadores electròniques, preses de corrent de tub fluorescents i mesuradors de corrent. Lents de contacte semirígides. Sostres d'hivernacles, salons, i estacions de ferrocarril, així com finestres per a cabines telefòniques i gimnasos. Fars, llums posteriors, reflectors, ventiladors i radiadors. CDs, DVDs. Lents d'ulleres de sol, ulleres de natació i busseig. Viseres de cascos esportius de policies antiavalots. Membranes per hemodiàlisi.||\n",
    "| PEEK |Polieteretercetona|Extraordinàriament fort i rígid. Excel·lent resistència a la flama. Alta resistència química, a les radiacions ionitzants i la temperatura. Preu alt comparat amb altres termoplàstics.|Aplicacions d'alta tecnologia: coixinets, peces de pistó, bombes, columnes de cromatografia líquida d'alt rendiment, vàlvules de plaques de compressors, aïllament de cable elèctric. Aplicacions d'[ultrabuit](https://ca.wikipedia.org/wiki/Ultrabuit): indústries aeroespacial, automotriu i química.|\n",
    "| POM |Poliacetal|Extraordinària resistència química,  bona tenacitat a baixes temperatures, baix coeficient de lliscament, bona resistència a l'abrasió, gran capacitat d'esmorteïment del soroll per fricció.|Engranatges mecànics, elements lliscants i de guia, peces de carcassa, molles, cadenes, cargols, femelles, rodes de ventilador, peces de bombes, cossos de vàlvules. Aïllants, bobines, connectors, peces d'aparells electrònics com televisors, telèfons. Palanques de contro dels volants dels cotxes. Tanques, manetes, rodets per a mecanismes lliscants de mobles. Pistoles d'airsoft. Cremalleres. Púes, gaites,  boques d'instruments, puntes de baquetes. Mànecs de ganivets. Peces de moviment mecànic a rellotgeria. Encenedors.|\n",
    "\n",
    "En aquest gràfic {cite}`plàstics_pràcticum_Fauria` podem fer-nos una idea global dels termoplàstics, la seva densitat i la seva resistència a la tracció:\n",
    "\n",
    "![](img/Materials/plastics01.png)\n"
   ]
  },
  {
   "cell_type": "code",
   "execution_count": null,
   "id": "c689f51b-8a07-4b53-a274-d0a82cfa2439",
   "metadata": {},
   "outputs": [],
   "source": []
  }
 ],
 "metadata": {
  "kernelspec": {
   "display_name": "venvPy3",
   "language": "python",
   "name": "venvpy3"
  },
  "language_info": {
   "codemirror_mode": {
    "name": "ipython",
    "version": 3
   },
   "file_extension": ".py",
   "mimetype": "text/x-python",
   "name": "python",
   "nbconvert_exporter": "python",
   "pygments_lexer": "ipython3",
   "version": "3.10.12"
  }
 },
 "nbformat": 4,
 "nbformat_minor": 5
}
