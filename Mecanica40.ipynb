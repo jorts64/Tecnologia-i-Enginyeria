{
 "cells": [
  {
   "cell_type": "markdown",
   "id": "9ff50253-e6d2-4be3-b78c-fa414d38ec09",
   "metadata": {
    "editable": true,
    "slideshow": {
     "slide_type": ""
    },
    "tags": []
   },
   "source": [
    "# CAD/CAM"
   ]
  },
  {
   "cell_type": "markdown",
   "id": "09a59804-452e-47fa-867b-4208fc7b9e2f",
   "metadata": {
    "editable": true,
    "slideshow": {
     "slide_type": ""
    },
    "tags": []
   },
   "source": [
    "```{admonition} Pàgina en desenvolupament\n",
    "Encara estem treballant en aquest document.   \n",
    "Esperem oferir-vos properament el seu contingut.   \n",
    "Disculpeu les molèsties.\n",
    "```"
   ]
  },
  {
   "cell_type": "markdown",
   "id": "5e288be8-5db3-405b-8393-1dd443f54fe4",
   "metadata": {},
   "source": [
    "Podem crear els nostres propis mecanismes utilitzant programes de CAD/CAM. Als temes següents trobareu un bon grapat, tots de programari lliure o accés en línia. "
   ]
  },
  {
   "cell_type": "code",
   "execution_count": 3,
   "id": "ff267ad3-621b-4dc1-8d07-305c745fd67b",
   "metadata": {
    "editable": true,
    "slideshow": {
     "slide_type": ""
    },
    "tags": [
     "hide-input"
    ]
   },
   "outputs": [
    {
     "name": "stdout",
     "output_type": "stream",
     "text": []
    },
    {
     "name": "stdout",
     "output_type": "stream",
     "text": [
      "Compiling design (CSG Products normalization)...\n",
      "Normalized CSG tree has 2 elements\n",
      "Geometries in cache: 2\n",
      "Geometry cache size in bytes: 1456\n",
      "CGAL Polyhedrons in cache: 0\n",
      "CGAL cache size in bytes: 0\n",
      "Total rendering time: 0:00:00.051\n"
     ]
    },
    {
     "data": {
      "image/png": "[encoded data removed]"
     },
     "metadata": {
      "image/png": {
       "height": 400,
       "width": 600
      }
     },
     "output_type": "display_data",
     "source": "kernel"
    }
   ],
   "source": [
    "%%display\n",
    "\n",
    "cube([60,20,40]);\n"
   ]
  },
  {
   "cell_type": "code",
   "execution_count": null,
   "id": "6bd30733-ebd8-4a26-91f9-af5b041140d9",
   "metadata": {
    "editable": true,
    "slideshow": {
     "slide_type": ""
    },
    "tags": []
   },
   "outputs": [],
   "source": []
  }
 ],
 "metadata": {
  "kernelspec": {
   "display_name": "OpenSCAD",
   "language": "application-xopenscad",
   "name": "openscad"
  },
  "language_info": {
   "extension": ".scad",
   "mimetype": "application/x-openscad",
   "name": "OpenSCAD"
  }
 },
 "nbformat": 4,
 "nbformat_minor": 5
}
