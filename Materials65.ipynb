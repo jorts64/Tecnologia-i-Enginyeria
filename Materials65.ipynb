{
 "cells": [
  {
   "cell_type": "markdown",
   "id": "7df2f400-65dd-4ff5-a83c-0669f20bf51c",
   "metadata": {
    "editable": true,
    "slideshow": {
     "slide_type": ""
    },
    "tags": []
   },
   "source": [
    "# Reciclatge dels termoplàstics"
   ]
  },
  {
   "cell_type": "markdown",
   "id": "8a581ac3-d120-4134-9d99-659e99ccb10b",
   "metadata": {
    "editable": true,
    "slideshow": {
     "slide_type": ""
    },
    "tags": []
   },
   "source": [
    "```{admonition} Pàgina en desenvolupament\n",
    "Encara estem treballant en aquest document.   \n",
    "Esperem oferir-vos properament el seu contingut.   \n",
    "Disculpeu les molèsties.\n",
    "```"
   ]
  },
  {
   "cell_type": "markdown",
   "id": "5d72fe32-16a6-44a2-a922-9dcd2b6c7bef",
   "metadata": {},
   "source": [
    "| | | | | | |\n",
    "| :---: | :---: | :---: | :---: | :---: | :---: |\n",
    "|![](https://upload.wikimedia.org/wikipedia/commons/f/f8/Symbol_Resin_Code_01_PET.svg)|![](https://upload.wikimedia.org/wikipedia/commons/5/5f/Symbol_Resin_Code_02_PE-HD.svg) |![](https://upload.wikimedia.org/wikipedia/commons/d/d3/Symbol_Resin_Code_03_PVC.svg) |![](https://upload.wikimedia.org/wikipedia/commons/3/3c/Symbol_Resin_Code_04_PE-LD.svg) |![](https://upload.wikimedia.org/wikipedia/commons/2/2f/Symbol_Resin_Code_05_PP.svg) |![](https://upload.wikimedia.org/wikipedia/commons/4/4d/Symbol_Resin_Code_06_PS.svg)|"
   ]
  },
  {
   "cell_type": "code",
   "execution_count": null,
   "id": "0a5bc79a-d091-444b-a0a5-286e53a5c2e4",
   "metadata": {},
   "outputs": [],
   "source": []
  }
 ],
 "metadata": {
  "kernelspec": {
   "display_name": "venvPy3",
   "language": "python",
   "name": "venvpy3"
  },
  "language_info": {
   "codemirror_mode": {
    "name": "ipython",
    "version": 3
   },
   "file_extension": ".py",
   "mimetype": "text/x-python",
   "name": "python",
   "nbconvert_exporter": "python",
   "pygments_lexer": "ipython3",
   "version": "3.10.12"
  }
 },
 "nbformat": 4,
 "nbformat_minor": 5
}
