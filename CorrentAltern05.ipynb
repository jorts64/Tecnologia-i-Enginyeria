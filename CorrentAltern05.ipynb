{
 "cells": [
  {
   "cell_type": "markdown",
   "id": "fe940066-452e-4578-8296-3ae1d0096ffa",
   "metadata": {
    "editable": true,
    "slideshow": {
     "slide_type": ""
    },
    "tags": []
   },
   "source": [
    "# La potència a AC"
   ]
  },
  {
   "cell_type": "markdown",
   "id": "87976f44-70ff-4561-ad14-662f7f5cbd0f",
   "metadata": {
    "editable": true,
    "slideshow": {
     "slide_type": ""
    },
    "tags": []
   },
   "source": [
    "```{admonition} Pàgina en desenvolupament\n",
    "Encara estem treballant en aquest document.   \n",
    "Esperem oferir-vos properament el seu contingut.   \n",
    "Disculpeu les molèsties.\n",
    "```"
   ]
  },
  {
   "cell_type": "markdown",
   "id": "e668cf21-1841-421b-ae46-3cf4d3b47041",
   "metadata": {
    "editable": true,
    "slideshow": {
     "slide_type": ""
    },
    "tags": []
   },
   "source": [
    "Al corrent altern hem de parlar de potències, en plural:"
   ]
  },
  {
   "cell_type": "markdown",
   "id": "bf41b095-82c3-4dd6-8cb8-05f34a6cd656",
   "metadata": {
    "editable": true,
    "slideshow": {
     "slide_type": ""
    },
    "tags": []
   },
   "source": [
    "## Potència aparent\n",
    "\n",
    "$S \\equiv U \\cdot \\overline{I}$\n",
    "\n",
    "S és la potència aparent, i es mesera en volt ampers (VA). No és una potència útil, ja que contempla la component imaginària Q que s'emmagatzema en bobines i condensadors en forma de camps magnètics i electrics.\n",
    "\n",
    "## Potència activa\n",
    "\n",
    "$P \\equiv U \\cdot I \\ cos\\varphi$\n",
    "\n",
    "Aquesta és la potencia real, que es mesura en watts (W). Aquí si que l'energia elèctrica es transforma en treball útil o calor. Justament per aixó $cos\\varphi$ s'anomena **factor de potència**\n",
    "\n",
    "$ P = I^2 \\ R $\n",
    "\n",
    "## Potència reactiva \n",
    "\n",
    "$Q \\equiv U \\cdot I \\ sin\\varphi$\n",
    "\n",
    "Es mesura en volt ampers reactius (var). És la component imàginaria de S que abans comentavem, no produeix treball. Els fluxos d'energia s'emmagatzemen en bobines i condensadors en forma de camps magnètics i electrics quan engeguem el circuit i es tornen quan el desconectem, apareixent com a efectes transitoris d'encesa/apagada del circuit. \n",
    "\n",
    "\n",
    "\n",
    "$ Q_C = I^2 \\ X_C $\n",
    "\n",
    "$ Q_L = I^2 \\ X_L $\n",
    "\n",
    "$ Q = I^2 \\ (X_L - X_C) $\n",
    "\n",
    "\n"
   ]
  },
  {
   "cell_type": "markdown",
   "id": "b6c84e0d-19da-4e25-91f9-741ac700d9e1",
   "metadata": {
    "editable": true,
    "slideshow": {
     "slide_type": ""
    },
    "tags": []
   },
   "source": [
    "Continuem amb l'exemple anterior del circuit amb una resistència i un condensador que vam utilitzar al tema d'impedàncies:"
   ]
  },
  {
   "cell_type": "code",
   "execution_count": 1,
   "id": "b93a99fd-6fb9-4112-aa2d-4c382ead9972",
   "metadata": {
    "editable": true,
    "slideshow": {
     "slide_type": ""
    },
    "tags": []
   },
   "outputs": [
    {
     "data": {
      "text/plain": [
       "2200.463803676809"
      ]
     },
     "execution_count": 1,
     "metadata": {},
     "output_type": "execute_result"
    }
   ],
   "source": [
    "import numpy as np\n",
    "import matplotlib.pyplot as plt\n",
    "R = 10\n",
    "C = 162.48 * 10**(-6)\n",
    "U = 220\n",
    "f = 50\n",
    "w = 2 * np.pi * f\n",
    "Xc = 0 -1j/(C*w)\n",
    "Z = R + Xc\n",
    "I = U/Z\n",
    "S = U * np.conj(I)\n",
    "modS = np.abs(S)\n",
    "modS"
   ]
  },
  {
   "cell_type": "code",
   "execution_count": 2,
   "id": "349b1f40-b250-40cc-8842-455d059363bb",
   "metadata": {
    "editable": true,
    "slideshow": {
     "slide_type": ""
    },
    "tags": []
   },
   "outputs": [
    {
     "data": {
      "text/plain": [
       "-62.958143957668284"
      ]
     },
     "execution_count": 2,
     "metadata": {},
     "output_type": "execute_result"
    }
   ],
   "source": [
    "angS = np.degrees(np.angle(S))\n",
    "angS"
   ]
  },
  {
   "cell_type": "markdown",
   "id": "663e4a23-2c75-4bc5-8e37-f0989cf75005",
   "metadata": {
    "editable": true,
    "slideshow": {
     "slide_type": ""
    },
    "tags": []
   },
   "source": [
    "$S = 2200_{-62,96^{\\circ}} \\ VA$"
   ]
  },
  {
   "cell_type": "code",
   "execution_count": 3,
   "id": "dc71e0f1-b3ca-4ed9-b818-889e247b4a42",
   "metadata": {
    "editable": true,
    "slideshow": {
     "slide_type": ""
    },
    "tags": []
   },
   "outputs": [
    {
     "data": {
      "text/plain": [
       "1000.4216841512007"
      ]
     },
     "execution_count": 3,
     "metadata": {},
     "output_type": "execute_result"
    }
   ],
   "source": [
    "P = np.real(S)\n",
    "P"
   ]
  },
  {
   "cell_type": "markdown",
   "id": "11d088c4-2107-457c-b81f-6bac6f287e86",
   "metadata": {
    "editable": true,
    "slideshow": {
     "slide_type": ""
    },
    "tags": []
   },
   "source": [
    "$P = 1000 \\ W$"
   ]
  },
  {
   "cell_type": "code",
   "execution_count": 4,
   "id": "1e85728f-0f48-433f-8526-797b39afa447",
   "metadata": {
    "editable": true,
    "slideshow": {
     "slide_type": ""
    },
    "tags": []
   },
   "outputs": [
    {
     "data": {
      "text/plain": [
       "0.9920358997298501"
      ]
     },
     "execution_count": 4,
     "metadata": {},
     "output_type": "execute_result"
    }
   ],
   "source": [
    "angZ = np.degrees(np.angle(Z))\n",
    "fdp = np.cos(angZ)\n",
    "fdp"
   ]
  },
  {
   "cell_type": "markdown",
   "id": "1d0ae98b-6dbc-4a94-b958-69b9020c894c",
   "metadata": {
    "editable": true,
    "slideshow": {
     "slide_type": ""
    },
    "tags": []
   },
   "source": [
    "$cos(\\varphi) = 0,9920$"
   ]
  },
  {
   "cell_type": "code",
   "execution_count": 5,
   "id": "fb688131-82e4-4c8b-98c9-beca09e241ad",
   "metadata": {
    "editable": true,
    "slideshow": {
     "slide_type": ""
    },
    "tags": []
   },
   "outputs": [
    {
     "data": {
      "text/plain": [
       "-1959.8972945468051"
      ]
     },
     "execution_count": 5,
     "metadata": {},
     "output_type": "execute_result"
    }
   ],
   "source": [
    "Q = np.imag(S)\n",
    "Q"
   ]
  },
  {
   "cell_type": "markdown",
   "id": "f1a421ca-26fa-448b-adc3-6ad5baa87962",
   "metadata": {
    "editable": true,
    "slideshow": {
     "slide_type": ""
    },
    "tags": []
   },
   "source": [
    "$Q = -1960 \\ var$"
   ]
  },
  {
   "cell_type": "markdown",
   "id": "ac307090-79b0-48c2-83f7-3241762c7f6e",
   "metadata": {
    "editable": true,
    "slideshow": {
     "slide_type": ""
    },
    "tags": []
   },
   "source": [
    "## Triangle de potències\n",
    "\n",
    "Com a la fòrmula la I va conjugada, el triangle de potències és un trangle matemàticament semblant al d'impedàncies.\n"
   ]
  },
  {
   "cell_type": "markdown",
   "id": "b321825f-f3e3-4d14-bd03-01a28f42d36c",
   "metadata": {
    "editable": true,
    "slideshow": {
     "slide_type": ""
    },
    "tags": []
   },
   "source": [
    "Representem les potències i visualitzem el riangle de potències"
   ]
  },
  {
   "cell_type": "code",
   "execution_count": 6,
   "id": "63dd7f14-1b7a-4b49-857e-44af8b16d384",
   "metadata": {
    "editable": true,
    "slideshow": {
     "slide_type": ""
    },
    "tags": [
     "hide-input"
    ]
   },
   "outputs": [
    {
     "data": {
      "image/png": "[encoded data removed]",
      "text/plain": [
       "<Figure size 640x480 with 1 Axes>"
      ]
     },
     "metadata": {},
     "output_type": "display_data"
    }
   ],
   "source": [
    "%matplotlib inline\n",
    "\n",
    "\n",
    "plt.annotate('', xy=(np.real(S), np.imag(S)), xytext=(0, 0),\n",
    "             arrowprops=dict(facecolor='blue', shrink=0.05),\n",
    "             )\n",
    "\n",
    "plt.annotate('', xy=(np.real(S), 0), xytext=(0, 0),\n",
    "             arrowprops=dict(facecolor='green', shrink=0.05),\n",
    "             )\n",
    "\n",
    "plt.annotate('', xy=(np.real(S), np.imag(S)), xytext=(np.real(S), 0),\n",
    "             arrowprops=dict(facecolor='red', shrink=0.05),\n",
    "             )\n",
    "\n",
    "plt.annotate(\"$S = 2200 \\ VA$\", xy=(50, -1200))\n",
    "plt.annotate(\"$P = 1000 \\ W$\", xy=(500, -300))\n",
    "plt.annotate(\"$Q = -1960 \\ var$\", xy=(1100,-1000))\n",
    "plt.annotate(\"$62,96^{\\circ}$\", xy=(125,-175))\n",
    "\n",
    "plt.xlim(0, 2500)\n",
    "plt.ylim(-2500, 0)\n",
    "plt.axis('off')\n",
    "plt.show()\n"
   ]
  },
  {
   "cell_type": "code",
   "execution_count": null,
   "id": "a2fd40d6-7070-4b59-93fe-af3a89117b72",
   "metadata": {
    "editable": true,
    "slideshow": {
     "slide_type": ""
    },
    "tags": []
   },
   "outputs": [],
   "source": []
  }
 ],
 "metadata": {
  "kernelspec": {
   "display_name": "venvPy3",
   "language": "python",
   "name": "venvpy3"
  },
  "language_info": {
   "codemirror_mode": {
    "name": "ipython",
    "version": 3
   },
   "file_extension": ".py",
   "mimetype": "text/x-python",
   "name": "python",
   "nbconvert_exporter": "python",
   "pygments_lexer": "ipython3",
   "version": "3.10.12"
  }
 },
 "nbformat": 4,
 "nbformat_minor": 5
}
