{
 "cells": [
  {
   "cell_type": "markdown",
   "id": "7df2f400-65dd-4ff5-a83c-0669f20bf51c",
   "metadata": {
    "editable": true,
    "slideshow": {
     "slide_type": ""
    },
    "tags": []
   },
   "source": [
    "# Termoestables"
   ]
  },
  {
   "cell_type": "markdown",
   "id": "8a581ac3-d120-4134-9d99-659e99ccb10b",
   "metadata": {
    "editable": true,
    "slideshow": {
     "slide_type": ""
    },
    "tags": []
   },
   "source": [
    "```{admonition} Pàgina en desenvolupament\n",
    "Encara estem treballant en aquest document.   \n",
    "Esperem oferir-vos properament el seu contingut.   \n",
    "Disculpeu les molèsties.\n",
    "```"
   ]
  },
  {
   "cell_type": "markdown",
   "id": "d3be0d07-5543-4d69-a7f7-dbaee4d086fc",
   "metadata": {},
   "source": [
    "| Plàstic | Nom | Propietats | Aplicacions | \n",
    "| :---: | :---| :--- | :---|\n",
    "| PUR | poliuretà | Esponjòs i flexible. Tou i macís. Elàstic i adherent. | Escuma per matalassos i seients. Esponges. Aïllaments tèrmics i acústics. Juntes, corritges per transmissió de moviment, rods de ficció. Pegaments i vernissos.|\n",
    "| PH | baquelita | Amb fibres: resistents al xoc. Amb amiant: alta resistència tèrmica. Color negre o mlt fosc. Aïllant elèctric.| Mànecs i anses d'estris de cuina. Rodes dentades. Carcasses d'electrodomèstics, aspiradores, aparells de telèfon, endolls, interruptors. Cendrers.|\n",
    "| | melanina | Lleugera. Resistent i dura. Sense olor nio sabor, Aïllant tèrmic.| Accessoris elèctrics. Aïllament tèrmic i acústic. Superfícies d'encimeres de cuina. Vaixelles, recipients per a aliments. |\n",
    "| PI| Poliimida | Excel·lentes propietates mecàniques, elevada resistència tèrmica i als agents químics | Aplicacions especials en automoció, indústria aeroespacial, electrònica. Adhesius. Piles de combustible d'alta temperatura. Pantalles |\n",
    "| PF | Resines fenòliques | Excel·lent estabilitat dimensional, bona estabilitat tèrmica, bona resistència química, baixa contracció, bones característiques mecàniques, baix cost. Color fosc. | Rodaments d'alta velocitat. Boles de billar. Encolat i unió de materials de construcció. Endolls. Plaques de circuit imprès. Nanses de paelles. | \n",
    "|  | Resines epoxi | Bones propietats mecàniques. Alta resistència química i tèrmica.| Pintures. Adhesius. Composites. Encapsulat de components elèctrics i electrònics: motors, generadors, transformadors. Plaques de circuit imprès. | \n",
    "\n",
    "\n",
    "En aquest gràfic {cite}`plàstics_pràcticum_Fauria` podem fer-nos una idea global dels termoplàstics i termoestables, la seva densitat i la seva resistència a la tracció:\n",
    "\n",
    "![](img/Materials/plastics02.png)\n",
    "\n",
    "En aquest altre gràfic {cite}`plàstics_pràcticum_Fauria` podem fer-nos una idea global dels termoplàstics i termoestables, la seva densitat i la seva temperatura màxima de servei:\n",
    "\n",
    "![](img/Materials/plastics03.png)"
   ]
  },
  {
   "cell_type": "code",
   "execution_count": null,
   "id": "1de2de90-f383-4aff-82d9-8dff7ae8291d",
   "metadata": {},
   "outputs": [],
   "source": []
  }
 ],
 "metadata": {
  "kernelspec": {
   "display_name": "venvPy3",
   "language": "python",
   "name": "venvpy3"
  },
  "language_info": {
   "codemirror_mode": {
    "name": "ipython",
    "version": 3
   },
   "file_extension": ".py",
   "mimetype": "text/x-python",
   "name": "python",
   "nbconvert_exporter": "python",
   "pygments_lexer": "ipython3",
   "version": "3.10.12"
  }
 },
 "nbformat": 4,
 "nbformat_minor": 5
}
