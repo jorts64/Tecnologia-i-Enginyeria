{
 "cells": [
  {
   "cell_type": "markdown",
   "id": "7df2f400-65dd-4ff5-a83c-0669f20bf51c",
   "metadata": {
    "editable": true,
    "slideshow": {
     "slide_type": ""
    },
    "tags": []
   },
   "source": [
    "# Energia pneumàtica, hidràulica i oleohidràulica"
   ]
  },
  {
   "cell_type": "markdown",
   "id": "8a581ac3-d120-4134-9d99-659e99ccb10b",
   "metadata": {
    "editable": true,
    "slideshow": {
     "slide_type": ""
    },
    "tags": []
   },
   "source": [
    "```{admonition} Pàgina en desenvolupament\n",
    "Encara estem treballant en aquest document.   \n",
    "Esperem oferir-vos properament el seu contingut.   \n",
    "Disculpeu les molèsties.\n",
    "```"
   ]
  },
  {
   "cell_type": "markdown",
   "id": "a2524018-c2f5-4d20-97b9-496501cdc08b",
   "metadata": {},
   "source": [
    "Quan treballem amb fluids (gasos i líquids) acostumem a treballar amb magnituds macroscòpiques com la pressió (p), el volum (V) o la temperatura (T).\n",
    "\n",
    "Si considerem el treball realitzat en empènyer una xeringa fins desplaçar una distància d un volum V de fluid amb una pressió p, veurem que\n",
    "\n",
    "$W =\\Large  F \\ d = F \\ \\frac{V}{S}= \\frac{F}{S} \\ V = p \\ V$\n",
    "\n",
    "ja que el volum desplaçat és igual a l'àrea de la superfície pel desplaçament.\n",
    "\n",
    "Si dividim pel temps obtenim la potència:\n",
    "\n",
    "$\\Large P = p \\ \\frac{V}{t} = p \\ q $\n",
    "\n",
    "On q és el cabal.\n",
    "\n"
   ]
  },
  {
   "cell_type": "markdown",
   "id": "4043bcd5-c283-45d4-afdd-841a394eaf07",
   "metadata": {},
   "source": [
    "## Unitats de pressió\n",
    "\n",
    "Al sistema internacional utilitzem el pascal, simbolitzat \n",
    "per les lletres Pa :\n",
    "1 Pa ≡  1 N / m2  \n",
    "\n",
    "També podem trobar altres unitats:   \n",
    "* Atmosfera: 1 atm = 101325 Pa   \n",
    "* Bar: 1 bar = 100000 Pa   \n",
    "* Mil·límetre de mercuri: 1 mmHg = 133,322 Pa   \n",
    "* PSI: 1 psi = 6894 Pa   \n"
   ]
  },
  {
   "cell_type": "markdown",
   "id": "c016c26a-9291-4d08-8a64-4da0ba526482",
   "metadata": {},
   "source": [
    "## Exemple"
   ]
  },
  {
   "cell_type": "markdown",
   "id": "5bf5ea1a-11af-4f15-905e-43d32424eed0",
   "metadata": {},
   "source": [
    "### PAU 2007 S3 P3A\n",
    "![](img/Energia/PAU2007S3P3A.png)\n",
    "\n",
    "![](img/Energia/PAU2007S3P3As1.png)\n",
    "\n",
    "![](img/Energia/PAU2007S3P3As2.png)\n"
   ]
  },
  {
   "cell_type": "code",
   "execution_count": null,
   "id": "81920195-223e-4507-bcc6-7f194ae22d02",
   "metadata": {},
   "outputs": [],
   "source": []
  }
 ],
 "metadata": {
  "kernelspec": {
   "display_name": "venvPy3",
   "language": "python",
   "name": "venvpy3"
  },
  "language_info": {
   "codemirror_mode": {
    "name": "ipython",
    "version": 3
   },
   "file_extension": ".py",
   "mimetype": "text/x-python",
   "name": "python",
   "nbconvert_exporter": "python",
   "pygments_lexer": "ipython3",
   "version": "3.10.12"
  }
 },
 "nbformat": 4,
 "nbformat_minor": 5
}
