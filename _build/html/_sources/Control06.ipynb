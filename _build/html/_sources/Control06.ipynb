{
 "cells": [
  {
   "cell_type": "markdown",
   "id": "c7a36f85-6412-46fd-8f5e-64df903f71d8",
   "metadata": {
    "editable": true,
    "slideshow": {
     "slide_type": ""
    },
    "tags": []
   },
   "source": [
    "# Diagrames de contactes\n",
    "\n",
    "* Les entrades es representen com a interruptors NT. Si l'entrada està negada es representa amb un interruptor NO.\n",
    "* La funció AND de dues entrades implica posar els dos interruptors en sèrie\n",
    "* La funció OR de dues entrades implica posar els dos interruptors en paral·lel\n",
    "* La sortida es representa per una bombeta\n",
    "\n",
    " "
   ]
  },
  {
   "cell_type": "markdown",
   "id": "e58a9bef-f1d9-44a2-b7b8-2f24ec1c9f03",
   "metadata": {
    "editable": true,
    "slideshow": {
     "slide_type": ""
    },
    "tags": []
   },
   "source": [
    "```{admonition} Pàgina en desenvolupament\n",
    "Encara estem treballant en aquest document.   \n",
    "Esperem oferir-vos properament el seu contingut.   \n",
    "Disculpeu les molèsties.\n",
    "```"
   ]
  },
  {
   "cell_type": "markdown",
   "id": "0f8b3be1-6f0c-4c77-8684-5a1c25f899b6",
   "metadata": {
    "editable": true,
    "slideshow": {
     "slide_type": ""
    },
    "tags": []
   },
   "source": [
    "## PAU 2010 S4 2 \n",
    "\n",
    "![](img/Control/BooleP04.png)\n",
    "\n",
    "![](img/Control/BooleS04.png)\n"
   ]
  },
  {
   "cell_type": "markdown",
   "id": "78c552e7-4758-4a94-b3bc-27e69fbc35d3",
   "metadata": {
    "editable": true,
    "slideshow": {
     "slide_type": ""
    },
    "tags": []
   },
   "source": [
    "## PAU PAU 2009 S1 2 \n",
    "\n",
    "![](img/Control/BooleP05.png)\n",
    "\n",
    "![](img/Control/BooleS05.png)\n"
   ]
  },
  {
   "cell_type": "markdown",
   "id": "e17d5242-ca70-4962-a377-9cbbdd821f90",
   "metadata": {
    "editable": true,
    "slideshow": {
     "slide_type": ""
    },
    "tags": []
   },
   "source": [
    "## PAU 2009 S4 2 \n",
    "\n",
    "![](img/Control/BooleP06.png)\n",
    "\n",
    "![](img/Control/BooleS06.png)\n"
   ]
  },
  {
   "cell_type": "code",
   "execution_count": null,
   "id": "4c1c47c2-d065-4e9e-8a3e-1934ac8fbac5",
   "metadata": {
    "editable": true,
    "slideshow": {
     "slide_type": ""
    },
    "tags": []
   },
   "outputs": [],
   "source": []
  }
 ],
 "metadata": {
  "kernelspec": {
   "display_name": "venvPy3",
   "language": "python",
   "name": "venvpy3"
  },
  "language_info": {
   "codemirror_mode": {
    "name": "ipython",
    "version": 3
   },
   "file_extension": ".py",
   "mimetype": "text/x-python",
   "name": "python",
   "nbconvert_exporter": "python",
   "pygments_lexer": "ipython3",
   "version": "3.10.12"
  }
 },
 "nbformat": 4,
 "nbformat_minor": 5
}
