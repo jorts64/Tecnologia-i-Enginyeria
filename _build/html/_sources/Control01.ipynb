{
 "cells": [
  {
   "cell_type": "markdown",
   "id": "7df2f400-65dd-4ff5-a83c-0669f20bf51c",
   "metadata": {
    "editable": true,
    "slideshow": {
     "slide_type": ""
    },
    "tags": []
   },
   "source": [
    "# Automàtica i Control"
   ]
  },
  {
   "cell_type": "markdown",
   "id": "e58a9bef-f1d9-44a2-b7b8-2f24ec1c9f03",
   "metadata": {
    "editable": true,
    "slideshow": {
     "slide_type": ""
    },
    "tags": []
   },
   "source": [
    "```{admonition} Pàgina en desenvolupament\n",
    "Encara estem treballant en aquest document.   \n",
    "Esperem oferir-vos properament el seu contingut.   \n",
    "Disculpeu les molèsties.\n",
    "```"
   ]
  },
  {
   "cell_type": "markdown",
   "id": "f8d70141-6c57-4668-8b8c-15981f191e2b",
   "metadata": {
    "editable": true,
    "slideshow": {
     "slide_type": ""
    },
    "tags": []
   },
   "source": [
    "![](img/Control/sistemaControl1.svg)"
   ]
  },
  {
   "cell_type": "markdown",
   "id": "2ab4f876-b327-4e22-88a2-5f13a712127d",
   "metadata": {},
   "source": [
    "## Consigna\n",
    "\n",
    "Típicament un sistema de control té comandaments que permeten a l'usuari seleccionar paràmetres del control, com ara la potència d'una estufa o la temperatura dessitjada. Aquest comandaments generen uns valors de consigna que llegeix el sistema de control. "
   ]
  },
  {
   "cell_type": "markdown",
   "id": "c50f30c3-e031-4c72-97a7-dc1930597567",
   "metadata": {
    "editable": true,
    "slideshow": {
     "slide_type": ""
    },
    "tags": []
   },
   "source": [
    "## Sistemes de control de llaç obert\n",
    "\n",
    "En aquests sistemes quan s'activa el control no es fa cap seguiment de si s'ha aconseguit el resultat previst.\n",
    "\n",
    "Per exemple, una assecadora de roba senzilla es programa per bufar aire calent un temps predeterminat. Així la roba potser quedi humida, o tal vegada hem malbaratat energia ja que un temps abans ja era seca.\n",
    "\n",
    "El diagrama de blocs d'un sistema de control en llaç obert és aquest:\n",
    "\n",
    "![](img/Control/nofeedback01.png)\n"
   ]
  },
  {
   "attachments": {},
   "cell_type": "markdown",
   "id": "7c7d2dad-ebcc-4d58-aeaf-988a881a8dcb",
   "metadata": {
    "editable": true,
    "slideshow": {
     "slide_type": ""
    },
    "tags": []
   },
   "source": [
    "## Sistemes de control de llaç tancat\n",
    "\n",
    "En aquest sistemes hi ha una supervisió de l'estat del sistema mitjançant els sensors, fins aconseguir l'efecte dessitjat. \n",
    "\n",
    "Per exemple, una assecadora de roba més sofisticada pot rebre informació d'un sensor d'humitat que genera una realimentació del sistema i permet adaptar el temps de funcionament a l'estat de la roba.\n",
    "\n",
    "El diagrama de blocs d'un sistema de control en llaç tancat és aquest:\n",
    "\n",
    "![](img/Control/feedback01.png)\n"
   ]
  },
  {
   "cell_type": "code",
   "execution_count": null,
   "id": "b75e285c-e057-461d-bb99-f87c3f45a9be",
   "metadata": {
    "editable": true,
    "slideshow": {
     "slide_type": ""
    },
    "tags": []
   },
   "outputs": [],
   "source": []
  }
 ],
 "metadata": {
  "kernelspec": {
   "display_name": "venvPy3",
   "language": "python",
   "name": "venvpy3"
  },
  "language_info": {
   "codemirror_mode": {
    "name": "ipython",
    "version": 3
   },
   "file_extension": ".py",
   "mimetype": "text/x-python",
   "name": "python",
   "nbconvert_exporter": "python",
   "pygments_lexer": "ipython3",
   "version": "3.10.12"
  }
 },
 "nbformat": 4,
 "nbformat_minor": 5
}
