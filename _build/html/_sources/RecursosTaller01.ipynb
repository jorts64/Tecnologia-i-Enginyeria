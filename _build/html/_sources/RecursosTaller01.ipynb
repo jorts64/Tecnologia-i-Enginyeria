{
 "cells": [
  {
   "cell_type": "markdown",
   "id": "7df2f400-65dd-4ff5-a83c-0669f20bf51c",
   "metadata": {
    "editable": true,
    "slideshow": {
     "slide_type": ""
    },
    "tags": []
   },
   "source": [
    "# Recursos Taller"
   ]
  },
  {
   "cell_type": "markdown",
   "id": "e58a9bef-f1d9-44a2-b7b8-2f24ec1c9f03",
   "metadata": {
    "editable": true,
    "slideshow": {
     "slide_type": ""
    },
    "tags": []
   },
   "source": [
    "```{admonition} Pàgina en desenvolupament\n",
    "Encara estem treballant en aquest document.   \n",
    "Esperem oferir-vos properament el seu contingut.   \n",
    "Disculpeu les molèsties.\n",
    "```"
   ]
  },
  {
   "cell_type": "markdown",
   "id": "adca877f-5735-4a64-b579-6003ee22b03a",
   "metadata": {
    "editable": true,
    "slideshow": {
     "slide_type": ""
    },
    "tags": []
   },
   "source": [
    "## Reciclatge plaques AXE092\n"
   ]
  },
  {
   "cell_type": "markdown",
   "id": "645d6f6c-9c0a-4466-89e6-65bd157cf6b8",
   "metadata": {},
   "source": [
    "### Serial plotter"
   ]
  },
  {
   "cell_type": "markdown",
   "id": "46d6e2b6-befb-490f-b3eb-d8317a0182ca",
   "metadata": {},
   "source": [
    "\n",
    "'Serial plotter, 4800 bauds\n",
    "\n",
    "inici:        \n",
    "\t\treadadc 1,b1\n",
    "\t\treadadc 2,b2\n",
    "\t\tb3=0\n",
    "\t\tif pin3=0 then label10\n",
    "\t\tb3=255\n",
    "label10:\n",
    "\t\treadadc 4,b4\n",
    "\t\tsertxd (#b1,\",\",#b2,\",\",#b3,\",\",#b4,13,10)\n",
    "\t\tgoto inici\n",
    "\t"
   ]
  },
  {
   "cell_type": "markdown",
   "id": "34f53941-d911-42a8-bae3-01bc560c7784",
   "metadata": {},
   "source": []
  },
  {
   "cell_type": "markdown",
   "id": "5d4760f4-28b2-49c7-bfe2-4653d91fc03e",
   "metadata": {},
   "source": [
    "## Programari accessible amb Internet Archive\n",
    "\n",
    "* [WinBreadBoard](https://web.archive.org/web/20060111191854/http://www.yoeric.com/breadboard.htm)\n",
    "* [VirPLC](https://web.archive.org/web/20240127203155/http%3A%2F%2Fwww.xtec.cat%2F%7Eaferrer8%2Fvirplc.htm)\n",
    "* [Cálculo de estructuras](https://web.archive.org/web/20051216124921/http%3A%2F%2Fwww.terra.es%2Fpersonal%2Fael23791147%2Ffree.htm)\n",
    "* [FluidSIM. FluidDRAW](https://web.archive.org/web/20060506142504/http%3A%2F%2Fwww.fluidsim.de%2Ffluidsim%2Findexdemo3_d.htm)"
   ]
  },
  {
   "cell_type": "code",
   "execution_count": null,
   "id": "062bf7c4-6417-49af-b0fa-9a4f00225b72",
   "metadata": {},
   "outputs": [],
   "source": []
  }
 ],
 "metadata": {
  "kernelspec": {
   "display_name": "venvPy3",
   "language": "python",
   "name": "venvpy3"
  },
  "language_info": {
   "codemirror_mode": {
    "name": "ipython",
    "version": 3
   },
   "file_extension": ".py",
   "mimetype": "text/x-python",
   "name": "python",
   "nbconvert_exporter": "python",
   "pygments_lexer": "ipython3",
   "version": "3.10.12"
  }
 },
 "nbformat": 4,
 "nbformat_minor": 5
}
