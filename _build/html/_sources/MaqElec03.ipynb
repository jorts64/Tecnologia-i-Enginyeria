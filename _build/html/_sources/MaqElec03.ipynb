{
 "cells": [
  {
   "attachments": {},
   "cell_type": "markdown",
   "id": "3f3c6d62-ca87-49a9-ade6-7473392cb9d7",
   "metadata": {
    "editable": true,
    "slideshow": {
     "slide_type": ""
    },
    "tags": []
   },
   "source": [
    "# Motor de corrent continu d'imants permanents"
   ]
  },
  {
   "cell_type": "markdown",
   "id": "8b74e8e1-ab54-48f0-89e0-fa3de553f41f",
   "metadata": {},
   "source": [
    "## Condicions nominals"
   ]
  },
  {
   "cell_type": "markdown",
   "id": "5e8e8102-ec84-42ec-a590-23c814d83567",
   "metadata": {},
   "source": [
    "Podem representar la versió més senzilla d'aquest motor amb el següent esquema:"
   ]
  },
  {
   "cell_type": "markdown",
   "id": "7b25b792-5016-42b6-8e2c-3b98ade2fbaa",
   "metadata": {},
   "source": [
    "![](img/MaqElec/schrotor.png)"
   ]
  },
  {
   "cell_type": "markdown",
   "id": "83e044ca-3d13-4bb9-aab3-3bf02c718cd9",
   "metadata": {},
   "source": [
    "Apliquem la llei de Kirchoff de les malles:\n",
    "\n",
    "$\\Large U - \\varepsilon = I \\cdot r \\Rightarrow I = \\frac{U-\\varepsilon}{r} $"
   ]
  },
  {
   "cell_type": "markdown",
   "id": "b4c40273-be3b-485e-b972-120aa1b9e3db",
   "metadata": {},
   "source": [
    "Es a dir, tindrem una potència mecànica útil $P_u = \\varepsilon \\cdot I$ i una dissipació de calor $P_q = I^2 \\cdot r$"
   ]
  },
  {
   "cell_type": "markdown",
   "id": "4ff5f701-208f-4ca6-a902-12fed062670b",
   "metadata": {},
   "source": [
    "Efectivament, dividint entre si les equacions fonamentals dels motors\n",
    "\n",
    "$ \\varepsilon = k \\cdot \\Phi \\cdot \\omega$\n",
    "\n",
    "$ \\Gamma = k \\cdot \\Phi \\cdot I$\n",
    "\n",
    "obtenim\n",
    "\n",
    "$ \\frac{\\varepsilon}{\\Gamma}  =  \\frac{\\omega }{I} \\Rightarrow \\varepsilon \\cdot I = \\Gamma \\cdot \\omega = P_u $"
   ]
  },
  {
   "cell_type": "markdown",
   "id": "3030f216-9446-4c84-9871-e0ef413398bb",
   "metadata": {},
   "source": [
    "## Inversió de gir\n",
    "\n",
    "Cal invertir la polaritat de la font d'alimentació"
   ]
  },
  {
   "cell_type": "markdown",
   "id": "180ad786-3b18-41dd-9ebb-d945b3494067",
   "metadata": {},
   "source": [
    "## Comportament a l'engegada"
   ]
  },
  {
   "cell_type": "markdown",
   "id": "ebea34ff-ab89-4165-9a92-cc83f85d9e34",
   "metadata": {},
   "source": [
    "Hem de fixar-nos que en l'engegada el motor consemeix una intensitat $I_a$ molt superior:\n",
    "\n",
    "$\\varepsilon \\cdot I = \\Gamma \\cdot \\omega $\n",
    "\n",
    "$\\Large \\omega = 0 \\Rightarrow \\varepsilon = 0 \\Rightarrow I_a = \\frac{U}{r}$"
   ]
  },
  {
   "cell_type": "markdown",
   "id": "04da69e8-b4af-467d-a108-262c9e832e50",
   "metadata": {},
   "source": [
    "Per evitar això i mantenir l'intensitat d'engegada entre 1,5 i 2,5 vegades la intensitat nominal (es considera un sistema en curtcircui si el seu consum supera 3 vegades la intensitat nominal) es pot connecta una resistèncio variable $R_a$ en sèrie amb el motor, i que s'anula quan el motor ja ha engegat: "
   ]
  },
  {
   "cell_type": "markdown",
   "id": "b6e8e1d8-1c93-4a64-859f-16099764d939",
   "metadata": {},
   "source": [
    "![](img/MaqElec/schrotor2.png)"
   ]
  },
  {
   "cell_type": "markdown",
   "id": "95ff5f1f-9aae-4cf2-8b2e-d4b9fdee6635",
   "metadata": {},
   "source": [
    "A l'engegada la intensitat val:\n",
    "\n",
    "$\\Large U - \\varepsilon = I_a \\cdot (r + R_a) \\Rightarrow I_a = \\frac{U-\\varepsilon}{r + R_a} $\n",
    "\n",
    "Si anomenem $I_n$ el valor de la intensitat en condicions nominals, es pren un valor de $R_a$ tal que \n",
    "\n",
    "$I_a = \\alpha \\cdot I_n$ \n",
    "\n",
    "$1,5 \\le \\alpha \\le 2,5$\n",
    "\n"
   ]
  },
  {
   "cell_type": "markdown",
   "id": "2ddc2d8e-a26b-4d94-9110-f5cae3959608",
   "metadata": {},
   "source": [
    "Si escrivim l'equació del moment per l'engegada i les condicions nominals i les dividim:\n",
    "\n",
    "$ \\Gamma_a = k \\cdot \\Phi \\cdot I_a$\n",
    "\n",
    "$ \\Gamma_n = k \\cdot \\Phi \\cdot I_n$\n",
    "\n",
    "$\\Large \\frac{\\Gamma_a}{\\Gamma_n}  = \\frac{I_a}{I_n} \\Rightarrow  \\Gamma_a = \\frac{I_a}{I_n} \\cdot \\Gamma_n = \\alpha \\cdot \\Gamma_n$\n",
    "\n",
    "Es a dir, si dupliquem la intensitat a l'engegada també dupliquem el parell"
   ]
  },
  {
   "cell_type": "markdown",
   "id": "795702bd-64e0-4420-9ce9-299f7a687c45",
   "metadata": {},
   "source": [
    "## Pèrdues a les escombretes. Potencial de contacte"
   ]
  },
  {
   "cell_type": "markdown",
   "id": "aa68e610-b2a7-4bf0-ade6-d8e29eecc81d",
   "metadata": {
    "editable": true,
    "slideshow": {
     "slide_type": ""
    },
    "tags": []
   },
   "source": [
    "De vegades no poden considerar negligibles les pèrdues a les escombretes, especialment si fem servir contactes de grafit, ja que apareix un potencial de contacte que provoca pèrdues.\n",
    "\n",
    "En aquest cas l'equació del motor s'expressa, en la forma més generalitzada:\n",
    "\n",
    "$\\Large U - \\varepsilon - 2 \\cdot V_{co}= I \\cdot (r + R_a) \\Rightarrow I = \\frac{U-\\varepsilon - 2 \\cdot V_{co}}{r + R_a} $\n",
    "\n",
    "Per simplificar les explicacions, considerarem negligibles les pèrdues a les escombretes en els següents capítols.\n"
   ]
  },
  {
   "cell_type": "markdown",
   "id": "b7ce1f1e-bd21-498d-9948-f84509a2a593",
   "metadata": {
    "editable": true,
    "slideshow": {
     "slide_type": ""
    },
    "tags": []
   },
   "source": [
    "## Corbes característiques"
   ]
  },
  {
   "cell_type": "code",
   "execution_count": 1,
   "id": "cdb705f4-f244-489a-b708-01f0d351ebc6",
   "metadata": {
    "editable": true,
    "slideshow": {
     "slide_type": ""
    },
    "tags": [
     "hide-input"
    ]
   },
   "outputs": [
    {
     "data": {
      "image/png": "[encoded data removed]",
      "text/plain": [
       "<Figure size 500x1000 with 3 Axes>"
      ]
     },
     "metadata": {},
     "output_type": "display_data"
    }
   ],
   "source": [
    "import matplotlib.pyplot as plt\n",
    "import numpy as np\n",
    "from math import pi\n",
    "Pn=250\n",
    "In=6\n",
    "En=Pn/In\n",
    "Un=48\n",
    "nn=3340\n",
    "r=(Un-En)/In\n",
    "wn=nn*2*pi/60\n",
    "kphi=En/wn\n",
    "etan=Pn/(In*Un)\n",
    "gn=kphi*In\n",
    "x = np.linspace(0.02, 3, 300)\n",
    "I = x*In\n",
    "g = kphi*I \n",
    "e = Un-I*r\n",
    "w = e/kphi\n",
    "eta=e/Un\n",
    "\n",
    "fig, axs = plt.subplots(3, 1, figsize=(5, 10), layout='constrained')\n",
    "\n",
    "axs[0].plot(I/In, w/wn)\n",
    "axs[0].axis([0, 3, 0, 1.4])\n",
    "axs[0].set_xticks([0,1], ['0','$I_n$'])\n",
    "axs[0].set_yticks([0,1], ['0','$n_n$'])\n",
    "axs[0].set_title('velocitat $n(I_i)$')\n",
    "\n",
    "axs[1].plot(I/In, g/gn)\n",
    "axs[1].axis([0, 3, 0, 3])\n",
    "axs[1].set_xticks([0,1], ['0','$I_n$'])\n",
    "axs[1].set_yticks([0,1], ['0','$\\Gamma_n$'])\n",
    "axs[1].set_title('moment $\\Gamma(I_i)$')\n",
    "\n",
    "axs[2].plot(g/gn, w/wn)\n",
    "axs[2].axis([0, 3, 0, 1.4])\n",
    "axs[2].set_yticks([0.8,1,1.2], ['90%','$n_n$','110%'])\n",
    "axs[2].set_xticks([0.5,1,2], ['50%','$\\Gamma_n$','200%'])\n",
    "axs[2].set_title('mecànica $n(\\Gamma)$')\n",
    "\n",
    "plt.show()\n"
   ]
  },
  {
   "cell_type": "markdown",
   "id": "2e5a87ad-c2d6-4989-9b16-774117a93117",
   "metadata": {
    "editable": true,
    "slideshow": {
     "slide_type": ""
    },
    "tags": []
   },
   "source": [
    "## Aplicacions\n",
    "\n",
    "Com veiem aquest motor té un bon comportment: la variació de la càrrega només modifica lleugerament la velocitat, desenvolupant un parell proporcional al corrent. L'utilització dels imants permanents a l'estator permet fer motors petits i lleugers, encara que no molt potents.\n"
   ]
  },
  {
   "cell_type": "markdown",
   "id": "9051fbd0-49db-460a-a6f3-e4c461a47e21",
   "metadata": {},
   "source": [
    "## Rendiment\n",
    "\n",
    "Aquest motor té un rendiment nominal:\n",
    "\n",
    "$$\\Large \\eta = \\frac{P_u}{P_c} = \\frac{\\varepsilon \\cdot I}{U \\cdot I} = \\frac{\\varepsilon}{U}$$"
   ]
  },
  {
   "cell_type": "code",
   "execution_count": 2,
   "id": "9e006f13-fe12-4875-b871-3c9837ad94c3",
   "metadata": {
    "editable": true,
    "slideshow": {
     "slide_type": ""
    },
    "tags": [
     "hide-input"
    ]
   },
   "outputs": [
    {
     "data": {
      "image/png": "[encoded data removed]",
      "text/plain": [
       "<Figure size 500x300 with 1 Axes>"
      ]
     },
     "metadata": {},
     "output_type": "display_data"
    }
   ],
   "source": [
    "p=I*e\n",
    "\n",
    "fig, ax = plt.subplots(1, 1, figsize=(5, 3), layout='constrained')\n",
    "\n",
    "ax.plot(p/Pn, eta/etan)\n",
    "ax.axis([0, 2.2, 0, 2])\n",
    "ax.set_xticks([0,1], ['0','$P_n$'])\n",
    "ax.set_yticks([0,1], ['0','$\\eta_n$'])\n",
    "ax.set_title('Característica rendiment v. potència útil')\n",
    "\n",
    "plt.show()"
   ]
  },
  {
   "cell_type": "markdown",
   "id": "3db71425-2179-4e28-af5b-0ae3ac4a9673",
   "metadata": {
    "editable": true,
    "slideshow": {
     "slide_type": ""
    },
    "tags": [
     "hide-input"
    ]
   },
   "source": [
    "## Exemple"
   ]
  },
  {
   "cell_type": "markdown",
   "id": "99641f91-a506-46e8-b5b8-1bd1790d3360",
   "metadata": {
    "editable": true,
    "slideshow": {
     "slide_type": ""
    },
    "tags": []
   },
   "source": [
    "**PAU ELECTROTÈCNIA 2015 S2 3B**"
   ]
  },
  {
   "cell_type": "markdown",
   "id": "a1088313-26c1-478a-854c-1fce3d5f985d",
   "metadata": {},
   "source": [
    "![](img/MaqElec/PAUEL2015S2P3B.png)"
   ]
  },
  {
   "cell_type": "markdown",
   "id": "3c02f0a4-101b-4700-b46d-14a374a86481",
   "metadata": {},
   "source": [
    "a)"
   ]
  },
  {
   "cell_type": "code",
   "execution_count": 3,
   "id": "200c6ab3-4283-4dca-aa7b-ebbb3fdc9fab",
   "metadata": {},
   "outputs": [
    {
     "data": {
      "text/plain": [
       "0.8680555555555556"
      ]
     },
     "execution_count": 3,
     "metadata": {},
     "output_type": "execute_result"
    }
   ],
   "source": [
    "P=250\n",
    "U=48\n",
    "I=6\n",
    "eta=P/(U*I)\n",
    "eta"
   ]
  },
  {
   "cell_type": "markdown",
   "id": "ee2b0132-0da5-487e-a286-7159d479749b",
   "metadata": {},
   "source": [
    "$\\eta = 86,81\\%$"
   ]
  },
  {
   "cell_type": "markdown",
   "id": "ef0b2224-f329-4bb2-b65e-c65acdac6463",
   "metadata": {},
   "source": [
    "b)"
   ]
  },
  {
   "cell_type": "code",
   "execution_count": 4,
   "id": "4eaffeda-efe2-4472-b2b7-32509e13926e",
   "metadata": {
    "editable": true,
    "slideshow": {
     "slide_type": ""
    },
    "tags": []
   },
   "outputs": [
    {
     "data": {
      "text/plain": [
       "0.714767708496536"
      ]
     },
     "execution_count": 4,
     "metadata": {},
     "output_type": "execute_result"
    }
   ],
   "source": [
    "from math import pi\n",
    "n=3340\n",
    "omega=n*2*pi/60\n",
    "gamma=P/omega\n",
    "gamma"
   ]
  },
  {
   "cell_type": "markdown",
   "id": "fc199d8f-7912-4f43-822d-eda68778e684",
   "metadata": {},
   "source": [
    "$\\Gamma = 0,7148 Nm$"
   ]
  },
  {
   "cell_type": "markdown",
   "id": "8031da86-60d1-464f-8923-bd47ed4450a3",
   "metadata": {},
   "source": [
    "c)\n",
    "\n",
    "De les condicions nominals:\n",
    "\n",
    "$P = \\varepsilon \\cdot I \\Rightarrow \\varepsilon = \\frac{P}{I}$\n",
    "\n",
    "$U - \\varepsilon = I \\cdot r \\Rightarrow r = \\frac{ U-\\varepsilon }{I}$"
   ]
  },
  {
   "cell_type": "code",
   "execution_count": 5,
   "id": "d882e30a-7990-4364-ba47-0a03c9108101",
   "metadata": {},
   "outputs": [
    {
     "data": {
      "text/plain": [
       "1.055555555555556"
      ]
     },
     "execution_count": 5,
     "metadata": {},
     "output_type": "execute_result"
    }
   ],
   "source": [
    "epsilon=P/I\n",
    "r=(U-epsilon)/I\n",
    "r"
   ]
  },
  {
   "cell_type": "markdown",
   "id": "e5720cdf-c667-46c8-99d1-cd04f3a1428a",
   "metadata": {},
   "source": [
    "En la nova situació, com es conserva el parell nominal el motor consumira la intensitat nominal:\n",
    "\n",
    "$U_2 - \\varepsilon_2 = I \\cdot r \\Rightarrow \\varepsilon_2 = U_2 - I \\cdot r $"
   ]
  },
  {
   "cell_type": "code",
   "execution_count": 6,
   "id": "37baf11e-bbf8-429c-a852-fbf577dd5472",
   "metadata": {},
   "outputs": [
    {
     "data": {
      "text/plain": [
       "30.666666666666664"
      ]
     },
     "execution_count": 6,
     "metadata": {},
     "output_type": "execute_result"
    }
   ],
   "source": [
    "U2=37\n",
    "epsilon2=U2-I*r\n",
    "epsilon2"
   ]
  },
  {
   "cell_type": "markdown",
   "id": "0bc04282-357b-4eef-9acc-73b720b15deb",
   "metadata": {},
   "source": [
    "Si escrivim l'equació de la força contraelectromotriu per la nova situació i les condicions nominals i les dividim:\n",
    "\n",
    "$ \\varepsilon_2 = k \\cdot \\Phi \\cdot \\omega_2$\n",
    "\n",
    "$ \\varepsilon = k \\cdot \\Phi \\cdot \\omega$\n",
    "\n",
    "$\\Large \\frac{\\varepsilon_2 }{\\varepsilon } = \\frac{\\omega_2}{\\omega } = \\frac{n_2}{n}$\n",
    "\n",
    "$\\Large \\Rightarrow n_2 = \\frac{\\varepsilon_2 }{\\varepsilon } \\cdot n$"
   ]
  },
  {
   "cell_type": "code",
   "execution_count": 7,
   "id": "6db1330f-1050-4043-933f-d41d0344199f",
   "metadata": {},
   "outputs": [
    {
     "data": {
      "text/plain": [
       "2458.24"
      ]
     },
     "execution_count": 7,
     "metadata": {},
     "output_type": "execute_result"
    }
   ],
   "source": [
    "n2=epsilon2/epsilon*n\n",
    "n2"
   ]
  },
  {
   "cell_type": "markdown",
   "id": "31b5febc-00ec-45c3-8312-c5f6a78ecd4e",
   "metadata": {},
   "source": [
    "la nova velocitat serà de $2458  min^{-1}$"
   ]
  },
  {
   "cell_type": "code",
   "execution_count": null,
   "id": "bf87bab7-76ff-4bd7-836d-c8f2537a0d6c",
   "metadata": {},
   "outputs": [],
   "source": []
  }
 ],
 "metadata": {
  "kernelspec": {
   "display_name": "venvPy3",
   "language": "python",
   "name": "venvpy3"
  },
  "language_info": {
   "codemirror_mode": {
    "name": "ipython",
    "version": 3
   },
   "file_extension": ".py",
   "mimetype": "text/x-python",
   "name": "python",
   "nbconvert_exporter": "python",
   "pygments_lexer": "ipython3",
   "version": "3.10.12"
  },
  "toc": {
   "base_numbering": 0
  }
 },
 "nbformat": 4,
 "nbformat_minor": 5
}
