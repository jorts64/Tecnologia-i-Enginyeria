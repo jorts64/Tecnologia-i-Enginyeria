{
 "cells": [
  {
   "cell_type": "markdown",
   "metadata": {},
   "source": [
    "# Energia cinètica"
   ]
  },
  {
   "cell_type": "markdown",
   "metadata": {},
   "source": [
    "Quan un cos en moviment impacta amb un altre i ambdós queden en repòs s'allibera calor equivalent a l'energia del moviment. Si mai heu rebut una bufetada no tindreu cap dubte al respecte.\n",
    "\n",
    "Aquesta energia cinètica depèn de la massa i de la velocitat del cos:\n",
    "\n",
    "$E_c=\\frac{1}{2} m v^2$\n",
    "\n",
    "Si volem obtenir aquesta energia en joules, caldrà expressar la massa en kg i la velocitat en m/s.\n",
    "\n",
    "Quan variem la velocitat d'un cos cal exercir una força sobre ell. Recordem la segona llei de Newton:\n",
    "\n",
    "$\\Large  \\overrightarrow{F}=\\frac{\\Delta \\overrightarrow{p}}{\\Delta t} = \\frac{\\Delta (m \\overrightarrow{v})}{\\Delta t} = \\frac{\\Delta m}{\\Delta t} \\overrightarrow{v} + m \\frac{\\Delta \\overrightarrow{v}}{\\Delta t} = \\dot{m} \\overrightarrow{v} + m \\overrightarrow{a} $\n",
    "\n",
    "si suposem la massa constant $\\dot{m} = 0$:\n",
    "\n",
    "$\\overrightarrow{F} = m \\overrightarrow{a}  $\n",
    "\n",
    "que és la versió simplificada (i restringida) de la segona llei de Newton que Eüler va proposar un segle després{cite}`FisBas1` i que tan popular s'ha fet a les escoles, oblidant la seva formulació original i les seves implicacions.  Sense la dependència en la variació de massa de l'expressió original és impossible justificar, per exemple, per què un globus de goma inflat surt disparat quan desfem el nus i es desinfla, ja que cap força actua sobre el globus que no hi fos quan el tenien tancat amb el nus.\n",
    "\n",
    "Com ja hem avançat anteriorment , en el cas del desplaçament d'un cos sobre el que actua una força el treball desenvolupat és\n",
    "\n",
    "$W =  \\overrightarrow{F} \\cdot \\overrightarrow{d} \\equiv F \\ d  \\ cos\\alpha $\n",
    "\n",
    "essent $\\alpha$ l'angle que formen els vectors $\\overrightarrow{F}$ i $\\overrightarrow{d}$: com més paral·lels són aquests vectors, més gran és el treball realitzat (i, per tant, l'energia transferida), sent nul si són vectors perpendiculars."
   ]
  },
  {
   "cell_type": "markdown",
   "metadata": {},
   "source": [
    "## Exemple: xoc inelàstic"
   ]
  },
  {
   "cell_type": "markdown",
   "metadata": {},
   "source": [
    ">Dos cotxes amb massa m= 1000 kg circulen a 60 km/h i xoquen frontalment, quedant aturats. Calculeu   \n",
    " a) L'energia alliberada en forma de calor per a cada cotxe.   \n",
    " b) Els temps de frenada si els frens a cada cotxe exerceixen una força constant F = 4 kN   \n",
    " c) L'espai recorregut en aquesta frenada   \n",
    " d) Repetiu els apartats anteriors si la velocitat fos el doble (120 km/h) "
   ]
  },
  {
   "cell_type": "markdown",
   "metadata": {},
   "source": [
    "### Solució"
   ]
  },
  {
   "cell_type": "markdown",
   "metadata": {},
   "source": [
    "Veiem que podem fer amb el que sabem de teoria. \n",
    "\n",
    "A l'apartat *(a)* es tracta d'un xoc inelàstic amb velocitat final = 0 m/s on tota l'energia cinètica es dissipa en forma de calor:\n",
    "\n",
    "$Q = \\Delta E = Ec(v=v0)$   \n",
    "\n",
    "$Ec = \\frac{1}{2} \\cdot m \\cdot v^{2}$\n",
    "\n",
    "A l'apartat *(b)* tenim un M.U.A. amb acceleració negativa que acaba al repòs:\n",
    "\n",
    "$F = m \\cdot a \\Rightarrow  a = \\frac{F}{m}$\n",
    "\n",
    "$v = v_{0} + a \\cdot t$\n",
    "\n",
    "$\\Delta r = v_{0} \\cdot t + \\frac{1}{2}\\cdot a \\cdot t^{2}$\n",
    "\n",
    "Per tant, sembla que introduïnt les dades a les fòrmules tenim resolt el nostre problema\n",
    "\n",
    "Anem a la pràctica ..."
   ]
  },
  {
   "cell_type": "markdown",
   "metadata": {},
   "source": [
    "#### Treballant amb unitats a python. La llibreria *pint*"
   ]
  },
  {
   "cell_type": "markdown",
   "metadata": {},
   "source": [
    "La llibreria *pint* ens permet treballar amb unitats, fer conversions i donar més rigor als càlculs   \n",
    "Teniu un bon tutorial a https://pint.readthedocs.io/en/0.13/tutorial.html"
   ]
  },
  {
   "cell_type": "code",
   "execution_count": 1,
   "metadata": {},
   "outputs": [],
   "source": [
    "from pint import UnitRegistry\n",
    "ureg = UnitRegistry()\n",
    "m = 1000 * ureg.kg\n",
    "v0 = 60 * ureg.km / ureg.hour"
   ]
  },
  {
   "cell_type": "markdown",
   "metadata": {},
   "source": [
    "El primer pas seria tenir les dades en Sistema Internacional. Fixeu-vos que la llibreria *pint* s'encarrega d'això.   \n",
    "Si bé v0 el tenim en $\\frac{km}{h}$"
   ]
  },
  {
   "cell_type": "code",
   "execution_count": 2,
   "metadata": {},
   "outputs": [
    {
     "data": {
      "text/html": [
       "60.0 kilometer/hour"
      ],
      "text/latex": [
       "$60.0\\ \\frac{\\mathrm{kilometer}}{\\mathrm{hour}}$"
      ],
      "text/plain": [
       "60.0 <Unit('kilometer / hour')>"
      ]
     },
     "execution_count": 2,
     "metadata": {},
     "output_type": "execute_result"
    }
   ],
   "source": [
    "v0"
   ]
  },
  {
   "cell_type": "markdown",
   "metadata": {},
   "source": [
    "Sempre podem convertir una dada al Sistema Internacional amb `.ito_base_units()`"
   ]
  },
  {
   "cell_type": "code",
   "execution_count": 3,
   "metadata": {},
   "outputs": [
    {
     "data": {
      "text/html": [
       "16.666666666666668 meter/second"
      ],
      "text/latex": [
       "$16.666666666666668\\ \\frac{\\mathrm{meter}}{\\mathrm{second}}$"
      ],
      "text/plain": [
       "16.666666666666668 <Unit('meter / second')>"
      ]
     },
     "execution_count": 3,
     "metadata": {},
     "output_type": "execute_result"
    }
   ],
   "source": [
    "v0.ito_base_units()\n",
    "v0"
   ]
  },
  {
   "cell_type": "markdown",
   "metadata": {},
   "source": [
    "Podem millorar l'expressió gestionan el format de sortida:"
   ]
  },
  {
   "cell_type": "code",
   "execution_count": 4,
   "metadata": {
    "scrolled": true
   },
   "outputs": [
    {
     "data": {
      "text/plain": [
       "'Velocitat inicial en S.I: 16.666666666666668 m/s'"
      ]
     },
     "execution_count": 4,
     "metadata": {},
     "output_type": "execute_result"
    }
   ],
   "source": [
    "'Velocitat inicial en S.I: {:P~}'.format(v0)"
   ]
  },
  {
   "cell_type": "markdown",
   "metadata": {},
   "source": [
    "Si haguessim fet nosaltres mateixos la conversió obtindriam el mateix valor:"
   ]
  },
  {
   "cell_type": "code",
   "execution_count": 5,
   "metadata": {},
   "outputs": [
    {
     "data": {
      "text/html": [
       "16.666666666666668 meter/second"
      ],
      "text/latex": [
       "$16.666666666666668\\ \\frac{\\mathrm{meter}}{\\mathrm{second}}$"
      ],
      "text/plain": [
       "16.666666666666668 <Unit('meter / second')>"
      ]
     },
     "execution_count": 5,
     "metadata": {},
     "output_type": "execute_result"
    }
   ],
   "source": [
    "v0 = 60 * ureg.km / ureg.hour\n",
    "v0 = v0 * 1000 * ureg.m / ureg.km * ureg.hour / (3600 * ureg.s)\n",
    "v0"
   ]
  },
  {
   "cell_type": "markdown",
   "metadata": {},
   "source": [
    "Encara que de vegades haurem de forçar la simplificació d'uniotats amb `ito_reduced_units()` (veure https://pint.readthedocs.io/en/0.13/tutorial.html#converting-quantities)"
   ]
  },
  {
   "cell_type": "code",
   "execution_count": 6,
   "metadata": {},
   "outputs": [
    {
     "name": "stdout",
     "output_type": "stream",
     "text": [
      "14.0 cubic_centimeter * gram / centimeter ** 3\n"
     ]
    }
   ],
   "source": [
    "density = 1.4 * ureg.gram / ureg.cm**3\n",
    "volume = 10*ureg.cc\n",
    "mass = density*volume\n",
    "print(mass)"
   ]
  },
  {
   "cell_type": "code",
   "execution_count": 7,
   "metadata": {},
   "outputs": [
    {
     "data": {
      "text/html": [
       "14.0 gram"
      ],
      "text/latex": [
       "$14.0\\ \\mathrm{gram}$"
      ],
      "text/plain": [
       "14.0 <Unit('gram')>"
      ]
     },
     "execution_count": 7,
     "metadata": {},
     "output_type": "execute_result"
    }
   ],
   "source": [
    "mass.ito_reduced_units()\n",
    "mass"
   ]
  },
  {
   "cell_type": "markdown",
   "metadata": {},
   "source": [
    "Ara que sabem com treballar amb unitats a python ens podrem dedicar a resoldre el nostre problema"
   ]
  },
  {
   "cell_type": "markdown",
   "metadata": {},
   "source": [
    "#### a) L'energia alliberada en forma de calor per a cada cotxe.  "
   ]
  },
  {
   "cell_type": "markdown",
   "metadata": {},
   "source": [
    "Ara ja podem calcular la energia cinética de cada cotxe $Ec=\\frac{1}{2}\\cdot m\\cdot v^{2}$"
   ]
  },
  {
   "cell_type": "code",
   "execution_count": 8,
   "metadata": {},
   "outputs": [
    {
     "data": {
      "text/html": [
       "138888.8888888889 kilogram meter<sup>2</sup>/second<sup>2</sup>"
      ],
      "text/latex": [
       "$138888.8888888889\\ \\frac{\\mathrm{kilogram} \\cdot \\mathrm{meter}^{2}}{\\mathrm{second}^{2}}$"
      ],
      "text/plain": [
       "138888.8888888889 <Unit('kilogram * meter ** 2 / second ** 2')>"
      ]
     },
     "execution_count": 8,
     "metadata": {},
     "output_type": "execute_result"
    }
   ],
   "source": [
    "Ec=1/2*m*v0**2\n",
    "Ec"
   ]
  },
  {
   "cell_type": "markdown",
   "metadata": {},
   "source": [
    "Naturalment l'energia es mesura en J. Podem fer el canvi amb `.ito(ureg.J)`"
   ]
  },
  {
   "cell_type": "code",
   "execution_count": 9,
   "metadata": {},
   "outputs": [
    {
     "data": {
      "text/html": [
       "138888.8888888889 joule"
      ],
      "text/latex": [
       "$138888.8888888889\\ \\mathrm{joule}$"
      ],
      "text/plain": [
       "138888.8888888889 <Unit('joule')>"
      ]
     },
     "execution_count": 9,
     "metadata": {},
     "output_type": "execute_result"
    }
   ],
   "source": [
    "Ec.ito(ureg.J)\n",
    "Ec"
   ]
  },
  {
   "cell_type": "markdown",
   "metadata": {},
   "source": [
    "I tenir-la amb un múltiple adient. *pint* ho pot fer amb `.to_compact`"
   ]
  },
  {
   "cell_type": "code",
   "execution_count": 10,
   "metadata": {},
   "outputs": [
    {
     "name": "stdout",
     "output_type": "stream",
     "text": [
      "138.8888888888889 kilojoule\n"
     ]
    }
   ],
   "source": [
    "print (Ec.to_compact())"
   ]
  },
  {
   "cell_type": "markdown",
   "metadata": {},
   "source": [
    "Que justament és alliberada en forma de calor per a cada cotxe   \n",
    "\n",
    "L'expresió correcta d'aquest resultat seria **Q = 138,8 kJ**"
   ]
  },
  {
   "cell_type": "markdown",
   "metadata": {},
   "source": [
    "#### b) Els temps de frenada si els frens a cada cotxe exerceixen una força constant F = 4 kN   "
   ]
  },
  {
   "cell_type": "markdown",
   "metadata": {},
   "source": [
    "Com la força de frenada s'oposa a la velocitat tindrà signe negatiu:"
   ]
  },
  {
   "cell_type": "code",
   "execution_count": 11,
   "metadata": {},
   "outputs": [
    {
     "data": {
      "text/html": [
       "-0.004 kilonewton/kilogram"
      ],
      "text/latex": [
       "$-0.004\\ \\frac{\\mathrm{kilonewton}}{\\mathrm{kilogram}}$"
      ],
      "text/plain": [
       "-0.004 <Unit('kilonewton / kilogram')>"
      ]
     },
     "execution_count": 11,
     "metadata": {},
     "output_type": "execute_result"
    }
   ],
   "source": [
    "F =  -4 * ureg.kN\n",
    "a = F / m\n",
    "a"
   ]
  },
  {
   "cell_type": "markdown",
   "metadata": {},
   "source": [
    "Ho arreglem amb `.ito_base_units()`"
   ]
  },
  {
   "cell_type": "code",
   "execution_count": 12,
   "metadata": {},
   "outputs": [
    {
     "data": {
      "text/html": [
       "-4.0 meter/second<sup>2</sup>"
      ],
      "text/latex": [
       "$-4.0\\ \\frac{\\mathrm{meter}}{\\mathrm{second}^{2}}$"
      ],
      "text/plain": [
       "-4.0 <Unit('meter / second ** 2')>"
      ]
     },
     "execution_count": 12,
     "metadata": {},
     "output_type": "execute_result"
    }
   ],
   "source": [
    "a.ito_base_units()\n",
    "a"
   ]
  },
  {
   "cell_type": "code",
   "execution_count": 13,
   "metadata": {},
   "outputs": [
    {
     "data": {
      "text/html": [
       "4.166666666666667 second"
      ],
      "text/latex": [
       "$4.166666666666667\\ \\mathrm{second}$"
      ],
      "text/plain": [
       "4.166666666666667 <Unit('second')>"
      ]
     },
     "execution_count": 13,
     "metadata": {},
     "output_type": "execute_result"
    }
   ],
   "source": [
    "t = (0 * ureg.m / ureg.s - v0) / a\n",
    "t"
   ]
  },
  {
   "cell_type": "markdown",
   "metadata": {},
   "source": [
    "Per tant tindrem un tems de frenada **t = 4,167 s** "
   ]
  },
  {
   "cell_type": "markdown",
   "metadata": {},
   "source": [
    "#### c) L'espai recorregut en aquesta frenada   "
   ]
  },
  {
   "cell_type": "code",
   "execution_count": 14,
   "metadata": {},
   "outputs": [
    {
     "data": {
      "text/html": [
       "34.72222222222223 meter"
      ],
      "text/latex": [
       "$34.72222222222223\\ \\mathrm{meter}$"
      ],
      "text/plain": [
       "34.72222222222223 <Unit('meter')>"
      ]
     },
     "execution_count": 14,
     "metadata": {},
     "output_type": "execute_result"
    }
   ],
   "source": [
    "r = v0 * t + 1 / 2 * a *t**2\n",
    "r"
   ]
  },
  {
   "cell_type": "markdown",
   "metadata": {},
   "source": [
    "Es a dir, l'espai recorregut en aquesta frenada derà de **r = 34,72 m**"
   ]
  },
  {
   "cell_type": "markdown",
   "metadata": {},
   "source": [
    "#### d) Repetiu els apartats anteriors si la velocitat fos el doble (120 km/h) "
   ]
  },
  {
   "cell_type": "markdown",
   "metadata": {},
   "source": [
    "Podem repetir les fòrmules, canviant el valor inicial de v0:"
   ]
  },
  {
   "cell_type": "code",
   "execution_count": 15,
   "metadata": {},
   "outputs": [
    {
     "data": {
      "text/html": [
       "33.333333333333336 meter/second"
      ],
      "text/latex": [
       "$33.333333333333336\\ \\frac{\\mathrm{meter}}{\\mathrm{second}}$"
      ],
      "text/plain": [
       "33.333333333333336 <Unit('meter / second')>"
      ]
     },
     "execution_count": 15,
     "metadata": {},
     "output_type": "execute_result"
    }
   ],
   "source": [
    "v0 = 120 * ureg.km / ureg.hour\n",
    "v0.ito_base_units()\n",
    "v0"
   ]
  },
  {
   "cell_type": "code",
   "execution_count": 16,
   "metadata": {},
   "outputs": [
    {
     "name": "stdout",
     "output_type": "stream",
     "text": [
      "555.5555555555557 kilojoule\n"
     ]
    }
   ],
   "source": [
    "Ec=1/2*m*v0**2\n",
    "Ec.ito(ureg.J)\n",
    "print (Ec.to_compact())"
   ]
  },
  {
   "cell_type": "markdown",
   "metadata": {},
   "source": [
    "**a) Q' = 555,6 kJ**"
   ]
  },
  {
   "cell_type": "code",
   "execution_count": 17,
   "metadata": {},
   "outputs": [
    {
     "data": {
      "text/html": [
       "8.333333333333334 second"
      ],
      "text/latex": [
       "$8.333333333333334\\ \\mathrm{second}$"
      ],
      "text/plain": [
       "8.333333333333334 <Unit('second')>"
      ]
     },
     "execution_count": 17,
     "metadata": {},
     "output_type": "execute_result"
    }
   ],
   "source": [
    "t = (0 * ureg.m / ureg.s - v0) / a\n",
    "t"
   ]
  },
  {
   "cell_type": "markdown",
   "metadata": {},
   "source": [
    "**b) t' = 8,333 s**"
   ]
  },
  {
   "cell_type": "code",
   "execution_count": 18,
   "metadata": {},
   "outputs": [
    {
     "data": {
      "text/html": [
       "138.8888888888889 meter"
      ],
      "text/latex": [
       "$138.8888888888889\\ \\mathrm{meter}$"
      ],
      "text/plain": [
       "138.8888888888889 <Unit('meter')>"
      ]
     },
     "execution_count": 18,
     "metadata": {},
     "output_type": "execute_result"
    }
   ],
   "source": [
    "r = v0 * t + 1 / 2 * a *t**2\n",
    "r"
   ]
  },
  {
   "cell_type": "markdown",
   "metadata": {},
   "source": [
    "**c) r = 138,9 m**"
   ]
  },
  {
   "cell_type": "markdown",
   "metadata": {},
   "source": [
    "### Conclusions"
   ]
  },
  {
   "cell_type": "markdown",
   "metadata": {},
   "source": [
    "Comparem resultats:\n",
    "\n",
    "<table>\n",
    "<tbody>\n",
    "<tr><td>v0</td><td>Q</td><td>t</td><td>r</td></tr>\n",
    "<tr><td>60 km/h</td><td>138,8 kJ</td><td>4,167 s</td><td>34,72 m</td></tr>\n",
    "<tr><td>120 km/h</td><td>555,8 kJ</td><td>8,333 s</td><td>138,9 m</td></tr>\n",
    "</tbody>\n",
    "</table>\n"
   ]
  },
  {
   "cell_type": "markdown",
   "metadata": {},
   "source": [
    "Si bé el temps s'ha duplicat com la velocitat inicial, la calor dissipada i la distància recorreguda s'han multiplicat per 4. Això és degut a la depèndencia quadràtica de **Q** i **r** amb la velocitat inicial. El temps **t**, en canvi, té una dependència linial amb **v0**\n",
    "\n",
    "Veiem gràficament aquestes dependències:"
   ]
  },
  {
   "cell_type": "code",
   "execution_count": 20,
   "metadata": {},
   "outputs": [
    {
     "data": {
      "image/png": "[encoded data removed]",
      "text/plain": [
       "<Figure size 640x480 with 1 Axes>"
      ]
     },
     "metadata": {},
     "output_type": "display_data"
    }
   ],
   "source": [
    "%matplotlib inline\n",
    "import matplotlib.pyplot as plt\n",
    "import numpy as np\n",
    "plt.style.use('bmh')\n",
    "fig = plt.figure()\n",
    "ax = plt.axes()\n",
    "x = np.linspace(0, 50, 1000)\n",
    "ax.plot(x, 1 / 2 * x * x);\n",
    "plt.title(\"Calor dissipada a cada cotxe\")\n",
    "plt.xlabel(\"v [m/s]\")\n",
    "plt.ylabel(\"Q [kJ]\");"
   ]
  },
  {
   "cell_type": "code",
   "execution_count": 21,
   "metadata": {},
   "outputs": [
    {
     "data": {
      "image/png": "[encoded data removed]",
      "text/plain": [
       "<Figure size 640x480 with 1 Axes>"
      ]
     },
     "metadata": {},
     "output_type": "display_data"
    }
   ],
   "source": [
    "fig = plt.figure()\n",
    "ax = plt.axes()\n",
    "x = np.linspace(0, 50, 1000)\n",
    "ax.plot(x, x / 4);\n",
    "plt.title(\"Temps de frenada\")\n",
    "plt.xlabel(\"v [m/s]\")\n",
    "plt.ylabel(\"t [s]\");"
   ]
  },
  {
   "cell_type": "markdown",
   "metadata": {},
   "source": [
    "Com imagineu, la gràfica de l'espai recorregut a la frenada és més difícil de fer, ja que depén de **v0** i de **t**, que també depèn de **v0**. Però no per això aquesta dependència **quadràtica** és menys important, com sabreu tots els que estudieu per treure's el carnet de conduir!"
   ]
  },
  {
   "cell_type": "markdown",
   "metadata": {},
   "source": [
    "$v = v_{0} + a \\cdot t = 0 \\Rightarrow t = - \\frac{v_{0}}{a} $\n",
    "\n",
    "$\\Delta r = v_{0} \\cdot t + \\frac{1}{2}\\cdot a \\cdot t^{2}$\n",
    "\n",
    "$\\Delta r = v_{0} \\cdot (- \\frac{v_{0}}{a}) + \\frac{1}{2}\\cdot a \\cdot {(- \\frac{v_{0}}{a})^{2}}$\n",
    "\n",
    "$\\Delta r = - \\frac{(v_{0})^{2}}{a} + \\frac{1}{2}\\cdot \\frac{(v_{0})^{2}}{a} = \\frac{1}{2} \\frac{(v_{0})^{2}}{a}$"
   ]
  },
  {
   "cell_type": "code",
   "execution_count": 22,
   "metadata": {},
   "outputs": [
    {
     "data": {
      "image/png": "[encoded data removed]",
      "text/plain": [
       "<Figure size 640x480 with 1 Axes>"
      ]
     },
     "metadata": {},
     "output_type": "display_data"
    }
   ],
   "source": [
    "fig = plt.figure()\n",
    "ax = plt.axes()\n",
    "x = np.linspace(0, 50, 1000)\n",
    "ax.plot(x, 1 / 2 * x * x / 4);\n",
    "plt.title(\"Recorregut de frenada\")\n",
    "plt.xlabel(\"v [m/s]\")\n",
    "plt.ylabel(\"r [m]\");"
   ]
  },
  {
   "cell_type": "markdown",
   "metadata": {},
   "source": [
    "Representem la mateixa corba posant la velocitat en $\\frac{km}{h}$"
   ]
  },
  {
   "cell_type": "code",
   "execution_count": 23,
   "metadata": {},
   "outputs": [
    {
     "data": {
      "image/png": "[encoded data removed]",
      "text/plain": [
       "<Figure size 640x480 with 1 Axes>"
      ]
     },
     "metadata": {},
     "output_type": "display_data"
    }
   ],
   "source": [
    "fig = plt.figure()\n",
    "ax = plt.axes()\n",
    "x = np.linspace(0, 50, 1000)\n",
    "ax.plot(x * 3.6, 1 / 2 * x * x / 4);\n",
    "plt.title(\"Recorregut de frenada\")\n",
    "plt.xlabel(\"v [km/h]\")\n",
    "plt.ylabel(\"r [m]\");"
   ]
  },
  {
   "cell_type": "markdown",
   "metadata": {},
   "source": [
    "Com veieu per a una acceleració de - 4 $\\frac{m}{s}$ es compleix la regla de dividir per 10 i elevar al quadrat la velocitat en $\\frac{km}{h}$ per obtenir la distància de seguretat en $m$. Aquesta acceleració correspon a **0,4g** , valor raonable en un cas real."
   ]
  },
  {
   "cell_type": "markdown",
   "metadata": {},
   "source": [
    "En aquest exemple es manifesta la dependència quadràtica de l'energia cinètica amb la velocitat i el seu efecte en la frenada: duplicant la velocitat inicial l'energia cinètica (i conseqüentment la calor alliberada) és multiplica per 4. El mateix passa amb la distància de frenada, com sabreu els que teniu carnet de conduir o esteu estudiant per treure'l.\n",
    "\n",
    "Pot sorprendre  el valor de la calor alliberada comparat amb l'obtingut a l'exemple de l'estufa quan parlàvem de la potència. Penseu que la violència del xoc depèn tant de l'energia alliberada com del temps en que s'allibera. En el cas del xoc aquesta energia s'allibera en menys d'un segon, corresponent a una potència de l'ordre dels MW. \n"
   ]
  },
  {
   "cell_type": "markdown",
   "metadata": {},
   "source": [
    "## Principi de conservació del moment. Xocs. Explosions.\n",
    "El producte  present a la segona llei de Newton es denomina quantitat de moviment o moment lineal del cos. Aquesta magnitud va ser estudiada per Descartes mig segle abans de Newton, i que va formular el principi de conservació de la quantitat de moviment a la seva obra El Món (1633).\n",
    "\n",
    "A partir de la 2a llei de Newton:\n",
    "\n",
    "$\\Large \\overrightarrow{F} = \\frac{\\Delta \\overrightarrow{p}}{\\Delta t} \\Rightarrow \\Delta \\overrightarrow{p} = \\overrightarrow{F} \\cdot \\Delta t$\n",
    "\n",
    "El producte $\\overrightarrow{F} \\cdot \\Delta t$   s'anomena **impuls**. En absència de forces externes, el moment és constant, donant lloc al que s'anomena *principi de conservació del moment lineal*, molt útil per resoldre problemes de xocs entre cossos (de fet, Descartes va deduir aquesta llei després de les seves observacions com a jugador de billar, joc  de moda a la França d'aquella època).\n",
    "\n",
    "Si l'energia cinètica és conserva, parlem de *xoc elàstics*. En cas contrari, parlem de *xocs inelàstics*, on tot o part de l'energia es transforma en calor i deformacions. Si tota l'energia cinètica es perd i els dos cossos es fusionen en un sol degut a les deformacions, el problema té fàcil solució.\n"
   ]
  },
  {
   "cell_type": "markdown",
   "metadata": {},
   "source": [
    "### Exemple: xoc inelàstic\n",
    "\n",
    ">A una pista de gel un patinador de 50 kg en repòs rep un impacte a curta distància de una bola de pintura de 3,5 g a una velocitat de 90 m/s (valors típics del torneigs de paintball, on es prohibeix disparar a menys de 3 m de distància o més en funció de les regles). Quina energia porta el projectil? Quina serà la velocitat del patinador després de l'impacte? Quanta energia cinètica és transforma en calor?\n",
    "\n",
    "Es tracta d'un xoc inelàstic, on no és conserva l'energia cinètica però si el moment lineal\n",
    "\n",
    "$E_i = \\frac{1}{2} \\ m \\ v^2 = \\frac{1}{2} \\ 0,0035 kg \\ (90 m/s)^2 = 14 J$\n",
    "\n",
    "$p_1+p_2 = p_{1+2} \\Rightarrow m_1v_1 + m_2v_2 = (m_1+m_2)v_{1+2}$\n",
    "\n",
    "$v_{1+2}=\\Large \\frac{m_1v_1+m_2v_2}{m_1+m_2} = \\frac{0,0035 kg \\cdot 90 \\ m/s+50 kg \\cdot 0\\ m/s}{50,0035 kg} = 6,3 mm/s$\n",
    "\n",
    "La velocitat final és molt petita i, malgrat la massa del conjunt, podem menysprear l'energia cinètica final\n",
    "\n",
    "$E_f = \\frac{1}{2} \\ m \\ v^2 = \\frac{1}{2} \\ 50,0035 kg  \\ (0,0063 m/s)^2 = 0,99 mJ$\n",
    "\n",
    "que no afecta significativament al càlcul de la calor dissipada:\n",
    "\n",
    "$Q=E_i-E_f= 14J - 0,99 mJ = 13,911 J \\simeq 14J$\n",
    "\n",
    "A l'exemple anterior tornem a haver de matisar: si bé l'energia de la bola no és tan alta (té una massa molt petita), el fet de que l'impacte sigui molt localitzat (tenen un diàmetre de 18 mm) i en molt poc temps (porten una velocitat inicial propera als 300 km/h) obliguen a fixar unes distàncies mínimes, amb les que encara podem produir hematomes seriosos malgrat les proteccions dels participants.\n",
    "\n",
    "Us pot semblar que la velocitat final sigui molt petita, però és apreciable (equivalent a un desplaçament d'uns dos palms després d'un minut), i sorprèn donada la diferència de masses entre el projectil i el patinador. Imagineu-vos una bala de veritat, amb una massa superior i velocitats entre els 300 i 1200 m/s: el Schwarzenegger no s'hauria de moure amb tanta llibertat quan li crivellen al cinema."
   ]
  },
  {
   "cell_type": "markdown",
   "metadata": {},
   "source": [
    "### Exemple: xoc elàstic\n",
    ">En un joc de hoquei taula un jugador deixa anar la seva maça de 150 g que dona un cop a 0,6 m/s contra el disc de 39 g que anava a 1,6  m/s en sentit contrari. Calcula las velocitats finals de la maça i del disc.\n"
   ]
  },
  {
   "cell_type": "markdown",
   "metadata": {},
   "source": [
    "#### Solució\n",
    "\n",
    "Es tracta d'un xoc elàstic, on és compleix la conservació de l'energia cinètica, a més a més de la conservació del moment. Encara que, en general, aquest tipus de problema l'hauríem de plantejar vectorialment, com les velocitats són oposades el podem escriure de forma escalar:"
   ]
  },
  {
   "cell_type": "markdown",
   "metadata": {},
   "source": [
    "$$\n",
    "\\frac{1}{2}\\cdot m_{1} \\cdot v_{1i}^{2} + \\frac{1}{2}\\cdot m_{2} \\cdot v_{2i}^{2} = \\frac{1}{2}\\cdot m_{1} \\cdot v_{1f}^{2} + \\frac{1}{2}\\cdot m_{2} \\cdot v_{1f}^{2} \\\\\n",
    "m_{1} \\cdot v_{1i} + m_{2} \\cdot v_{2i} = m_{1} \\cdot v_{1f} + m_{2} \\cdot v_{2f}\n",
    "$$\n"
   ]
  },
  {
   "cell_type": "markdown",
   "metadata": {},
   "source": [
    "posem les dades en unitats S.I., encara que ometrem les unitats per simplificar la feina:"
   ]
  },
  {
   "cell_type": "markdown",
   "metadata": {},
   "source": [
    "$$\n",
    "\\frac{1}{2}\\cdot 0,15 \\cdot 0,6^{2} + \\frac{1}{2}\\cdot 0,039 \\cdot 1,6^{2} = \\frac{1}{2}\\cdot 0,15 \\cdot v_{1f}^{2} + \\frac{1}{2}\\cdot 0,039 \\cdot v_{1f}^{2} \\\\\n",
    "0,15 \\cdot 0,6 + 0,039 \\cdot 1,6 = 0,15 \\cdot v_{1f} + 0,039 \\cdot v_{2f}\n",
    "$$"
   ]
  },
  {
   "cell_type": "markdown",
   "metadata": {},
   "source": [
    "Es tracta d'un sistema **no linial** de 2 equacions amb 2 incògnites. \n",
    "\n",
    "Podem calcular el primer membre de cada equació, ja que coneixem les condicions inicials:"
   ]
  },
  {
   "cell_type": "code",
   "execution_count": 1,
   "metadata": {},
   "outputs": [
    {
     "data": {
      "text/plain": [
       "0.07692000000000002"
      ]
     },
     "execution_count": 1,
     "metadata": {},
     "output_type": "execute_result"
    }
   ],
   "source": [
    "1/2*0.15*0.6**2+1/2*0.039*1.6**2"
   ]
  },
  {
   "cell_type": "code",
   "execution_count": 2,
   "metadata": {},
   "outputs": [
    {
     "data": {
      "text/plain": [
       "0.1524"
      ]
     },
     "execution_count": 2,
     "metadata": {},
     "output_type": "execute_result"
    }
   ],
   "source": [
    "0.15*0.6+0.039*1.6"
   ]
  },
  {
   "cell_type": "markdown",
   "metadata": {},
   "source": [
    "Per resoldre aquest sistema podem utilitzar el paquet de calcul simbòlic *sympy*"
   ]
  },
  {
   "cell_type": "code",
   "execution_count": 3,
   "metadata": {},
   "outputs": [
    {
     "data": {
      "text/plain": [
       "[(0.600000000000000, 1.60000000000000), (1.01269841269841, 0.0126984126984127)]"
      ]
     },
     "execution_count": 3,
     "metadata": {},
     "output_type": "execute_result"
    }
   ],
   "source": [
    "from sympy import *\n",
    "x, y = symbols(\"x y\")\n",
    "\n",
    "solve([Eq(0.15/2*x**2+0.039/2*y**2, 0.07692), Eq(0.15*x+0.039*y, 0.1524)],[x,y])"
   ]
  },
  {
   "cell_type": "markdown",
   "metadata": {},
   "source": [
    "#### Conclusions\n",
    "\n",
    "Fixeu-vos que el sistema admet dues solucions:\n",
    "\n",
    "Aquesta solució correspon a abans del xoc:\n",
    "$\n",
    " \\left\\{ \\begin{array}{cl}\n",
    "v_{1}=0,6  \\\\\n",
    " v_{2}=1,6\n",
    "\\end{array} \\right.\n",
    "$\n",
    "\n",
    "Aquesta solució correspon a després del xoc:\n",
    "$\n",
    " \\left\\{ \\begin{array}{cl}\n",
    "v_{1}=1,0127  \\\\\n",
    " v_{2}=0,0127\n",
    "\\end{array} \\right.\n",
    "$"
   ]
  },
  {
   "cell_type": "markdown",
   "metadata": {},
   "source": [
    "#### Potència de *sympy*\n",
    "\n",
    "L'ajut de la llibreria *sympy* és en aquest cas espectacular. Sense ella hauríem de resoldre a ma el sistema, operació extremadament pesada ja que es tracta d'un sistema no linial. La millor forma de resoldre aquests sistemes és el mètode de substitució:"
   ]
  },
  {
   "cell_type": "markdown",
   "metadata": {},
   "source": [
    "Aïllem $v_{2f}$ a l'equació de conservació del moment:\n",
    "\n",
    "$$\n",
    "0,1524 = 0,15 \\cdot v_{1f} + 0,039 \\cdot v_{2f} \\Rightarrow v_{2f} = \\frac{0,1524 - 0,15 \\cdot v_{1f}}{0,039} \\\\\n",
    "0,07692 = 0,075 \\cdot v_{1f}^{2} + 0,0195 \\cdot v_{1f}^{2}\n",
    "$$\n",
    "\n",
    "i substituim la seva expressió a l'equació de conservació de l'energia:\n",
    "\n",
    "$$\n",
    "0,07692 = \\frac{1}{2}\\cdot 0,15 \\cdot v_{1f}^{2} + \\frac{1}{2}\\cdot 0,039 \\cdot v_{1f}^{2} \\Rightarrow 0,07692 = 0,075 \\cdot v_{1f}^{2} + 0,0195 \\cdot  \\left(\\frac{0,1524 - 0,15 \\cdot v_{1f}}{0,039}\\right)^2\n",
    "$$\n",
    "\n",
    "Desenvolupem el quadrat:\n",
    "\n",
    "$$\n",
    "0,07692 = 0,075 \\cdot v_{1f}^{2} + 0,0195 \\cdot  \\left( \\frac{0,1524^2 - 2 \\cdot 0,1524 \\cdot 0,15 \\cdot v_{1f} + 0,15^2 \\cdot v_{1f}^2}{0,039^2} \\right)\n",
    "$$\n",
    "\n",
    "Simplifiquem l'expressió:\n",
    "\n",
    "$$\n",
    "0,07692 = 0,075 \\cdot v_{1f}^{2} + 0,2978 - 0,5862 \\cdot v_{1f} + 0,2885 \\cdot v_{1f}^2\n",
    "$$\n",
    "\n",
    "$$\n",
    "(0,075 +0,2885) \\cdot v_{1f}^2 - 0,5862 \\cdot v_{1f}  + 0,2978 - 0,07692 =  0 \n",
    "$$\n",
    "\n",
    "Arribem a una eqüació de 2n grau:\n",
    "\n",
    "$$\n",
    "0,3635 \\cdot v_{1f}^2 - 0,5862 \\cdot v_{1f}  + 0,2209 =  0 \n",
    "$$\n",
    "\n",
    "que té com a solucions:\n",
    "\n",
    "$\n",
    "v_{1f} = \\left\\{ \\begin{array}{cl}\n",
    "1,0127  \\\\\n",
    "0,6\n",
    "\\end{array} \\right.\n",
    "$\n",
    "\n",
    "Calculem $v_{2f}$ a partir de $v_{1f}$. Ems dona, respectivament,\n",
    "\n",
    "$\n",
    "v_{2f} = \\left\\{ \\begin{array}{cl}\n",
    "0,0127  \\\\\n",
    "1,6\n",
    "\\end{array} \\right.\n",
    "$\n"
   ]
  },
  {
   "cell_type": "markdown",
   "metadata": {},
   "source": [
    "Aquest darrer exemple mostra com de pesat pot arribar a ser un càlcul. Imagineu-vos si en lloc de xocar frontalment ho haguessin fet amb un cert angle... Sort dels ordinadors d'avui en dia!"
   ]
  },
  {
   "cell_type": "markdown",
   "metadata": {},
   "source": [
    "### Exemple: conjunt que es separa\n",
    ">El SAFER és un modul de propulsió que porten els astronautes pels passeigs extravehiculars (EVA). Aquest sistema porta 1,4 kg de N2 a alta pressió i s'allibera per qualsevol dels 24 conductes de que disposa el sistema, permetent una variació màxima en la velocitat de 3,05 m/s.\n",
    ">\n",
    ">Suposem que un astronauta amb el seu equip EVA en repòs amb una massa de 200 kg allibera N2 que surt a 400 m/s fins que l'astronauta aconsegueix una velocitat de 1 m/s. Quina quantitat de gas ha sortit?\n",
    "\n",
    "Es compleix la conservació del moment, que inicialment es 0. Per tant, el moment del gas sortint ha de ser igual a la que agafa l'astronauta:\n",
    "\n",
    "$m_1v_1=m_2v_2 \\Rightarrow m_2 = m_1 \\frac{v_1}{v_2} = 200kg \\frac{1 \\ m/s}{400 \\ m/s}=0,5 \\ kg$\n",
    "\n",
    "Aquest exemple aplicable a la resta de sistemes a reacció és molt semblant a la solució de problemes relacionats amb explosions: partim d'un objecte en repòs que es fragmenta en diferents cossos que surten disparats en diverses direccions, sense cap força externa. Utilitzant la conservació del moment lineal podem resoldre aquest tipus de problemes. \n",
    "\n",
    "![](img/Energia/astronauta.jpg)"
   ]
  },
  {
   "cell_type": "code",
   "execution_count": null,
   "metadata": {},
   "outputs": [],
   "source": []
  }
 ],
 "metadata": {
  "kernelspec": {
   "display_name": "venvPy3",
   "language": "python",
   "name": "venvpy3"
  },
  "language_info": {
   "codemirror_mode": {
    "name": "ipython",
    "version": 3
   },
   "file_extension": ".py",
   "mimetype": "text/x-python",
   "name": "python",
   "nbconvert_exporter": "python",
   "pygments_lexer": "ipython3",
   "version": "3.10.12"
  }
 },
 "nbformat": 4,
 "nbformat_minor": 4
}
