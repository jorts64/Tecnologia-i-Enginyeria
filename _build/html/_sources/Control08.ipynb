{
 "cells": [
  {
   "cell_type": "markdown",
   "id": "7df2f400-65dd-4ff5-a83c-0669f20bf51c",
   "metadata": {
    "editable": true,
    "slideshow": {
     "slide_type": ""
    },
    "tags": []
   },
   "source": [
    "# Circuits seqüencials"
   ]
  },
  {
   "cell_type": "markdown",
   "id": "e58a9bef-f1d9-44a2-b7b8-2f24ec1c9f03",
   "metadata": {
    "editable": true,
    "slideshow": {
     "slide_type": ""
    },
    "tags": []
   },
   "source": [
    "```{admonition} Pàgina en desenvolupament\n",
    "Encara estem treballant en aquest document.   \n",
    "Esperem oferir-vos properament el seu contingut.   \n",
    "Disculpeu les molèsties.\n",
    "```"
   ]
  },
  {
   "cell_type": "markdown",
   "id": "d4a8cfe0-b566-4532-b9cf-2a6fdc0cb866",
   "metadata": {
    "editable": true,
    "slideshow": {
     "slide_type": ""
    },
    "tags": []
   },
   "source": [
    "La sortida dels circuits seqüencials no només depèn de la combinació de les entrades, també depèn de la història d'aquestes entrades.\n",
    "\n",
    "Veiem un exemple:"
   ]
  },
  {
   "cell_type": "code",
   "execution_count": 1,
   "id": "670f776f-cf2a-4e47-9f8e-1a2ee299c6aa",
   "metadata": {
    "editable": true,
    "slideshow": {
     "slide_type": ""
    },
    "tags": [
     "hide-input"
    ]
   },
   "outputs": [
    {
     "data": {
      "text/html": [
       " <iframe src=\"https://www.falstad.com/circuit/circuitjs.html?ctz=CQAgjCAMB0l3BWc0FwCwCY0HYEA4cEMElURTJyBTAWjDACgwEJiA2cNygZjb08qUMUckxYh2EvP178M0kcNIMA7iFkD1fcAE5hkVVv5g9EhB0kG1G+TO2XDN82Y4n9hyW5fhsHK98lA7HcAGW9uSDQfDgioyggAFwAnAFcqcigGMM80KLBfcFyRRNT0pAMAWSNNXOMuRRQGKpsFWql+IUaAD3AEHXAMeJ0kMAxuECisEABnKgSGHrRuY2WJ5zA0CEmogEUFwuwpVkhD+SjtkCSqWfnF1Yw2DjRnB-6LXYYgA\" width=\"800\" height=\"600\"></iframe>\n"
      ],
      "text/plain": [
       "<IPython.core.display.HTML object>"
      ]
     },
     "metadata": {},
     "output_type": "display_data"
    }
   ],
   "source": [
    "%%html\n",
    " <iframe src=\"https://www.falstad.com/circuit/circuitjs.html?ctz=CQAgjCAMB0l3BWc0FwCwCY0HYEA4cEMElURTJyBTAWjDACgwEJiA2cNygZjb08qUMUckxYh2EvP178M0kcNIMA7iFkD1fcAE5hkVVv5g9EhB0kG1G+TO2XDN82Y4n9hyW5fhsHK98lA7HcAGW9uSDQfDgioyggAFwAnAFcqcigGMM80KLBfcFyRRNT0pAMAWSNNXOMuRRQGKpsFWql+IUaAD3AEHXAMeJ0kMAxuECisEABnKgSGHrRuY2WJ5zA0CEmogEUFwuwpVkhD+SjtkCSqWfnF1Yw2DjRnB-6LXYYgA\" width=\"800\" height=\"600\"></iframe>"
   ]
  },
  {
   "cell_type": "markdown",
   "id": "2efa55e5-a052-4da7-b0e2-a8a07ddb5389",
   "metadata": {
    "editable": true,
    "slideshow": {
     "slide_type": ""
    },
    "tags": []
   },
   "source": [
    "## Biestable RS\n",
    "\n",
    "Com veieu la sortida $Q$ (i el seu invers $\\overline{Q}$) canvia si per un instant les entrades set o reset prenen el valor $L$, i mantenen el canvi encara que les entrades tornen a estar a nivel $H$. Com les entrades són actives a nivell baix, s'acostumen a simbolitzar com $\\overline{R}$ i $\\overline{S}$ \n",
    "\n",
    "Aquest circuit es coneix com a biestable (o bàscula) RS, que té aquest símbol: \n",
    "\n",
    "![](img/Control/RS.svg)\n",
    "\n",
    "i aquesta és la seva taula de veritat:\n",
    "\n",
    ":::{table}\n",
    ":width: 150px\n",
    ":align: left\n",
    "\n",
    "| R | S | Q |\n",
    "| :---: | :---: | :---: |\n",
    "| 0 | 0 | Q |\n",
    "| 0 | 1 | 1 |\n",
    "| 1 | 0 | 0 |\n",
    "| 1 | 1 | no definit |\n",
    "\n",
    ":::\n",
    "\n",
    "Com veieu l'estat de la sortida no està definit per $R = S = 1$ (recordeu que reset = $\\overline{R}$ i set = $\\overline{S}$)\n"
   ]
  },
  {
   "cell_type": "markdown",
   "id": "cd096016-d930-44dd-984d-1408a84df620",
   "metadata": {
    "editable": true,
    "slideshow": {
     "slide_type": ""
    },
    "tags": []
   },
   "source": [
    "## Circuits síncrons\n",
    "\n",
    "El biestable que hem vist abans en realitat s'anomena biestable RS asíncron. \n",
    "\n",
    "En els circuits seqüencials típicament s'utilitza un senyal de rellotge (**CLK**, de lànglès *clock*) que ens indica quan s'han de llegir les entrades. Aquest senyal potser per nivell alt (les entrades són vàlides i el circuit actúa en conseqüència quan  CLK = 1), per nivell baix (entrades vàlides quan CLK = 0), per flanc de pujada (entrades vàlides quan CLK passa de 0 a 1) o per flanc de baixada (entrades vàlides quan CLK passa de 1 a 0). \n",
    "\n",
    "Aquí veieu el nostre biestable RS síncron amb CLK per nivell alt:"
   ]
  },
  {
   "cell_type": "code",
   "execution_count": 4,
   "id": "648ee56e-9132-4dd7-84ae-536fd3c3a9fd",
   "metadata": {
    "editable": true,
    "slideshow": {
     "slide_type": ""
    },
    "tags": [
     "hide-input"
    ]
   },
   "outputs": [
    {
     "data": {
      "text/html": [
       " <iframe src=\"https://www.falstad.com/circuit/circuitjs.html?ctz=CQAgjCAMB0l3BWcMBMcUHYMGZIA4UA2ATmIxAUgoqoQFMBaMMAKDAQhQUJExRGyE8vDPypiKbDr27gALHIFD5i8dQQsA7kuFgFO8Bh6QtBsEZk8Ucqie2DhfA9dumHvG5cPHTXHuatZMEJXbT8PcVlwkwBZM30FXX1xaA049ydEkQkUVKkIMBRdIq9C4TUkDXYCkqLHKLxy3nVTMoFIRWIeXFVTLvbO-2S+ocU2vV6AGXAS5n5CMcKoZYAXACcAVzpqE2m2pwXs5ap1rZ2WACUQfp7r7oR+TmQUpFykWzyAe3AkQ6o5MCQMSweBGFDEbDEOQIbCFd4guBkQjcLjLR5IbAgADOdBWLG+wRAfxAAKBUARkDBEKhMLh5PgkCRKPezUJmLWdBxeO+wmJpP48IZTMIqKoEAAivjDETVCTAQL6fBhaLWeRMQBjAA2AGsWEA\" width=\"800\" height=\"600\"></iframe>\n"
      ],
      "text/plain": [
       "<IPython.core.display.HTML object>"
      ]
     },
     "metadata": {},
     "output_type": "display_data"
    }
   ],
   "source": [
    "%%html\n",
    " <iframe src=\"https://www.falstad.com/circuit/circuitjs.html?ctz=CQAgjCAMB0l3BWcMBMcUHYMGZIA4UA2ATmIxAUgoqoQFMBaMMAKDAQhQUJExRGyE8vDPypiKbDr27gALHIFD5i8dQQsA7kuFgFO8Bh6QtBsEZk8Ucqie2DhfA9dumHvG5cPHTXHuatZMEJXbT8PcVlwkwBZM30FXX1xaA049ydEkQkUVKkIMBRdIq9C4TUkDXYCkqLHKLxy3nVTMoFIRWIeXFVTLvbO-2S+ocU2vV6AGXAS5n5CMcKoZYAXACcAVzpqE2m2pwXs5ap1rZ2WACUQfp7r7oR+TmQUpFykWzyAe3AkQ6o5MCQMSweBGFDEbDEOQIbCFd4guBkQjcLjLR5IbAgADOdBWLG+wRAfxAAKBUARkDBEKhMLh5PgkCRKPezUJmLWdBxeO+wmJpP48IZTMIqKoEAAivjDETVCTAQL6fBhaLWeRMQBjAA2AGsWEA\" width=\"800\" height=\"600\"></iframe>"
   ]
  },
  {
   "cell_type": "markdown",
   "id": "505b25a1-14cd-4791-bc3f-891a35d706b9",
   "metadata": {
    "editable": true,
    "slideshow": {
     "slide_type": ""
    },
    "tags": []
   },
   "source": [
    "La gràfica al peu del simulador és un **cronograma**: ens indica el valor de les entrades i sortides en el temps. Moltes vegades és més fàcil definir un dispositiu seqüencial amb un cronograma que no amb una taula de veritat."
   ]
  },
  {
   "cell_type": "markdown",
   "id": "9a34038d-0e3b-4e2a-9ab9-a15b1f669466",
   "metadata": {
    "editable": true,
    "slideshow": {
     "slide_type": ""
    },
    "tags": []
   },
   "source": [
    "## Biestable JK\n",
    "\n",
    "La combinació $R = S = 1$ del biestable RS no és útil al no estar definida, i pot donar problemes. Amb unes quantes portes lògiques més podem tenir un biestable semblant al RS que inverteixi el valor de la sortida. És la bàscula JK. Aquí la podeu provar (CLK per nivell alt):"
   ]
  },
  {
   "cell_type": "code",
   "execution_count": 5,
   "id": "2843655e-9083-42c2-8f61-fac29ccd45e0",
   "metadata": {
    "editable": true,
    "slideshow": {
     "slide_type": ""
    },
    "tags": [
     "hide-input"
    ]
   },
   "outputs": [
    {
     "data": {
      "text/html": [
       " <iframe src=\"https://www.falstad.com/circuit/circuitjs.html?ctz=CQAgjCAMB0l3BWcMBsBmALAJhQdgWgJwAcYKCFICkVVNCApgLRhgBQYCEGaW4GGKlmL9BNPvQ5cQPPlgQohI+YvG0EbAO4zeILFkGy9GGpC06+ZGkbC5V5hML0GlehVAdP9h3bfvbHETABVz8PAKcwo28PTgheGjAnGyc1JA04kAS9XD5o3Kg9Qo1tbODBbJVwrKxxd2y0NHtMsEJLEOEgkLVJFra3RU6Bwr508zKkvWIgybNtIdY5adFqoaq15bmp5WXKzfNWyxRE-rCtw+MTuRcttZc191vlmIuz8wW7bZWnoM+LmLMmWIiUip1SWXUbAAkiAUBUmjUaI1VFBoGMALKhEIIU7dPRotiYwLDHFyR74jQADyoYBmuCoCKS1mMIAAimxqY4kZB0mgRGhICJBoJ2aVLJNgeBZhystZ6Wh6dQZCyAFJsABKsPhil0yPARSZFKNpgJQPEBX+BSRkO0NmOFi11SMcJAkpdWzdgklSREZgAMjVhroAfqAGYAQwANgBnBi0MzUlytNBZQjgQiKQQuADS5hdepdVS2hfckqL5m9IRd5Wq1arWce4yW-LJ-kDQzL+1twZMDqavvMRn7rqRKAH2klw7LVrYAd8k10ksSIAjMbjSATIBYkAgmTTnEM4D4KuzAB0AI5wABcp+jADkAPa3gDCAAtwwA7ADmDBl293KBpkwCrgAUgiTCeF5gJAN7RgAygwAAuf7QbuxD0kwWApq0zIQWel5gLB6oMLGyHUv+eg8lutKUSI4HHvhrCwQAKg+X5fpGv4PjIQpiDI0GjKi8CQIQdgKPIIw8RCarcSB7r8ZAgkwMJonkCgElqCBKa5txOCOtYAnxrA8CqeJG76uysl8PJGCGRuxlwKZ6nmXwuogAAxpGADWbBAA\" width=\"800\" height=\"600\"></iframe>\n"
      ],
      "text/plain": [
       "<IPython.core.display.HTML object>"
      ]
     },
     "metadata": {},
     "output_type": "display_data"
    }
   ],
   "source": [
    "%%html\n",
    " <iframe src=\"https://www.falstad.com/circuit/circuitjs.html?ctz=CQAgjCAMB0l3BWcMBsBmALAJhQdgWgJwAcYKCFICkVVNCApgLRhgBQYCEGaW4GGKlmL9BNPvQ5cQPPlgQohI+YvG0EbAO4zeILFkGy9GGpC06+ZGkbC5V5hML0GlehVAdP9h3bfvbHETABVz8PAKcwo28PTgheGjAnGyc1JA04kAS9XD5o3Kg9Qo1tbODBbJVwrKxxd2y0NHtMsEJLEOEgkLVJFra3RU6Bwr508zKkvWIgybNtIdY5adFqoaq15bmp5WXKzfNWyxRE-rCtw+MTuRcttZc191vlmIuz8wW7bZWnoM+LmLMmWIiUip1SWXUbAAkiAUBUmjUaI1VFBoGMALKhEIIU7dPRotiYwLDHFyR74jQADyoYBmuCoCKS1mMIAAimxqY4kZB0mgRGhICJBoJ2aVLJNgeBZhystZ6Wh6dQZCyAFJsABKsPhil0yPARSZFKNpgJQPEBX+BSRkO0NmOFi11SMcJAkpdWzdgklSREZgAMjVhroAfqAGYAQwANgBnBi0MzUlytNBZQjgQiKQQuADS5hdepdVS2hfckqL5m9IRd5Wq1arWce4yW-LJ-kDQzL+1twZMDqavvMRn7rqRKAH2klw7LVrYAd8k10ksSIAjMbjSATIBYkAgmTTnEM4D4KuzAB0AI5wABcp+jADkAPa3gDCAAtwwA7ADmDBl293KBpkwCrgAUgiTCeF5gJAN7RgAygwAAuf7QbuxD0kwWApq0zIQWel5gLB6oMLGyHUv+eg8lutKUSI4HHvhrCwQAKg+X5fpGv4PjIQpiDI0GjKi8CQIQdgKPIIw8RCarcSB7r8ZAgkwMJonkCgElqCBKa5txOCOtYAnxrA8CqeJG76uysl8PJGCGRuxlwKZ6nmXwuogAAxpGADWbBAA\" width=\"800\" height=\"600\"></iframe>"
   ]
  },
  {
   "cell_type": "markdown",
   "id": "7f4c7818-a752-4e19-a86a-ae68f9d760fd",
   "metadata": {
    "editable": true,
    "slideshow": {
     "slide_type": ""
    },
    "tags": []
   },
   "source": [
    "Típicament els circuits seqüencials s'activen amb rellogte de flanc, ja que permet una definició més exacte de quan són vàlides les entrades. Aquest és el símbol d'una bàscula JK activa per flanc de pujada:\n",
    "\n",
    "![](img/Control/JK.svg)\n",
    "\n",
    "Fixeu-vos en el símbol del mig de l'esquerra: aquest angle simbolitza el CLK per flanc de pujada. Si fos per flanc de baixada posariem una boleta de negació a l'entrada."
   ]
  },
  {
   "cell_type": "markdown",
   "id": "a986ca02-261d-4ad5-892e-3909d739bc9f",
   "metadata": {
    "editable": true,
    "slideshow": {
     "slide_type": ""
    },
    "tags": []
   },
   "source": [
    "## Biestable D\n",
    "\n",
    "Aquest biestable permet emmagatzemar un bit quan el CLK està actiu.\n",
    "\n",
    "Com podeu veure al simulador, l'activació per flanc del rellotge és més complicada que per nivell:"
   ]
  },
  {
   "cell_type": "code",
   "execution_count": 8,
   "id": "f4df0ecf-6d56-42c1-8bad-227fbf622cba",
   "metadata": {
    "editable": true,
    "slideshow": {
     "slide_type": ""
    },
    "tags": [
     "hide-input"
    ]
   },
   "outputs": [
    {
     "data": {
      "text/html": [
       " <iframe src=\"https://www.falstad.com/circuit/circuitjs.html?ctz=CQAgjCAMB0l3BWcMBMcUHYMGZIA4UA2ATmIxAUgoqoQFMBaMMAKDAQmzRExRABYuPDHyqiKbDiC5Uw-fgKFyFY6ghYB3RX2XbwGQlE16wB6dxT8qkY4L689l67aFPzssza0z9hn2EJnbwsrdx4EQxt2CADZeWEdeNVaSRjAgTwEjKgeNVTwdIcikRzsPOiCqmxCTIdqzOSJLViQQgUWvCDKkE6s5lFjFrAUTKHho2b0-qzerxmxEv4GwcK8UfTcFRWqyAU66oms7AO6msOW7AQdDYO5i5OSzcOHYcz-EeeSkbeLNc+dMwtNx3DY6D5CO4ffgBLLQyLbLLEQwOOZI7pDdIgqp4BRo7A4owAGRAeIJQnxKnAIAAZgBDAA2AGc6NQbAAlEnIx72EoQHRwHjQJAoIU5GDqACyJni-DRujEQpYUrssLRKMF6i0cvSapKWPChiBoTmL3iL08xlOtUWMMhmTh4HBAy0L3GLw+Jt5H1NWxdX399j+nsD1r4TxsAHtpFQ2jloZA+EgYPBIGRCBEUEncrhpCAACIsKNCWNUeOJqCweBpjNZiAARUL0ggJYEYATrMrcGrhEzOTDnBAAGN6QBrFhAA\" width=\"800\" height=\"600\"></iframe>\n"
      ],
      "text/plain": [
       "<IPython.core.display.HTML object>"
      ]
     },
     "metadata": {},
     "output_type": "display_data"
    }
   ],
   "source": [
    "%%html\n",
    " <iframe src=\"https://www.falstad.com/circuit/circuitjs.html?ctz=CQAgjCAMB0l3BWcMBMcUHYMGZIA4UA2ATmIxAUgoqoQFMBaMMAKDAQmzRExRABYuPDHyqiKbDiC5Uw-fgKFyFY6ghYB3RX2XbwGQlE16wB6dxT8qkY4L689l67aFPzssza0z9hn2EJnbwsrdx4EQxt2CADZeWEdeNVaSRjAgTwEjKgeNVTwdIcikRzsPOiCqmxCTIdqzOSJLViQQgUWvCDKkE6s5lFjFrAUTKHho2b0-qzerxmxEv4GwcK8UfTcFRWqyAU66oms7AO6msOW7AQdDYO5i5OSzcOHYcz-EeeSkbeLNc+dMwtNx3DY6D5CO4ffgBLLQyLbLLEQwOOZI7pDdIgqp4BRo7A4owAGRAeIJQnxKnAIAAZgBDAA2AGc6NQbAAlEnIx72EoQHRwHjQJAoIU5GDqACyJni-DRujEQpYUrssLRKMF6i0cvSapKWPChiBoTmL3iL08xlOtUWMMhmTh4HBAy0L3GLw+Jt5H1NWxdX399j+nsD1r4TxsAHtpFQ2jloZA+EgYPBIGRCBEUEncrhpCAACIsKNCWNUeOJqCweBpjNZiAARUL0ggJYEYATrMrcGrhEzOTDnBAAGN6QBrFhAA\" width=\"800\" height=\"600\"></iframe>"
   ]
  },
  {
   "cell_type": "markdown",
   "id": "2fe1c426-181f-4f4e-b796-ed1cd98e14c6",
   "metadata": {
    "editable": true,
    "slideshow": {
     "slide_type": ""
    },
    "tags": []
   },
   "source": [
    "El biestable D té aquest símbol:\n",
    "\n",
    "![](img/Control/D.svg)"
   ]
  },
  {
   "cell_type": "markdown",
   "id": "24e5a16d-0a15-4f65-a866-64ac22e614b3",
   "metadata": {
    "editable": true,
    "slideshow": {
     "slide_type": ""
    },
    "tags": []
   },
   "source": [
    "## Comptadors\n",
    "\n",
    "Podem comptar els cicles de rellotge amb un conjunt encadenat de bàscules JK:"
   ]
  },
  {
   "cell_type": "code",
   "execution_count": 6,
   "id": "d0f602a3-19d9-40a3-82dd-b100994b5eb7",
   "metadata": {
    "editable": true,
    "slideshow": {
     "slide_type": ""
    },
    "tags": [
     "hide-input"
    ]
   },
   "outputs": [
    {
     "data": {
      "text/html": [
       " <iframe src=\"https://www.falstad.com/circuit/circuitjs.html?ctz=CQAgjCAMB0l3BWcMBMcUHYMGZIA4UA2ATmIxAUgoqoQFMBaMMAKDAUJDypRQBZwKPCF4CqkNhxH4R-EXx5zxkztmydRIdcM3L2nPoQGa+3WWKgsA7uAwa5YOyKkSbjjVLQ6X1rZGNyuMY+NkHOqurhljZ82CjmILHxKCGJcVGGwZyuiUYJfKYJOQU6ciUieMLFhULCmRVVvuW1iYVq2U1tkXFU7dFaaFrdgy05PQ1DGpX94y2zSr7zAn26vl4JYMTJC25bG3ujvpvJ0+uHuyfCx5P9133jfTlmmnmrNq9yr9M5X8LP375fiA8o9ActIndIhIAEpcHhSdIpTgQZJwETQJAoDFQKAYliwkHDG7iRK0HHiPE2DiKATU4FiJqIsrpYgdUL+BJhMBCW5OTTucCEZQAWQoQvpiWEr3RCBYoqSIFZksVGhlcr8Am5dSuPOSeNFArA4sKRp4ar4mwoezyRioeSofF8dLyCGtDJiLM4rviSrGHK1VviAZyhvF3sFygA9lokPbEmBIPEkDB4JAyIQOCkcaxo5E4xbE9QU-B05nk+AWLnyPmE0ncanS4Qs1Qc1opRYC3Xi3BG82K0A\" width=\"800\" height=\"600\"></iframe>\n"
      ],
      "text/plain": [
       "<IPython.core.display.HTML object>"
      ]
     },
     "metadata": {},
     "output_type": "display_data"
    }
   ],
   "source": [
    "%%html\n",
    " <iframe src=\"https://www.falstad.com/circuit/circuitjs.html?ctz=CQAgjCAMB0l3BWcMBMcUHYMGZIA4UA2ATmIxAUgoqoQFMBaMMAKDAUJDypRQBZwKPCF4CqkNhxH4R-EXx5zxkztmydRIdcM3L2nPoQGa+3WWKgsA7uAwa5YOyKkSbjjVLQ6X1rZGNyuMY+NkHOqurhljZ82CjmILHxKCGJcVGGwZyuiUYJfKYJOQU6ciUieMLFhULCmRVVvuW1iYVq2U1tkXFU7dFaaFrdgy05PQ1DGpX94y2zSr7zAn26vl4JYMTJC25bG3ujvpvJ0+uHuyfCx5P9133jfTlmmnmrNq9yr9M5X8LP375fiA8o9ActIndIhIAEpcHhSdIpTgQZJwETQJAoDFQKAYliwkHDG7iRK0HHiPE2DiKATU4FiJqIsrpYgdUL+BJhMBCW5OTTucCEZQAWQoQvpiWEr3RCBYoqSIFZksVGhlcr8Am5dSuPOSeNFArA4sKRp4ar4mwoezyRioeSofF8dLyCGtDJiLM4rviSrGHK1VviAZyhvF3sFygA9lokPbEmBIPEkDB4JAyIQOCkcaxo5E4xbE9QU-B05nk+AWLnyPmE0ncanS4Qs1Qc1opRYC3Xi3BG82K0A\" width=\"800\" height=\"600\"></iframe>"
   ]
  },
  {
   "cell_type": "markdown",
   "id": "9c6cfc79-7d2a-47a1-a390-16869629f6fc",
   "metadata": {
    "editable": true,
    "slideshow": {
     "slide_type": ""
    },
    "tags": []
   },
   "source": [
    "## Registres de desplaçament\n",
    "\n",
    "Quan volem transmetre la informació de vegades hem de fer una transformació sèrie / paral·lel o a l'inrevès. Un exemple és l'escriptura de l'estat d'una matriu de 8x8 leds amb només dues lìnies (CLK i DATA). En aquest cas fem servir registres de desplaçament:"
   ]
  },
  {
   "cell_type": "code",
   "execution_count": 7,
   "id": "eadf7515-e168-4a9b-95c9-10f00aeb7a8e",
   "metadata": {
    "editable": true,
    "slideshow": {
     "slide_type": ""
    },
    "tags": [
     "hide-input"
    ]
   },
   "outputs": [
    {
     "data": {
      "text/html": [
       " <iframe src=\"https://www.falstad.com/circuit/circuitjs.html?ctz=CQAgjCAMB0l3BWcMBMcUHYMGZIA4UA2ATmIxAUgoqoQFMBaMMAKDASQBZO8Q1fOxQn3xQobDhUJV+Iab1lVILAO4VuI3gmmbx7JIQwpdRmaKUSkGPJ115sxxeIBKIbIV7Z3btG+8RjMDg+aCQUULEYBFU3Dz9hbk9vZTVE+JA0lE4LNW0qL2E8vmzxABkMsGFZTkqK4SUQADMAQwAbAGc6ahS63UzzFgAPPypOFGNsYggxrmKQAEsAOwAHAFcAFyG5PAhmKgwdZmwMuYB7DbXNtUJtXUNHAdSedKKC8VydN-v0nu+vo2KORABwUomstkUMXBgOBNh+ULh-wmyRYAFl1BDRAgNGANDJQmi5LdZDdhLjbPjouiQSY4uSxOEqSA8HgzLwWVR6ZSWEA\" width=\"800\" height=\"600\"></iframe>\n"
      ],
      "text/plain": [
       "<IPython.core.display.HTML object>"
      ]
     },
     "metadata": {},
     "output_type": "display_data"
    }
   ],
   "source": [
    "%%html\n",
    " <iframe src=\"https://www.falstad.com/circuit/circuitjs.html?ctz=CQAgjCAMB0l3BWcMBMcUHYMGZIA4UA2ATmIxAUgoqoQFMBaMMAKDASQBZO8Q1fOxQn3xQobDhUJV+Iab1lVILAO4VuI3gmmbx7JIQwpdRmaKUSkGPJ115sxxeIBKIbIV7Z3btG+8RjMDg+aCQUULEYBFU3Dz9hbk9vZTVE+JA0lE4LNW0qL2E8vmzxABkMsGFZTkqK4SUQADMAQwAbAGc6ahS63UzzFgAPPypOFGNsYggxrmKQAEsAOwAHAFcAFyG5PAhmKgwdZmwMuYB7DbXNtUJtXUNHAdSedKKC8VydN-v0nu+vo2KORABwUomstkUMXBgOBNh+ULh-wmyRYAFl1BDRAgNGANDJQmi5LdZDdhLjbPjouiQSY4uSxOEqSA8HgzLwWVR6ZSWEA\" width=\"800\" height=\"600\"></iframe>"
   ]
  },
  {
   "cell_type": "markdown",
   "id": "5f432b40-c4d9-4b47-a1a1-96059b21378d",
   "metadata": {
    "editable": true,
    "slideshow": {
     "slide_type": ""
    },
    "tags": []
   },
   "source": [
    "## Productes comercials\n",
    "\n",
    "\n",
    "| Dispositiu | C.I. TTL | pin-out |  C.I. CMOS | pin-out | \n",
    "| :---: | :---: | :---: | :---: | :---: | \n",
    "| Bàscula JK | [74LS73](http://www.jorts.net/jupbook/pdf/sn74ls73.pdf)| ![](img/Control/74LS73.jpg) | [CD4027](http://www.jorts.net/jupbook/pdf/cd4027.pdf)| ![](img/Control/cd4027.png) |  \n",
    "| Bàscula D | [74LS74](http://www.jorts.net/jupbook/pdf/sn74ls74a.pdf)| ![](img/Control/74LS74.jpg) | [CD4042](http://www.jorts.net/jupbook/pdf/cd4042b.pdf)| ![](img/Control/cd4042.png) |\n",
    "| Comptador 4 bits | [74LS93](http://www.jorts.net/jupbook/pdf/sn74ls93.pdf)| ![](img/Control/74LS93.png) | [CD4029](http://www.jorts.net/jupbook/pdf/cd4029.pdf)| ![](img/Control/cd4029.png) |\n",
    "| Registre de desplaçament 8 bits sèrie / paral·lel | [74LS595](http://www.jorts.net/jupbook/pdf/sn74ls595.pdf)| ![](img/Control/74LS595.jpg) |   [CD4094](http://www.jorts.net/jupbook/pdf/cd4094b.pdf)| ![](img/Control/cd4094.png) |\n",
    "| Registre de desplaçament 8 bits paral·lel / sèrie | [74LS597](http://www.jorts.net/jupbook/pdf/sn74ls597.pdf)| ![](img/Control/74LS597.jpg) |   [CD4021](http://www.jorts.net/jupbook/pdf/cd4021.pdf)| ![](img/Control/cd4021.png) |\n",
    "\n",
    "\n"
   ]
  },
  {
   "cell_type": "code",
   "execution_count": null,
   "id": "6538a829-8dd5-440f-8591-da32c6727654",
   "metadata": {
    "editable": true,
    "slideshow": {
     "slide_type": ""
    },
    "tags": []
   },
   "outputs": [],
   "source": []
  }
 ],
 "metadata": {
  "kernelspec": {
   "display_name": "venvPy3",
   "language": "python",
   "name": "venvpy3"
  },
  "language_info": {
   "codemirror_mode": {
    "name": "ipython",
    "version": 3
   },
   "file_extension": ".py",
   "mimetype": "text/x-python",
   "name": "python",
   "nbconvert_exporter": "python",
   "pygments_lexer": "ipython3",
   "version": "3.10.12"
  }
 },
 "nbformat": 4,
 "nbformat_minor": 5
}
