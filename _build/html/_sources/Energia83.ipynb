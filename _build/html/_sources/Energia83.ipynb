{
 "cells": [
  {
   "cell_type": "markdown",
   "metadata": {},
   "source": [
    "# Energia nuclear\n",
    "La física nuclear és un dels camps de la ciència més complicats. No es poden fer equacions senzilles, ja que intervenen un nombre considerable de cossos (el problema de tres cossos ja és complicat, imagineu-vos un nucli amb 50 protons i neutrons), però insufucient per utilitzar mètodes estadístics, tal com es fa a la Termodinàmica.   \n",
    "No és estrany, per tant, trobar en el seu estudi a físics tan notables com Marie Curie, Yukawa, Weizsäcker, Gamow o Bohr. "
   ]
  },
  {
   "cell_type": "markdown",
   "metadata": {},
   "source": [
    "## El model del a gota líquida\n",
    "> El model de la gota líquida és un model de física nuclear que tracta el nucli atòmic com una gota de fluid nuclear incompressible. Aquest fluid estaria compost per nucleons (protons i neutrons), que romanen units a causa de la força nuclear forta. Va ser proposat per primera vegada per George Gamow i posteriorment desenvolupar per Niels Bohr i John Archibald Wheeler. Aquest model no explica totes les propietats del nucli, però sí la seva forma esfèrica. A més ajuda en la predicció de l'energia de lligadura dels nuclis.  \n",
    "\n",
    "*Col·laboradors de la Viquipèdia. Fórmula de Weizsäcker [en línia]. Viquipèdia, l'Enciclopèdia Lliure, 2020 [data de consulta: 18 de juliol del 2020]. Disponible en http://ca.wikipedia.org/w/index.php?title=F%C3%B3rmula_de_Weizs%C3%A4cker&oldid=24142630.* "
   ]
  },
  {
   "cell_type": "markdown",
   "metadata": {},
   "source": [
    "## La fórmula de masses\n",
    "\n",
    "El físic alemany Carl Friedrich von Weizsäcker va confeccionar una fòrmula semiempírica de l'energia nuclear de lligam per a cada nucli segons el nombre de protons (Z), de neutrons (N) i de nucleons (A), suma de protons i neutrons, que conté. La fòrmula és semiempírica ja que, si bé la seva estructura té un raonament basat en les diferents interaccions entre els nucleons (protons i neutrons), els coeficients de cada terme son una estimació a partir de les dades experimentals de diferents nuclis."
   ]
  },
  {
   "cell_type": "markdown",
   "metadata": {},
   "source": [
    "$E/A=a -b/A^{1/3} -c Z^2/A^{4/3} -d (N-Z)^2/A^2 \\pm \\frac{e}{A^{7/4}}$"
   ]
  },
  {
   "cell_type": "markdown",
   "metadata": {},
   "source": [
    "* El terme $a$ respon a l'energia de volum\n",
    "* El terme $-b/A^{1/3}$ respon a la tensió superficial\n",
    "* El terme $-cZ^{2}/A^{4/3}$ respon a la repulsió electrostàtica de Coulomb\n",
    "* El terme $-d(N-Z)^{2}/A^{2}$ respon a la simetria neutrons/protons\n",
    "* El terme $\\pm \\frac{e}{A^{7/4}}$ respon a la paritat (+ per valors parells, - per a senars)"
   ]
  },
  {
   "cell_type": "markdown",
   "metadata": {},
   "source": [
    "Amb aquesta fórmula és fàcil deduir que l'energia per nucleó és més òptima per al ferro, de forma que si donem la suficient energia d'activació (col·lisió de nuclis lleugers, bombardeig amb neutrons de nuclis pesants) tant els nuclis més lleugers com més pesants poden patir reaccions nuclears que els portin cap a l'estructura nuclear del ferro. De fet, a les estrelles es produeixen reaccions de fusió des de nuclis lleugers cap al ferro. Una vegada que tots els nuclis són de ferro, si la massa a l'estrella supera el Límit de Chandrasekhar aquesta pot transformar-se amb el col·lapse gravitacional en una estrella de neutrons o un forat negre, després de patir una explosió de supernova en el seu col·lapse, moment en que s'alliberen molts dels elements que coneixem i dels que estem fets. Som *pols d'estels*, literalment."
   ]
  },
  {
   "cell_type": "markdown",
   "metadata": {},
   "source": [
    "## Anàlisis de dades experimentals\n",
    "Podem accedir a gran quantitat de dades experimentals (i d'altres estimades per extrapolació) a http://amdc.impcas.ac.cn/web/nubase_en.html   \n",
    "Jo he utilitzat les mateixes dades que la Wikipedia (https://commons.wikimedia.org/wiki/File_talk:Binding_energy_curve_-_common_isotopes.svg), que utilitza l'energia de lligam per nucleó d'una selecció dels isòtops més abundants de les dades calculades a https://web.archive.org/web/20171024000626/http://www.einstein-online.info/spotlights/binding_energy?set_language=en sobre les dades disponibles al 2003.  "
   ]
  },
  {
   "cell_type": "code",
   "execution_count": 1,
   "metadata": {},
   "outputs": [],
   "source": [
    "%matplotlib inline\n",
    "import numpy as np                        # imports the numpy package and creates the alias np for broader control of vector arrays\n",
    "import pandas as pd                       # imports the pandas package and creates the alias pd to work with data tables and lists              \n",
    "import matplotlib.pyplot as plt           # imports the matplotlib.pyplot package and creates the alias plt for plotting superiority"
   ]
  },
  {
   "cell_type": "code",
   "execution_count": 3,
   "metadata": {},
   "outputs": [
    {
     "data": {
      "text/html": [
       "<div>\n",
       "<style scoped>\n",
       "    .dataframe tbody tr th:only-of-type {\n",
       "        vertical-align: middle;\n",
       "    }\n",
       "\n",
       "    .dataframe tbody tr th {\n",
       "        vertical-align: top;\n",
       "    }\n",
       "\n",
       "    .dataframe thead th {\n",
       "        text-align: right;\n",
       "    }\n",
       "</style>\n",
       "<table border=\"1\" class=\"dataframe\">\n",
       "  <thead>\n",
       "    <tr style=\"text-align: right;\">\n",
       "      <th></th>\n",
       "      <th>Nom</th>\n",
       "      <th>Ebpn [MeV]</th>\n",
       "      <th>A</th>\n",
       "    </tr>\n",
       "  </thead>\n",
       "  <tbody>\n",
       "    <tr>\n",
       "      <th>0</th>\n",
       "      <td>1H</td>\n",
       "      <td>0.000</td>\n",
       "      <td>1</td>\n",
       "    </tr>\n",
       "    <tr>\n",
       "      <th>1</th>\n",
       "      <td>2H</td>\n",
       "      <td>1.112</td>\n",
       "      <td>2</td>\n",
       "    </tr>\n",
       "    <tr>\n",
       "      <th>2</th>\n",
       "      <td>3H</td>\n",
       "      <td>2.827</td>\n",
       "      <td>3</td>\n",
       "    </tr>\n",
       "    <tr>\n",
       "      <th>3</th>\n",
       "      <td>3He</td>\n",
       "      <td>2.573</td>\n",
       "      <td>3</td>\n",
       "    </tr>\n",
       "    <tr>\n",
       "      <th>4</th>\n",
       "      <td>4He</td>\n",
       "      <td>7.074</td>\n",
       "      <td>4</td>\n",
       "    </tr>\n",
       "    <tr>\n",
       "      <th>...</th>\n",
       "      <td>...</td>\n",
       "      <td>...</td>\n",
       "      <td>...</td>\n",
       "    </tr>\n",
       "    <tr>\n",
       "      <th>139</th>\n",
       "      <td>227Ac</td>\n",
       "      <td>7.651</td>\n",
       "      <td>227</td>\n",
       "    </tr>\n",
       "    <tr>\n",
       "      <th>140</th>\n",
       "      <td>231Pa</td>\n",
       "      <td>7.618</td>\n",
       "      <td>231</td>\n",
       "    </tr>\n",
       "    <tr>\n",
       "      <th>141</th>\n",
       "      <td>232Th</td>\n",
       "      <td>7.615</td>\n",
       "      <td>232</td>\n",
       "    </tr>\n",
       "    <tr>\n",
       "      <th>142</th>\n",
       "      <td>235U</td>\n",
       "      <td>7.591</td>\n",
       "      <td>235</td>\n",
       "    </tr>\n",
       "    <tr>\n",
       "      <th>143</th>\n",
       "      <td>238U</td>\n",
       "      <td>7.570</td>\n",
       "      <td>238</td>\n",
       "    </tr>\n",
       "  </tbody>\n",
       "</table>\n",
       "<p>144 rows × 3 columns</p>\n",
       "</div>"
      ],
      "text/plain": [
       "       Nom  Ebpn [MeV]    A\n",
       "0       1H       0.000    1\n",
       "1       2H       1.112    2\n",
       "2       3H       2.827    3\n",
       "3      3He       2.573    3\n",
       "4      4He       7.074    4\n",
       "..     ...         ...  ...\n",
       "139  227Ac       7.651  227\n",
       "140  231Pa       7.618  231\n",
       "141  232Th       7.615  232\n",
       "142   235U       7.591  235\n",
       "143   238U       7.570  238\n",
       "\n",
       "[144 rows x 3 columns]"
      ]
     },
     "execution_count": 3,
     "metadata": {},
     "output_type": "execute_result"
    }
   ],
   "source": [
    "df = pd.read_csv('data/Energia/bindingEnergyIsotopicAbundanceSelected.csv')\n",
    "df"
   ]
  },
  {
   "cell_type": "markdown",
   "metadata": {},
   "source": [
    "Trobarem un màxim d'aquesta energia per nucleó:"
   ]
  },
  {
   "cell_type": "code",
   "execution_count": 4,
   "metadata": {},
   "outputs": [
    {
     "data": {
      "text/plain": [
       "8.79"
      ]
     },
     "execution_count": 4,
     "metadata": {},
     "output_type": "execute_result"
    }
   ],
   "source": [
    "df['Ebpn [MeV]'].max()"
   ]
  },
  {
   "cell_type": "markdown",
   "metadata": {},
   "source": [
    "que correspon al $^{56}Fe$"
   ]
  },
  {
   "cell_type": "code",
   "execution_count": 5,
   "metadata": {},
   "outputs": [
    {
     "data": {
      "text/plain": [
       "Nom           56Fe\n",
       "Ebpn [MeV]    8.79\n",
       "A               56\n",
       "Name: 32, dtype: object"
      ]
     },
     "execution_count": 5,
     "metadata": {},
     "output_type": "execute_result"
    }
   ],
   "source": [
    "df.loc[df['Ebpn [MeV]'].idxmax()]"
   ]
  },
  {
   "cell_type": "code",
   "execution_count": 6,
   "metadata": {},
   "outputs": [
    {
     "data": {
      "image/png": "[encoded data removed]",
      "text/plain": [
       "<Figure size 1600x700 with 1 Axes>"
      ]
     },
     "metadata": {},
     "output_type": "display_data"
    }
   ],
   "source": [
    "plt.rcParams['figure.figsize'] = (16,7) \n",
    "df.plot(kind='scatter',x='A',y='Ebpn [MeV]')\n",
    "plt.annotate('$^{56}Fe$', xy=(56, 8.79), xytext=(56, 7.5),\n",
    "             arrowprops=dict(facecolor='black', shrink=0.05),\n",
    "             )\n",
    "plt.annotate('Fusió',xy=(28, 1))\n",
    "plt.annotate('',xy=(56, 0.5), xytext=(1, 0.5),\n",
    "             arrowprops=dict(facecolor='green'),\n",
    "             )\n",
    "plt.annotate('$^{2}H$', xy=(2, 1.11), xytext=(-5, 2),\n",
    "             arrowprops=dict(facecolor='green', shrink=0.05),\n",
    "             )\n",
    "plt.annotate('$^{4}He$', xy=(4, 7.07), xytext=(-5, 8),\n",
    "             arrowprops=dict(facecolor='green', shrink=0.05),\n",
    "             )\n",
    "plt.annotate('Fissió',xy=(150, 1))\n",
    "plt.annotate('', xy=(56, 0.5), xytext=(238, 0.5),\n",
    "             arrowprops=dict(facecolor='red'),\n",
    "             )\n",
    "plt.annotate('$^{235}U$', xy=(235, 7.59), xytext=(240, 6.5),\n",
    "             arrowprops=dict(facecolor='red', shrink=0.05),\n",
    "             );"
   ]
  },
  {
   "cell_type": "markdown",
   "metadata": {},
   "source": [
    "Fixeu-vos el que comentava:\n",
    "* Tenim un màxim de l'energia de lligam per nucleó al $^{56}Fe$\n",
    "* Als elements a la seva esquerra els és favorable la fusió per incrementar l'energia de lligam per nucleó. És el procès que es realitza als estels\n",
    "* Als elements a la seva dreta els és favorable la fissió per incrementar l'energia de lligam per nucleó.\n",
    "* Fixeu-vos el salt entre $^{2}H$ (deuteri) i $^{4}He$. És molt més gran que l'energia que pot alliberar $^{235}U$ al fissionar-se en nuclis més lleugers"
   ]
  },
  {
   "cell_type": "code",
   "execution_count": null,
   "metadata": {},
   "outputs": [],
   "source": []
  }
 ],
 "metadata": {
  "kernelspec": {
   "display_name": "venvPy3",
   "language": "python",
   "name": "venvpy3"
  },
  "language_info": {
   "codemirror_mode": {
    "name": "ipython",
    "version": 3
   },
   "file_extension": ".py",
   "mimetype": "text/x-python",
   "name": "python",
   "nbconvert_exporter": "python",
   "pygments_lexer": "ipython3",
   "version": "3.10.12"
  }
 },
 "nbformat": 4,
 "nbformat_minor": 4
}
