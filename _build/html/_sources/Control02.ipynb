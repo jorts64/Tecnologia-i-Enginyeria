{
 "cells": [
  {
   "cell_type": "markdown",
   "id": "7df2f400-65dd-4ff5-a83c-0669f20bf51c",
   "metadata": {
    "editable": true,
    "slideshow": {
     "slide_type": ""
    },
    "tags": []
   },
   "source": [
    "# El transistor"
   ]
  },
  {
   "cell_type": "markdown",
   "id": "e58a9bef-f1d9-44a2-b7b8-2f24ec1c9f03",
   "metadata": {
    "editable": true,
    "slideshow": {
     "slide_type": ""
    },
    "tags": []
   },
   "source": [
    "```{admonition} Pàgina en desenvolupament\n",
    "Encara estem treballant en aquest document.   \n",
    "Esperem oferir-vos properament el seu contingut.   \n",
    "Disculpeu les molèsties.\n",
    "```"
   ]
  },
  {
   "cell_type": "markdown",
   "id": "56fa6900-99f2-4cb9-b89c-c90ce85c5fc6",
   "metadata": {
    "editable": true,
    "slideshow": {
     "slide_type": ""
    },
    "tags": []
   },
   "source": [
    "## El transistor amb emissor comú"
   ]
  },
  {
   "cell_type": "code",
   "execution_count": 1,
   "id": "ea2e3269-0547-4670-84e6-941613138133",
   "metadata": {
    "editable": true,
    "slideshow": {
     "slide_type": ""
    },
    "tags": [
     "hide-input"
    ]
   },
   "outputs": [
    {
     "data": {
      "text/html": [
       " <iframe src=\"https://www.falstad.com/circuit/circuitjs.html?ctz=CQAgDOB0YzCsICMZIDYDMAWATKg7HOgJwAciqclIm6I2IcEcApgLSKIBQie9rcietjAkQ-TJjojwIPHQYyIKBACEAhgGdmIAGoB7ADYAXNQHNmnAO5j0wutkmtbEbLyRWbdxET7OkE9x5fO1RHP1sZOQQEJSgEAGFDA2YAYyM9ACddQxNzTlNPFzcnO2wSUSVOIxtUUWFREpdpCEQxREgSIjgiMHxETF5BsFoUTu7evEQSbrhMUiQYEA0ABwBLFLYAE2YAMzUAV2MPVhohaSdaqVEuLP5BK7FTh5bYTlu-UML-SSbOZbFsA4kKgIKxAZIHBARuBjuC6JhQXDXPQwLCgcivhjUdYwUDyIi8QFsQDCWEvES-mIBGcGtS6HBUCBocS7kIGVT7ljjnSMY06G5UUA\" width=\"800\" height=\"600\"></iframe>\n"
      ],
      "text/plain": [
       "<IPython.core.display.HTML object>"
      ]
     },
     "metadata": {},
     "output_type": "display_data"
    }
   ],
   "source": [
    "%%html\n",
    " <iframe src=\"https://www.falstad.com/circuit/circuitjs.html?ctz=CQAgDOB0YzCsICMZIDYDMAWATKg7HOgJwAciqclIm6I2IcEcApgLSKIBQie9rcietjAkQ-TJjojwIPHQYyIKBACEAhgGdmIAGoB7ADYAXNQHNmnAO5j0wutkmtbEbLyRWbdxET7OkE9x5fO1RHP1sZOQQEJSgEAGFDA2YAYyM9ACddQxNzTlNPFzcnO2wSUSVOIxtUUWFREpdpCEQxREgSIjgiMHxETF5BsFoUTu7evEQSbrhMUiQYEA0ABwBLFLYAE2YAMzUAV2MPVhohaSdaqVEuLP5BK7FTh5bYTlu-UML-SSbOZbFsA4kKgIKxAZIHBARuBjuC6JhQXDXPQwLCgcivhjUdYwUDyIi8QFsQDCWEvES-mIBGcGtS6HBUCBocS7kIGVT7ljjnSMY06G5UUA\" width=\"800\" height=\"600\"></iframe>"
   ]
  },
  {
   "cell_type": "code",
   "execution_count": 2,
   "id": "b96eb34c-6a27-40ca-bd27-2b5fd8afb573",
   "metadata": {
    "editable": true,
    "slideshow": {
     "slide_type": ""
    },
    "tags": [
     "hide-output"
    ]
   },
   "outputs": [
    {
     "data": {
      "text/html": [
       "<div>\n",
       "<style scoped>\n",
       "    .dataframe tbody tr th:only-of-type {\n",
       "        vertical-align: middle;\n",
       "    }\n",
       "\n",
       "    .dataframe tbody tr th {\n",
       "        vertical-align: top;\n",
       "    }\n",
       "\n",
       "    .dataframe thead th {\n",
       "        text-align: right;\n",
       "    }\n",
       "</style>\n",
       "<table border=\"1\" class=\"dataframe\">\n",
       "  <thead>\n",
       "    <tr style=\"text-align: right;\">\n",
       "      <th></th>\n",
       "      <th>Vb</th>\n",
       "      <th>Vc</th>\n",
       "      <th>Ib</th>\n",
       "      <th>Ic</th>\n",
       "    </tr>\n",
       "  </thead>\n",
       "  <tbody>\n",
       "    <tr>\n",
       "      <th>0</th>\n",
       "      <td>0.0</td>\n",
       "      <td>5.000000</td>\n",
       "      <td>4.900000e-12</td>\n",
       "      <td>9.900000e-12</td>\n",
       "    </tr>\n",
       "    <tr>\n",
       "      <th>1</th>\n",
       "      <td>0.1</td>\n",
       "      <td>5.000000</td>\n",
       "      <td>4.900000e-12</td>\n",
       "      <td>9.900000e-12</td>\n",
       "    </tr>\n",
       "    <tr>\n",
       "      <th>2</th>\n",
       "      <td>0.2</td>\n",
       "      <td>5.000000</td>\n",
       "      <td>4.800000e-12</td>\n",
       "      <td>1.000000e-11</td>\n",
       "    </tr>\n",
       "    <tr>\n",
       "      <th>3</th>\n",
       "      <td>0.3</td>\n",
       "      <td>5.000000</td>\n",
       "      <td>4.600000e-12</td>\n",
       "      <td>2.060000e-11</td>\n",
       "    </tr>\n",
       "    <tr>\n",
       "      <th>4</th>\n",
       "      <td>0.4</td>\n",
       "      <td>5.000000</td>\n",
       "      <td>6.000000e-13</td>\n",
       "      <td>5.300000e-10</td>\n",
       "    </tr>\n",
       "    <tr>\n",
       "      <th>5</th>\n",
       "      <td>0.5</td>\n",
       "      <td>5.000000</td>\n",
       "      <td>2.440000e-10</td>\n",
       "      <td>2.490000e-08</td>\n",
       "    </tr>\n",
       "    <tr>\n",
       "      <th>6</th>\n",
       "      <td>0.6</td>\n",
       "      <td>5.000000</td>\n",
       "      <td>1.190000e-08</td>\n",
       "      <td>1.200000e-06</td>\n",
       "    </tr>\n",
       "    <tr>\n",
       "      <th>7</th>\n",
       "      <td>0.7</td>\n",
       "      <td>4.999000</td>\n",
       "      <td>5.549000e-07</td>\n",
       "      <td>5.550000e-05</td>\n",
       "    </tr>\n",
       "    <tr>\n",
       "      <th>8</th>\n",
       "      <td>0.8</td>\n",
       "      <td>4.970000</td>\n",
       "      <td>1.510000e-05</td>\n",
       "      <td>1.500000e-03</td>\n",
       "    </tr>\n",
       "    <tr>\n",
       "      <th>9</th>\n",
       "      <td>0.9</td>\n",
       "      <td>4.852000</td>\n",
       "      <td>7.400000e-05</td>\n",
       "      <td>7.400000e-03</td>\n",
       "    </tr>\n",
       "    <tr>\n",
       "      <th>10</th>\n",
       "      <td>1.0</td>\n",
       "      <td>4.690000</td>\n",
       "      <td>1.549000e-04</td>\n",
       "      <td>1.550000e-02</td>\n",
       "    </tr>\n",
       "    <tr>\n",
       "      <th>11</th>\n",
       "      <td>1.1</td>\n",
       "      <td>4.514000</td>\n",
       "      <td>2.432000e-04</td>\n",
       "      <td>2.430000e-02</td>\n",
       "    </tr>\n",
       "    <tr>\n",
       "      <th>12</th>\n",
       "      <td>1.2</td>\n",
       "      <td>4.330000</td>\n",
       "      <td>3.349000e-04</td>\n",
       "      <td>3.350000e-02</td>\n",
       "    </tr>\n",
       "    <tr>\n",
       "      <th>13</th>\n",
       "      <td>1.3</td>\n",
       "      <td>4.143000</td>\n",
       "      <td>4.286000e-04</td>\n",
       "      <td>4.290000e-02</td>\n",
       "    </tr>\n",
       "    <tr>\n",
       "      <th>14</th>\n",
       "      <td>1.4</td>\n",
       "      <td>3.953000</td>\n",
       "      <td>5.234000e-04</td>\n",
       "      <td>5.230000e-02</td>\n",
       "    </tr>\n",
       "    <tr>\n",
       "      <th>15</th>\n",
       "      <td>1.5</td>\n",
       "      <td>3.762000</td>\n",
       "      <td>6.191000e-04</td>\n",
       "      <td>6.190000e-02</td>\n",
       "    </tr>\n",
       "    <tr>\n",
       "      <th>16</th>\n",
       "      <td>1.6</td>\n",
       "      <td>3.569000</td>\n",
       "      <td>7.153000e-04</td>\n",
       "      <td>7.150000e-02</td>\n",
       "    </tr>\n",
       "    <tr>\n",
       "      <th>17</th>\n",
       "      <td>1.7</td>\n",
       "      <td>3.376000</td>\n",
       "      <td>8.120000e-04</td>\n",
       "      <td>8.120000e-02</td>\n",
       "    </tr>\n",
       "    <tr>\n",
       "      <th>18</th>\n",
       "      <td>1.8</td>\n",
       "      <td>3.182000</td>\n",
       "      <td>9.091000e-04</td>\n",
       "      <td>9.090000e-02</td>\n",
       "    </tr>\n",
       "    <tr>\n",
       "      <th>19</th>\n",
       "      <td>1.9</td>\n",
       "      <td>2.987000</td>\n",
       "      <td>1.000000e-03</td>\n",
       "      <td>1.006000e-01</td>\n",
       "    </tr>\n",
       "    <tr>\n",
       "      <th>20</th>\n",
       "      <td>2.0</td>\n",
       "      <td>2.792000</td>\n",
       "      <td>1.100000e-03</td>\n",
       "      <td>1.104000e-01</td>\n",
       "    </tr>\n",
       "    <tr>\n",
       "      <th>21</th>\n",
       "      <td>2.1</td>\n",
       "      <td>2.596000</td>\n",
       "      <td>1.200000e-03</td>\n",
       "      <td>1.202000e-01</td>\n",
       "    </tr>\n",
       "    <tr>\n",
       "      <th>22</th>\n",
       "      <td>2.2</td>\n",
       "      <td>2.400000</td>\n",
       "      <td>1.300000e-03</td>\n",
       "      <td>1.300000e-01</td>\n",
       "    </tr>\n",
       "    <tr>\n",
       "      <th>23</th>\n",
       "      <td>2.3</td>\n",
       "      <td>2.204000</td>\n",
       "      <td>1.400000e-03</td>\n",
       "      <td>1.398000e-01</td>\n",
       "    </tr>\n",
       "    <tr>\n",
       "      <th>24</th>\n",
       "      <td>2.4</td>\n",
       "      <td>2.008000</td>\n",
       "      <td>1.500000e-03</td>\n",
       "      <td>1.496000e-01</td>\n",
       "    </tr>\n",
       "    <tr>\n",
       "      <th>25</th>\n",
       "      <td>2.5</td>\n",
       "      <td>1.811000</td>\n",
       "      <td>1.600000e-03</td>\n",
       "      <td>1.595000e-01</td>\n",
       "    </tr>\n",
       "    <tr>\n",
       "      <th>26</th>\n",
       "      <td>2.6</td>\n",
       "      <td>1.614000</td>\n",
       "      <td>1.700000e-03</td>\n",
       "      <td>1.693000e-01</td>\n",
       "    </tr>\n",
       "    <tr>\n",
       "      <th>27</th>\n",
       "      <td>2.7</td>\n",
       "      <td>1.417000</td>\n",
       "      <td>1.800000e-03</td>\n",
       "      <td>1.792000e-01</td>\n",
       "    </tr>\n",
       "    <tr>\n",
       "      <th>28</th>\n",
       "      <td>2.8</td>\n",
       "      <td>1.220000</td>\n",
       "      <td>1.900000e-03</td>\n",
       "      <td>1.890000e-01</td>\n",
       "    </tr>\n",
       "    <tr>\n",
       "      <th>29</th>\n",
       "      <td>2.9</td>\n",
       "      <td>1.022000</td>\n",
       "      <td>2.000000e-03</td>\n",
       "      <td>1.989000e-01</td>\n",
       "    </tr>\n",
       "    <tr>\n",
       "      <th>30</th>\n",
       "      <td>3.0</td>\n",
       "      <td>0.824765</td>\n",
       "      <td>2.100000e-03</td>\n",
       "      <td>2.088000e-01</td>\n",
       "    </tr>\n",
       "    <tr>\n",
       "      <th>31</th>\n",
       "      <td>3.1</td>\n",
       "      <td>0.627158</td>\n",
       "      <td>2.200000e-03</td>\n",
       "      <td>2.186000e-01</td>\n",
       "    </tr>\n",
       "    <tr>\n",
       "      <th>32</th>\n",
       "      <td>3.2</td>\n",
       "      <td>0.429473</td>\n",
       "      <td>2.300000e-03</td>\n",
       "      <td>2.285000e-01</td>\n",
       "    </tr>\n",
       "    <tr>\n",
       "      <th>33</th>\n",
       "      <td>3.3</td>\n",
       "      <td>0.255856</td>\n",
       "      <td>2.400000e-03</td>\n",
       "      <td>2.372000e-01</td>\n",
       "    </tr>\n",
       "    <tr>\n",
       "      <th>34</th>\n",
       "      <td>3.4</td>\n",
       "      <td>0.205486</td>\n",
       "      <td>2.500000e-03</td>\n",
       "      <td>2.397000e-01</td>\n",
       "    </tr>\n",
       "    <tr>\n",
       "      <th>35</th>\n",
       "      <td>3.5</td>\n",
       "      <td>0.187098</td>\n",
       "      <td>2.600000e-03</td>\n",
       "      <td>2.406000e-01</td>\n",
       "    </tr>\n",
       "    <tr>\n",
       "      <th>36</th>\n",
       "      <td>3.6</td>\n",
       "      <td>0.176139</td>\n",
       "      <td>2.700000e-03</td>\n",
       "      <td>2.412000e-01</td>\n",
       "    </tr>\n",
       "    <tr>\n",
       "      <th>37</th>\n",
       "      <td>3.7</td>\n",
       "      <td>0.168376</td>\n",
       "      <td>2.800000e-03</td>\n",
       "      <td>2.416000e-01</td>\n",
       "    </tr>\n",
       "    <tr>\n",
       "      <th>38</th>\n",
       "      <td>3.8</td>\n",
       "      <td>0.162379</td>\n",
       "      <td>2.900000e-03</td>\n",
       "      <td>2.419000e-01</td>\n",
       "    </tr>\n",
       "    <tr>\n",
       "      <th>39</th>\n",
       "      <td>3.9</td>\n",
       "      <td>0.157500</td>\n",
       "      <td>3.000000e-03</td>\n",
       "      <td>2.421000e-01</td>\n",
       "    </tr>\n",
       "    <tr>\n",
       "      <th>40</th>\n",
       "      <td>4.0</td>\n",
       "      <td>0.153392</td>\n",
       "      <td>3.100000e-03</td>\n",
       "      <td>2.423000e-01</td>\n",
       "    </tr>\n",
       "    <tr>\n",
       "      <th>41</th>\n",
       "      <td>4.1</td>\n",
       "      <td>0.149845</td>\n",
       "      <td>3.200000e-03</td>\n",
       "      <td>2.425000e-01</td>\n",
       "    </tr>\n",
       "    <tr>\n",
       "      <th>42</th>\n",
       "      <td>4.2</td>\n",
       "      <td>0.146727</td>\n",
       "      <td>3.300000e-03</td>\n",
       "      <td>2.427000e-01</td>\n",
       "    </tr>\n",
       "    <tr>\n",
       "      <th>43</th>\n",
       "      <td>4.3</td>\n",
       "      <td>0.143946</td>\n",
       "      <td>3.400000e-03</td>\n",
       "      <td>2.428000e-01</td>\n",
       "    </tr>\n",
       "    <tr>\n",
       "      <th>44</th>\n",
       "      <td>4.4</td>\n",
       "      <td>0.141437</td>\n",
       "      <td>3.500000e-03</td>\n",
       "      <td>2.429000e-01</td>\n",
       "    </tr>\n",
       "    <tr>\n",
       "      <th>45</th>\n",
       "      <td>4.5</td>\n",
       "      <td>0.139151</td>\n",
       "      <td>3.600000e-03</td>\n",
       "      <td>2.430000e-01</td>\n",
       "    </tr>\n",
       "    <tr>\n",
       "      <th>46</th>\n",
       "      <td>4.6</td>\n",
       "      <td>0.137054</td>\n",
       "      <td>3.700000e-03</td>\n",
       "      <td>2.431000e-01</td>\n",
       "    </tr>\n",
       "    <tr>\n",
       "      <th>47</th>\n",
       "      <td>4.7</td>\n",
       "      <td>0.135116</td>\n",
       "      <td>3.800000e-03</td>\n",
       "      <td>2.432000e-01</td>\n",
       "    </tr>\n",
       "    <tr>\n",
       "      <th>48</th>\n",
       "      <td>4.8</td>\n",
       "      <td>0.133316</td>\n",
       "      <td>3.900000e-03</td>\n",
       "      <td>2.433000e-01</td>\n",
       "    </tr>\n",
       "    <tr>\n",
       "      <th>49</th>\n",
       "      <td>4.9</td>\n",
       "      <td>0.131634</td>\n",
       "      <td>4.000000e-03</td>\n",
       "      <td>2.434000e-01</td>\n",
       "    </tr>\n",
       "    <tr>\n",
       "      <th>50</th>\n",
       "      <td>5.0</td>\n",
       "      <td>0.130058</td>\n",
       "      <td>4.100000e-03</td>\n",
       "      <td>2.435000e-01</td>\n",
       "    </tr>\n",
       "  </tbody>\n",
       "</table>\n",
       "</div>"
      ],
      "text/plain": [
       "     Vb        Vc            Ib            Ic\n",
       "0   0.0  5.000000  4.900000e-12  9.900000e-12\n",
       "1   0.1  5.000000  4.900000e-12  9.900000e-12\n",
       "2   0.2  5.000000  4.800000e-12  1.000000e-11\n",
       "3   0.3  5.000000  4.600000e-12  2.060000e-11\n",
       "4   0.4  5.000000  6.000000e-13  5.300000e-10\n",
       "5   0.5  5.000000  2.440000e-10  2.490000e-08\n",
       "6   0.6  5.000000  1.190000e-08  1.200000e-06\n",
       "7   0.7  4.999000  5.549000e-07  5.550000e-05\n",
       "8   0.8  4.970000  1.510000e-05  1.500000e-03\n",
       "9   0.9  4.852000  7.400000e-05  7.400000e-03\n",
       "10  1.0  4.690000  1.549000e-04  1.550000e-02\n",
       "11  1.1  4.514000  2.432000e-04  2.430000e-02\n",
       "12  1.2  4.330000  3.349000e-04  3.350000e-02\n",
       "13  1.3  4.143000  4.286000e-04  4.290000e-02\n",
       "14  1.4  3.953000  5.234000e-04  5.230000e-02\n",
       "15  1.5  3.762000  6.191000e-04  6.190000e-02\n",
       "16  1.6  3.569000  7.153000e-04  7.150000e-02\n",
       "17  1.7  3.376000  8.120000e-04  8.120000e-02\n",
       "18  1.8  3.182000  9.091000e-04  9.090000e-02\n",
       "19  1.9  2.987000  1.000000e-03  1.006000e-01\n",
       "20  2.0  2.792000  1.100000e-03  1.104000e-01\n",
       "21  2.1  2.596000  1.200000e-03  1.202000e-01\n",
       "22  2.2  2.400000  1.300000e-03  1.300000e-01\n",
       "23  2.3  2.204000  1.400000e-03  1.398000e-01\n",
       "24  2.4  2.008000  1.500000e-03  1.496000e-01\n",
       "25  2.5  1.811000  1.600000e-03  1.595000e-01\n",
       "26  2.6  1.614000  1.700000e-03  1.693000e-01\n",
       "27  2.7  1.417000  1.800000e-03  1.792000e-01\n",
       "28  2.8  1.220000  1.900000e-03  1.890000e-01\n",
       "29  2.9  1.022000  2.000000e-03  1.989000e-01\n",
       "30  3.0  0.824765  2.100000e-03  2.088000e-01\n",
       "31  3.1  0.627158  2.200000e-03  2.186000e-01\n",
       "32  3.2  0.429473  2.300000e-03  2.285000e-01\n",
       "33  3.3  0.255856  2.400000e-03  2.372000e-01\n",
       "34  3.4  0.205486  2.500000e-03  2.397000e-01\n",
       "35  3.5  0.187098  2.600000e-03  2.406000e-01\n",
       "36  3.6  0.176139  2.700000e-03  2.412000e-01\n",
       "37  3.7  0.168376  2.800000e-03  2.416000e-01\n",
       "38  3.8  0.162379  2.900000e-03  2.419000e-01\n",
       "39  3.9  0.157500  3.000000e-03  2.421000e-01\n",
       "40  4.0  0.153392  3.100000e-03  2.423000e-01\n",
       "41  4.1  0.149845  3.200000e-03  2.425000e-01\n",
       "42  4.2  0.146727  3.300000e-03  2.427000e-01\n",
       "43  4.3  0.143946  3.400000e-03  2.428000e-01\n",
       "44  4.4  0.141437  3.500000e-03  2.429000e-01\n",
       "45  4.5  0.139151  3.600000e-03  2.430000e-01\n",
       "46  4.6  0.137054  3.700000e-03  2.431000e-01\n",
       "47  4.7  0.135116  3.800000e-03  2.432000e-01\n",
       "48  4.8  0.133316  3.900000e-03  2.433000e-01\n",
       "49  4.9  0.131634  4.000000e-03  2.434000e-01\n",
       "50  5.0  0.130058  4.100000e-03  2.435000e-01"
      ]
     },
     "execution_count": 2,
     "metadata": {},
     "output_type": "execute_result"
    }
   ],
   "source": [
    "import pandas as pd\n",
    "dades = pd.read_csv('data/Control/q1.csv')\n",
    "dades"
   ]
  },
  {
   "cell_type": "code",
   "execution_count": 5,
   "id": "6bc94fab-abe6-4f28-a5dd-f6cddf9e4884",
   "metadata": {
    "editable": true,
    "slideshow": {
     "slide_type": ""
    },
    "tags": [
     "hide-input"
    ]
   },
   "outputs": [
    {
     "data": {
      "image/png": "[encoded data removed]",
      "text/plain": [
       "<Figure size 1600x700 with 1 Axes>"
      ]
     },
     "metadata": {},
     "output_type": "display_data"
    }
   ],
   "source": [
    "%matplotlib inline\n",
    "import matplotlib.pyplot as plt\n",
    "import numpy as np\n",
    "\n",
    "Vb=dades['Vb']\n",
    "Vc=dades['Vc']\n",
    "Ib=dades['Ib']*1000\n",
    "Ic=dades['Ic']\n",
    "%matplotlib inline                               \n",
    "plt.rcParams['figure.figsize'] = (16,7)           # determines the dimensions (size of the figure)\n",
    "fig = plt.figure()\n",
    "plt.plot(Vb, Ic)\n",
    "plt.xlabel('$V_B \\ [V]$')\n",
    "plt.ylabel('$I_c \\ [A]$')\n",
    "plt.text(0.1,0.2,'Zona de tall')\n",
    "plt.axvline(x=0.80, color='red')\n",
    "plt.text(1.9,0.2,'Zona activa')\n",
    "plt.axvline(x=3.3, color='red')\n",
    "plt.text(4,0.2,'Zona de saturació')\n",
    "plt.show()"
   ]
  },
  {
   "cell_type": "markdown",
   "id": "19d21756-0096-4860-823e-da72d706b09e",
   "metadata": {
    "editable": true,
    "slideshow": {
     "slide_type": ""
    },
    "tags": []
   },
   "source": [
    "## El transistor en zona activa. Electrònica analògica"
   ]
  },
  {
   "cell_type": "code",
   "execution_count": 6,
   "id": "06c10b39-685f-4672-821c-7cf1c01aaacd",
   "metadata": {
    "editable": true,
    "slideshow": {
     "slide_type": ""
    },
    "tags": [
     "hide-input"
    ]
   },
   "outputs": [
    {
     "data": {
      "image/png": "[encoded data removed]",
      "text/plain": [
       "<Figure size 1600x700 with 1 Axes>"
      ]
     },
     "metadata": {},
     "output_type": "display_data"
    }
   ],
   "source": [
    "%matplotlib inline                               \n",
    "plt.rcParams['figure.figsize'] = (16,7)           # determines the dimensions (size of the figure)\n",
    "fig = plt.figure()\n",
    "plt.plot(Ib, Ic)\n",
    "plt.xlabel('$I_B \\ [mA]$')\n",
    "plt.ylabel('$I_C \\ [A]$')\n",
    "#plt.text(0.1,3.5,'Zona de tall')\n",
    "#plt.axvline(x=0.80, color='red')\n",
    "plt.text(0.7,0.2,'Zona activa')\n",
    "plt.axvline(x=2.4, color='red')\n",
    "plt.text(3,0.2,'Zona de saturació')\n",
    "plt.show()"
   ]
  },
  {
   "cell_type": "markdown",
   "id": "50eb2cba-b9cd-4d47-800a-3a718b291cef",
   "metadata": {
    "editable": true,
    "slideshow": {
     "slide_type": ""
    },
    "tags": []
   },
   "source": [
    "## El transistor en tall / saturació. Electrònica digital"
   ]
  },
  {
   "cell_type": "code",
   "execution_count": 12,
   "id": "c6dff479-c906-4412-880c-31f199c85c84",
   "metadata": {
    "editable": true,
    "slideshow": {
     "slide_type": ""
    },
    "tags": [
     "hide-input"
    ]
   },
   "outputs": [
    {
     "data": {
      "image/png": "[encoded data removed]",
      "text/plain": [
       "<Figure size 1600x700 with 1 Axes>"
      ]
     },
     "metadata": {},
     "output_type": "display_data"
    }
   ],
   "source": [
    "%matplotlib inline  \n",
    "import matplotlib.pyplot as plt\n",
    "plt.rcParams['figure.figsize'] = (16,7)           # determines the dimensions (size of the figure)\n",
    "fig = plt.figure()\n",
    "plt.plot(Vb, Vc)\n",
    "plt.xlabel('$V_B \\ [V]$')\n",
    "plt.ylabel('$V_c \\ [V]$')\n",
    "plt.text(0.1,3.5,'Zona de tall')\n",
    "plt.axhline(y=0.3, color='green')\n",
    "plt.axvline(x=0.80, color='red')\n",
    "plt.text(1.9,3.5,'Zona activa')\n",
    "plt.axvline(x=3.3, color='red')\n",
    "plt.text(4,3.5,'Zona de saturació')\n",
    "plt.axhline(y=4.9, color='green')\n",
    "plt.show()"
   ]
  },
  {
   "cell_type": "markdown",
   "id": "1fbe7396-8f23-4184-90b5-e3a352e0cc37",
   "metadata": {},
   "source": [
    "### Circuits de conmutació. El multivibrador astable.\n",
    "\n",
    "Podem aprofitar que la càrrega i descarrega d'un condensador no és instantània, ja que depèn de la resistència per la qual agafa o deixa anar electrons, per retardar el canvi tall / saturació del transistor. Apareix així un temps característic $\\tau = R C$.\n",
    "\n",
    "Un circuit típic que aprofita aquest recurs és el multivibrador astable {cite}`Multivibrador_astable_a_transistores` :"
   ]
  },
  {
   "cell_type": "code",
   "execution_count": 1,
   "id": "54e708d0-1758-46c1-b753-e7da96f05d42",
   "metadata": {
    "editable": true,
    "slideshow": {
     "slide_type": ""
    },
    "tags": [
     "hide-input"
    ]
   },
   "outputs": [
    {
     "data": {
      "text/html": [
       " <iframe src=\"https://www.falstad.com/circuit/circuitjs.html?ctz=CQAgjCAMB0l3BWEAOaAmZYCcB2BzkcBmLUhJBSECqhAUwFowwAoAd3DDRABZkQ0kfnyjsBQ3vwzD+kMdMkgiyHorkAnTtxHNuYHADYoSohvEzz4Q8bCRBLTQpEL9Rqrfublqkd6tulewBjLX9LV2MYeEgwfgYYHhiyAzQcNCwwIgMcHChYGJYQvwiXayoo+FilaGzyHgNkBBwsfFrVCtYOYus-NETRABcBAgEEI16xmxAGImgMykaeMCX8HEgiXISeBFsUwRxYsAQMcDgQABM6ADMAQwBXABsB+QkSkbRJuQ5So0EpT5YQz+oyMuhBUxgBhWRCWyBhGRIbhqKihPByBgymEwejOl1uj2eHDBETBfXKLAASqERFC1MZ+khynkECwAOahVJ6LhKSDtUTs3ppJQqHl8uQAD3ACCwAm5sSoaCOvHARgAwqxJUR9LKiCYpGAjKoDSBVWgWJLGgIDO5ILk0AZdUajABFDVKLAK6W8bn27QqkDOs2JXXYbjAtB9AT9dxoAD6HwMscgsaWdljCCT0DAsaY8djXFjRBYwYEQuBplUZJs2YTSZTHnTmZ4OZr+ezRZLREE4BORGOKqZyHzGDrqbjGYSLbzQ4763APCNJxJ1uMOGHQ+TY8bMGzubja6LAHtwLraYbIKQUNAVBeEFqI7ysIRZPkYsYcSADCwgA\" width=\"800\" height=\"600\"></iframe>\n"
      ],
      "text/plain": [
       "<IPython.core.display.HTML object>"
      ]
     },
     "metadata": {},
     "output_type": "display_data"
    }
   ],
   "source": [
    "%%html\n",
    " <iframe src=\"https://www.falstad.com/circuit/circuitjs.html?ctz=CQAgjCAMB0l3BWEAOaAmZYCcB2BzkcBmLUhJBSECqhAUwFowwAoAd3DDRABZkQ0kfnyjsBQ3vwzD+kMdMkgiyHorkAnTtxHNuYHADYoSohvEzz4Q8bCRBLTQpEL9Rqrfublqkd6tulewBjLX9LV2MYeEgwfgYYHhiyAzQcNCwwIgMcHChYGJYQvwiXayoo+FilaGzyHgNkBBwsfFrVCtYOYus-NETRABcBAgEEI16xmxAGImgMykaeMCX8HEgiXISeBFsUwRxYsAQMcDgQABM6ADMAQwBXABsB+QkSkbRJuQ5So0EpT5YQz+oyMuhBUxgBhWRCWyBhGRIbhqKihPByBgymEwejOl1uj2eHDBETBfXKLAASqERFC1MZ+khynkECwAOahVJ6LhKSDtUTs3ppJQqHl8uQAD3ACCwAm5sSoaCOvHARgAwqxJUR9LKiCYpGAjKoDSBVWgWJLGgIDO5ILk0AZdUajABFDVKLAK6W8bn27QqkDOs2JXXYbjAtB9AT9dxoAD6HwMscgsaWdljCCT0DAsaY8djXFjRBYwYEQuBplUZJs2YTSZTHnTmZ4OZr+ezRZLREE4BORGOKqZyHzGDrqbjGYSLbzQ4763APCNJxJ1uMOGHQ+TY8bMGzubja6LAHtwLraYbIKQUNAVBeEFqI7ysIRZPkYsYcSADCwgA\" width=\"800\" height=\"600\"></iframe>"
   ]
  },
  {
   "cell_type": "markdown",
   "id": "fcf6404f-5ec5-4b31-bcd6-902f3a91c9b6",
   "metadata": {
    "editable": true,
    "slideshow": {
     "slide_type": ""
    },
    "tags": []
   },
   "source": [
    "## Productes comercials\n",
    "\n",
    "Un transistor molt utilitzat és el [BC337](http://www.jorts.net/jupbook/pdf/BC337.pdf)\n",
    "\n",
    "![](img/Control/bc337.gif)"
   ]
  },
  {
   "cell_type": "code",
   "execution_count": null,
   "id": "0e06bd9b-d8a2-4389-b1eb-10d219be4eeb",
   "metadata": {},
   "outputs": [],
   "source": []
  }
 ],
 "metadata": {
  "kernelspec": {
   "display_name": "venvPy3",
   "language": "python",
   "name": "venvpy3"
  },
  "language_info": {
   "codemirror_mode": {
    "name": "ipython",
    "version": 3
   },
   "file_extension": ".py",
   "mimetype": "text/x-python",
   "name": "python",
   "nbconvert_exporter": "python",
   "pygments_lexer": "ipython3",
   "version": "3.10.12"
  }
 },
 "nbformat": 4,
 "nbformat_minor": 5
}
