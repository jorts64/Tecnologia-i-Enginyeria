{
 "cells": [
  {
   "attachments": {},
   "cell_type": "markdown",
   "id": "335800ff-d505-4474-ac94-b35559842ace",
   "metadata": {
    "editable": true,
    "slideshow": {
     "slide_type": ""
    },
    "tags": []
   },
   "source": [
    "# Sòlids\n",
    "\n"
   ]
  },
  {
   "cell_type": "markdown",
   "id": "f0b79faa-9f2d-484c-86c4-c7345c8e1bdf",
   "metadata": {
    "editable": true,
    "slideshow": {
     "slide_type": ""
    },
    "tags": []
   },
   "source": [
    "```{admonition} Pàgina en desenvolupament\n",
    "Encara estem treballant en aquest document.   \n",
    "Esperem oferir-vos properament el seu contingut.   \n",
    "Disculpeu les molèsties.\n",
    "```"
   ]
  },
  {
   "cell_type": "markdown",
   "id": "30b1c878-3ffa-4db8-834b-8975c8208639",
   "metadata": {
    "editable": true,
    "slideshow": {
     "slide_type": ""
    },
    "tags": []
   },
   "source": [
    "La majoria de materials que selecciona un enginyer son sòlids, per això ens centrarem en aquest tipus de materials. Com heu vist trobarem sòlids amorfs i sòlids cristal·lins.\n",
    "\n",
    "| Vidre | Grafè |\n",
    "|:---:|:---:|\n",
    "|<a title=\"Silica.jpg: Jdrewitt, Public domain, via la Wikimedia Commons\" href=\"https://commons.wikimedia.org/wiki/File:Silica.svg\"><img width=\"400\" alt=\"Silica\" src=\"https://upload.wikimedia.org/wikipedia/commons/thumb/4/4b/Silica.svg/256px-Silica.svg.png\"></a>|<a title=\"AlexanderAlUS, CC BY-SA 3.0 &lt;https://creativecommons.org/licenses/by-sa/3.0&gt;, via Wikimedia Commons\" href=\"https://commons.wikimedia.org/wiki/File:Graphen.jpg\"><img width=\"512\" alt=\"Graphen\" src=\"https://upload.wikimedia.org/wikipedia/commons/thumb/9/9e/Graphen.jpg/512px-Graphen.jpg\"></a>|\n"
   ]
  },
  {
   "cell_type": "markdown",
   "id": "abfdf6e7-25c7-4c52-a420-2a43e858476e",
   "metadata": {
    "editable": true,
    "slideshow": {
     "slide_type": ""
    },
    "tags": []
   },
   "source": [
    "Fixeu-vos en l’estructura del vidre. No es repeteix periòdicament. Per molt que a la nostra vida quotidiana diem cristall per anomenar el vidre, el vidre és un sòlid amorf, no cristal·lí. Els sòlids amorfs es poden considerar com a líquids amb una viscositat altíssima. Prova d’això son les deformacions observables a vidres de finestres centenàries de masies i esglésies: s’aprecia òpticament un engrossiment a la part inferior del vidre, que actua com a lent, deformant les imatges.\n",
    "\n",
    "Quan el sòlid no és un únic cristall sinó un agregat de petits cristalls parlem de policristall. Aquests petits   cristalls s’anomenen cristal·lites o grans cristal·lins, que poden tenir mides d’entre 1 i 2 micres fins a uns quants mil·límetres, fins-i-tot uns quants metres.\n",
    "\n",
    "<a title=\"Cristal_ou_amorphe.svg: Cdang\n",
    "Everything else: Sbyrnes321, CC BY-SA 3.0 &lt;https://creativecommons.org/licenses/by-sa/3.0&gt;, via Wikimedia Commons\" href=\"https://commons.wikimedia.org/wiki/File:Crystalline_polycrystalline_amorphous2.svg\"><img width=\"511\" alt=\"Crystalline polycrystalline amorphous2\" src=\"https://upload.wikimedia.org/wikipedia/commons/0/05/Crystalline_polycrystalline_amorphous2.svg\"></a>\n"
   ]
  },
  {
   "cell_type": "markdown",
   "id": "ed326caf-7c36-46a8-ad3d-92355f35eca3",
   "metadata": {
    "editable": true,
    "slideshow": {
     "slide_type": ""
    },
    "tags": []
   },
   "source": [
    "## Estructures cristal·lines\n",
    "L’estudi d’aquestes estructures sempre ha fascinat als científics, ja que molts minerals presenten aquest tipus d’ordenació. El més sorprenent és que, donada la seva simetria, únicament existeixen 7 sistemes cristal·lins, que presenten  només 14 models de xarxes tridimensionals invariants sota translacions, anomenades xarxes de Bravais.\n",
    "\n",
    "|Sistema cristal·lí |Eixos |Angles entre els eixos |\n",
    "| :---| :---| :---|\n",
    "|Cúbic|a = b = c|α = β = γ = 90°|\n",
    "|Tetragonal|a = b ≠ c|α = β = γ = 90° |\n",
    "|Ortoròmbic|a ≠ b ≠ c ≠ a|α = β = γ = 90° |\n",
    "|Hexagonal|a = b ≠ c|α = β = 90°; γ = 120º |\n",
    "|Trigonal (o romboèdric)|a = b = c |α = β = γ ≠ 90° |\n",
    "|Monoclínic|a ≠ b ≠ c ≠ a|α = γ = 90°; β ≠ 90° |\n",
    "|Triclínic|a ≠ b ≠ c ≠ a|α ≠ β ≠ γ (tots diferents de 90°)|\n",
    "\n",
    "|Cel·la cúbica simple|Cel·la cúbica centrada al cos (BCC)|Cel·la cúbica centrada a les cares (FCC)|Cel·la tetragonal simple|Cel·la tetragonal centrada en el cos|\n",
    "|:---:|:---:|:---:|:---:|:---:|\n",
    "|<a title=\"Vectorization:  Stannered, CC BY-SA 3.0 &lt;http://creativecommons.org/licenses/by-sa/3.0/&gt;, via Wikimedia Commons\" href=\"https://commons.wikimedia.org/wiki/File:Cubic.svg\"><img width=\"109\" alt=\"Cubic\" src=\"https://upload.wikimedia.org/wikipedia/commons/5/55/Cubic.svg\"></a>|<a title=\"Original:  Daniel Mayer   and  DrBob at English Wikipedia Vector:  Stannered, CC BY-SA 3.0 &lt;http://creativecommons.org/licenses/by-sa/3.0/&gt;, via Wikimedia Commons\" href=\"https://commons.wikimedia.org/wiki/File:Cubic-body-centered.svg\"><img width=\"109\" alt=\"Cubic-body-centered\" src=\"https://upload.wikimedia.org/wikipedia/commons/a/a3/Cubic-body-centered.svg\"></a>|<a title=\"Original PNGs by Daniel Mayer and DrBob, traced in Inkscape by User:Stannered, CC BY-SA 3.0 &lt;http://creativecommons.org/licenses/by-sa/3.0/&gt;, via Wikimedia Commons\" href=\"https://commons.wikimedia.org/wiki/File:Cubic-face-centered.svg\"><img width=\"109\" alt=\"Cubic-face-centered\" src=\"https://upload.wikimedia.org/wikipedia/commons/c/c9/Cubic-face-centered.svg\"></a>|<a title=\"Vectorization:  Stannered, CC BY-SA 3.0 &lt;http://creativecommons.org/licenses/by-sa/3.0/&gt;, via Wikimedia Commons\" href=\"https://commons.wikimedia.org/wiki/File:Tetragonal.svg\"><img width=\"108\" alt=\"Tetragonal\" src=\"https://upload.wikimedia.org/wikipedia/commons/0/0a/Tetragonal.svg\"></a>|<a title=\"Vectorization:  Stannered, CC BY-SA 3.0 &lt;http://creativecommons.org/licenses/by-sa/3.0/&gt;, via Wikimedia Commons\" href=\"https://commons.wikimedia.org/wiki/File:Body-centered_tetragonal.svg\"><img width=\"108\" alt=\"Body-centered tetragonal\" src=\"https://upload.wikimedia.org/wikipedia/commons/f/f7/Body-centered_tetragonal.svg\"></a>|\n",
    "\n",
    "|Cel·la hexagonal|Cel·la ortoròmbica simple|Cel·la ortoròmbica centrada al cos|Cel·la ortoròmbica centrada a les bases|Cel·la ortoròmbica centrada a les cares|\n",
    "|:---:|:---:|:---:|:---:|:---:|\n",
    "|<a title=\"Bor75, CC BY-SA 3.0 &lt;https://creativecommons.org/licenses/by-sa/3.0&gt;, via Wikimedia Commons\" href=\"https://commons.wikimedia.org/wiki/File:Hexagonal_latticeFRONT.svg\"><img width=\"160\" alt=\"Hexagonal latticeFRONT\" src=\"https://upload.wikimedia.org/wikipedia/commons/1/1b/Hexagonal_latticeFRONT.svg\"></a>|<a title=\"Vectorization:  Stannered, CC BY-SA 3.0 &lt;http://creativecommons.org/licenses/by-sa/3.0/&gt;, via Wikimedia Commons\" href=\"https://commons.wikimedia.org/wiki/File:Orthorhombic.svg\"><img width=\"108\" alt=\"Orthorhombic\" src=\"https://upload.wikimedia.org/wikipedia/commons/d/dd/Orthorhombic.svg\"></a>|<a title=\"Vectorization:  Stannered, CC BY-SA 3.0 &lt;http://creativecommons.org/licenses/by-sa/3.0/&gt;, via Wikimedia Commons\" href=\"https://commons.wikimedia.org/wiki/File:Body-centered_orthorhombic.svg\"><img width=\"108\" alt=\"Body-centered orthorhombic\" src=\"https://upload.wikimedia.org/wikipedia/commons/a/aa/Body-centered_orthorhombic.svg\"></a>|<a title=\"Vectorization:  Stannered, CC BY-SA 3.0 &lt;http://creativecommons.org/licenses/by-sa/3.0/&gt;, via Wikimedia Commons\" href=\"https://commons.wikimedia.org/wiki/File:Base-centered_orthorhombic.svg\"><img width=\"108\" alt=\"Base-centered orthorhombic\" src=\"https://upload.wikimedia.org/wikipedia/commons/b/b4/Base-centered_orthorhombic.svg\"></a>|<a title=\"Vectorization:  Stannered, CC BY-SA 3.0 &lt;http://creativecommons.org/licenses/by-sa/3.0/&gt;, via Wikimedia Commons\" href=\"https://commons.wikimedia.org/wiki/File:Face-centered_orthorhombic.svg\"><img width=\"108\" alt=\"Face-centered orthorhombic\" src=\"https://upload.wikimedia.org/wikipedia/commons/0/0f/Face-centered_orthorhombic.svg\"></a>|\n",
    "\n",
    "|Cel·la romboèdrica|Cel·la monoclínica|Cel·la monoclínica centrada a les bases|Cel·la triclínica|\n",
    "|:---:|:---:|:---:|:---:|\n",
    "|<a title=\"Vectorization:  Stannered, CC BY-SA 3.0 &lt;http://creativecommons.org/licenses/by-sa/3.0/&gt;, via Wikimedia Commons\" href=\"https://commons.wikimedia.org/wiki/File:Rhombohedral.svg\"><img width=\"139\" alt=\"Rhombohedral\" src=\"https://upload.wikimedia.org/wikipedia/commons/0/03/Rhombohedral.svg\"></a>|<a title=\"Original PNGs by Daniel Mayer, traced in Inkscape by User:Stannered, CC BY-SA 3.0 &lt;http://creativecommons.org/licenses/by-sa/3.0/&gt;, via Wikimedia Commons\" href=\"https://commons.wikimedia.org/wiki/File:Monoclinic.svg\"><img width=\"114\" alt=\"Monoclinic\" src=\"https://upload.wikimedia.org/wikipedia/commons/f/f4/Monoclinic.svg\"></a>|<a title=\"Vectorization:  Stannered, CC BY-SA 3.0 &lt;http://creativecommons.org/licenses/by-sa/3.0/&gt;, via Wikimedia Commons\" href=\"https://commons.wikimedia.org/wiki/File:Base-centered_monoclinic.svg\"><img width=\"114\" alt=\"Base-centered monoclinic\" src=\"https://upload.wikimedia.org/wikipedia/commons/c/c8/Base-centered_monoclinic.svg\"></a>|<a title=\"Vectorization:  Stannered, CC BY-SA 3.0 &lt;http://creativecommons.org/licenses/by-sa/3.0/&gt;, via Wikimedia Commons\" href=\"https://commons.wikimedia.org/wiki/File:Triclinic.svg\"><img width=\"129\" alt=\"Triclinic\" src=\"https://upload.wikimedia.org/wikipedia/commons/1/17/Triclinic.svg\"></a>|\n",
    "\n",
    "\n",
    "Ens centrarem en les xarxes de Bravais cúbiques (simple, BCC i FCC), tetragonals (simple i centrada en el cos) i hexagonal (a la qual normalment ens referirem com hexagonal compacta o HCP), ja que són les més típiques que trobarem, especialment als metalls.\n",
    "Són moltes les propietats que podrem deduir de l’estructura cristal·lina als metalls, com per exemple la seva mal·leabilitat i ductilitat, ja que poden reorganitzar-se al lliscar els àtoms entre sí mantenint la cohesió entre ells.\n",
    "\n",
    "Cal ressaltar que un mateix compost pot presentar diferents estructures cristal·lines, en funció de paràmetres com ara la pressió o temperatura. Un exemple és el titani, que podem trobar amb ordenacions HCP i  BCC, o el ferro, que trobarem amb estructures BCC i FCC. \n",
    "\n",
    "Si un mateix compost es pot donar en diferents xarxes de Bravias implica la possibilitat d’un canvi de fase sense que es produeixi un canvi d’estat. Per exemple, el Fe β (estructura BCC) passa a Fe γ (estructura FCC) als 750 °C. Com veieu, tots dos són sòlids, però la temperatura es manté constant a 750 °C mentre es produeix el canvi de fase i tot el Fe β es reorganitza i es converteix en Fe γ. Com veieu, la natura és rica en sorpreses!\n",
    "\n",
    "Més sorprenent és que als 1400 °C el Fe γ presenta un nou canvi de fase, a Fe δ, tornant a presentar una estructura BCC però amb un paràmetre de xarxa a (distància entre cel·les) diferent al Fe β.\n",
    "\n",
    "Fixeu-vos que la cel·la hexagonal en realitat no és un hexàgon: aquest es forma amb 3 cel·les.\n"
   ]
  },
  {
   "cell_type": "markdown",
   "id": "89777ba6-3c7b-46d8-ae7f-0f5aa9b8a5af",
   "metadata": {
    "editable": true,
    "slideshow": {
     "slide_type": ""
    },
    "tags": []
   },
   "source": [
    "## Aplicació als metalls\n",
    "Podem considerar l’estudi dels sòlids cristal·lins metàl·lics com un problema matemàtic d’empaquetament de boles sòlides. Aquest estudi és molt senzill a les estructures cúbiques.\n",
    "\n",
    "Primer anem a veure quants àtoms caben a la cel·la unitat (N), suposant cada àtom com una bola sòlida amb un radi igual al radi atòmic, i la mida del costat d’aquesta cel·la (paràmetre de xarxa a):\n",
    "\n",
    "| CS | FCC | BCC|\n",
    "|:---:|:---:|:---:|\n",
    "|<a title=\"CCC_crystal_cell_(opaque).svg: *Cubique_centre_atomes_par_maille.svg: Cdang (original idea and SVG execution), Samuel Dupré (3D modelling with SolidWorks)derivative work: Daniele Pugliesi (talk)derivative work: Daniele Pugliesi, CC BY-SA 3.0 &lt;https://creativecommons.org/licenses/by-sa/3.0&gt;, via Wikimedia Commons\" href=\"https://commons.wikimedia.org/wiki/File:Simple_cubic_crystal_cell_(opaque).svg\"><img width=\"256\" alt=\"Simple cubic crystal cell (opaque)\" src=\"https://upload.wikimedia.org/wikipedia/commons/1/12/Simple_cubic_crystal_cell_%28opaque%29.svg\"></a>|<a title=\"Cdang, CC BY-SA 3.0 &lt;https://creativecommons.org/licenses/by-sa/3.0&gt;, via Wikimedia Commons\" href=\"https://commons.wikimedia.org/wiki/File:Cubique_a_faces_centrees_atomes_par_maille.svg\"><img width=\"150\" alt=\"Cubique a faces centrees atomes par maille\" src=\"https://upload.wikimedia.org/wikipedia/commons/9/96/Cubique_a_faces_centrees_atomes_par_maille.svg\"></a>|<a title=\"Cubique_centre_atomes_par_maille.svg: Cdang (original idea and SVG execution), Samuel Dupré (3D modelling with SolidWorks)derivative work: Daniele Pugliesi, CC BY-SA 3.0 &lt;https://creativecommons.org/licenses/by-sa/3.0&gt;, via Wikimedia Commons\" href=\"https://commons.wikimedia.org/wiki/File:CCC_crystal_cell_(opaque).svg\"><img width=\"256\" alt=\"CCC crystal cell (opaque)\" src=\"https://upload.wikimedia.org/wikipedia/commons/d/d9/CCC_crystal_cell_%28opaque%29.svg\"></a>|\n",
    "|$\\Large N=8\\cdot \\frac{1}{8}=1$|$\\Large N=8\\cdot \\frac{1}{8}+6\\cdot \\frac{1}{2}=4$|$\\Large N=8\\cdot \\frac{1}{8}+1\\cdot 1=2$|\n",
    "|$\\Large a=2\\cdot r$|$\\Large a=\\frac{4}{\\sqrt{2}}\\cdot r$|$\\Large a=\\frac{4}{\\sqrt{3}}\\cdot r$|\n",
    "\n",
    "Per tant en una cel·la de volum $a^3$ tenim N àtoms. Com cada mol té $N_A$ (nombre d’Avogadro) àtoms i pesa en grams $A$ (massa atòmica) podem fer una estimació de la densitat:\n",
    "\n",
    "$\\rho = \\Large \\frac{N \\cdot A}{a^3\\cdot N_A}$\n",
    "\n",
    "Molt interessant és l’anomenat factor d’empaquetament ($APF$), que ens indica com de plena està la cel·la:\n",
    "\n",
    "$APF= \\Large \\frac{N \\cdot V_{àtom}}{V_{cel·la}}$\n",
    "\n",
    "Als metalls, el $APF$ de les cel·les FCC és el més eficient possible (0,74). Les cel·les BCC tenen un $APF$ de 0.68 i les cel·les CS de 0.52. Els metalls que només tenen un enllaç de tipus metàl·lic s’empaqueten amb la màxima eficiència. Els que tenen un enllaç mixt, com el ferro, poden tenir cel·les amb un empaquetament inferior. Cap metall comú utilitzat a enginyeria té l’estructura CS, encara que aquesta es troba en materials ceràmics.\n",
    "\n",
    "A l’estructura HCP, els metalls ideals tenen una relació $c/a = 1,633$que ens porta al mateix $APF$ 0,74 de les cel·les FCC, per la qual cosa molts metalls adopten aquesta estructura. En aquesta xarxa el volum de la cel·la és $V=a^2\\cdot c\\cdot cos{30^o}$.\n",
    "\n",
    "| Xarxa | |Paràmetres de xarxa|Àtoms per del·la|APF|Metalls típics|\n",
    "| :---:| :---:| :---:| :---:| :---:| :---:|\n",
    "| Cúbica simple | CS|$a=2\\cdot r$|1|0,52|Cap|\n",
    "| Cúbica centrada en les cares | FCC|$\\Large a=\\frac{4}{\\sqrt{2}}\\cdot r$|4|0,74|Fe, Cu, Al, Au, Ag, Pb, Ni, Pt|\n",
    "| Cúbica simple | BCC|$\\Large a=\\frac{4}{\\sqrt{3}}\\cdot r$|2|0,68|Fe, Ti, W, Mo, Nb, Ta, K, Na, V, Cr, Zr|\n",
    "| Cúbica simple | HCP|$a=2\\cdot r$ <br> $ c=1,633\\cdot a$|2|0,74|Ti, Mg, Zn, Be, Co, Cd|\n",
    "\n"
   ]
  },
  {
   "cell_type": "markdown",
   "id": "aee7b880-07ba-4c65-8e57-915935ae0c7a",
   "metadata": {
    "editable": true,
    "slideshow": {
     "slide_type": ""
    },
    "tags": []
   },
   "source": [
    "## El diamant i el grafit\n",
    "No podríem trobar millor exemple de com l’organització cristal·lina d’un mateix element, en aquest cas el carboni, pot canviar radicalment les propietats del material. A una banda, el diamant, el material natural més dur  (10 a l’escala de Mohs), a l’altre, el grafit, amb una duresa tan baixa (entre 1 i 2 a la mateixa escala) que el fem servir als nostres llapis per escriure. Tots dos amb enllaç covalent. On és, doncs, la diferència? \n",
    "\n",
    "<a title=\"Diamond_and_graphite.jpg: User:Itub\n",
    "derivative work: Materialscientist, CC BY-SA 3.0 &lt;http://creativecommons.org/licenses/by-sa/3.0/&gt;, via Wikimedia Commons\" href=\"https://commons.wikimedia.org/wiki/File:Diamond_and_graphite2.jpg\"><img width=\"600\" alt=\"Diamond and graphite2\" src=\"https://upload.wikimedia.org/wikipedia/commons/d/d9/Diamond_and_graphite2.jpg\"></a>\n",
    "\n",
    "Al diamant trobem una estructura cúbica on les distàncies entre àtoms és sempre la mateixa, formant tetraedres. Tenint en compte el caràcter covalent de l’enllaç, aquesta és una estructura molt cohesionada, d’aquí la seva gran duresa i la seva condició d'aïllant elèctric.\n",
    "\n",
    "Al grafit, en canvi, trobem estructures planes hexagonals apilades però separades molt entre elles. Com veieu a la figura la cohesió a l’eix z és molt més feble que als altres eixos.\n",
    "\n",
    "A temperatura i pressions estàndard el carboni adopta la forma del grafit. Únicament amb grans pressions i temperatures adopta la forma de diamant. Per això és més fàcil trobar grafit que diamants. De fet el diamant és una fase metaestable del grafit, però amb una velocitat de conversió negligible a efectes pràctics. No patiu: si teniu un diamant no es convertirà en grafit en molt temps!\n",
    "\n",
    "Les capes del grafit poden lliscar entre elles, deixant empremtes al paper. Fins-i-tot no és difícil desplaçar els electrons que fan les unions verticals. D’aquí el caràcter conductor del grafit.\n",
    "\n",
    "Al grafit els àtoms de carboni presenten tres enllaços covalents en el pla xy amb un angle de 120° i una distància de 0,142 nm entre ells. La distància entre capes en la direcció z és de 0,342 nm, i les forces de cohesió, de tipus Van der Vaals, són molt més febles. Tot això fa que el grafit presenti unes propietats clarament anisòtropes. Elèctricament, per exemple, en les direccions xy es comporta gairebé com un metall, mentre que en la direcció z  ho fa com un semiconductor.\n",
    "\n",
    "Si aquesta riquesa de diversitat de propietats us sorprèn, espereu a veure altres formes al·lotròpiques del carboni descobertes als darrers anys, com ara el grafè, els nanotubs de carboni o els ful·lerens, que veurem més endavant."
   ]
  },
  {
   "cell_type": "markdown",
   "id": "a5019efb-eaac-43b6-b099-19f32245f7fa",
   "metadata": {
    "editable": true,
    "slideshow": {
     "slide_type": ""
    },
    "tags": []
   },
   "source": [
    "## Estructura de bandes\n",
    "Hem parlat de semiconductors i metalls. Que hi ha darrera d’aquests conceptes?\n",
    "\n",
    "El model atòmic estableix un conjunt de valors discrets per l’energia dels electrons d’un àtom. Però, que passa quan tenim de l’ordre de 10²³ àtoms iguals junts? A conseqüència del principi d’exclusió de Pauli, aquests valors energètics fan un splitting, es divideixen en milions de nivells d’energia diferents molt propers. Tant, que la línia que representa el nivell d’energia es converteix en una banda. El salt entre dos bandes s’anomena gap.\n",
    "\n",
    "![](img/Materials/Isolator-metal.svg)\n",
    "\n",
    "A 0 K tots els electrons ocupen nivells d’energia inferior al nivell de Fermi. Segons on queda aquest nivell de Fermi respecte a les bandes d’energia i els seus gaps ens trobem amb diferents casos:\n",
    "* Si el nivell de Fermi es troba en mig de les bandes d’energia ens trobem amb un metall, ja que els electrons poden fàcilment rebre energia.\n",
    "* Si el nivell de Fermi es troba al mig d’un gap petit, l’energia tèrmica (mai som a 0 K) permet que electrons de la banda de valència (en color vermell) passin a la banda de conducció (en color violat), deixant un forat a la banda de valència. El forat es comporta com una carrega positiva. Ens trobem amb un semiconductor: a mes temperatura, més electrons passen a la banda de conducció i més forats es produeixen a la banda de valència. Amb l’increment de càrregues lliures d’agafar energia millora la conductivitat elèctrica. Just al contrari que en el metall. Als metalls conforme més electrons agafen energia menys nivells lliures tenim per agafar-ne de nova i la banda es satura, presentant un descens de la conductivitat amb la temperatura. L’energia de la llum produeix el mateix efecte de creació de parells electró-forat al semiconductor, essent la base de les cèl·lules fotovoltaiques.\n",
    "* Si el nivell de Fermi es troba al mig d’un gap important entre les bandes de valència i conducció ens trobem amb un aïllant. L’energia tèrmica no és suficient er portar electrons de la banda de valència a la de conducció i no tenim càrregues que puguin agafar l’energia elèctrica disponible."
   ]
  },
  {
   "cell_type": "markdown",
   "id": "b461e69c-7aba-432a-9d05-34fe99581370",
   "metadata": {
    "editable": true,
    "slideshow": {
     "slide_type": ""
    },
    "tags": []
   },
   "source": [
    "## Cristalls iònics\n",
    "A un cristall iònic tenim anions i cations a diferents posicions de la cel·la unitat. Per exemple, un cristall de NaCl el podem considerar com dues xarxes FCC, una amb ions Cl- i la segona, desplaçada  a/2, d’ions Na+. Les forces de Coulomb entre els ions són de tal magnitud que el sòlid és molt dur. Però, a la vegada, és molt fràgil: és suficient un cop per desplaçar una capa sobre l’altre per un instant i, el que abans era atracció que donava cohesió a la xarxa esdevé repulsió que la fractura. Aquesta relació duresa/fragilitat serà una constant el l’estudi dels materials.\n",
    "\n",
    "<a title=\"H. Hoffmeister at German Wikipedia, CC BY-SA 3.0 &lt;http://creativecommons.org/licenses/by-sa/3.0/&gt;, via Wikimedia Commons\" href=\"https://commons.wikimedia.org/wiki/File:NaCl-Ionengitter.png\"><img width=\"275\" alt=\"NaCl-Ionengitter\" src=\"https://upload.wikimedia.org/wikipedia/commons/2/2e/NaCl-Ionengitter.png\"></a>\n",
    "\n"
   ]
  },
  {
   "cell_type": "markdown",
   "id": "26d8c300-14d1-48f1-8417-df3b26e65ce9",
   "metadata": {
    "editable": true,
    "slideshow": {
     "slide_type": ""
    },
    "tags": []
   },
   "source": [
    "## Sòlids amorfs\n",
    "Els sòlids amorfs no tenen estructura cristal·lina.  Un exemple n’és el vidre. \n",
    "\n",
    "Tenen un ordre a curt abast: fixeu-vos en la figura com els triangles centrats en àtoms Si o els centrats amb àtoms O es repeteixen en tota l’estructura. Però no tenen ordre de llarg abast: no són cristalls.\n",
    "\n",
    "![](img/Materials/Silica.svg)\n",
    "\n",
    "Aquesta manca d’ordenació els dona unes propietats electròniques i òptiques molt diverses, i diferents del mateix compost en forma cristal·lina. El vidre és transparent, la sorra no. \n",
    "\n",
    "Una altra conseqüència es que no tenen un punt de fusió definit, sinó un interval de temperatures.\n",
    "\n",
    "Quan escalfem el vidre, disminueix la seva viscositat (recordem que podem considerar que un amorf és un líquid extremadament viscós), s'estova i el podem deformar fàcilment, de forma que el podem conformar, fins-i-tot per bufat. \n",
    "\n",
    "Com les nanoestructures del vidre s’orienten a l’atzar, aquest material presenta propietats isòtropes.\n",
    "\n",
    "Especialment interessants són els metalls amorfs, també anomenats *vidres metàl·lics*. Com no tenen estructura de bandes, no són bons conductors de l’electricitat, malgrat els seus àtoms metàl·lics. Això és especialment interessant si presenten propietats ferromagnètiques, ja que permeten crear circuits magnètics absents de pèrdues per corrents de Foucault. \n",
    "\n",
    "Freqüentment els plàstics presenten una estructura amorfa, així com gels, capes primes i d’altres materials amb nanoestructures com el vidre.\n",
    "A la temperatura de transició vítria ($T_g$) els materials vítrics presenten una transició on comencen a estovar-se, disminuint la seva densitat, duresa i rigidesa."
   ]
  },
  {
   "cell_type": "code",
   "execution_count": null,
   "id": "f2391c7c-1693-4ef2-a260-0c9d764db53a",
   "metadata": {
    "editable": true,
    "slideshow": {
     "slide_type": ""
    },
    "tags": []
   },
   "outputs": [],
   "source": []
  }
 ],
 "metadata": {
  "kernelspec": {
   "display_name": "venvPy3",
   "language": "python",
   "name": "venvpy3"
  },
  "language_info": {
   "codemirror_mode": {
    "name": "ipython",
    "version": 3
   },
   "file_extension": ".py",
   "mimetype": "text/x-python",
   "name": "python",
   "nbconvert_exporter": "python",
   "pygments_lexer": "ipython3",
   "version": "3.10.12"
  }
 },
 "nbformat": 4,
 "nbformat_minor": 5
}
