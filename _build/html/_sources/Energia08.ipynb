{
 "cells": [
  {
   "cell_type": "markdown",
   "id": "7df2f400-65dd-4ff5-a83c-0669f20bf51c",
   "metadata": {
    "editable": true,
    "slideshow": {
     "slide_type": ""
    },
    "tags": []
   },
   "source": [
    "# Energia química"
   ]
  },
  {
   "cell_type": "markdown",
   "id": "8a581ac3-d120-4134-9d99-659e99ccb10b",
   "metadata": {
    "editable": true,
    "slideshow": {
     "slide_type": ""
    },
    "tags": []
   },
   "source": [
    "```{admonition} Pàgina en desenvolupament\n",
    "Encara estem treballant en aquest document.   \n",
    "Esperem oferir-vos properament el seu contingut.   \n",
    "Disculpeu les molèsties.\n",
    "```"
   ]
  },
  {
   "attachments": {},
   "cell_type": "markdown",
   "id": "cbbdcc0e-c1dd-44d4-af4d-c6960758e04c",
   "metadata": {},
   "source": [
    "Com sabeu les reaccions químiques porten associades intercanvis d'energia. Bon exemple són els petards de la revetlla de Sant Joan.\n",
    "\n",
    "Nosaltres estarem especialment interessats en l'energia produïda en la combustió de gas, carbó i d'altres combustibles. La calor produïda típicament és de la forma\n",
    "\n",
    "$Q = m \\ p_c$\n",
    "\n",
    "On $p_c$ és el poder calorífic\n",
    "\n",
    "si dividim pel temps \t\n",
    "\n",
    "$P = \\dot{m} \\ p_c$\n",
    "\t\n",
    "Es interessant definir el consum específic com\t\n",
    "\n",
    "$c_e \\equiv \\Large \\frac{combustible \\ utilitzat \\ en \\ g}{energia \\ produïda \\ en \\ kWh}$\n",
    "\n",
    "![](img/Energia/PAUescalfador.png))\n"
   ]
  },
  {
   "cell_type": "code",
   "execution_count": null,
   "id": "406a5193-809a-44b2-abc8-73b9fcbcc235",
   "metadata": {},
   "outputs": [],
   "source": []
  }
 ],
 "metadata": {
  "kernelspec": {
   "display_name": "venvPy3",
   "language": "python",
   "name": "venvpy3"
  },
  "language_info": {
   "codemirror_mode": {
    "name": "ipython",
    "version": 3
   },
   "file_extension": ".py",
   "mimetype": "text/x-python",
   "name": "python",
   "nbconvert_exporter": "python",
   "pygments_lexer": "ipython3",
   "version": "3.10.12"
  }
 },
 "nbformat": 4,
 "nbformat_minor": 5
}
