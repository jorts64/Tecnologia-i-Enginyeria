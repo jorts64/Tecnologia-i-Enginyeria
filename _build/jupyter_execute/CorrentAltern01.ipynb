{
 "cells": [
  {
   "cell_type": "markdown",
   "id": "7df2f400-65dd-4ff5-a83c-0669f20bf51c",
   "metadata": {
    "editable": true,
    "slideshow": {
     "slide_type": ""
    },
    "tags": []
   },
   "source": [
    "# Corrent Altern"
   ]
  },
  {
   "cell_type": "markdown",
   "id": "d11d342a-c6bf-4642-8c6b-49d2a05621f2",
   "metadata": {
    "editable": true,
    "slideshow": {
     "slide_type": ""
    },
    "tags": []
   },
   "source": [
    "```{admonition} Pàgina en desenvolupament\n",
    "Encara estem treballant en aquest document.   \n",
    "Esperem oferir-vos properament el seu contingut.   \n",
    "Disculpeu les molèsties.\n",
    "```"
   ]
  },
  {
   "cell_type": "markdown",
   "id": "2a238889-7756-46be-856a-f03649824798",
   "metadata": {},
   "source": [
    "Típicament la generació d'energia elèctrica a les centrals es produeix en forma de corrent altern (AC). Aquet tipus de corrent té avantatges, com ara simplificar els generadors, alternadors en aquest cas; i reduir les pèrdues en la seva transmissió gràcies a la conversió a molt alt voltatge ([MAT](https://ca.wikipedia.org/wiki/Alta_tensi%C3%B3)) als transformadors. En el tema **Màquines elèctriques** estudiarem aquests dispositius."
   ]
  },
  {
   "cell_type": "markdown",
   "id": "0fd40440-86bb-4716-acfc-08e59073a4b2",
   "metadata": {},
   "source": [
    "## Resposta AC d'una resistència\n",
    "\n",
    "Veiem l'efecte d'un corrent AC sobre una resistència:"
   ]
  },
  {
   "cell_type": "code",
   "execution_count": 1,
   "id": "aaf542a0-d137-4ce4-9b8c-c9a25ae705fe",
   "metadata": {
    "editable": true,
    "slideshow": {
     "slide_type": ""
    },
    "tags": [
     "hide-input"
    ]
   },
   "outputs": [
    {
     "data": {
      "text/html": [
       " <iframe src=\"https://www.falstad.com/circuit/circuitjs.html?ctz=CQAgjCAMB0l3BWEAmB0FksgHGAbAOyRHLKR4gDMSNkICApgLRhgBQAbuARahWDxDY6dCAjqVUUaTARsATtwrCqlZSJAAWOQHclKBBUpqDFSGz3H1q3oahsA9uBB5N0gB7ZxYSi82jkaGxpZHA4aQhfJHMnCFcQAnBqAUiycEDgiAg+cyA\" width=\"800\" height=\"600\"></iframe>\n"
      ],
      "text/plain": [
       "<IPython.core.display.HTML object>"
      ]
     },
     "metadata": {},
     "output_type": "display_data"
    }
   ],
   "source": [
    "%%html\n",
    " <iframe src=\"https://www.falstad.com/circuit/circuitjs.html?ctz=CQAgjCAMB0l3BWEAmB0FksgHGAbAOyRHLKR4gDMSNkICApgLRhgBQAbuARahWDxDY6dCAjqVUUaTARsATtwrCqlZSJAAWOQHclKBBUpqDFSGz3H1q3oahsA9uBB5N0gB7ZxYSi82jkaGxpZHA4aQhfJHMnCFcQAnBqAUiycEDgiAg+cyA\" width=\"800\" height=\"600\"></iframe>"
   ]
  },
  {
   "cell_type": "markdown",
   "id": "39155cea-6284-4d85-8561-850dc6a5beb2",
   "metadata": {},
   "source": [
    "Com veiem, la resistència rep un corrent sinosoidal del generador de la forma:\n",
    "\n",
    "$u(t) = U_{max} \\cdot sin(\\omega t)$\n",
    "\n",
    "on \n",
    "* $U_{max}$ és el valor màxim de la tensió\n",
    "* $\\omega$ és la pulsació, $\\omega = 2 \\pi f$\n",
    "\n",
    "i per la resistència circula un corrent\n",
    "\n",
    "$i(t) = I_{max} \\cdot sin(\\omega t)$\n",
    "\n",
    "amb $I_{max} = U_{max} / R$\n",
    "\n",
    "![](img/AC/AC02.jpg)\n",
    "\n",
    "A Espanya es treballava a 50Hz i 220V, però al 2003 es va canviar a 230V per adaptar-nos a la normativa europea {cite}`Las_eléctricas_elevan_la_tensión_a_230_voltios`.\n",
    "\n",
    "230V? Segons la gràfica $U_{max}=325 \\ V$\n"
   ]
  },
  {
   "cell_type": "markdown",
   "id": "84750393-8b72-43a8-a1f4-5ee194522cb0",
   "metadata": {},
   "source": [
    "## Valor eficaç de la tensió AC\n",
    "\n",
    "Quan es referim a una tensió AC no diem el valor màxim $U_{max}$, diem el valor d'una tensió contínua DC que produeix el ateix efecte Joule sobre una resistència. Aquest valor rep el nom de valor eficaç o valor RMS. A la gràfica veieu que $V{rms} = 230 V$\n",
    "\n",
    "Fixeu-vos en la gràfica de la potència. No és constant, és el producte de $v(t) \\ i(t) / R$ per a cada instant. Si volem el promig hem d'utilitzar integrals. Calculem el promig per a un periode ($T = \\frac{1}{f}$)\n",
    "\n",
    "$\\Large P_{ef} = \\frac{1}{T} \\int_{0}^{T}u(t)\\ i(t)) \\ dt = \\frac{1}{T} \\int_{0}^{T}u(t)\\ \\frac{u(t))}{R} \\ dt  = \\frac{1}{RT} \\int_{0}^{T}{u(t)}^2 \\ dt =$\n",
    "\n",
    "$\\Large= \\frac{1}{RT} \\int_{0}^{T}U_{max}^2 \\ sin^2(t) \\ dt = \\frac{U_{max}^2}{RT} \\int_{0}^{T} \\ sin^2(t) \\ dt = \\frac{U_{max}^2}{RT} \\left[  \\frac{x}{2} - \\frac{\\sin(2x)}{4} \\right]_0^T =$\n",
    "\n",
    "$\\Large= \\frac{U_{max}^2}{RT}\\frac{T}{2} = \\frac{U_{max}^2}{2R} =  \\frac{U_{ef}^2}{R} $\n",
    "\n",
    "$\\Large \\Rightarrow U_{ef} \\equiv \\frac{U_{max}}{\\sqrt{2}}$\n",
    "\n",
    "En el nostre cas, amb els 230V actuals\n"
   ]
  },
  {
   "cell_type": "code",
   "execution_count": 2,
   "id": "f3016ce8-aad6-48d7-965a-cf855d8be099",
   "metadata": {},
   "outputs": [
    {
     "data": {
      "text/plain": [
       "325.2691193458119"
      ]
     },
     "execution_count": 2,
     "metadata": {},
     "output_type": "execute_result"
    }
   ],
   "source": [
    "from numpy import *\n",
    "Uef=230\n",
    "Umax=Uef*sqrt(2)\n",
    "Umax"
   ]
  },
  {
   "cell_type": "markdown",
   "id": "2e9cfc9b-8e92-42b4-b4b7-466b8a1a6624",
   "metadata": {},
   "source": [
    "Abans del 2003, amb 220V:"
   ]
  },
  {
   "cell_type": "code",
   "execution_count": 3,
   "id": "c45ec22a-326b-4ef4-ad2c-8742763ee250",
   "metadata": {},
   "outputs": [
    {
     "data": {
      "text/plain": [
       "311.1269837220809"
      ]
     },
     "execution_count": 3,
     "metadata": {},
     "output_type": "execute_result"
    }
   ],
   "source": [
    "from numpy import *\n",
    "Uef=220\n",
    "Umax=Uef*sqrt(2)\n",
    "Umax"
   ]
  },
  {
   "cell_type": "markdown",
   "id": "a759d3cb-390e-43b2-a6dc-4be940438a57",
   "metadata": {},
   "source": [
    "Així, una tensió Ac es pot caracteritzar per:\n",
    "\n",
    "![](img/AC/AC01.svg)\n",
    "\n",
    "on\n",
    "1. Valor de pic $U_{max}$\n",
    "2. Valor pic a pic $U_{pp} = 2 \\ U_{max}$\n",
    "3. Valor eficaç $\\large U_{ef} = \\frac{U_{max}}{\\sqrt(2)}$\n",
    "4. Període $T$"
   ]
  },
  {
   "cell_type": "markdown",
   "id": "a9b96a5d-e8d3-405a-adc4-d91de6bfd96d",
   "metadata": {},
   "source": [
    "## Resposta AC d'una bobina\n",
    "\n",
    "Veiem ara com respon una bobina al corrent altern:"
   ]
  },
  {
   "cell_type": "code",
   "execution_count": 4,
   "id": "42842283-b7a2-4e89-aa66-354171cc8df0",
   "metadata": {
    "editable": true,
    "slideshow": {
     "slide_type": ""
    },
    "tags": [
     "hide-input"
    ]
   },
   "outputs": [
    {
     "data": {
      "text/html": [
       " <iframe src=\"https://www.falstad.com/circuit/circuitjs.html?ctz=CQAgjCAMB0l3BWcAWaAmAzAgbBjB2BSfZBNBADhASVsmoFMBaMMAKADdx9sRzewPEBXr0IRalCkwEbAE7deIkHiWjwbAO6K+OFRl78obADb6153bzEgmMOOWT40ATkgZIr-N5fGA9iog2MhSAB4UYJBgGOCisORSaHxSMTH2EJBsGFQxAGIZUNDiRbYQAJIAdgAmAK4AxgAuAIYVdQxsQA\" width=\"800\" height=\"600\"></iframe>\n"
      ],
      "text/plain": [
       "<IPython.core.display.HTML object>"
      ]
     },
     "metadata": {},
     "output_type": "display_data"
    }
   ],
   "source": [
    "%%html\n",
    " <iframe src=\"https://www.falstad.com/circuit/circuitjs.html?ctz=CQAgjCAMB0l3BWcAWaAmAzAgbBjB2BSfZBNBADhASVsmoFMBaMMAKADdx9sRzewPEBXr0IRalCkwEbAE7deIkHiWjwbAO6K+OFRl78obADb6153bzEgmMOOWT40ATkgZIr-N5fGA9iog2MhSAB4UYJBgGOCisORSaHxSMTH2EJBsGFQxAGIZUNDiRbYQAJIAdgAmAK4AxgAuAIYVdQxsQA\" width=\"800\" height=\"600\"></iframe>"
   ]
  },
  {
   "cell_type": "markdown",
   "id": "21bda044-3079-4141-a4e5-ee6e2f67bfcb",
   "metadata": {
    "editable": true,
    "slideshow": {
     "slide_type": ""
    },
    "tags": []
   },
   "source": [
    "Que està passant? La tensió i la intensitat no estan sincronitzats. Hi ha un desfase, la intensitat va enderrerida a la tensió\n",
    "\n",
    "![](img/AC/AC04.jpg)"
   ]
  },
  {
   "cell_type": "markdown",
   "id": "18b270de-81de-4e90-9878-b616f1544dce",
   "metadata": {
    "editable": true,
    "slideshow": {
     "slide_type": ""
    },
    "tags": []
   },
   "source": [
    "## Resposta AC d'un condensador\n",
    "\n",
    "Provem ara amb un condensador\n"
   ]
  },
  {
   "cell_type": "code",
   "execution_count": 5,
   "id": "9c218efe-50da-442a-8125-f01d366e3e04",
   "metadata": {
    "editable": true,
    "slideshow": {
     "slide_type": ""
    },
    "tags": [
     "hide-input"
    ]
   },
   "outputs": [
    {
     "data": {
      "text/html": [
       " <iframe src=\"https://www.falstad.com/circuit/circuitjs.html?ctz=CQAgjCAMB0l3BWcAWaAmAzAgbBjB2BSfZBNBADhAQiSOoFMBaMMAKADdx9sRzewPEBUhRw1UUlHToCNgCduvESDzLp4NgGNVGdbt78xMeJAxoAnFes2bvJqisZIF7BbAW0aSMk9RYkOwA7kp8OAZhvJBsAPZ8INjIYgAeFGCBGNT+SaJo8bmq-pBSbBhUeQBiEDKmgUVw6RAsIADCAIYADm1aAJYALm0AdloMbEA\" width=\"800\" height=\"600\"></iframe>\n"
      ],
      "text/plain": [
       "<IPython.core.display.HTML object>"
      ]
     },
     "metadata": {},
     "output_type": "display_data"
    }
   ],
   "source": [
    "%%html\n",
    " <iframe src=\"https://www.falstad.com/circuit/circuitjs.html?ctz=CQAgjCAMB0l3BWcAWaAmAzAgbBjB2BSfZBNBADhAQiSOoFMBaMMAKADdx9sRzewPEBUhRw1UUlHToCNgCduvESDzLp4NgGNVGdbt78xMeJAxoAnFes2bvJqisZIF7BbAW0aSMk9RYkOwA7kp8OAZhvJBsAPZ8INjIYgAeFGCBGNT+SaJo8bmq-pBSbBhUeQBiEDKmgUVw6RAsIADCAIYADm1aAJYALm0AdloMbEA\" width=\"800\" height=\"600\"></iframe>"
   ]
  },
  {
   "cell_type": "markdown",
   "id": "8365578b-fa74-4d39-89a5-55ed2e4e9201",
   "metadata": {
    "editable": true,
    "slideshow": {
     "slide_type": ""
    },
    "tags": []
   },
   "source": [
    "Passa quelcom semblant. Ara la intensitat va avançada a la tensió:\n",
    "\n",
    "![](img/AC/AC03.jpg)\n"
   ]
  },
  {
   "cell_type": "markdown",
   "id": "3a6fbbbd-c99f-4b0d-a5f9-234982e87306",
   "metadata": {
    "editable": true,
    "slideshow": {
     "slide_type": ""
    },
    "tags": []
   },
   "source": [
    "Quina màgia es aquesta? Necessitarem més eines per tractar aquest problema, que veurem als temes següents."
   ]
  },
  {
   "cell_type": "code",
   "execution_count": null,
   "id": "896a6787-323f-41fc-80a8-88703b774a06",
   "metadata": {
    "editable": true,
    "slideshow": {
     "slide_type": ""
    },
    "tags": []
   },
   "outputs": [],
   "source": []
  }
 ],
 "metadata": {
  "kernelspec": {
   "display_name": "venvPy3",
   "language": "python",
   "name": "venvpy3"
  },
  "language_info": {
   "codemirror_mode": {
    "name": "ipython",
    "version": 3
   },
   "file_extension": ".py",
   "mimetype": "text/x-python",
   "name": "python",
   "nbconvert_exporter": "python",
   "pygments_lexer": "ipython3",
   "version": "3.10.12"
  }
 },
 "nbformat": 4,
 "nbformat_minor": 5
}