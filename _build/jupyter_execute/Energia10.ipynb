{
 "cells": [
  {
   "cell_type": "markdown",
   "id": "7df2f400-65dd-4ff5-a83c-0669f20bf51c",
   "metadata": {
    "editable": true,
    "slideshow": {
     "slide_type": ""
    },
    "tags": []
   },
   "source": [
    "# Energia radiant"
   ]
  },
  {
   "cell_type": "markdown",
   "id": "8a581ac3-d120-4134-9d99-659e99ccb10b",
   "metadata": {
    "editable": true,
    "slideshow": {
     "slide_type": ""
    },
    "tags": []
   },
   "source": [
    "```{admonition} Pàgina en desenvolupament\n",
    "Encara estem treballant en aquest document.   \n",
    "Esperem oferir-vos properament el seu contingut.   \n",
    "Disculpeu les molèsties.\n",
    "```"
   ]
  },
  {
   "cell_type": "markdown",
   "id": "8b14d2da-5051-435b-a2b8-714c4353750c",
   "metadata": {},
   "source": [
    "La llum és una forma de radiació. Com les microones. O la radiació γ que emeten algunes substancies radioactives. Els seus fotons, com va postular Einstein a l'article pel qual va guanyar el premi Nobel de Física, tenen una energia proporcional a la seva freqüència:\n",
    "\n",
    "$E = h \\nu$\n",
    "\n",
    "On h és la constant de Planck.\n",
    "\n",
    "Aquesta radiació està formada por ones electromagnètiques, on es propaguen variacions dels camps elèctric i magnètic, a la velocitat de la llum.\n",
    "L'espectre electromagnètic és molt divers, com podeu observar a la taula \n",
    "\n",
    "![](img/Energia/espectre.png)\n"
   ]
  },
  {
   "cell_type": "code",
   "execution_count": null,
   "id": "28216278-4e11-4660-a257-3455bf732c6b",
   "metadata": {},
   "outputs": [],
   "source": []
  }
 ],
 "metadata": {
  "kernelspec": {
   "display_name": "venvPy3",
   "language": "python",
   "name": "venvpy3"
  },
  "language_info": {
   "codemirror_mode": {
    "name": "ipython",
    "version": 3
   },
   "file_extension": ".py",
   "mimetype": "text/x-python",
   "name": "python",
   "nbconvert_exporter": "python",
   "pygments_lexer": "ipython3",
   "version": "3.10.12"
  }
 },
 "nbformat": 4,
 "nbformat_minor": 5
}