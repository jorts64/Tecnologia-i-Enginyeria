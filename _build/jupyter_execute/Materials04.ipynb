{
 "cells": [
  {
   "cell_type": "markdown",
   "id": "7df2f400-65dd-4ff5-a83c-0669f20bf51c",
   "metadata": {
    "editable": true,
    "slideshow": {
     "slide_type": ""
    },
    "tags": []
   },
   "source": [
    "# Polímers"
   ]
  },
  {
   "cell_type": "markdown",
   "id": "8a581ac3-d120-4134-9d99-659e99ccb10b",
   "metadata": {
    "editable": true,
    "slideshow": {
     "slide_type": ""
    },
    "tags": []
   },
   "source": [
    "```{admonition} Pàgina en desenvolupament\n",
    "Encara estem treballant en aquest document.   \n",
    "Esperem oferir-vos properament el seu contingut.   \n",
    "Disculpeu les molèsties.\n",
    "```"
   ]
  },
  {
   "cell_type": "markdown",
   "id": "f982a70f-a336-4188-8f16-67c376c07693",
   "metadata": {
    "editable": true,
    "slideshow": {
     "slide_type": ""
    },
    "tags": []
   },
   "source": [
    "Els polímers són macromolècules formades per la unió de molècules més petites anomenades monòmers. Molts polímers són de tipus orgànic.\n",
    "\n",
    "| monòmer: L'estirè ($C_8H_8$) és un monòmer derivat del benzè | polímer: El poliestirè és un polímer format a partir de repetiticions del monòmer estirè.|\n",
    "|:---:|:---:|\n",
    "|![](img/Materials/Styrene_acsv.svg)|![](img/Materials/Polystyrene_linear.svg)|\n",
    "\n",
    "Aquestes unions poden presentar diferents estructures: lineal, ramificada, semi-cristal·lina, encreuada ...\n",
    "\n",
    "Els polímers poden ser naturals (com les proteïnes, la cel·lulosa, el cautxú natural), semisintètics (nitrocel·lulosa, cautxú vulcanitzat) o sintètics (niló, poliestirè, PVC, polietilè). Els polímers es fabriquen per policondensació (quan es generen subproductes) o poliaddició.\n",
    "\n",
    "Els plàstics  són polímers als que s’afegeixen additius: colorants, plastificants, reticulants, antiestàtics, retardants de flama ... Tenen una energia d’enllaç baixa (Tf baix, E baix ,  ε alt), i baixa densitat."
   ]
  },
  {
   "cell_type": "markdown",
   "id": "b4d78891-009e-4768-8d11-0d6f77139496",
   "metadata": {
    "editable": true,
    "slideshow": {
     "slide_type": ""
    },
    "tags": []
   },
   "source": [
    "## Termoplàstics, termoestables i elastòmers\n",
    "\n",
    "Segons l’estructura d’aquestes cadenes de polímers trobarem termoplàstics (lineals o ramificats, sense entrecreuaments), termoestables (amb un grau alt d'entrecreuament) i elastòmers (amb un grau baix d'entrecreuament).\n",
    "\n",
    "|Polímer lineal (termoplàstic)|Polímer ramificat (termoplàstic)|Polímer amb un alt grau d'entrecreuament (termoestable)|Polímer amb un lleuger grau d'entrecreuament (elastòmer)|\n",
    "|:---:|:---:|:---:|:---:|\n",
    "|![](img/Materials/Polymerstruktur-linear.svg)|![](img/Materials/Polymerstruktur-verzweigt.svg)|![](img/Materials/Polymerstruktur-engmaschig_vernetzt.svg)|![](img/Materials/Polymerstruktur-weitmaschig_vernetzt.svg)|\n",
    "\n",
    "Els termoplàstics es poden conformar (i reciclar) amb calor, ja que les cadenes poden lliscar entre elles en pujar la temperatura. En canvi els termoestables resisteixen millor temperatures altes, però s’han de conformar a la fabricació."
   ]
  },
  {
   "cell_type": "code",
   "execution_count": null,
   "id": "0b131f76-1468-4c8c-8e03-0e34dc937387",
   "metadata": {
    "editable": true,
    "slideshow": {
     "slide_type": ""
    },
    "tags": []
   },
   "outputs": [],
   "source": []
  }
 ],
 "metadata": {
  "kernelspec": {
   "display_name": "venvPy3",
   "language": "python",
   "name": "venvpy3"
  },
  "language_info": {
   "codemirror_mode": {
    "name": "ipython",
    "version": 3
   },
   "file_extension": ".py",
   "mimetype": "text/x-python",
   "name": "python",
   "nbconvert_exporter": "python",
   "pygments_lexer": "ipython3",
   "version": "3.10.12"
  }
 },
 "nbformat": 4,
 "nbformat_minor": 5
}