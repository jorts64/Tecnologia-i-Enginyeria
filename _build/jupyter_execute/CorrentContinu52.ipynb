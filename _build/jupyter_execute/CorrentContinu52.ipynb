{
 "cells": [
  {
   "cell_type": "markdown",
   "id": "fe940066-452e-4578-8296-3ae1d0096ffa",
   "metadata": {
    "editable": true,
    "slideshow": {
     "slide_type": ""
    },
    "tags": []
   },
   "source": [
    "# Teoremes de Thévenin i Norton"
   ]
  },
  {
   "cell_type": "markdown",
   "id": "87976f44-70ff-4561-ad14-662f7f5cbd0f",
   "metadata": {
    "editable": true,
    "slideshow": {
     "slide_type": ""
    },
    "tags": []
   },
   "source": [
    "```{admonition} Pàgina en desenvolupament\n",
    "Encara estem treballant en aquest document.   \n",
    "Esperem oferir-vos properament el seu contingut.   \n",
    "Disculpeu les molèsties.\n",
    "```"
   ]
  },
  {
   "cell_type": "markdown",
   "id": "de40fa90-ce9f-40a1-882a-47cdff7ccb81",
   "metadata": {
    "editable": true,
    "slideshow": {
     "slide_type": ""
    },
    "tags": []
   },
   "source": [
    "Aquest teoremes, a banda de permetre càlculs de citcuits, permeten modelitzar sistemes reals, per exemple una pila."
   ]
  },
  {
   "cell_type": "markdown",
   "id": "1d77f179-5fbc-4878-9492-fcbe36eb9803",
   "metadata": {
    "editable": true,
    "slideshow": {
     "slide_type": ""
    },
    "tags": []
   },
   "source": [
    "## Teorema de Thévenin\n",
    "\n",
    ">Qualsevol combinació de fonts de voltatge fonts de corrent i resistències amb dos terminals és elèctricament equivalent a una única font de voltatge V i una única resistència R\n",
    "\n",
    "Veiem un exemple:\n",
    "\n",
    "<a title=\"SteveZodiac, CC BY-SA 3.0 &lt;http://creativecommons.org/licenses/by-sa/3.0/&gt;, via la Wikimedia Commons\" href=\"https://commons.wikimedia.org/wiki/File:Thevenin_demo.svg\"><img width=\"800\" alt=\"Thevenin demo\" src=\"https://upload.wikimedia.org/wikipedia/commons/thumb/8/8a/Thevenin_demo.svg/800px-Thevenin_demo.svg.png\"></a>\n"
   ]
  },
  {
   "cell_type": "markdown",
   "id": "e8e74497-259c-4e63-80fe-d711594e2487",
   "metadata": {
    "editable": true,
    "slideshow": {
     "slide_type": ""
    },
    "tags": []
   },
   "source": [
    "## Teorema de Norton\n",
    "\n",
    ">Qualsevol conjunt de fonts de voltatge i resistències amb dos terminals és elèctricament equivalent a una font de corrent elèctric I en paral·lel amb una única resistència R\n",
    "\n",
    "Com veieu complementa el teorema de Thévenin: podem representar aquests circuits com fonts de tensió o fonts d'intensitat.\n",
    "\n",
    "<a title=\"Matthewbeckler, Public domain, via la Wikimedia Commons\" href=\"https://commons.wikimedia.org/wiki/File:Thevenin_norton_equivalents.svg\"><img width=\"800\" alt=\"Thevenin norton equivalents\" src=\"https://upload.wikimedia.org/wikipedia/commons/thumb/a/aa/Thevenin_norton_equivalents.svg/640px-Thevenin_norton_equivalents.svg.png\"></a>"
   ]
  },
  {
   "cell_type": "code",
   "execution_count": null,
   "id": "c34ed2dc-d5a2-4b56-8c43-119412230724",
   "metadata": {
    "editable": true,
    "slideshow": {
     "slide_type": ""
    },
    "tags": []
   },
   "outputs": [],
   "source": []
  }
 ],
 "metadata": {
  "kernelspec": {
   "display_name": "venvPy3",
   "language": "python",
   "name": "venvpy3"
  },
  "language_info": {
   "codemirror_mode": {
    "name": "ipython",
    "version": 3
   },
   "file_extension": ".py",
   "mimetype": "text/x-python",
   "name": "python",
   "nbconvert_exporter": "python",
   "pygments_lexer": "ipython3",
   "version": "3.10.12"
  }
 },
 "nbformat": 4,
 "nbformat_minor": 5
}