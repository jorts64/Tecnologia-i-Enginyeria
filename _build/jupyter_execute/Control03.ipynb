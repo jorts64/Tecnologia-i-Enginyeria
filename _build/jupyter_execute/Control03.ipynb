{
 "cells": [
  {
   "cell_type": "markdown",
   "id": "7df2f400-65dd-4ff5-a83c-0669f20bf51c",
   "metadata": {
    "editable": true,
    "slideshow": {
     "slide_type": ""
    },
    "tags": []
   },
   "source": [
    "# Projecte: Interruptor crepuscular "
   ]
  },
  {
   "cell_type": "markdown",
   "id": "e58a9bef-f1d9-44a2-b7b8-2f24ec1c9f03",
   "metadata": {
    "editable": true,
    "slideshow": {
     "slide_type": ""
    },
    "tags": []
   },
   "source": [
    "```{admonition} Pàgina en desenvolupament\n",
    "Encara estem treballant en aquest document.   \n",
    "Esperem oferir-vos properament el seu contingut.   \n",
    "Disculpeu les molèsties.\n",
    "```"
   ]
  },
  {
   "cell_type": "markdown",
   "id": "0f8b3be1-6f0c-4c77-8684-5a1c25f899b6",
   "metadata": {
    "editable": true,
    "slideshow": {
     "slide_type": ""
    },
    "tags": []
   },
   "source": [
    "Una forma de contribuir a la sostenibilitat del nostre planeta a la vegada que guanyem comfort és l'automatització de l'enllumenat.  Moltes vegades volem que un llum s'encengui automàticament quan es fa fosc i que s'apagui si ja n'hi ha suficient llum: fanals, portals, passadissos ...\n",
    "\n",
    "En aquest projecte farem un circuit electrònic que amb un sensor de llum controla la llum d'un LED. Vosaltres decidireu la seva aplicació final: un fanal de maqueta, l'enllumenat d'una casa de cartró, llum d'emergència per a una escala, indicador de posició d'un interruptor, d'un obstacle o d'una porta ...\n",
    "\n",
    "![](img/Control/intCrep01.jpg)\n"
   ]
  },
  {
   "cell_type": "markdown",
   "id": "13111bc4-4d86-4a3d-a8a6-43ed486e2a79",
   "metadata": {
    "editable": true,
    "slideshow": {
     "slide_type": ""
    },
    "tags": []
   },
   "source": [
    "## Requeriment\n",
    "\n",
    "Heu de dissenyar i construir un objecte que porti una llum (LED) i un sensor (LDR) de forma que quan es faci fosc el llum s'encengui automàticament.\n",
    "\n",
    "Donat que la llum és petita, podem pensar en maquetes: cases de cartró plegat, fanals amb canya de refresc ... O en petits dispositius en capsa que marquin punts d'interès a la foscor: sortides d'emergència, portes, interruptors ...\n",
    "\n",
    "També és possible (però més complicat) invertir el funcionament: que el llum s'encengui quan hi ha claror. Aquesta modificació és molt interessant per alarmes (obertura d'un calaix, presència a un despatx que hauria d'estar a les fosques, pas d'una persona que tapa el sensor ...)\n",
    "\n",
    "Molt important seguir aquestes condicions:\n",
    "\n",
    "* Ha de ser un objecte barat. Podeu utilitzar paper, cartró, canyes de refresc, petites quantitats de plàstic plegat, material reciclat...\n",
    "\n",
    "* Cal obligatòriament utilitzar el circuit descrit en aquest document, amb les adaptacions adients.\n",
    "\n",
    "* El dispositiu utilitza una pila de 9V / 500 mAh. Cal fer un estudi del temps d'autonomia, tant en estat d'espera (llum apagat) com activat (llum encès).\n",
    "\n",
    "* Cal documentar tot el projecte. Això inclou els plànols del vostre objecte.\n"
   ]
  },
  {
   "cell_type": "markdown",
   "id": "ab6c4288-e0ea-47b3-944c-f54f698bc5c9",
   "metadata": {},
   "source": [
    "## Disseny\n",
    "\n",
    "En aquest apartat ens centrarem en el disseny del circuit electrònic que serà el cor de vostre projecte.És possible que us calgui modificar aquest disseny per adaptar-lo al vostre objecte. Preneu nota i documenteu aquests canvis. Per altra banda heu de documentar tot el disseny propi del vostre objecte, amb fulls de planificacions, plànols ... propis.\n"
   ]
  },
  {
   "cell_type": "markdown",
   "id": "45bd3547-2a84-4c6f-ac6d-e104ba0bf7cd",
   "metadata": {},
   "source": [
    "### Principi de funcionament\n",
    "\n",
    "![](img/Control/intCrep03.gif)\n",
    "\n",
    "Aquest és l'esquema del circuit electrònic que farem servir. Utilitza dos components nous per a vosaltres: la LDR i el transistor. A l'esquema veureu els seus símbols.La LDR (Light Dependent Resistor)és una resistència que depèn del llum, però no de forma proporcional. És un sensor molt barat. Les seves característiques depenen del model, amb la qual cosa és possible que ens calgui modificar els valor de R1 i R2 per ajustar la sensibilitat del circuit i la llum del LED. Típicament tenen una resistència de 100Ω amb molta llum i de 1 MΩ a les fosques. \n",
    "\n",
    "El transistor és el rei de l'electrònica actual. Un llapis de memòria en porta bilions integrats en un espai més petit que una ungla. Nosaltres en farem servir un.  N'hi ha molts tipus, amb diferents formats i ordre de connexions. \n",
    "\n",
    "![](img/Control/intCrep04.gif)\n",
    "\n",
    "l nostre és diu BC337 i és de tipus NPN. Com veieu té tres connexions: col·lector (C), base (B) i emissor (E). Fixeu-vos a la figura, on veiem la part plana de l'encapsulat on hi ha gravat el seu nom. Els transistors es podem utilitzar de mil formes. El nostre circuit es coneix com a connexió amb emissor comú: tenim l'emissor (a baix) connectat a negatiu, el col·lector (a dalt) al LED i la base (a l'esquerra) connectat entre R1 i la LDR. I l'utilitzarem a l'estil digital, utilitzant les zones de tall  i de saturació.  Així el transistor funciona com a un interruptor: quan el voltatge a la base és molt baix zona de tall), el LED està apagat; quan el voltatge a la base és alt (zona de saturació), el LED s'encén. Com el voltatge a la base depèn de la relació entre R1 i la LDR i aquesta canvia amb la llum, el nostre LED s'encén a la foscor: la LDR té una resistència molt alta i com V=I·R la base té un voltatge alt comparat amb el que es queda R1, estem a la zona de saturació. Quan la LDR rep molta llum la seva resistència baixa, el voltatge a la base també i el transistor es troba a la zona de tall: el LED està apagat."
   ]
  },
  {
   "cell_type": "markdown",
   "id": "66f78ed5-25bd-4afe-9233-a1477a89abbc",
   "metadata": {},
   "source": [
    "#### Ajust dels valors de les resistències\n",
    "\n",
    "Com ja hem dit el transistor reacciona amb la relació entre les resistències de R1 i la LDR. Per tant, amb el valor de R1 (inicialment utilitzarem 10 kΩ ) podem ajustar la sensibilitat del nostre circuit:\n",
    "\n",
    "* Si li costa molt apagar-se amb llum vol dir que encara la resistència de la LDR és massa alta comparada amb la de R1. En aquest cas recomano pujar R1 a un valor de 100kΩ.\n",
    "\n",
    "* Si li costa molt activar el LED a la foscor, vol dir que la resistència de la LDR és massa baixa comparada amb la de R1. En aquest cas recomano baixar R1 a un valor de 1kΩ. \n",
    "\n",
    "Quan utilitzem un LED sempre posem una resistència en sèrie per limitar la intensitat. Aquest és el paper de R2, amb un valor inicial de 330Ω. Si veiem que el sistema reacciona correctament a la llum però volem que el LED s'encengui amb més força podem canviar el valor de R2 a 220Ω. Penseu que quan més intensitat passa pel LED més curta és l'autonomia. A més a més, molta intensitat pot fer malbé el LED (no acostumen a aguantar més de 20 mA). Es recomana treballar amb uns 10 mA.\n",
    "\n",
    "Com podem fer aquestes proves abans de soldar els components? \n",
    "\n",
    "Podem utilitzar una protoboard, semblant a una PCB però on cada conjunt de forats té unes pinces connectades que agafen les potes dels components. Aquí us deixo la meva proposta amb el valors inicials. Podeu canviar R1 i R2 fàcilment per buscar els valors òptims,\n",
    "\n",
    "![](img/Control/intCrep05.png)"
   ]
  },
  {
   "cell_type": "markdown",
   "id": "0a59ed04-b3a6-41c9-b8e6-6ddd35ba40d9",
   "metadata": {},
   "source": [
    "### La placa de circut imprès\n",
    "\n",
    "El circuits electrònics es solden amb plaques de baquelita o fibra de vidre on normalment s'ha imprès amb àcid les pistes de coure que fan les connexions entre components (PCBs), i on tenim forats per passar-les potes.\n",
    "\n",
    "Nosaltres farem servir una placa de circuit imprès de prototips: tè 60x34 forats a un espaiat estàndard de 2,54 mm (0,1\") amb una anella de coure al seu voltant a la cara de soldadures. Important: les soldadures es fan només per aquesta cara, l'altra cara, sense coure, es diu cara de components i és on posem els components.\n",
    "\n",
    "En realitat farem servir només un tros de placa de 8x11 forats, que tallarem amb la serra petita de metall. \n",
    "\n",
    "Com en tallar la placa ens menjarem files de forats, finalment podrem obtenir 18 plaques per als nostres projecte de cada placa estàndard (vigileu quan feu el pressupost).\n",
    "\n",
    "![](img/Control/intCrep02.jpg)"
   ]
  },
  {
   "cell_type": "markdown",
   "id": "742bd2db-7938-44cf-97c7-fafed698d534",
   "metadata": {},
   "source": [
    "### Modificacions\n",
    "\n",
    "A banda de l'ajust de R1 i R2 per al nostre projecte podem fer les següents modificacions:\n",
    "\n",
    "* No integrar el LED a la placa sinó posar-lo connectat amb un cable. Soldarem el parell de cables (prims) en lloc del LED a la placa i a l'altra extrem soldarem el LED. Útil per fanals ...\n",
    "\n",
    "* No integrar el sensor LDR a la placa. En aquest cas com fem servir les potes de la LDR per fer les pistes del circuit imprès tenim un problema. Utilitzarem fil de connexió (un cable té molts fils que com sabeu cal caragolar a les connexions, el fil de connexió és un sol fil més gruix i per tant més rígid) en lloc de les potes de les LDR. Fora de la placa mantindrem el plàstic aïllant i a uns centímetres de la placa els podem pelar i soldar a un cables, molt més flexibles.\n",
    "\n",
    "* Invertir el comportament: que el LED s'apagui a la foscor (alarmes): en aquest cas cal canviar l'ordre de R1 i la LDR. Això requereix redefinir la posició dels components a la placa. I caldrà ajustar el valor de R1.\n",
    "\n",
    "![](img/Control/intCrep15.jpg) ![](img/Control/intCrep16.jpg)\n",
    "\n",
    "Penseu que fem servir cable i fil electrònic. No feu servir el pela-cables! Aquest és per cables d'electricista, amb molt més gruix. Utilitzeu tisores de paper per pelar els cables.\n",
    "\n",
    "Recomanem utilitzar una funda termoretràctil per protegir les soldadures externes cable-component extern. Pregunta al teu professor.\n"
   ]
  },
  {
   "cell_type": "code",
   "execution_count": 1,
   "id": "ebcb5f94-3de6-4f33-9926-3acf2c9fcc09",
   "metadata": {
    "editable": true,
    "raw_mimetype": "",
    "slideshow": {
     "slide_type": ""
    },
    "tags": [
     "hide-input"
    ]
   },
   "outputs": [
    {
     "data": {
      "image/jpeg": "[encoded data removed]",
      "text/html": [
       "\n",
       "        <iframe\n",
       "            width=\"400\"\n",
       "            height=\"300\"\n",
       "            src=\"https://www.youtube.com/embed/jXQEYTP_RZo\"\n",
       "            frameborder=\"0\"\n",
       "            allowfullscreen\n",
       "            \n",
       "        ></iframe>\n",
       "        "
      ],
      "text/plain": [
       "<IPython.lib.display.YouTubeVideo at 0x7fb2ccf73790>"
      ]
     },
     "execution_count": 1,
     "metadata": {},
     "output_type": "execute_result"
    }
   ],
   "source": [
    "from IPython.display import YouTubeVideo\n",
    "YouTubeVideo('jXQEYTP_RZo')"
   ]
  },
  {
   "cell_type": "markdown",
   "id": "bdc9a0ca-2a01-4635-b1d4-4bfd1c5a392b",
   "metadata": {},
   "source": [
    "### Procés\n",
    "\n",
    "A continuació veureu pas pas el procés de muntatge d'una placa que porta integrada el sensor i el LED. No soldeu res fins veure primer tot els passos i l'apartat de modificacions: no heu de soldar el LED si va a un altre lloc amb un cable, per exemple. Penseu que els codis de colors de les resistències es corresponen amb els valors inicials; potser vosaltres heu de fer servir uns altres valors amb uns colors diferents.Aneu molt amb compte al treballar. Recordeu que és fàcil cremar-se amb el soldador si no esteu atents. I tingueu especial cura en tallar les potes dels components: son peces metàl·liques molt petites que surten disparades: compte amb els ulls! I vigileu que no tingueu cap company al costat que pugui prendre mal.\n",
    "\n",
    "![](img/Control/intCrep06.jpg)\n",
    "\n",
    "Al final de tot no connecteu la pila. Cal fer unes comprovacions i assegurar-nos de que no hi ha cap curtcircuit. \n",
    "\n",
    "1. Dobleguem les resistències de forma que ocupin exactament 5 forats (pota + 3 forats pel cos + pota). Les col·loquem al seu lloc. Comprovem que no les hem intercanviat amb ajuda del codi de colors. La de valor més petit va col·locada horitzontalment i la de valor més gran verticalment. \n",
    "\n",
    "![](img/Control/intCrep07.jpg)\n",
    "\n",
    "2. Girem verticalment la placa. Soldem R1: dobleguem les potes segons les imatges abans de soldar-les al forat d'entrada a la placa i no les tallem.Soldem les potes de R2 als forat d'entrada. Una pota va connectada a R1 (soldem i tallem el que sobra d'aquesta pota) i l'altra la dobleguem verticalment abans de soldar i no la tallem.\n",
    "\n",
    "![](img/Control/intCrep08.jpg)\n",
    "\n",
    "3. Soldem la LDR als forats d'entrada amb les potes doblegades horitzontalment.\n",
    "\n",
    "![](img/Control/intCrep09.jpg)\n",
    "\n",
    "4. Soldem el transistor. Compte amb l'orientació: la part plana amb el nom gravat va al costat esquerra. La pota del col·lector la soldem doblegada cap a la part superior de la placa i no la tallem.\n",
    "\n",
    "![](img/Control/intCrep10.jpg)\n",
    "\n",
    "5. Soldem Les potes de la LDR al transistor. Tallem el que sobra.\n",
    "\n",
    "![](img/Control/intCrep11.jpg)\n",
    "\n",
    "6. Soldem el LED. La pota llarga (+) a la part de dalt. Tallem les seves potes.\n",
    "\n",
    "![](img/Control/intCrep12.jpg)\n",
    "\n",
    "7. Soldem la pota de R2 i la del col·lector del transistor a cada pota del LED.\n",
    "\n",
    "![](img/Control/intCrep13.jpg)\n",
    "\n",
    "8. Després d'estanyar-los, soldem cada cable del clip de pila a la placa. El negre ha de connectar-se a la LDR i el vermell a R1.\n",
    "\n",
    "![](img/Control/intCrep14.jpg)\n",
    "\n",
    " "
   ]
  },
  {
   "cell_type": "markdown",
   "id": "10b8697a-4e18-4c04-a54e-aaf333fa07ca",
   "metadata": {},
   "source": [
    "### Pressupost\n",
    "\n",
    "A banda del cost dels materials del vostre objecte, us facilitem dades dels components utilitzats en el circuit electrònic i les seves modificacions:\n",
    "\n",
    "| Component | Preu |\n",
    "| :--- | ---:|\n",
    "| Placa estàndard 60x34 forats | 3,75 € |\n",
    "| Resistència | 0,01 €| \n",
    "| BC337 | 0,07 € |\n",
    "| LDR | 0,22 € |\n",
    "| LED | 0,05 € | \n",
    "| Clip pila 9V | 0,21 € |\n",
    "| Estany 60Sn/40Pb 1m | 0,40 € |\n",
    "| Cable connexió 10 m | 1,76 € |\n",
    "| Fil connexió 10 m | 2,09 € |\n",
    "| Termoretràctil 1 m | 0,94 € |\n"
   ]
  },
  {
   "cell_type": "markdown",
   "id": "9312b280-a664-4919-9434-b5e724d976e5",
   "metadata": {},
   "source": [
    "## Avaluació\n",
    "\n",
    "En aquest projecte cal avaluar diferents aspectes:\n",
    "\n",
    "* Funciona? Reacciona als canvis de llum?\n",
    "* Compleix els requeriments inicials?\n",
    "* Quina autonomia té el sistema?\n",
    "* Com es podria millorar?\n",
    "* Què ha representat per tu aquest projecte? Què has aprés?\n",
    "\n",
    "### Comprovació del circuit\n",
    "\n",
    "Abans de connectar la pila fem unes comprovacions amb el téster  posició continuïtat :\n",
    "\n",
    "* Comproveu que no hi ha un curt-circuit entre els connectors de la pila\n",
    "* Comproveu que el connector negatiu de la pila té connexió amb la LDR i l'emissor del transistor.\n",
    "* Comproveu que el positiu de la pila té connexió amb R1 i R2\n",
    "\n",
    "Si tot això és correcte ja podeu posar la pila i comprovar el seu funcionament:\n",
    "\n",
    "* Reacciona amb la llum?\n",
    "* El punt de canvi és encertat?\n",
    "* S'il·lumina bé el LED?\n",
    "\n",
    "### Càlcul de l'autonomia\n",
    "\n",
    "Connecteu la pila a només un dels contactes. Amb el téster en funció amperímetre, feu connexió amb els altres contactes lliures de la pila i del connector de pila. \n",
    "\n",
    "Mesureu el corrent que es consumeix amb el LED encès (LDR a les fosques) i apagat (LDR a la llum).\n",
    "\n",
    "La vostra pila té una càrrega d'aproximadament 500 mAh. Dividiu aquesta quantitat entre el corrent  (en mA) que consumeix encès/apagat i obtindreu les hores d'autonomia actiu/en espera."
   ]
  },
  {
   "cell_type": "code",
   "execution_count": null,
   "id": "542a391b-6d66-43de-aa8a-487daf8cc34d",
   "metadata": {},
   "outputs": [],
   "source": []
  }
 ],
 "metadata": {
  "kernelspec": {
   "display_name": "venvPy3",
   "language": "python",
   "name": "venvpy3"
  },
  "language_info": {
   "codemirror_mode": {
    "name": "ipython",
    "version": 3
   },
   "file_extension": ".py",
   "mimetype": "text/x-python",
   "name": "python",
   "nbconvert_exporter": "python",
   "pygments_lexer": "ipython3",
   "version": "3.10.12"
  }
 },
 "nbformat": 4,
 "nbformat_minor": 5
}