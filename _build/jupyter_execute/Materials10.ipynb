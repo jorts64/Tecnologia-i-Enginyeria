{
 "cells": [
  {
   "cell_type": "markdown",
   "id": "7df2f400-65dd-4ff5-a83c-0669f20bf51c",
   "metadata": {
    "editable": true,
    "slideshow": {
     "slide_type": ""
    },
    "tags": []
   },
   "source": [
    "# Propietats dels materials"
   ]
  },
  {
   "cell_type": "markdown",
   "id": "8a581ac3-d120-4134-9d99-659e99ccb10b",
   "metadata": {
    "editable": true,
    "slideshow": {
     "slide_type": ""
    },
    "tags": []
   },
   "source": [
    "```{admonition} Pàgina en desenvolupament\n",
    "Encara estem treballant en aquest document.   \n",
    "Esperem oferir-vos properament el seu contingut.   \n",
    "Disculpeu les molèsties.\n",
    "```"
   ]
  },
  {
   "cell_type": "markdown",
   "id": "3c81dbe5-ef01-49d2-9862-f6f5a9beb9a7",
   "metadata": {},
   "source": [
    "Actualment els enginyers treballen amb milers de materials diferents en els seus dissenys. Cal seleccionar els materials dintre d’aquesta gran diversitat segons les seves propietats, que poden ser molt diverses i claus segons la funció de cada peça: densitat, resistència mecànica, conductibilitat elèctrica i tèrmica, color, interacció amb camps magnètics, resistència a la corrosió ...\n",
    "\n",
    "Podem agrupar aquestes propietats en diversas categories:\n",
    "* Propietats mecàniques\n",
    "* Propietats elèctriques\n",
    "* Propietats tèrmiques\n",
    "* Propietats magnètiques\n",
    "* Propietats òptiques\n",
    "* Propietats químiques\n"
   ]
  },
  {
   "cell_type": "code",
   "execution_count": null,
   "id": "17c9db81-130c-4a03-9af1-84d58555cdf4",
   "metadata": {
    "editable": true,
    "slideshow": {
     "slide_type": ""
    },
    "tags": []
   },
   "outputs": [],
   "source": []
  }
 ],
 "metadata": {
  "kernelspec": {
   "display_name": "venvPy3",
   "language": "python",
   "name": "venvpy3"
  },
  "language_info": {
   "codemirror_mode": {
    "name": "ipython",
    "version": 3
   },
   "file_extension": ".py",
   "mimetype": "text/x-python",
   "name": "python",
   "nbconvert_exporter": "python",
   "pygments_lexer": "ipython3",
   "version": "3.10.12"
  }
 },
 "nbformat": 4,
 "nbformat_minor": 5
}