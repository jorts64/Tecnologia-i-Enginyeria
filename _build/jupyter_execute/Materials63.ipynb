{
 "cells": [
  {
   "cell_type": "markdown",
   "id": "7df2f400-65dd-4ff5-a83c-0669f20bf51c",
   "metadata": {
    "editable": true,
    "slideshow": {
     "slide_type": ""
    },
    "tags": []
   },
   "source": [
    "# Elastòmers"
   ]
  },
  {
   "cell_type": "markdown",
   "id": "8a581ac3-d120-4134-9d99-659e99ccb10b",
   "metadata": {
    "editable": true,
    "slideshow": {
     "slide_type": ""
    },
    "tags": []
   },
   "source": [
    "```{admonition} Pàgina en desenvolupament\n",
    "Encara estem treballant en aquest document.   \n",
    "Esperem oferir-vos properament el seu contingut.   \n",
    "Disculpeu les molèsties.\n",
    "```"
   ]
  },
  {
   "cell_type": "markdown",
   "id": "56a995cf-b994-42c7-b76f-312e66d95f83",
   "metadata": {},
   "source": [
    "| Plàstic | Nom| Obtenció | Propietats | Aplicacions | \n",
    "| :---: | :---| :--- | :---| :---|\n",
    "|  | cautxú | Làtex | Resistent. Inert. | Aïllaments tèrmics i elèctrics.|\n",
    "|  | cautxú sintètic | Derivats del petroli| | Pneumàtics. Volants, paraxocs. Paviments. Canonades. Esponges de bany. Guants. Matalassos|\n",
    "| | Neoprè | Cautxú sintètic  | Més dur i resistent que el cautxú sintètic. Impermeable.| Trajos d'immersió. |\n",
    "\n",
    "En aquest gràfic {cite}`plàstics_pràcticum_Fauria` podem fer-nos una idea global dels termoplàstics, termoestables i elastòmers, la seva densitat i la seva resistència a la tracció:\n",
    "\n",
    "![](img/Materials/plastics04.png)\n",
    "\n",
    "En aquest altre gràfic {cite}`plàstics_pràcticum_Fauria` podem fer-nos una idea global dels termoplàstics i termoestables i elastòmers, la seva densitat i la seva deformació:\n",
    "\n",
    "![](img/Materials/plastics05.png)"
   ]
  },
  {
   "cell_type": "code",
   "execution_count": null,
   "id": "ca857a6a-1103-4092-939e-6db4026d60b1",
   "metadata": {},
   "outputs": [],
   "source": []
  }
 ],
 "metadata": {
  "kernelspec": {
   "display_name": "venvPy3",
   "language": "python",
   "name": "venvpy3"
  },
  "language_info": {
   "codemirror_mode": {
    "name": "ipython",
    "version": 3
   },
   "file_extension": ".py",
   "mimetype": "text/x-python",
   "name": "python",
   "nbconvert_exporter": "python",
   "pygments_lexer": "ipython3",
   "version": "3.10.12"
  }
 },
 "nbformat": 4,
 "nbformat_minor": 5
}