{
 "cells": [
  {
   "cell_type": "markdown",
   "id": "7df2f400-65dd-4ff5-a83c-0669f20bf51c",
   "metadata": {
    "editable": true,
    "slideshow": {
     "slide_type": ""
    },
    "tags": []
   },
   "source": [
    "# Ferro, acer i fosa"
   ]
  },
  {
   "cell_type": "markdown",
   "id": "8a581ac3-d120-4134-9d99-659e99ccb10b",
   "metadata": {
    "editable": true,
    "slideshow": {
     "slide_type": ""
    },
    "tags": []
   },
   "source": [
    "```{admonition} Pàgina en desenvolupament\n",
    "Encara estem treballant en aquest document.   \n",
    "Esperem oferir-vos properament el seu contingut.   \n",
    "Disculpeu les molèsties.\n",
    "```"
   ]
  },
  {
   "cell_type": "markdown",
   "id": "876327b5-abed-4985-9866-7a8a734cfaf6",
   "metadata": {
    "editable": true,
    "slideshow": {
     "slide_type": ""
    },
    "tags": []
   },
   "source": [
    "Si recordem els procés de nucleosíntesis als estels, no ens ha d’estranyar que el trobem en un 5% a l’escorça terrestre.\n",
    "\n",
    "La seva abundància, procés d’obtenció, tenacitat, mal·leabilitat i ferromagnetisme a temperatura ambient, expliquen el seu ús quotidià,  especialment dels seus aliatges, els acers i les foses. \n",
    "\n",
    "**Formes al·lotròpiques del ferro**\n",
    "\n",
    "|Fase|Temperatura|Xarxa|Magnetisme|\n",
    "|:---:|:---:|:---:|:---|\n",
    "|α|T < 788 °C|BCC|ferromagnètic|\n",
    "|α$^1$|788 °C – 910 °C|BCC|paramagnètic|\n",
    "|γ|910 °C – 1400 °C|FCC|paramagnètic|\n",
    "|δ|1400 °C – 1539 °C|BCC|paramagnètic|\n",
    "\n",
    "$^1$ Abans la fase α del ferro per sobre dels 788 °C, temperatura en que el ferro passa de ser ferromagnètic a paramagnètic, es denominava fase β. Avui en dia aquest nom és obsolet, ja que no hi ha canvis estructurals a la xarxa.\n",
    "\n",
    "**Propietats del ferro**\n",
    "\n",
    "* Densitat: 7,874 g/cm3\n",
    "* Punt de fusió: 1538 °C\n",
    "* λ : 80,4 W/m·°C\n",
    "* α : 11,8·10-6 °C-1\n",
    "* ρ: 96,10·10-3 μΩ·m\n",
    "* E: 110 GPa\n",
    "* σ$_E$ :  130  MPa  \n",
    "* R$_M$ : 260 MPa\n",
    "* ε : 45 %\n",
    "* Duresa : 490 HB\n",
    "\n",
    "Recordem que els acers tenen menys d’un 2,1 % de C, per sobre tenim les foses, fins a un 6,67 % de C. Així com els acers es poden conformar per forja, les foses només per emmotllament.\n",
    "\n",
    "La forja consisteix en donar forma a l’acer escalfat colpejant amb el martell, normalment sobre una enclusa. En calent l’acer és més plàstic.\n",
    "\n",
    "<a title=\"Wasapl, CC BY-SA 3.0 &lt;https://creativecommons.org/licenses/by-sa/3.0&gt;, via Wikimedia Commons\" href=\"https://commons.wikimedia.org/wiki/File:3_tourist_helping_artist_blacksmith_in_finland.JPG\"><img width=\"512\" alt=\"3 tourist helping artist blacksmith in finland\" src=\"https://upload.wikimedia.org/wikipedia/commons/thumb/8/8c/3_tourist_helping_artist_blacksmith_in_finland.JPG/512px-3_tourist_helping_artist_blacksmith_in_finland.JPG\"></a>\n",
    "\n",
    "Del diagrama Fe-C podem observar que les foses tenen un punt de fusió (>1130 °C) inferior al dels acers (>1400 °C). \n",
    "\n",
    "Les foses presenten molta resistència als esforços de compressió, però no a tracció i xoc. \n",
    "\n",
    "En canvi l’acer suporta molt bé tot tipus d’esforç. A més a més, podem canviar les propietats de l’acer mitjançant tractaments tèrmics. Per exemple, en el procés de la forja és habitual refredar ràpidament les peces d’acer en un cossi amb aigua, per trempar-les. Com veurem més endavant, el tremp millora la duresa de l’acer, a costa d’incrementar també la fragilitat.\n",
    "\n",
    "És molt freqüent afegir a l’acer altres elements a banda del carboni. Per exemple, l’acer inoxidable 18-10 utilitzat en la majoria de coberteries porta un 18 % de Cr i un 10 % de Ni. Per la fabricació d’eines s’afegeix vanadi per incrementar la duresa i resistència a la tracció a alicates i tornavisos o tungstè (acers ràpids) per suportar les altes temperatures  a broques i freses.\n",
    "\n",
    "Al llarg de la història diverses vegades les propietats d’un acer concret s’han obtingut per casualitat, bé per la forma d’obtenir-lo o de conformar-lo. És el cas del ferro bo,  que es produïa a les fargues del nostre país i que va aconseguir fama mundial. Avui en dia trobem armes fetes a Ripoll a museus de tot el món.\n",
    "\n",
    "La utilització de carbó vegetal, amb molt poc sofre, a la **farga catalana**, procés utilitzat a l’edat mitjana i millorat al segle XVII, donaven a l’acer, baix en carboni i fòsfor, una qualitat inigualable a aquella època.\n",
    "\n",
    "Un altre cas són els *acers de Damasc*, emprats a l’Orient Mitjà en espases  des del 1100 aC fins al 1700. La tècnica es va perdre fa segles, però sembla que recentment s’ha recuperat el know‑how. Aquestes llegendàries espases són conegudes per la seva duresa i tall etern. Diferents teories s’han proposat per explicar les seves propietats, la darrera d’elles especula sobre la formació de nanotubs de carboni a la seva estructura. \n",
    "\n",
    "\n"
   ]
  },
  {
   "cell_type": "markdown",
   "id": "a0a12a62-db94-4fe8-bc81-dd4c9dfcab73",
   "metadata": {
    "editable": true,
    "slideshow": {
     "slide_type": ""
    },
    "tags": []
   },
   "source": [
    "## La farga catalana\n",
    "Aquesta va ser utilitzada des de l’edat mitjana. L’aigua tenia un paper important: per una banda, com a font d’energia, per moure els martinets amb una roda hidràulica. Però al segle XVII es va introduir una notable millora: també s’utilitzava per incrementar el flux d’aire, i per tant d'oxigen,  al forn, gràcies a unes trompes que, per efecte Venturi, aconseguien una gran pressió d’aire a la caixa dels vents, que es regulava i dirigia cap al forn, on la mena de ferro (minerals amb alt contingut d’òxid de ferro) s’apilava en capes alternades amb capes de carbó vegetal. Gràcies a les trompes el forn arribava a temperatures de 1000 °C.\n",
    "\n",
    "|Martinets de la Farga Palau (Ripoll). Una roda hidràulica transmet el moviment a unes lleves que fan pujar i deixen caure de cop els martinets, utilitzats per fracturar la mena i per forjar el metall. Font: Alejo Pineda|Trompes a la Farga Palau (Ripoll). Font: Moisés Sánchez.|Caixa dels vents a la Farga Palau (Ripoll). Font: Adrià Rocamora, |\n",
    "|:--:|:--:|:--:|\n",
    "|![](img/Materials/martinet.jpg)|![](img/Materials/tubs.jpg)|![](img/Materials/caixaDelsVents.jpg)|\n",
    "\n",
    "Els minerals de ferro emprats son òxids, la mena més abundant. El carboni és la clau per reduir, es a dir, eliminar l’oxigen del ferro. Això s’aconsegueix amb l’alta temperatura del forn i el flux incrementat d’oxigen. Es produirà CO2 per dues reaccions: per una banda per la crema del calor vegetal amb l’oxigen de l’aire, per l’altra banda per la reducció dels òxids de ferro. Una part del carboni es dissoldrà amb el ferro, obtenint un acer homogeni d’alta qualitat, el ferro bo.\n",
    "\n",
    "Amb els martinets es picava el masser obtingut: un bloc incandescent bàsicament de ferro. Amb els cops dels martinets es separava l’escòria de la massa esponjosa de ferro, a la vegada que se li donava forma.\n",
    "\n",
    "Si bé els alts forns obtenen ferro colat a un preu inferior que l’acer de la farga catalana, no van aconseguir reemplaçar-la fins l’aparició dels convertidor Bessemer al segle XIX.\n"
   ]
  },
  {
   "cell_type": "code",
   "execution_count": 1,
   "id": "01dc5d91-32e5-4a45-b85e-2c3ccfa9f7c0",
   "metadata": {
    "editable": true,
    "raw_mimetype": "",
    "slideshow": {
     "slide_type": ""
    },
    "tags": [
     "hide-input"
    ]
   },
   "outputs": [
    {
     "data": {
      "image/jpeg": "[encoded data removed]",
      "text/html": [
       "\n",
       "        <iframe\n",
       "            width=\"400\"\n",
       "            height=\"300\"\n",
       "            src=\"https://www.youtube.com/embed/hfKm3WFNkpQ\"\n",
       "            frameborder=\"0\"\n",
       "            allowfullscreen\n",
       "            \n",
       "        ></iframe>\n",
       "        "
      ],
      "text/plain": [
       "<IPython.lib.display.YouTubeVideo at 0x7f1eabb5b190>"
      ]
     },
     "execution_count": 1,
     "metadata": {},
     "output_type": "execute_result"
    }
   ],
   "source": [
    "from IPython.display import YouTubeVideo\n",
    "YouTubeVideo('hfKm3WFNkpQ')"
   ]
  },
  {
   "cell_type": "markdown",
   "id": "ed2204a3-cfab-4c60-9d49-73b3a6fbd67b",
   "metadata": {},
   "source": [
    "[part 2](https://www.youtube.com/watch?v=PSAo3NZ5c2E)"
   ]
  },
  {
   "cell_type": "markdown",
   "id": "c0fb578b-feae-41ce-be35-568144a1ef1e",
   "metadata": {
    "editable": true,
    "slideshow": {
     "slide_type": ""
    },
    "tags": []
   },
   "source": [
    "## Alts forns i el convertidor Bessemer\n",
    "Actualment el ferro s’obté en forma de ferro colat (fosa) als alts forns, i necessita d’un tractament posterior si el que volem és obtenir acer.\n",
    "A l’alt forn s’introdueixen per la part superior la mena amb el carbó de coc, que té baix contingut en sofre, i pedra calcària, CaCO3. La crema del coc allibera calor i CO, que redueix la mena. La pedra calcària permet la separació del SiO2 present a la mena, ja que l’escòria amb el CaSiO3 sura sobre el ferro colat i és eliminada. El ferro colat resultant té una composició d’un 92 % Fe, d’un 3 a 4 % C , 0,5‑2,5 % Mn i 0,04-2 % P.\n",
    "\n",
    "|||\n",
    "|:---|:---|\n",
    "|<a title=\"Robert Blazek, Pezinok, Slovakia, Public domain, via Wikimedia Commons\" href=\"https://commons.wikimedia.org/wiki/File:VysokaPec.jpg\"><img width=\"512\" alt=\"VysokaPec\" src=\"https://upload.wikimedia.org/wikipedia/commons/3/38/VysokaPec.jpg\"></a>|Diagrama alt forn <br>1. Aire prescalfat <br>2. Zona de fusió <br>3. Zona de reducció dels òxids de ferro <br>4. Zona de reducció de l’òxid ferric <br>5. Zona de prescalfament <br>6. Entrada de mena, pedra calcària i coc <br>7. Gasos sortints <br>8. Columna de mena, coc i pedra calcària <br>9. Estracció de l'escòria <br>10. Sortida del ferro colat <br>11. Recollida de gasos|\n",
    "\n",
    "Aquesta fosa produïda a l’alt forn es pot utilitzar directament o convertir-la en acer. El primer procés rendible de conversió en acer de la fosa va ser el convertidor Bessemer (1855): un recipient amb parets refractàries amb una única obertura superior i un mecanisme que permet inclinar-lo per la descàrrega. A la part inferior té uns orificis per injectar aire a l’interior. Una vegada carregat amb el ferro colat a alta temperatura l’oxigen present a l’aire injectat provoca la descarburació de la fosa i la seva conversió en acer.\n",
    "\n",
    "![](img/Materials/Bessemer_converter.jpg)"
   ]
  },
  {
   "cell_type": "markdown",
   "id": "564c7965-1883-4831-88eb-cb2c4e5f5fbf",
   "metadata": {
    "editable": true,
    "slideshow": {
     "slide_type": ""
    },
    "tags": []
   },
   "source": [
    "## Tractaments tèrmics de l’acer\n",
    "Ja hem vist al diagrama Fe-C que per altes temperatures (T > AC$_3$) els acers agafen l’estructura austenita amb el carboni ocupant espais intersticials a la xarxa FCC  i a temperatures baixes (T < AC$_1$) aquest carboni el trobem en forma de Fe$_3$C (perlita, cementita) a una xarxa BCC de ferrita.\n",
    "\n",
    "El **tremp** és un tractament tèrmic típic de l’acer on es supera AC3 i es deixa un temps per estabilitzar l’austenita, amb un ràpid refredament posterior per sota d’AC1 que impedeix la difusió del carboni de forma que l’austenita es transforma en martensita, una xarxa tetragonal centrada al cos  supersaturada de carboni. \n",
    "\n",
    "<a title=\"Jorts, CC BY-SA 3.0 &lt;https://creativecommons.org/licenses/by-sa/3.0&gt;, via Wikimedia Commons\" href=\"https://commons.wikimedia.org/wiki/File:Tractaments_termics.svg\"><img width=\"256\" alt=\"Tractaments termics\" src=\"https://upload.wikimedia.org/wikipedia/commons/thumb/7/7d/Tractaments_termics.svg/256px-Tractaments_termics.svg.png\"></a>\n",
    "\n",
    "<a title=\"Refroidissement_lent_acier_et_mouvements_atomes_C.svg: Cdang\n",
    "Trempe_acier_et_mouvements_atomes.svg: Cdang\n",
    "derivative work: Cdang, CC BY-SA 3.0 &lt;https://creativecommons.org/licenses/by-sa/3.0&gt;, via Wikimedia Commons\" href=\"https://commons.wikimedia.org/wiki/File:Acier_et_mouvements_atomes_C_refroidissement_lent_et_trempe.svg\"><img width=\"256\" alt=\"Acier et mouvements atomes C refroidissement lent et trempe\" src=\"https://upload.wikimedia.org/wikipedia/commons/thumb/a/ae/Acier_et_mouvements_atomes_C_refroidissement_lent_et_trempe.svg/256px-Acier_et_mouvements_atomes_C_refroidissement_lent_et_trempe.svg.png\"></a>\n",
    "\n",
    "L’acer trempat així obtingut té una duresa (i fragilitat) superior a l’acer perlític que típicament correspon a la mateixa temperatura i composició.\n",
    "Com el tremp origina altes tensions a la xarxa, típicament s’aplica després un tractament de **reveniment**: s’escalfa l’acer per sota d’AC1 i es deixa refredar lentament per eliminar defectes a la xarxa, incrementa la tenacitat sense perdre duresa.\n",
    "\n",
    "Un altre tractament típic és la **recuita**: s’escalfa l’acer per sobre d’AC$_3$ i es deixa refredar lentament, incrementant l’elasticitat i facilitant el mecanitzat de l’acer perlític. Aquest tractament no és exclusiu dels acers.\n",
    "\n",
    "### Enduriment diferencial. \n",
    "Una katana mostra una línia ondulada brillant (nioi) que separa el tall martensític de la zona perlítica. El nucli de la katana és de ferro gairebé pur: no és dur, però tampoc és fràgil. D’aquesta forma s’aconsegueixen les propietats desitjades a cadascuna de les zones de la katana\n",
    "\n",
    "<a title=\"Zaereth, CC0, via Wikimedia Commons\" href=\"https://commons.wikimedia.org/wiki/File:Katana_hardened_edge_pic_with_inset_of_nioi.JPG\"><img width=\"512\" alt=\"Katana hardened edge pic with inset of nioi\" src=\"https://upload.wikimedia.org/wikipedia/commons/thumb/3/39/Katana_hardened_edge_pic_with_inset_of_nioi.JPG/512px-Katana_hardened_edge_pic_with_inset_of_nioi.JPG\"></a>\n"
   ]
  },
  {
   "cell_type": "code",
   "execution_count": null,
   "id": "bd1ae2af-301b-440b-9cbd-01b4277f5aa5",
   "metadata": {
    "editable": true,
    "slideshow": {
     "slide_type": ""
    },
    "tags": []
   },
   "outputs": [],
   "source": []
  }
 ],
 "metadata": {
  "kernelspec": {
   "display_name": "venvPy3",
   "language": "python",
   "name": "venvpy3"
  },
  "language_info": {
   "codemirror_mode": {
    "name": "ipython",
    "version": 3
   },
   "file_extension": ".py",
   "mimetype": "text/x-python",
   "name": "python",
   "nbconvert_exporter": "python",
   "pygments_lexer": "ipython3",
   "version": "3.10.12"
  }
 },
 "nbformat": 4,
 "nbformat_minor": 5
}