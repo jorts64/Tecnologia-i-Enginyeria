{
 "cells": [
  {
   "cell_type": "markdown",
   "id": "7df2f400-65dd-4ff5-a83c-0669f20bf51c",
   "metadata": {
    "editable": true,
    "slideshow": {
     "slide_type": ""
    },
    "tags": []
   },
   "source": [
    "# Lleis de Kirchoff"
   ]
  },
  {
   "cell_type": "markdown",
   "id": "b82f5501-f626-40db-ba8e-441903079a85",
   "metadata": {},
   "source": [
    "## Llei dels nusos"
   ]
  },
  {
   "cell_type": "markdown",
   "id": "71157b0b-2063-48ab-a91e-f61e4c239767",
   "metadata": {},
   "source": [
    "Aquesta llei té en compte el principi de conservació de la càrrega. Per tant, si en un punt es connecten diferents conductors (punt anomenat **nus**), el balanç de les intensitats que arriben al punt (fletxa d'entrada, signe **+**) i que surten del punt (fletxa de sortida, signe **-**) és zero. \n",
    "\n",
    "Matemàticament s'expressa:"
   ]
  },
  {
   "cell_type": "markdown",
   "id": "d1436515-29c7-440a-9215-58deaa683aff",
   "metadata": {},
   "source": [
    "$\\sum I_i = 0$"
   ]
  },
  {
   "cell_type": "markdown",
   "id": "e666803d-fd80-42a6-9b8a-84b0635b9632",
   "metadata": {},
   "source": [
    "## Llei de les malles"
   ]
  },
  {
   "cell_type": "markdown",
   "id": "9927d402-c26f-42d1-835a-22cedeceafa6",
   "metadata": {},
   "source": [
    "Aquesta llei té en compte el principi de conservació de l'energia. Si seguim el recorregut tancat (recorregut anomenat **malla**) realitzat per una càrrega les diferencies de potencials aportades pels generadors (forces electromotrius, $\\varepsilon_i$) han de ser igual a les consumides per les resistències (caigudes ohmiques $I_i \\cdot R_i$) i altres receptors (forces contraelectromotrius, $\\varepsilon'_i$).\n",
    "\n",
    "Cal tenir present el signe dels generadors: si ajuden a la nostra càrrega a realitzar el circuit (**+**) o el dificulten (**-**); així com la consistència del recorregut amb el sentit de les fletxes de les intensitats: (**+**) si anem amb el mateix sentit, (**-**) si anem en sentit contrari.\n",
    "\n",
    "També és important no oblidar les resistències internes de generadors i receptors, si no són negligibles.\n",
    "\n",
    "Matemàticament:"
   ]
  },
  {
   "cell_type": "markdown",
   "id": "5aee9686-c5ee-4a64-be25-93f8466b7d6c",
   "metadata": {},
   "source": [
    "$\\sum \\varepsilon_i - \\sum \\varepsilon'_i = \\sum I_i \\cdot R_i $"
   ]
  },
  {
   "cell_type": "markdown",
   "id": "1e90deed-8a77-42bc-af89-feb967bfbbd4",
   "metadata": {},
   "source": [
    "Si el nostre circuit no té nusos, es a dir, té una única malla, tindrem una única intensitat que podrem aillar fàcilment de l'equació de la malla:"
   ]
  },
  {
   "cell_type": "markdown",
   "id": "99c577e6-8422-4d58-9e76-7cb356b70cba",
   "metadata": {},
   "source": [
    "$I = \\frac{\\sum \\varepsilon_i - \\sum \\varepsilon'_i }{R}$"
   ]
  },
  {
   "cell_type": "markdown",
   "id": "15fc50fa-19ed-4ce7-9ae9-097fc8e679d2",
   "metadata": {},
   "source": [
    "Equació que és conneix com **Llei d'Ohm generalitzada**,"
   ]
  },
  {
   "cell_type": "markdown",
   "id": "9b6e6d3a-781b-494f-a55e-c7e5b24c5a50",
   "metadata": {},
   "source": [
    "En el cas més habitual tenim m malles i n nusos. Haurem de ressoldre un sistema d'eqüacions amb m-1 equacions utilitzant la llei de les malles i n-1 eqüacions utilitzant la llei dels nusos.   "
   ]
  },
  {
   "cell_type": "markdown",
   "id": "a239b8f8-db78-4b5c-9b7c-a9be9183e925",
   "metadata": {},
   "source": [
    "## Exemple de resolució"
   ]
  },
  {
   "cell_type": "markdown",
   "id": "5eb2d060-8313-4889-992d-6b0a01f07313",
   "metadata": {},
   "source": [
    "## 1)\n",
    "Trobar $I_{1}$, $I_{2}$ i $I_{3}$    \n",
    "Dades: $R_{1} = 2 \\ \\Omega$, $R_{2} = 6 \\ \\Omega$, $R_{3} = 4 \\ \\Omega$. $\\mathcal{E}_{1} = 5 \\ V$, $\\mathcal{E}_{2} = 12 \\ V$ "
   ]
  },
  {
   "cell_type": "markdown",
   "id": "574e36dd-ce97-4382-8ad6-e05cb1202e3d",
   "metadata": {},
   "source": [
    "![](img/CorrentContinu/Kirchoffp1.png)"
   ]
  },
  {
   "cell_type": "markdown",
   "id": "fb907b6d-534e-4f2a-b6fe-cc3354d84be1",
   "metadata": {},
   "source": [
    "$I_1+I_3-I_2=0$\n",
    "\n",
    "$-\\varepsilon_2+\\varepsilon_1=I_2 \\cdot R_2+I_1 \\cdot R_1$\n",
    "\n",
    "$\\varepsilon_2=-I_3 \\cdot R_3-I_2 \\cdot R_2$\n"
   ]
  },
  {
   "cell_type": "markdown",
   "id": "ccd5c84f-072c-4b9f-a059-903cc395e626",
   "metadata": {},
   "source": [
    "$I_1+I_3-I_2=0$\n",
    "\n",
    "$-12 V+ 5 V=I_2 \\cdot 6 \\Omega +I_1 \\cdot 2 \\Omega$\n",
    "\n",
    "$12 V=-I_3 \\cdot 4 \\Omega-I_2 \\cdot 6 \\Omega$\n"
   ]
  },
  {
   "cell_type": "markdown",
   "id": "4c5183cb-1a78-4181-890f-466a44f69fad",
   "metadata": {},
   "source": [
    "S.I. :\n",
    "\n",
    "$I_1+I_3-I_2=0$\n",
    "\n",
    "$-7=6 \\cdot I_2 + 2 \\cdot I_1$\n",
    "\n",
    "$12=-4 \\cdot I_3 - 6 \\cdot I_2$\n"
   ]
  },
  {
   "cell_type": "code",
   "execution_count": 1,
   "id": "65494e8e-4c33-4426-a606-7fa6bd806778",
   "metadata": {
    "editable": true,
    "slideshow": {
     "slide_type": ""
    },
    "tags": []
   },
   "outputs": [
    {
     "data": {
      "text/plain": [
       "{x: 1/22, y: -13/11, z: -27/22}"
      ]
     },
     "execution_count": 1,
     "metadata": {},
     "output_type": "execute_result"
    }
   ],
   "source": [
    "from sympy import *\n",
    "x, y, z = symbols(\"x y z\")\n",
    "solve([Eq(x+z-y, 0), Eq(6*y+2*x,-7 ), Eq(-4*z-6*y,12 )],[x,y,z])"
   ]
  },
  {
   "cell_type": "code",
   "execution_count": 2,
   "id": "7b031997-7a54-49d0-aab6-e93311bfe8c2",
   "metadata": {
    "editable": true,
    "slideshow": {
     "slide_type": ""
    },
    "tags": []
   },
   "outputs": [
    {
     "data": {
      "text/plain": [
       "(0.045454545454545456, -1.1818181818181819, -1.2272727272727273)"
      ]
     },
     "execution_count": 2,
     "metadata": {},
     "output_type": "execute_result"
    }
   ],
   "source": [
    "1/22, -13/11, -27/22"
   ]
  },
  {
   "cell_type": "markdown",
   "id": "c4dba27c-8b81-47bb-b732-021d02f35fc9",
   "metadata": {},
   "source": [
    "$I_1 = 45,45 A$\n",
    "\n",
    "$I_2 = -1,182 A$\n",
    "\n",
    "$I_3 = -1,227 A$"
   ]
  },
  {
   "cell_type": "code",
   "execution_count": null,
   "id": "2759bf13-4ff2-498c-8528-bbc105d36cd5",
   "metadata": {},
   "outputs": [],
   "source": []
  }
 ],
 "metadata": {
  "kernelspec": {
   "display_name": "venvPy3",
   "language": "python",
   "name": "venvpy3"
  },
  "language_info": {
   "codemirror_mode": {
    "name": "ipython",
    "version": 3
   },
   "file_extension": ".py",
   "mimetype": "text/x-python",
   "name": "python",
   "nbconvert_exporter": "python",
   "pygments_lexer": "ipython3",
   "version": "3.10.12"
  }
 },
 "nbformat": 4,
 "nbformat_minor": 5
}