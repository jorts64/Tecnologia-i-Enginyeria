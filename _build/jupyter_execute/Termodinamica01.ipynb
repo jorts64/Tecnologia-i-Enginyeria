{
 "cells": [
  {
   "cell_type": "markdown",
   "id": "7df2f400-65dd-4ff5-a83c-0669f20bf51c",
   "metadata": {
    "editable": true,
    "slideshow": {
     "slide_type": ""
    },
    "tags": []
   },
   "source": [
    "# Termodinàmica."
   ]
  },
  {
   "cell_type": "markdown",
   "id": "1a9e6cde-4451-4471-af01-9a2ad2f3c176",
   "metadata": {
    "editable": true,
    "slideshow": {
     "slide_type": ""
    },
    "tags": []
   },
   "source": [
    "```{admonition} Pàgina en desenvolupament\n",
    "Encara estem treballant en aquest document.   \n",
    "Esperem oferir-vos properament el seu contingut.   \n",
    "Disculpeu les molèsties.\n",
    "```"
   ]
  },
  {
   "cell_type": "markdown",
   "id": "43a2ade0-14b3-442d-84bd-6d9a388f1a8b",
   "metadata": {},
   "source": [
    "La termodinàmica estudia els sistemes físics a nivell macroscòpic. Les seves lleis es van desenvolupar al segle XIX per Mayer i Carnot, la seva relació amb la mecànica estadística per Boltzmann a inicis del segle XX. Aquests científics van haver de lluitar contra la comunitat científica, d'una forma tan tràgica que Mayer va intentar suicidar-se {cite}`Cinco_ecuaciones_que_cambiaron_el_mundo` i Boltzmann ho va aconseguir {cite}`Física_de_lo_imposible`. Paga la pena llegir els dos llibres citats per entendre aqueta evolució."
   ]
  },
  {
   "cell_type": "markdown",
   "id": "1273e895-25f6-474e-a605-f3cbe78411ba",
   "metadata": {},
   "source": [
    "## Física estadística\n",
    "\n",
    "La matèria està constituïda per àtoms i molècul·les, ja ho vam veure anteriorment. Però amb un nombre tan gran, recordem el [nombre d'Avogadro](https://ca.wikipedia.org/wiki/Nombre_d%27Avogadro) $N_{\\rm A} = 6,022 \\, 140 \\, 76 \\, \\times10^{23} \\quad mol^{-1}$, que és impossible aplicar les lleis de la mecànica clàssica a cap objecte macroscòpic.\n",
    "\n",
    "Per això treballem amb variables macroscòpiques que es poden deduir, com va fer Boltzmann {cite}`La_teoría_del_cuerpo_negro`, d'un estudi estadístic del sistema microscòpic.\n",
    "\n",
    "Per exemple, si tenim un gas en un recipient, podem utilitzar les variables macroscòpiques pressió **p**, volum **V** i temperatura **T**.\n",
    "\n",
    "Un model senzill de xocs elàstics de pàrticules puntuals porta a l'[eqüació d'estat dels gasos ideals](https://ca.wikipedia.org/wiki/Llei_dels_gasos_ideals)\n",
    "\n",
    "$pV= nRT =Nk_BT$\n",
    "\n",
    "on $n$ és el nombre de mols, $R$ la constant dels gasos, $N$ el nombre de partícules i $k_B$ la constant de Boltzmann.\n",
    "\n",
    "En aquest simulador podeu veure com, encara que podem començar amb la mateixa velocitat per a cada mol·lècula, finalment tindrem una distribució estadística. Fixeu-vos en com el model s'ajusta a l'equació de gasos ideals, especialment si escollim l'opció *gas, Small* on podem considerar les partícul·les puntuals.\n"
   ]
  },
  {
   "cell_type": "code",
   "execution_count": 1,
   "id": "7922fec0-5a42-43a4-bbcb-25ea5cf3c421",
   "metadata": {
    "editable": true,
    "slideshow": {
     "slide_type": ""
    },
    "tags": [
     "hide-input"
    ]
   },
   "outputs": [
    {
     "data": {
      "text/html": [
       " <iframe src=\"https://www.falstad.com/gas/gas.html\" width=800 height=\"650\"></iframe> \n"
      ],
      "text/plain": [
       "<IPython.core.display.HTML object>"
      ]
     },
     "metadata": {},
     "output_type": "display_data"
    }
   ],
   "source": [
    "%%html\n",
    " <iframe src=\"https://www.falstad.com/gas/gas.html\" width=800 height=\"650\"></iframe> "
   ]
  },
  {
   "cell_type": "markdown",
   "id": "3378c8e8-94af-4a64-8991-87e348119116",
   "metadata": {},
   "source": [
    "## Calor i temperatura\n",
    "\n",
    "Els conceptes de calor i temperatura han evolucionat al llarg de la història {cite}`Cinco_ecuaciones_que_cambiaron_el_mundo`. Avui en dia són dos conceptes ben diferenciats, encara que al llenguatge comú es confonguin quan diem \"fa molta calor\" quan volem dir \"la temperatura és elevada\". \n",
    "\n",
    "* La [calor](https://ca.wikipedia.org/wiki/Calor) és una forma d'energia, energia tèrmica. Es pot transmetre per conducció, convecció o radiació. \n",
    "* La [temperatura](https://en.wikipedia.org/wiki/Thermodynamic_temperature) està relacionada amb la energia cinètica desordenada de les particul·les, com podem veure al simulador. De fet, la darrera definició de kelvin va ser al [2019](http://www.jorts.net/jupbook/pdf/SIunitats2019.pdf):\n",
    "\n",
    ">A partir d’aquesta definició, un kelvin és igual al canvi de temperatura termodinàmica que resulta d’un canvi de l’energia tèrmica kT d’$1,380 649 \\times 10^{−23} J$.\n",
    "\n",
    "```{warning} A termodinàmica la temperatura sempre s'expressa en K. Compte quan posem el valor a les fòrmules.\n",
    "```"
   ]
  },
  {
   "cell_type": "markdown",
   "id": "92898879-6b82-4fb3-88e0-c2e5c41fc0bb",
   "metadata": {},
   "source": [
    "## Els principis o lleis de la termodinàmica\n",
    "\n",
    "Actualment tenim 4 principis de la termodinàmica. El primer i segon principis són els que històricament es van aconseguir per Mayer i Carnot i són els que més aplicarem.\n",
    "\n",
    "Boltzman {cite}`Escritos_de_mecánica_y_termodinámica` fa un resum molt aclaridor de les dues lleis:\n",
    "\n",
    ">Així es podrien deduir tots els fenòmens d'un principi general. Es pot produir calor, energia cinètica visible i treball mitjançant la transformació de qualsevol de les formes d'energia en una altra mentre es mantingui constant la quantitat total.\n",
    ">\n",
    ">La teoria mecànica de la calor ha posat al costat d'aquest principi general un segon, limitant el primer d'una forma poc satisfactòria; ens referim a la anomenada segona llei de la teoria mecànica de la calor que s'enuncia de la manera següent: el treball i l'energia cinètica visible poden transformar-se mútuament sense limitació de la mateixa manera que tots dos poden convertir-se en calor en cap condició, però, pel contrari, la transformació inversa de calor en treball, o bé no pot realitzar-se, o només és possible fer-la en part. Tot i que el principi expressat d'aquesta manera apareix com un apèndix incòmode del primer, esdevé molt més inconvenient en les seves conseqüències. La forma d'energia que necessitem per als nostres objectius és sempre la del treball o l'energia cinètica visible. Les vibracions tèrmiques pures s'escapen entre les nostres mans, se'ns escapen als nostres sentits, i són per a nosaltres sinònims del silenci; per això es descriu habitualment l'energia calorífica com energia dissipada o degradada, de manera que la segona llei anuncia un progrés continu de la degradació de l'energia, fins que s'esgotin totes les energies potencials que poguessin produir treball i tots els moviments visibles del món.\n",
    "\n",
    "El primer paràgraf resumeix la primera llei. En el fons, es tracta de la conservació de l'energia.\n",
    "\n",
    "$\\Delta E = 0$\n",
    "\n",
    "El segon paràgraf fa referència a un concepte nou: l'entropia $S$. Aquesta només pot augmentar. Estudiarem més endevant aquest concepte i les seves conseqüències.\n",
    "\n",
    "$\\Delta S \\ge 0$\n",
    "\n",
    "### Els altres principis de la termodinàmica\n",
    "\n",
    "El tercer principi de la termodinàmica es pot enunciar com la inaccessibilitat del zero absolut {cite}`El_tercer_principi_de_la_termodinàmica`\n",
    "\n",
    "Finalment tenim el [principi zero de la termodinàmica](https://ca.wikipedia.org/wiki/Principi_zero_de_la_termodin%C3%A0mica), que va ser el darrer en ser enunciat però és més bàsic. Aquest principi estableix que si dos sistemes termodinàmics estan cadascun en equilibri tèrmic amb un tercer sistema, aleshores estan en equilibri tèrmic entre ells\n",
    "\n",
    "\n",
    "\n",
    "\n"
   ]
  },
  {
   "cell_type": "code",
   "execution_count": null,
   "id": "11fab3ce-1b06-46b5-96d3-cd55297eb12e",
   "metadata": {},
   "outputs": [],
   "source": []
  }
 ],
 "metadata": {
  "kernelspec": {
   "display_name": "venvPy3",
   "language": "python",
   "name": "venvpy3"
  },
  "language_info": {
   "codemirror_mode": {
    "name": "ipython",
    "version": 3
   },
   "file_extension": ".py",
   "mimetype": "text/x-python",
   "name": "python",
   "nbconvert_exporter": "python",
   "pygments_lexer": "ipython3",
   "version": "3.10.12"
  }
 },
 "nbformat": 4,
 "nbformat_minor": 5
}