{
 "cells": [
  {
   "cell_type": "markdown",
   "id": "7df2f400-65dd-4ff5-a83c-0669f20bf51c",
   "metadata": {
    "editable": true,
    "slideshow": {
     "slide_type": ""
    },
    "tags": []
   },
   "source": [
    "# Compòsits"
   ]
  },
  {
   "cell_type": "markdown",
   "id": "8a581ac3-d120-4134-9d99-659e99ccb10b",
   "metadata": {
    "editable": true,
    "slideshow": {
     "slide_type": ""
    },
    "tags": []
   },
   "source": [
    "```{admonition} Pàgina en desenvolupament\n",
    "Encara estem treballant en aquest document.   \n",
    "Esperem oferir-vos properament el seu contingut.   \n",
    "Disculpeu les molèsties.\n",
    "```"
   ]
  },
  {
   "cell_type": "markdown",
   "id": "b040ee74-1825-4f44-bd6c-af42437696b2",
   "metadata": {},
   "source": [
    "Un material compost o compòsit és un material que té més d’una fase i cada una d’elles amb diferents proporcions:\n",
    "* **Matriu**: És la fase continua i de major proporció. Transfereix la tensió a la resta de fases. Pot ser polimèrica, metàl·lica i ceràmica.\n",
    "* **Fase dispersa**: S’escampa per la matriu amb la finalitat de millorar-ne les propietats. Pot ser polimèrica, metàl·lica i ceràmica i en forma de partícules, fibres i estructures:\n",
    "  *  **Partícules**: Qualsevol tipus de carbur.Nano-partícules.\n",
    "  *  **Fibres i teixits**: Fibra de vidre. Fibra de carboni. Kevlar.\n",
    "  *  **Estructures**: Panell d'abella. Escumes."
   ]
  },
  {
   "cell_type": "markdown",
   "id": "c6f2b397-7f2e-4718-9435-875415630d8a",
   "metadata": {},
   "source": [
    "## Compòsits amb matriu polimèrica i fibra\n",
    "\n",
    "Segurament el material compòsit més conegut: mitjans de transport, competició, bicicletes, indústria aeronàutica...\n",
    "* Matriu: resina epoxi o de polièster (termoestables)\n",
    "  * Epoxi: bones propietats mecàniques, resistència tèrmica i estabilitat dimensional. Cost elevat i toxicicitat .\n",
    "  * Polièster: bon ratio preu/propietats, adequat per peces grans. Inflamable i elevada contracció.\n",
    "\n",
    "Pràcticament no hi ha aplicacions per resines soles, solen estar sempre reforçades:\n",
    "* **Reforç**: fibres de vidre, kevlar i carboni\n",
    "  * Vidre: E=50-90 GPa, baix cost materia prima i elevada resistència tèrmica i química. Elevada densitat (1,9-2,6 g/cm3) i abrasiva (inutilitza les eines de tall)\n",
    "  * Carboni: elevades o molt elevades propietats mecàniques (E=240-400 GPa), baixa densitat (1,75 g/cm3), aïllant tèrmic. Cost elevat (producció). \n",
    " \n",
    "L'orientació de la fibra és important per conèixer les propietats mecàniques del compòsit.\n",
    "\n",
    "### Pre-preg\n",
    "\n",
    "El [preimpregnat](https://ca.wikipedia.org/wiki/Pre-preg) s'utilitza en la indústria aeronautica i de l'automòbil. També per les pales del rotor dels aerogeneradors.\n",
    "\n",
    "* Làmines de resina d’epoxi reforçades amb fibres i adhesivades per una de les dues cares\n",
    "* Només necessiten temperatura pel procés de curat de la resina\n",
    "* Prototipatge i sèries curtes (procés molt manual)\n",
    "\n",
    "## Comparació amb els plàstics\n",
    "\n",
    "En aquest gràfic {cite}`compòsits_pràcticum_Fauria` podem fer-nos una idea global de la densitat i resistència a la tracció dels compòsits comparats amb els plàstics:\n",
    "\n",
    "\n",
    "![](img/Materials/plastics06.png)\n",
    "\n",
    "### Futur: el reforç amb nanotubs\n",
    "\n",
    "Ja vam comentar que els nanotubs de carboni tenen molt bones propietats mecàniques, elèctriques i tèrmiques. Poden arribar a tenir una resistència de 600 MPa. \n",
    "\n",
    "Aquestes estructures en forma de tub amb unes dimensions iguals o inferiors al nanòmetre permeten un reforça altament configurable: sentit dels esforços, més o menys reforçat... Per ara és una tecnologia molt cara pel procés d'obtenció i la dificultad de dispersió.\n",
    "  "
   ]
  },
  {
   "cell_type": "code",
   "execution_count": null,
   "id": "55fe6f92-2103-47a9-895a-81c7aa49b238",
   "metadata": {},
   "outputs": [],
   "source": []
  }
 ],
 "metadata": {
  "kernelspec": {
   "display_name": "venvPy3",
   "language": "python",
   "name": "venvpy3"
  },
  "language_info": {
   "codemirror_mode": {
    "name": "ipython",
    "version": 3
   },
   "file_extension": ".py",
   "mimetype": "text/x-python",
   "name": "python",
   "nbconvert_exporter": "python",
   "pygments_lexer": "ipython3",
   "version": "3.10.12"
  }
 },
 "nbformat": 4,
 "nbformat_minor": 5
}