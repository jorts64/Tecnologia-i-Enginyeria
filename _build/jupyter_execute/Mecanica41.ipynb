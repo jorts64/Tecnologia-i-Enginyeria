{
 "cells": [
  {
   "cell_type": "markdown",
   "id": "ed3500e5-088a-4948-a1d4-5fed7b9d6381",
   "metadata": {
    "editable": true,
    "slideshow": {
     "slide_type": ""
    },
    "tags": []
   },
   "source": [
    "# Disseny 2D: LibreCAD"
   ]
  },
  {
   "cell_type": "markdown",
   "id": "4dfd5606-a002-4674-9211-7f7162405a70",
   "metadata": {
    "editable": true,
    "slideshow": {
     "slide_type": ""
    },
    "tags": []
   },
   "source": [
    "```{admonition} Pàgina en desenvolupament\n",
    "Encara estem treballant en aquest document.   \n",
    "Esperem oferir-vos properament el seu contingut.   \n",
    "Disculpeu les molèsties.\n",
    "```"
   ]
  },
  {
   "cell_type": "markdown",
   "id": "1071f2ff-5fe3-434f-a8fe-e5eb22ba8808",
   "metadata": {},
   "source": [
    "## Preparant l'entorn de treball\n",
    "\n",
    "Abans de realitzar cap pràctica, caldrà modificar els paràmetres per defecte del programa per tal que s'adapti a les nostres necessitats de treball:\n",
    "1. Obre el programa LibreCAD.\n",
    "2. Des del menú Opcions / Preferències programa / Valors per defecte marca les unitats en mil·límetres i desactiva l’opció de còpia de seguretat automàtica.\n",
    "3. Des de menú Opcions / Propietats del dibuix actual\n",
    "- FULL selecciona format A4 vertical.\n",
    "- UNITATS / Unitat Principal selecciona mil·límetres\n",
    "  - Unitats / LONGITUD / Format selecciona Decimal i Precisió 0.\n",
    "  - Unitats / ANGLE / Format selecciona Graus Decimals i Precisió 0.\n",
    "- REIXETA amb Mostrar reixeta ortogonal seleccionada modifica els espaiats:\n",
    "  - Espaiat X: 5 i Espaiat Y: 5.\n",
    "- DIMENSIONS / Extensió de línia, modifica només:\n",
    "  - Extensió a 2\n",
    "  - Desfasament a 0.\n",
    "\n",
    "4. A continuació, caldrà crear les capes necessàries per a realitzar les següents tasques.\n",
    "En el quadre de capes (a la dreta de la pantalla) amb la funció + crea les següents capes:\n",
    "- Capa DIBUIX amb traç continu i gruix 0.7.\n",
    "- Capa DISCONTÍNUES amb traç discontinu i gruix 0.35.\n",
    "- Capa EIXOS amb traç voreja punt ratlla i gruix 0.35 i color vermell.\n",
    "- Capa COTES amb traç continu, gruix 0.25 i color magenta.\n",
    "\n",
    "Per últim, amb totes aquestes modificacions ja podem desar l'arxiu. A partir d'ara, tots els dibuixos que es realitzin hauran de partir d'aquesta plantilla o d'una derivada. Si no, en cada dibuix caldria modificar tots aquests paràmetres cada vegada."
   ]
  },
  {
   "cell_type": "code",
   "execution_count": 1,
   "id": "8d20887d-7cbb-4fcc-a3f4-a4067ead2a8f",
   "metadata": {
    "editable": true,
    "raw_mimetype": "",
    "slideshow": {
     "slide_type": ""
    },
    "tags": [
     "hide-input"
    ]
   },
   "outputs": [
    {
     "data": {
      "image/jpeg": "[encoded data removed]",
      "text/html": [
       "\n",
       "        <iframe\n",
       "            width=\"400\"\n",
       "            height=\"300\"\n",
       "            src=\"https://www.youtube.com/embed/7j6P1DzoD0E\"\n",
       "            frameborder=\"0\"\n",
       "            allowfullscreen\n",
       "            \n",
       "        ></iframe>\n",
       "        "
      ],
      "text/plain": [
       "<IPython.lib.display.YouTubeVideo at 0x7f4962386950>"
      ]
     },
     "execution_count": 1,
     "metadata": {},
     "output_type": "execute_result"
    }
   ],
   "source": [
    "from IPython.display import YouTubeVideo\n",
    "YouTubeVideo('7j6P1DzoD0E')"
   ]
  },
  {
   "cell_type": "markdown",
   "id": "051577d5-5673-4227-b671-93ff2dfc270d",
   "metadata": {},
   "source": [
    "## Plantilla A4 vertical amb caixetí\n",
    "\n",
    "Ara farem una nova plantilla amb el caixetí, que anomenarem A4v.\n",
    "1. Anem a Fitxer → Nou des de plantilla i seleccionem el fitxer plantilla que vam crear\n",
    "anteriorment.\n",
    "2. Anem a Fitxer → Anomena i desa i el desem amb el nom A4v\n",
    "3. Cliquem al signe + de capes i fem una nova capa que anomenem caixetí, línia continua de 0,5 ISO. Seleccionem aquesta capa, on treballarem a continuació.\n",
    "4. Dibuixem el marc 180 x 272, que comença a (20,15). No hem de dibuixar les seves cotes !\n",
    "\n",
    "![](img/Mecanica/LibreCAD01.png)\n",
    "\n",
    "5. Dibuixem el caixetí, sense dibuixar les seves cotes !\n",
    "\n",
    "![](img/Mecanica/LibreCAD02.png)\n",
    "\n",
    "6. Anem a Edita → Preferències del dibuix actual , i a la pestanya Graella canviem l’espaiat a 1 mm, tant horitzontal com vertical, per col·locar millor el text\n",
    "7. Seleccionem l’eina Text, i posem el text a cada espai. Podem canviar la posició del text clicant sobre ell. Podeu afegir ja el vostre nom i curs.\n",
    "8. Anem a Visualitza → Zoom automàtic per que sigui la visualització per defecte de la nova plantilla\n",
    "9. Desem l’arxiu i tanquem.\n",
    "\n",
    "D'ara en endavant farem servir aquesta plantilla per a la resta d'exemples."
   ]
  },
  {
   "cell_type": "code",
   "execution_count": 2,
   "id": "80362831-a265-45b0-b890-504f3abe9af5",
   "metadata": {
    "editable": true,
    "raw_mimetype": "",
    "slideshow": {
     "slide_type": ""
    },
    "tags": [
     "hide-input"
    ]
   },
   "outputs": [
    {
     "data": {
      "image/jpeg": "[encoded data removed]",
      "text/html": [
       "\n",
       "        <iframe\n",
       "            width=\"400\"\n",
       "            height=\"300\"\n",
       "            src=\"https://www.youtube.com/embed/OJE1hQC4xyc\"\n",
       "            frameborder=\"0\"\n",
       "            allowfullscreen\n",
       "            \n",
       "        ></iframe>\n",
       "        "
      ],
      "text/plain": [
       "<IPython.lib.display.YouTubeVideo at 0x7f4962245ab0>"
      ]
     },
     "execution_count": 2,
     "metadata": {},
     "output_type": "execute_result"
    }
   ],
   "source": [
    "from IPython.display import YouTubeVideo\n",
    "YouTubeVideo('OJE1hQC4xyc')"
   ]
  },
  {
   "cell_type": "markdown",
   "id": "91c1cf0b-b396-400d-888a-2daa5bc8eb3c",
   "metadata": {},
   "source": [
    "## Cercles i clonacions\n",
    "\n",
    "Anem a Fitxer → Nou des de plantilla i seleccionem el fitxer A4v que vam crear anteriorment.\n",
    "Desem el dibuix amb el nom portabroques.\n",
    "Anem a dibuixar les vistes d’un suport per broques:\n",
    "\n",
    "![](img/Mecanica/LibreCAD03.png)\n",
    "\n",
    "1. Dibuixem a la capa DIBUJO el rectangle inferior ( 70 x 10 mm) començant per la cantonada inferior esquerra, a la que tornarem en acabar.\n",
    "2. Anem a dibuixar el primer cercle. Anem a l’eina Circumferència → Centre, punt. Posem @5,5 com a centre, i 2 de radi.\n",
    "3. Per estalviar feina, clonarem aquest cercle per fer els 6 següents. Seleccionem el cercle i fem Modifica → Mou / Copia. Com a punt de referència cliquem al punt de la graella situat sota el cercle a la seva dreta. Com a punt de destí clicarem el punt de la graella situat 10 mm a la seva dreta. Seleccionem Còpies múltiples, posem 6 i cliquem a Ok.\n",
    "4. Ara dibuixem els rectangle superiors a sobre ( 70 x 20 mm i 10 x 20 mm).\n",
    "5. Anem a la capa DISCONTINUAS. Dibuixem les línies ocultes (alçada de 10 mm). Podem clonar-les de la mateixa forma.\n",
    "6. Seleccioneu les vistes i amb la mateixa eina Modifica → Mou / Copia les col·loqueu de forma agradable a la pàgina, amb l’opció Suprimeix l’original.\n",
    "7. Ara a la capa caixetí ompliu les dades Escala (1:1), Projecte (Suport de broques) i Data.\n",
    "8. Tornem a desar el dibuix i el tanqueu."
   ]
  },
  {
   "cell_type": "code",
   "execution_count": 3,
   "id": "7819818c-9260-400a-a639-2a957507ebd8",
   "metadata": {
    "editable": true,
    "raw_mimetype": "",
    "slideshow": {
     "slide_type": ""
    },
    "tags": [
     "hide-input"
    ]
   },
   "outputs": [
    {
     "data": {
      "image/jpeg": "[encoded data removed]",
      "text/html": [
       "\n",
       "        <iframe\n",
       "            width=\"400\"\n",
       "            height=\"300\"\n",
       "            src=\"https://www.youtube.com/embed/F-5iPh6s6as\"\n",
       "            frameborder=\"0\"\n",
       "            allowfullscreen\n",
       "            \n",
       "        ></iframe>\n",
       "        "
      ],
      "text/plain": [
       "<IPython.lib.display.YouTubeVideo at 0x7f4962245c30>"
      ]
     },
     "execution_count": 3,
     "metadata": {},
     "output_type": "execute_result"
    }
   ],
   "source": [
    "from IPython.display import YouTubeVideo\n",
    "YouTubeVideo('F-5iPh6s6as')"
   ]
  },
  {
   "cell_type": "markdown",
   "id": "5b0b7b42-0dee-403c-8651-3b22ca743498",
   "metadata": {},
   "source": [
    "## Peces compostes\n",
    "\n",
    "Anem a fer una peça força més complicada:\n",
    "\n",
    "![](img/Mecanica/LibreCAD04.png)\n",
    "\n",
    "1. Comencem un nou dibuix amb la plantilla A4v. El desem amb el nom composta.\n",
    "2. Seleccionem la capa DIBUJO. Dibuixem els 6 cercles:\n",
    "\n",
    "![](img/Mecanica/LibreCAD05.png)\n",
    "\n",
    "3. Deixem només seleccionada l’opció força a la selecció:\n",
    "\n",
    "![](img/Mecanica/LibreCAD06.png)\n",
    "\n",
    "4. Anem a l’eina Línies → Tangent (C,C). Seleccionem cada parella de circumferències que volem unir amb tangents.\n",
    "5. Anem a l’eina Modifica → Divideix. Seleccionem cada circumferència de la qual volem eliminar un fragment.\n",
    "6. Seleccionem i esborrem els fragments que sobren. Ja podem tornar a activar la selecció per graella i per extrems.\n",
    "7. Seleccionem la capa COTAS. Acotem la peça. Com veureu, no és fàcil. Aquí teniu una possible solució:\n",
    "\n",
    "![](img/Mecanica/LibreCAD07.png)\n",
    "\n",
    "8. Desem l’arxiu i el tanquem."
   ]
  },
  {
   "cell_type": "code",
   "execution_count": 4,
   "id": "f97396a8-f1ac-4962-8a8b-ebd788a6bb3f",
   "metadata": {
    "editable": true,
    "raw_mimetype": "",
    "slideshow": {
     "slide_type": ""
    },
    "tags": [
     "hide-input"
    ]
   },
   "outputs": [
    {
     "data": {
      "image/jpeg": "[encoded data removed]",
      "text/html": [
       "\n",
       "        <iframe\n",
       "            width=\"400\"\n",
       "            height=\"300\"\n",
       "            src=\"https://www.youtube.com/embed/HxlLXJJQXzk\"\n",
       "            frameborder=\"0\"\n",
       "            allowfullscreen\n",
       "            \n",
       "        ></iframe>\n",
       "        "
      ],
      "text/plain": [
       "<IPython.lib.display.YouTubeVideo at 0x7f4962247430>"
      ]
     },
     "execution_count": 4,
     "metadata": {},
     "output_type": "execute_result"
    }
   ],
   "source": [
    "from IPython.display import YouTubeVideo\n",
    "YouTubeVideo('HxlLXJJQXzk')"
   ]
  },
  {
   "cell_type": "markdown",
   "id": "f2aaa06d-53c4-467d-8595-0a074118926d",
   "metadata": {
    "editable": true,
    "slideshow": {
     "slide_type": ""
    },
    "tags": []
   },
   "source": [
    "## Blocs i biblioteques\n",
    "\n",
    "Moltes vegades ens interessa reutilitzar elements ja dibuixats. Per exemple, si volem dissenyar un joc de dominó, hem de repetir diverses vegades els mateix dibuixos.\n",
    "1. Crearem un fitxer nou des de la plantilla A4v.\n",
    "2. Seleccionem la capa DIBUJO i farem un model amb totes les combinacions possibles de punts i el marc de mitja fitxa (aquest el podem fer amb l’eina rectangle a línies):\n",
    "\n",
    "![](img/Mecanica/LibreCAD08.png)\n",
    "\n",
    "3. Seleccionem el dibuix de la mitxa fitxa blanca (el rectangle), i en fem una còpia. Amb la còpia encara seleccionada, cliquem la icona crea un bloc a la llista de blocs:\n",
    "\n",
    "![](img/Mecanica/LibreCAD09.png)\n",
    "\n",
    "i el desem amb el nom D0, escollint com a referència una cantonada del rectangle.\n",
    "\n",
    "4. Fem el mateix amb la resta de mitges fitxes: D1, D2 ... D6, seleccionant els punts necessaris en cada cas:\n",
    "\n",
    "![](img/Mecanica/LibreCAD10.png)\n",
    "\n",
    "5. Desem l’arxiu amb el nom domino1.\n",
    "6. Si us fixeu, ara amb la icona insereix el bloc actiu de la llista de blocs podem seleccionar un bloc i fer tantes còpies com vulguem.\n",
    "\n",
    "### Creació d’una biblioteca\n",
    "El problema és que aquests blocs tan útils només existeixen a l’arxiu domino1, i em serien molt útilsa altres arxius que vull fer. Per això hem de crear una biblioteca a partir d’aquests blocs.\n",
    "1. Primer hem de crear una carpeta per a les nostres biblioteques, si encara no ho hem fet, i registrar aquesta carpeta al programa.\n",
    "Anem a la nostra carpeta LibreCAD i fem una carpeta nova amb el nom lib. Dintre de la carpeta lib hem de crear una nova carpeta amb el nom de la nostra nova biblioteca, domino:\n",
    "\n",
    "![](img/Mecanica/LibreCAD11.png)\n",
    "\n",
    "ara anem a Preferències de l’aplicació → Camins i posem a Biblioteques de components l’adreça de la carpeta lib, en el meu cas /home/jordi/LibreCAD/lib. En el vostre cas és molt probable que sigui /home/vianet/LibreCAD/lib:\n",
    "\n",
    "![](img/Mecanica/LibreCAD12.png)\n",
    "\n",
    "2. Ara seleccionem un a un els blocs que hem creat a la llista de blocs i amb la icona desa el bloc actiu en un fitxer els anem desant amb el mateix nom a la nostra carpeta domino:\n",
    "\n",
    "![](img/Mecanica/LibreCAD13.png)\n",
    "\n",
    "3. Per poder accedir a la nova biblioteca cal reiniciar el programa, així que desem l’arxiu i tanquem el LibreCAD.\n",
    "4. Obrim de nou el LibreCAD i fem un nou arxiu des de la plantilla A4v. El desem amb el nom domino2. Comproveu en quina carpeta es desa, és possible que surti per defecte la carpeta de la vostra biblioteca, cal torna a la carpoeta LibreCAD. Seleccionem la capa DIBUJO.\n",
    "5. Amb el navegador de biblioteca obert (tal vegada us caldrà activar aquesta finestra al menú Barres d’eines) busquem la nostrea biblioteca domino (el LibreCAD porta una serie de biblioteques ja instal·lades)\n",
    "\n",
    "![](img/Mecanica/LibreCAD14.png)\n",
    "\n",
    "6. Seleccionem una figura, cliquem a Insereix, i anem fent còpies fins tenir les primeres 20 fitxes del nostre domino:\n",
    "\n",
    "![](img/Mecanica/LibreCAD16.png)\n",
    "\n",
    "Fixeu-vos que quan inserim el dibuix podem canviar la seva escala i angle de gir.\n",
    "\n",
    "7. Desem i tanquem l’arxiu. Fem un altre arxiu amb la mateixa plantilla, el desem amb el nom domino3 i fem la resta de fitxes\n",
    "\n",
    "![](img/Mecanica/LibreCAD17.png)\n",
    "\n",
    "\n"
   ]
  },
  {
   "cell_type": "code",
   "execution_count": null,
   "id": "81f6ef9b-9458-482b-ae08-e20db784f146",
   "metadata": {},
   "outputs": [],
   "source": []
  }
 ],
 "metadata": {
  "kernelspec": {
   "display_name": "venvPy3",
   "language": "python",
   "name": "venvpy3"
  },
  "language_info": {
   "codemirror_mode": {
    "name": "ipython",
    "version": 3
   },
   "file_extension": ".py",
   "mimetype": "text/x-python",
   "name": "python",
   "nbconvert_exporter": "python",
   "pygments_lexer": "ipython3",
   "version": "3.10.12"
  }
 },
 "nbformat": 4,
 "nbformat_minor": 5
}