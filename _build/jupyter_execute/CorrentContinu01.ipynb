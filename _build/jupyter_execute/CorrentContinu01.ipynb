{
 "cells": [
  {
   "cell_type": "markdown",
   "id": "9dfb183e-9f55-46c5-a971-cf5331b93944",
   "metadata": {
    "editable": true,
    "slideshow": {
     "slide_type": ""
    },
    "tags": []
   },
   "source": [
    "# Corrent Continu"
   ]
  },
  {
   "cell_type": "markdown",
   "id": "bf8f60f0-ce0c-40b3-a0d9-e20087c7ffd7",
   "metadata": {},
   "source": [
    "A 1r de Batxillerat només treballarem amb Corrent Continu (CC, DC en anglès). De totes formes, les lleis que aplicarem seran vàlides per resistències connectades a Corrent Altern (CA, AC en anglès). De fet, la teoria de [Corrent Altern](CorrentAltern01.ipynb), que veurem a 2n de Batxillerat, és una generalització del concepte de **resistència** que s'anomena **impedància** i que utilitza nombres complexos per mantenir de forma generalitzada les lleis que veurem aquest curs."
   ]
  },
  {
   "cell_type": "markdown",
   "id": "7a7e7a34-0872-4ac2-a17e-0a249ec51d11",
   "metadata": {},
   "source": [
    "És important recordar la **simbologia** que ens permet representar els components als circuits. Nosaltres estem obligats a fer servir simbologia **ISO**, però és covenient coneixer també els símbols americans ja que molta documentació i programari els utilitza."
   ]
  },
  {
   "cell_type": "markdown",
   "id": "5e2c0d28-f855-4f83-93bd-ef924dc77f2c",
   "metadata": {},
   "source": [
    "**Piles i bateries**\n",
    "\n",
    "Pila ![](img/CorrentContinu/pila.png) Bateria  ![](img/CorrentContinu/bateria.png)\n",
    "\n",
    "Recordeu que la línia més llarga indica el pol positiu (+)"
   ]
  },
  {
   "cell_type": "markdown",
   "id": "1688c081-5cb0-468c-8285-547d9199c2f2",
   "metadata": {},
   "source": [
    "**Resistències**\n",
    "\n",
    "ISO ![](img/CorrentContinu/resistencia.png) ANSI ![](img/CorrentContinu/resistenciaANSI.png)"
   ]
  },
  {
   "cell_type": "markdown",
   "id": "fc5b560c-86af-4e7e-82c4-754ec8726b24",
   "metadata": {},
   "source": [
    "**Resistències variables**\n",
    "\n",
    "ISO ![](img/CorrentContinu/resvar.png) ANSI ![](img/CorrentContinu/resvarANSI.png)"
   ]
  },
  {
   "cell_type": "markdown",
   "id": "ec94a111-6582-4e8b-b762-b146db62ae25",
   "metadata": {},
   "source": [
    "**Potenciòmetres**\n",
    "\n",
    "ISO ![](img/CorrentContinu/pot.png) ANSI ![](img/CorrentContinu/potANSI.png)"
   ]
  },
  {
   "cell_type": "markdown",
   "id": "2254c78d-4f21-41db-85bc-7c5292cf8c70",
   "metadata": {},
   "source": [
    "**Condensadors**\n",
    "\n",
    "![](img/CorrentContinu/condensador.png) "
   ]
  },
  {
   "cell_type": "markdown",
   "id": "95b85859-4d2b-4a09-b181-3d4c47a23e3e",
   "metadata": {},
   "source": [
    "**Bobines**\n",
    "\n",
    "ISO ![](img/CorrentContinu/bobina.png) ANSI ![](img/CorrentContinu/bobinaANSI.png)"
   ]
  },
  {
   "cell_type": "markdown",
   "id": "40aa4cbd-af0d-4eb6-b446-7c3019f10289",
   "metadata": {},
   "source": [
    "**Diodes i leds**\n",
    "\n",
    "Diode ![](img/CorrentContinu/diode.png) Led ![](img/CorrentContinu/led.png)\n",
    "\n",
    "El triangle indica el sentit en que deixa passar el corrent. La línia indica la connexió a (-) per que s'encengui el led."
   ]
  },
  {
   "cell_type": "code",
   "execution_count": null,
   "id": "fd4f6d21-a318-4aa7-8173-17df29b51417",
   "metadata": {},
   "outputs": [],
   "source": []
  }
 ],
 "metadata": {
  "kernelspec": {
   "display_name": "venvPy3",
   "language": "python",
   "name": "venvpy3"
  },
  "language_info": {
   "codemirror_mode": {
    "name": "ipython",
    "version": 3
   },
   "file_extension": ".py",
   "mimetype": "text/x-python",
   "name": "python",
   "nbconvert_exporter": "python",
   "pygments_lexer": "ipython3",
   "version": "3.10.12"
  }
 },
 "nbformat": 4,
 "nbformat_minor": 5
}