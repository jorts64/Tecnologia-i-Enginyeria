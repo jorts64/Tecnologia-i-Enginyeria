{
 "cells": [
  {
   "cell_type": "markdown",
   "id": "7df2f400-65dd-4ff5-a83c-0669f20bf51c",
   "metadata": {
    "editable": true,
    "slideshow": {
     "slide_type": ""
    },
    "tags": []
   },
   "source": [
    "# Temporitzador 555"
   ]
  },
  {
   "cell_type": "markdown",
   "id": "e58a9bef-f1d9-44a2-b7b8-2f24ec1c9f03",
   "metadata": {
    "editable": true,
    "slideshow": {
     "slide_type": ""
    },
    "tags": []
   },
   "source": [
    "```{admonition} Pàgina en desenvolupament\n",
    "Encara estem treballant en aquest document.   \n",
    "Esperem oferir-vos properament el seu contingut.   \n",
    "Disculpeu les molèsties.\n",
    "```"
   ]
  },
  {
   "cell_type": "markdown",
   "id": "0f8b3be1-6f0c-4c77-8684-5a1c25f899b6",
   "metadata": {
    "editable": true,
    "slideshow": {
     "slide_type": ""
    },
    "tags": []
   },
   "source": [
    "El cicuit integrat [555](http://www.jorts.net/jupbook/pdf/lm555.pdf) ha estat per molts dècades el cor de molts dissenys electrònics. Fabricat per primera vegada al 1972, s'han venut anualment més de mil millions (darrera estimació del 2017), i es pensa que és el circuit integrat més utilitzat a la història.\n",
    "\n",
    "![](img/Control/555_Pinout.svg)"
   ]
  },
  {
   "cell_type": "markdown",
   "id": "a6d27bae-2def-49a1-967a-f1fc18fcc6dc",
   "metadata": {
    "editable": true,
    "slideshow": {
     "slide_type": ""
    },
    "tags": []
   },
   "source": [
    "## Esquema intern\n",
    "\n",
    "El circuit és força sofisticat, amb 25 transistors, 2 diodes i 15 resistències. El motiu del seu èxit és que altres components claus en el seu comportament es connecten exteriorment, fent un cor molt flexible.\n",
    "\n",
    "Podem veure que l'integrat consta de diferents blocs que hem ressaltat en colors:\n",
    "\n",
    "![](img/Control/NE555_Bloc_Diagram.svg)\n"
   ]
  },
  {
   "cell_type": "markdown",
   "id": "254051b5-f55e-43d5-970a-9d3cfd9fdf19",
   "metadata": {
    "editable": true,
    "slideshow": {
     "slide_type": ""
    },
    "tags": []
   },
   "source": [
    "<span style=\"background-color:#D5FFD5\">Divisor de tensió</span>: Entre la tensió d'alimentació **VCC** i negatiu **GND** n'hi ha un divisor de tensió amb 3 resistències idèntiques de $5 \\ k\\Omega$ (als integrats amb tecnologia bipolar, el valor és de $100 \\ k\\Omega$ o més pels de tecnologia CMOS) per generar voltatges de referència pels comparadors. **CONTROL** està connectat entre le dues resistències superiors, de forma que podem variar amb una tensió exterior els voltatgws de referencia:\n",
    "* Si no connectem **CONTROL**, aquest divisor crea un tensió de referència superior de $\\frac{2}{3}$ de **VCC** i un voltatge de referència inferior de $\\frac{1}{3}$ de **VCC**.\n",
    "* Si connectem **CONTROL**, aquest divisor crea un tensió de referència superior $V_{control}$ i un voltatge de referència inferior de $\\frac{1}{2}$ de $V_{control}$.\n",
    "\n",
    "<span style=\"background-color:#FFEEAA\">Comparador Threshold</span>: L'entrada negativa del comparador  està connectada a la tensió de referència superior, i l'entrada positiva del comparador al pin **THRESHOLD**.\n",
    "\n",
    "<span style=\"background-color:#FFAAAA\">Comaparador Trigger</span>: L'entrada positiva del comparador està connectada a la tensió de referència inferior, i l'entrada negativa del comparador al pin **TRIGGER**.\n",
    "\n",
    "<span style=\"background-color:#AAAAFF\">Latch</span>: Una porta SR emmagatzema l'stat del temporitzador i està controlada pels dos comparadors. El pin **RESET** s'imposa sobre les altres dues entrades, així el latch (i, per tant, tot el temporitzador) pot ser posat a RESET en qualsevol moment.\n",
    "\n",
    "<span style=\"background-color:#FFAAEE\">Output</span>: La sortida del latch es copia per una etapa de sortida amb configuració Push–pull que pot conduir fins a $200 \\ mA$ amb tecnologia bipolar, menys en el case dels temporitzador CMOS.\n",
    "\n",
    "<span style=\"background-color:#AAEEFF\">Discharge</span>: A la vegada, la sortida del latch controla un transistor que actua com a interruptor digital i connecta el pin **DISCHARGE** a negatiu (interessant per descarregar un condensador de consigna de temps) o el deixa desconnectat.\n",
    "\n",
    "Com ja hem comentat aquests blocs es tradueixen en ub esquena sofisticat:\n",
    "\n",
    "| Integrat 555 amb tecnologia bipolar | Integrat 555 amb tecnologia CMOS |\n",
    "| :---: | :---: |\n",
    "|<a title=\"Wdwd, CC BY 3.0 &lt;https://creativecommons.org/licenses/by/3.0&gt;, via Wikimedia Commons\" href=\"https://commons.wikimedia.org/wiki/File:NE555_Internal_Circuit.svg\"><img width=\"512\" alt=\"NE555 Internal Circuit\" src=\"https://upload.wikimedia.org/wikipedia/commons/thumb/1/1c/NE555_Internal_Circuit.svg/512px-NE555_Internal_Circuit.svg.png\"></a>|<a title=\"Wdwd, CC BY 3.0 &lt;https://creativecommons.org/licenses/by/3.0&gt;, via Wikimedia Commons\" href=\"https://commons.wikimedia.org/wiki/File:C555_Internal_Circuit.svg\"><img width=\"512\" alt=\"C555 Internal Circuit\" src=\"https://upload.wikimedia.org/wikipedia/commons/thumb/2/29/C555_Internal_Circuit.svg/512px-C555_Internal_Circuit.svg.png\"></a>|"
   ]
  },
  {
   "cell_type": "code",
   "execution_count": 1,
   "id": "8482a227-9973-4cdd-9508-6901036f9661",
   "metadata": {
    "editable": true,
    "slideshow": {
     "slide_type": ""
    },
    "tags": [
     "hide-input"
    ]
   },
   "outputs": [
    {
     "data": {
      "text/html": [
       " <iframe src=\"https://www.falstad.com/circuit/circuitjs.html?ctz=CQAgzCAMB0l3BWEDYCYyoOytQTgByaT74CMSAbACwibKTICmAtKaQFACGIqJIpFfOHw0BQ3PwYNS8eMmgVMM1BTAJcmVWFI0w0MAcNHjk2Vx58VukT2ogJMqKdkgKCih89ev8xctXqmgY6znDsAE48VAwIFFHSkDQx8BHxkjSo0fwIqE4IKQDuaeS5mQy8UqllFuVZGELJYUXVJRZCrZDszVkyGdjpUF08-b3DpfiVzf0VbTWDRVR2pJogi6K4uZ1FYDakNjvrm0MH-BurdtVb5xlZazyx88I3DCeZDcc21XekZ50ASmkHi04lJVgknFJoAh2AC+A9LEknD1QZDoZE4XE+KRUKCZCl0e0cSAsTYEoViYTygJ+ESrqhqdiqXE1EciiSaAj3gBjClRIR8FlOMAsOgoPyQFRqDRaEIwOAcADmvMFAsEENSJzAaruWoaoSG3xWVFwcWWIINdl1qxN4DVnXIEFeDzuqAepB4kkk7AdT34RqWK3dmy9CxtZutzLt7AA8sgKNIVhQGStJry9hl2Y9ObM3oMAC7gXi2oR4SN693MTDQfBqBCkMASthEXAYWjQFsIBBayA5V34BD9ljtOAgAAmjAAZpwAK4AGzzQ3pzJyPBtgs6StLvq30T1V3qxd9Vs6AA8adJyPx8A49qt+HFRwBLADOXIAFpxwgrGOwz9iHJg7SYKIZB3tSebhI+CrfuEv7nlEuR7EgmRIKIcR5m+4SMM+b4APazqOi4jIkYyFoMZ5YKUuQYOUqH3iAXK4QAdhB+HsAARnG1G4OUI5ZHSdRFtUJwCS8nxrqS7AAJIRn6cSxAmIJQFCXq4TwEDUgw0S4A4kLyrErpOKUjrsGp2hkVpMimnp8DSgZSDuhwQA\" width=\"800\" height=\"600\"></iframe>\n"
      ],
      "text/plain": [
       "<IPython.core.display.HTML object>"
      ]
     },
     "metadata": {},
     "output_type": "display_data"
    }
   ],
   "source": [
    "%%html\n",
    " <iframe src=\"https://www.falstad.com/circuit/circuitjs.html?ctz=CQAgzCAMB0l3BWEDYCYyoOytQTgByaT74CMSAbACwibKTICmAtKaQFACGIqJIpFfOHw0BQ3PwYNS8eMmgVMM1BTAJcmVWFI0w0MAcNHjk2Vx58VukT2ogJMqKdkgKCih89ev8xctXqmgY6znDsAE48VAwIFFHSkDQx8BHxkjSo0fwIqE4IKQDuaeS5mQy8UqllFuVZGELJYUXVJRZCrZDszVkyGdjpUF08-b3DpfiVzf0VbTWDRVR2pJogi6K4uZ1FYDakNjvrm0MH-BurdtVb5xlZazyx88I3DCeZDcc21XekZ50ASmkHi04lJVgknFJoAh2AC+A9LEknD1QZDoZE4XE+KRUKCZCl0e0cSAsTYEoViYTygJ+ESrqhqdiqXE1EciiSaAj3gBjClRIR8FlOMAsOgoPyQFRqDRaEIwOAcADmvMFAsEENSJzAaruWoaoSG3xWVFwcWWIINdl1qxN4DVnXIEFeDzuqAepB4kkk7AdT34RqWK3dmy9CxtZutzLt7AA8sgKNIVhQGStJry9hl2Y9ObM3oMAC7gXi2oR4SN693MTDQfBqBCkMASthEXAYWjQFsIBBayA5V34BD9ljtOAgAAmjAAZpwAK4AGzzQ3pzJyPBtgs6StLvq30T1V3qxd9Vs6AA8adJyPx8A49qt+HFRwBLADOXIAFpxwgrGOwz9iHJg7SYKIZB3tSebhI+CrfuEv7nlEuR7EgmRIKIcR5m+4SMM+b4APazqOi4jIkYyFoMZ5YKUuQYOUqH3iAXK4QAdhB+HsAARnG1G4OUI5ZHSdRFtUJwCS8nxrqS7AAJIRn6cSxAmIJQFCXq4TwEDUgw0S4A4kLyrErpOKUjrsGp2hkVpMimnp8DSgZSDuhwQA\" width=\"800\" height=\"600\"></iframe>"
   ]
  },
  {
   "cell_type": "markdown",
   "id": "11a6c50f-20ff-4e78-906f-95c426488709",
   "metadata": {
    "editable": true,
    "slideshow": {
     "slide_type": ""
    },
    "tags": []
   },
   "source": [
    "## Modes de funcionament\n",
    "\n",
    "Amb l'ajut de uns pocs components externs, aquest xip pot fer diferents funcions treballant en 4 modes diferents:"
   ]
  },
  {
   "cell_type": "markdown",
   "id": "eebf91da-539e-4139-ae34-f162769c700c",
   "metadata": {
    "editable": true,
    "slideshow": {
     "slide_type": ""
    },
    "tags": []
   },
   "source": [
    "### Astable\n",
    "\n",
    "L'integrat opera com un oscil·lador electrònic:"
   ]
  },
  {
   "cell_type": "code",
   "execution_count": 2,
   "id": "77b44323-c710-477e-b18a-3739129c1955",
   "metadata": {
    "editable": true,
    "slideshow": {
     "slide_type": ""
    },
    "tags": [
     "hide-input"
    ]
   },
   "outputs": [
    {
     "data": {
      "text/html": [
       " <iframe src=\"https://www.falstad.com/circuit/circuitjs.html?ctz=CQAgjCAMB0l3BWEAWaAOMaBMA2AnNnmJAdiAjueZOQKYC0YYAUGDklsjWFmiFhXC8UUZgCUQAZkjIQeStNloaKlDSSqYCcVJn80fRVMmUak-jSxSoUaNoDyUnHzB4ryNuDc3IzAO78XOA4lpAuIaIAThbhoXzyNtK+AVhhcgp6Cckx-IKcloK+AMY5ApSphnoqsPCQ5mDQWADsyAjIaE2ueJJNOB5NtnAsAOY5RhVSqT7+pZylhTMTWHP5-HO+0RNscWuyZnAzRgkm8aaHzulOsaKjkib6hvdGKswA9vyTNh6QVho1dXhIDgBDYrFZzEUAC4AGze1kkVho31+g3geF6FBB3BArwArpCAA745hAA\" width=\"800\" height=\"600\"></iframe>\n"
      ],
      "text/plain": [
       "<IPython.core.display.HTML object>"
      ]
     },
     "metadata": {},
     "output_type": "display_data"
    }
   ],
   "source": [
    "%%html\n",
    " <iframe src=\"https://www.falstad.com/circuit/circuitjs.html?ctz=CQAgjCAMB0l3BWEAWaAOMaBMA2AnNnmJAdiAjueZOQKYC0YYAUGDklsjWFmiFhXC8UUZgCUQAZkjIQeStNloaKlDSSqYCcVJn80fRVMmUak-jSxSoUaNoDyUnHzB4ryNuDc3IzAO78XOA4lpAuIaIAThbhoXzyNtK+AVhhcgp6Cckx-IKcloK+AMY5ApSphnoqsPCQ5mDQWADsyAjIaE2ueJJNOB5NtnAsAOY5RhVSqT7+pZylhTMTWHP5-HO+0RNscWuyZnAzRgkm8aaHzulOsaKjkib6hvdGKswA9vyTNh6QVho1dXhIDgBDYrFZzEUAC4AGze1kkVho31+g3geF6FBB3BArwArpCAA745hAA\" width=\"800\" height=\"600\"></iframe>"
   ]
  },
  {
   "cell_type": "markdown",
   "id": "a9b93ef4-ea68-4a5d-834e-997656f89e4b",
   "metadata": {
    "editable": true,
    "slideshow": {
     "slide_type": ""
    },
    "tags": []
   },
   "source": [
    "### Monoestable\n",
    "El xip opera com a un generador de pulsos d'un sol tret:"
   ]
  },
  {
   "cell_type": "code",
   "execution_count": 3,
   "id": "79ba4a3d-7e6b-415c-95b5-ad1379a3bf01",
   "metadata": {
    "editable": true,
    "slideshow": {
     "slide_type": ""
    },
    "tags": [
     "hide-input"
    ]
   },
   "outputs": [
    {
     "data": {
      "text/html": [
       " <iframe src=\"https://www.falstad.com/circuit/circuitjs.html?ctz=CQAgjCAMB0l3BWcMBMcUHYMGZIA4UA2ATmIxAUIosgoFMBaMMAKDEKTT3ABYeRsaXv36QWAdxBdwGKtMwooEqfhlUwstUsnyetMCm4o92rRvWaFSgMZar5gUNox4cUu4+fSUWD2IJIPwCgwP9uF0hWAHMtQX1NbGwqZxYAJzNNB2ZFfXhlLIMpDEVspQAlcENwQp5uUucQEyQGmAQWAHkBJJVuPVppFPSDOsLhqRNcsUkx0oKcllsx41o8fomfVwhsaAQETDAkjDxVyACwRgONyJYAGRBV8dpax6hwEAAXVIBXOmoxGNw-EBAkCjhaynshUS6kKUy6MMU0K0YgA9rwQIRRI0wJBFM1YPAyBxCChmlJ0dgWGicRisTwcXirm5ZJRSa9WAALcnkNpAA\" width=\"800\" height=\"600\"></iframe>\n"
      ],
      "text/plain": [
       "<IPython.core.display.HTML object>"
      ]
     },
     "metadata": {},
     "output_type": "display_data"
    }
   ],
   "source": [
    "%%html\n",
    " <iframe src=\"https://www.falstad.com/circuit/circuitjs.html?ctz=CQAgjCAMB0l3BWcMBMcUHYMGZIA4UA2ATmIxAUIosgoFMBaMMAKDEKTT3ABYeRsaXv36QWAdxBdwGKtMwooEqfhlUwstUsnyetMCm4o92rRvWaFSgMZar5gUNox4cUu4+fSUWD2IJIPwCgwP9uF0hWAHMtQX1NbGwqZxYAJzNNB2ZFfXhlLIMpDEVspQAlcENwQp5uUucQEyQGmAQWAHkBJJVuPVppFPSDOsLhqRNcsUkx0oKcllsx41o8fomfVwhsaAQETDAkjDxVyACwRgONyJYAGRBV8dpax6hwEAAXVIBXOmoxGNw-EBAkCjhaynshUS6kKUy6MMU0K0YgA9rwQIRRI0wJBFM1YPAyBxCChmlJ0dgWGicRisTwcXirm5ZJRSa9WAALcnkNpAA\" width=\"800\" height=\"600\"></iframe>"
   ]
  },
  {
   "cell_type": "markdown",
   "id": "55149f4d-4df0-44f9-b1b4-053294719f8c",
   "metadata": {
    "editable": true,
    "slideshow": {
     "slide_type": ""
    },
    "tags": []
   },
   "source": [
    "### Biestable\n",
    "\n",
    "El xip opera com una porta RS, amb les entrades negades."
   ]
  },
  {
   "cell_type": "code",
   "execution_count": 4,
   "id": "a9462888-56aa-4e67-8605-d71a39315e41",
   "metadata": {
    "editable": true,
    "slideshow": {
     "slide_type": ""
    },
    "tags": [
     "hide-input"
    ]
   },
   "outputs": [
    {
     "data": {
      "text/html": [
       " <iframe src=\"https://www.falstad.com/circuit/circuitjs.html?ctz=CQAgjCAMB0l3BWcMBMcUHYMGZIA4UA2ATmIxBORAUmoFMBaMMAKDEKRRQBZxvfMKPr17FopCaXjSULAO4guvMBkLhiQlWsjz1QnrSWLutHQrAbFGfTytCzeu4+wJ7LAMaK8eELgHffVyhwRh9CaEJIqOiojF4YOFYAcy8fF30A7EIfUxYAJVTwMAyfPFNgkypymAQWAHlA-XwQbnZFZtyFbDRfSF5u2nSoXQshIZRMoIcJtKCBxuGuoK0FwnjdIbXHLZ0AGW3lYop48BAAMwBDABsAZzpqYf3R41pmfUrX8+u7h50AD2Q2GQSGK5DAzQEvAA9HkWADwRlXrYJkDISAoQBlFgAexAYROJmIPnBUGgEFeLCAA\" width=\"800\" height=\"600\"></iframe>\n"
      ],
      "text/plain": [
       "<IPython.core.display.HTML object>"
      ]
     },
     "metadata": {},
     "output_type": "display_data"
    }
   ],
   "source": [
    "%%html\n",
    " <iframe src=\"https://www.falstad.com/circuit/circuitjs.html?ctz=CQAgjCAMB0l3BWcMBMcUHYMGZIA4UA2ATmIxBORAUmoFMBaMMAKDEKRRQBZxvfMKPr17FopCaXjSULAO4guvMBkLhiQlWsjz1QnrSWLutHQrAbFGfTytCzeu4+wJ7LAMaK8eELgHffVyhwRh9CaEJIqOiojF4YOFYAcy8fF30A7EIfUxYAJVTwMAyfPFNgkypymAQWAHlA-XwQbnZFZtyFbDRfSF5u2nSoXQshIZRMoIcJtKCBxuGuoK0FwnjdIbXHLZ0AGW3lYop48BAAMwBDABsAZzpqYf3R41pmfUrX8+u7h50AD2Q2GQSGK5DAzQEvAA9HkWADwRlXrYJkDISAoQBlFgAexAYROJmIPnBUGgEFeLCAA\" width=\"800\" height=\"600\"></iframe>"
   ]
  },
  {
   "cell_type": "markdown",
   "id": "a59df414-597d-4a87-ae76-2ae4872933ca",
   "metadata": {
    "editable": true,
    "slideshow": {
     "slide_type": ""
    },
    "tags": []
   },
   "source": [
    "### Trigger Schmitt\n",
    "\n",
    "El xip opera com a una porta inversora amb histèresis"
   ]
  },
  {
   "cell_type": "code",
   "execution_count": 5,
   "id": "289f2bf9-cc98-4242-a961-375673a4d5a8",
   "metadata": {
    "editable": true,
    "slideshow": {
     "slide_type": ""
    },
    "tags": [
     "hide-input"
    ]
   },
   "outputs": [
    {
     "data": {
      "text/html": [
       " <iframe src=\"https://www.falstad.com/circuit/circuitjs.html?ctz=CQAgjCAMB0l3BWcMBMcUHYMGZIA4UA2ATmIxAUIosgoFMBaMMAKDEKVwBZxDav2vflBYB3ECkrgUeENkKywMkQCUJUpYq49NUPV1pJax6AhYB5EF2woJKHl2JUU9vZDHrneWZOdT34r6ecpA8QQHBMrLcEt4iAG6RGsS24eBWcOnGUKYsamApwWDawbQQBhKmlUY5ZgAOkXFB2PJuIgDmwS1+VNgItsYsnQa0NvyZ3W4e8orK1ra6EfPSsssFAywA9iDEIIQ8-GCQtoTQEDDwkGQchJJ6rNvYewdWR7ZGsPDXlHdlLEA\" width=\"800\" height=\"600\"></iframe>\n"
      ],
      "text/plain": [
       "<IPython.core.display.HTML object>"
      ]
     },
     "metadata": {},
     "output_type": "display_data"
    }
   ],
   "source": [
    "%%html\n",
    " <iframe src=\"https://www.falstad.com/circuit/circuitjs.html?ctz=CQAgjCAMB0l3BWcMBMcUHYMGZIA4UA2ATmIxAUIosgoFMBaMMAKDEKVwBZxDav2vflBYB3ECkrgUeENkKywMkQCUJUpYq49NUPV1pJax6AhYB5EF2woJKHl2JUU9vZDHrneWZOdT34r6ecpA8QQHBMrLcEt4iAG6RGsS24eBWcOnGUKYsamApwWDawbQQBhKmlUY5ZgAOkXFB2PJuIgDmwS1+VNgItsYsnQa0NvyZ3W4e8orK1ra6EfPSsssFAywA9iDEIIQ8-GCQtoTQEDDwkGQchJJ6rNvYewdWR7ZGsPDXlHdlLEA\" width=\"800\" height=\"600\"></iframe>"
   ]
  },
  {
   "cell_type": "markdown",
   "id": "ede49dbb-9487-41f5-8c97-e89a6d01fccd",
   "metadata": {
    "editable": true,
    "slideshow": {
     "slide_type": ""
    },
    "tags": []
   },
   "source": [
    "## Aplicacions\n",
    "\n",
    "Ja hem dit que són moltíssimes. Penseu que fins que els microcontroladors no van baixar de preu i es va facilitar la seva programació, i això va succeir amb l'inici d'aquest segle, el 555 era la base de molts dissenys. S'han escrit llibres sencers sobre ell, molt són a la internet. Veieu un parell d'exemples:"
   ]
  },
  {
   "cell_type": "code",
   "execution_count": 6,
   "id": "561c2d31-d3b0-4725-b834-cbb4dae6cc48",
   "metadata": {
    "editable": true,
    "slideshow": {
     "slide_type": ""
    },
    "tags": [
     "hide-input"
    ]
   },
   "outputs": [
    {
     "data": {
      "text/html": [
       "<iframe src=\"https://archive.org/embed/555-designs\" width=\"560\" height=\"384\"></iframe>\n"
      ],
      "text/plain": [
       "<IPython.core.display.HTML object>"
      ]
     },
     "metadata": {},
     "output_type": "display_data"
    }
   ],
   "source": [
    "%%html\n",
    "<iframe src=\"https://archive.org/embed/555-designs\" width=\"560\" height=\"384\"></iframe>"
   ]
  },
  {
   "cell_type": "code",
   "execution_count": 7,
   "id": "4929af4a-91e0-4d6b-ae8a-72c5040627dc",
   "metadata": {
    "editable": true,
    "slideshow": {
     "slide_type": ""
    },
    "tags": [
     "hide-input"
    ]
   },
   "outputs": [
    {
     "data": {
      "text/html": [
       "<iframe src=\"https://www.talkingelectronics.com/projects/50%20-%20555%20Circuits/50%20-%20555%20Circuits.html\" width=\"700\" height=\"480\"></iframe>\n"
      ],
      "text/plain": [
       "<IPython.core.display.HTML object>"
      ]
     },
     "metadata": {},
     "output_type": "display_data"
    }
   ],
   "source": [
    "%%html\n",
    "<iframe src=\"https://www.talkingelectronics.com/projects/50%20-%20555%20Circuits/50%20-%20555%20Circuits.html\" width=\"700\" height=\"480\"></iframe>"
   ]
  },
  {
   "cell_type": "markdown",
   "id": "6eeeee05-5e80-4c94-9bad-818b112ea5bc",
   "metadata": {},
   "source": [
    "## Pràctica: llum d'escala\n",
    "\n",
    "Esteu acostumats a pijar un polsador al vestíbul d'un edifici i que el llum de l'escala estigui encès uns minuts. Aquest circuit és molt fàcil de realitzar amb un 555: "
   ]
  },
  {
   "cell_type": "code",
   "execution_count": 8,
   "id": "1df73721-811d-4702-b063-e836eed5df3e",
   "metadata": {
    "editable": true,
    "slideshow": {
     "slide_type": ""
    },
    "tags": [
     "hide-input"
    ]
   },
   "outputs": [
    {
     "data": {
      "text/html": [
       "<iframe src=\"https://www.falstad.com/circuit/circuitjs.html?ctz=CQAgDOB0YzCsICcAmSAOZB2RLNwIxqYBsAzAnMSBRHAKYC0++AUPsQsmGiPgCx8QpLrwEhBfSDmk44sWKwDuILj3wkV3FZmTgWy1bw3qqJvQa3I+EfMh5WIYfUdPGNWXU4DGL7brPCjlAKKpAmYIh8pHy2cGhwyKTBYKwA5r6BGaRUjiwATr5mRbbgvPLOxboevCVOAEq8djW6fGq1pdbUpY6QcCwA8kLZmjzWEIa5BbZt-k0OpfgwFU3M-sa1LD7TKp1o4502jJggDGjoaOpoMYiYMLHIjOzJrAAyIHs7EK2fCyAALnkAK50LpOdKkMCCCFQyFCES5Aw6ZpDUwbZSkYarFG+JwAe1E1HaMTAugQYGgsBuHGIyDJKgJpBY+MWhM84kWpOSMCplFpCxYAAt6cc+kA\" width=\"560\" height=\"384\"></iframe>\n"
      ],
      "text/plain": [
       "<IPython.core.display.HTML object>"
      ]
     },
     "metadata": {},
     "output_type": "display_data"
    }
   ],
   "source": [
    "%%html\n",
    "<iframe src=\"https://www.falstad.com/circuit/circuitjs.html?ctz=CQAgDOB0YzCsICcAmSAOZB2RLNwIxqYBsAzAnMSBRHAKYC0++AUPsQsmGiPgCx8QpLrwEhBfSDmk44sWKwDuILj3wkV3FZmTgWy1bw3qqJvQa3I+EfMh5WIYfUdPGNWXU4DGL7brPCjlAKKpAmYIh8pHy2cGhwyKTBYKwA5r6BGaRUjiwATr5mRbbgvPLOxboevCVOAEq8djW6fGq1pdbUpY6QcCwA8kLZmjzWEIa5BbZt-k0OpfgwFU3M-sa1LD7TKp1o4502jJggDGjoaOpoMYiYMLHIjOzJrAAyIHs7EK2fCyAALnkAK50LpOdKkMCCCFQyFCES5Aw6ZpDUwbZSkYarFG+JwAe1E1HaMTAugQYGgsBuHGIyDJKgJpBY+MWhM84kWpOSMCplFpCxYAAt6cc+kA\" width=\"560\" height=\"384\"></iframe>"
   ]
  },
  {
   "cell_type": "markdown",
   "id": "a55cba28-2806-42c9-80ba-9299ef973315",
   "metadata": {},
   "source": [
    "Podeu realitzar el circuit al taller amb una breadboard:\n",
    "\n",
    "$R(X8-B8) = 10 \\ k\\Omega$   \n",
    "$R(X14-C14) = 100 \\ \\Omega$   \n",
    "$C(J10-Y10) = 100 \\ \\mu F$   \n",
    "$C(H14-H17) = 100 \\ nF$\n",
    "\n",
    "![](img/Control/555llumEscala.png)"
   ]
  },
  {
   "cell_type": "markdown",
   "id": "590bd135-e038-47e4-bf94-18f9f7451df6",
   "metadata": {},
   "source": []
  },
  {
   "cell_type": "code",
   "execution_count": null,
   "id": "a86f6202-600a-4270-8c27-f54a9974c3ff",
   "metadata": {},
   "outputs": [],
   "source": []
  }
 ],
 "metadata": {
  "kernelspec": {
   "display_name": "venvPy3",
   "language": "python",
   "name": "venvpy3"
  },
  "language_info": {
   "codemirror_mode": {
    "name": "ipython",
    "version": 3
   },
   "file_extension": ".py",
   "mimetype": "text/x-python",
   "name": "python",
   "nbconvert_exporter": "python",
   "pygments_lexer": "ipython3",
   "version": "3.10.12"
  }
 },
 "nbformat": 4,
 "nbformat_minor": 5
}