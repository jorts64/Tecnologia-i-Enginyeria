{
 "cells": [
  {
   "cell_type": "markdown",
   "id": "7df2f400-65dd-4ff5-a83c-0669f20bf51c",
   "metadata": {
    "editable": true,
    "slideshow": {
     "slide_type": ""
    },
    "tags": []
   },
   "source": [
    "# Pràctica operacionals"
   ]
  },
  {
   "cell_type": "markdown",
   "id": "8a581ac3-d120-4134-9d99-659e99ccb10b",
   "metadata": {
    "editable": true,
    "slideshow": {
     "slide_type": ""
    },
    "tags": []
   },
   "source": [
    "```{admonition} Pàgina en desenvolupament\n",
    "Encara estem treballant en aquest document.   \n",
    "Esperem oferir-vos properament el seu contingut.   \n",
    "Disculpeu les molèsties.\n",
    "```"
   ]
  },
  {
   "cell_type": "markdown",
   "id": "9cc7042b-a095-4ed2-80cc-1cec84a2d077",
   "metadata": {},
   "source": [
    "## Preparació del laboratori \n",
    "\n",
    "Treballarem amb aquest material:\n",
    "* *breadboard*\n",
    "* arduino nano\n",
    "* LM324\n",
    "* 2 potenciòmetres de $10k\\Omega$\n",
    "* Leds 5mm colors vermell, groc, verd, blau\n",
    "* Resistència $220\\Omega$\n",
    "* 2 x Resistència $10k\\Omega$\n",
    "* Resistència $4,7k\\Omega$\n",
    "* alguns cables de connexió, 2 amb connectors M-M Dupont.\n",
    "\n",
    "![](img/Control/labOpAmp.jpg)\n",
    "\n",
    "Les connexions que veieu són fixes. Utilitzem cables curts i optimitzem la disposició:\n",
    "\n",
    "| pos1 | pos2 | Funció |\n",
    "|:---:|:---:|:---|\n",
    "| j12 | (-) | l'Arduino nano dona GND al carril blau superior|\n",
    "| a14 | (-) | l'Arduino nano dona GND al carril blau inferior|\n",
    "| a12 | (+) | l'Arduino nano dona +5V al carril vermell inferior|\n",
    "| (+) | (+) | l'Arduino nano dona +5V al carril vermell superior|\n",
    "| j21 | (-) | LM324 agafa GND del carril blau superior|\n",
    "| c21 | (+) | LM324 agafa +5V del carril vermell inferior|\n",
    "| j28 | (-) | POT1 agafa GND del carril blau superior|\n",
    "| j30 | (+) | POT1 agafa +5V del carril blau superior|\n",
    "| a28 | (-) | POT2 agafa GND del carril blau inferior|\n",
    "| a30 | (+) | POT2 agafa +5V del carril vermell inferior|\n",
    "| b11 | i29 | senyal POT1 a canal A7 Arduino nano|\n",
    "| a10 | a29 | senyal POT2 a canal A6 Arduino nano|\n",
    "| a9 | a29 | sortida OpAmp1 a canal A5 Arduino nano|\n",
    "| a8 | i29 | sortida OpAmp2 a canal A4 Arduino nano|\n",
    "| a7 | i29 | sortida OpAmp3 a canal A3 Arduino nano|\n",
    "| a6 | i29 | sortida OpAmp4 a canal A2 Arduino nano|\n",
    "| a5 | i29 | canal A1 Arduino nano a GND. Cable amb connector, canviarem la connexió més endavant|\n",
    "| a4 | i29 | canal A0 Arduino nano a GND. Cable amb connector, canviarem la connexió més endavant|\n",
    "\n",
    "**Aquestes connexions no es modificaran en tota la pràctica. Únicament mourem les connexions GND de A0 i A1 per mesurar. La resta de connexions no es toquen** \n",
    "\n",
    "\n",
    "\n",
    "\n",
    "\n",
    "\n"
   ]
  },
  {
   "cell_type": "markdown",
   "id": "67a10d06-14c2-4710-9ddd-5c0831f643fa",
   "metadata": {},
   "source": [
    "A l'Arduino nano carreguem el següent codi, i obrim el plotter sèrie a 115200 bauds. Tindrem una visualització en temps real del voltages citats.\n",
    "\n",
    "```C++\n",
    "int sensorValue;\n",
    "void setup() {\n",
    "  Serial.begin(115200);\n",
    "}\n",
    "// the loop routine runs over and over again forever:\n",
    "void loop() {\n",
    "  sensorValue = analogRead(A7);\n",
    "  Serial.print(sensorValue);\n",
    "  Serial.print(\",\");\n",
    "  delay(1);        // delay in between reads for stability\n",
    "  sensorValue = analogRead(A6);\n",
    "  Serial.print(sensorValue);\n",
    "  Serial.print(\",\");\n",
    "  delay(1);        // delay in between reads for stability\n",
    "  sensorValue = analogRead(A5);\n",
    "  Serial.print(sensorValue);\n",
    "  Serial.print(\",\");\n",
    "  delay(1);        // delay in between reads for stability\n",
    "  sensorValue = analogRead(A4);\n",
    "  Serial.print(sensorValue);\n",
    "  Serial.print(\",\");\n",
    "  delay(1);        // delay in between reads for stability\n",
    "  sensorValue = analogRead(A3);\n",
    "  Serial.print(sensorValue);\n",
    "  Serial.print(\",\");\n",
    "  delay(1);        // delay in between reads for stability\n",
    "  sensorValue = analogRead(A2);\n",
    "  Serial.print(sensorValue);\n",
    "  Serial.print(\",\");\n",
    "  delay(1);        // delay in between reads for stability\n",
    "  sensorValue = analogRead(A1);\n",
    "  Serial.print(sensorValue);\n",
    "  Serial.print(\",\");\n",
    "  delay(1);        // delay in between reads for stability\n",
    "  sensorValue = analogRead(A0);\n",
    "  Serial.println(sensorValue);\n",
    "  delay(1);        // delay in between reads for stability  \n",
    "}\n",
    "```\n",
    "\n",
    "![](img/Control/labOpAmp01.png)\n",
    "\n",
    "**També podeu accedir a les dades numèriques amb el monitor sèrie de l'Arduino**"
   ]
  },
  {
   "cell_type": "markdown",
   "id": "54e67550-871e-4bf4-9e80-a339537be146",
   "metadata": {},
   "source": [
    "![](img/Control/lm324.png)\n",
    "\n",
    "\n",
    "## Experiment: Seguidor de tensió. Mesura del gap d'un LED\n",
    "\n",
    "Configurarem OpAmp1 com un seguidor de tensió de POT1:\n",
    "\n",
    "![](img/Control/Op-Amp_Unity-Gain_Buffer.svg)\n",
    "\n",
    "* cable entre j29 i j22\n",
    "* cable entre j23 i j24\n",
    "\n",
    "\n",
    "**Comprovem que al variar POT1 tant A7 com A5 es mouen junts. Per valors molt alts de POT1 les linies es separen, A5 queda per sota de A7. És la tensió màxima que pot donar el OpAmp. Feu una estimació d'aquesta tensió màxima (1023=>5V)**\n",
    "\n",
    "Connectem un LED vermell amb una resistència de $220\\Omega$ en sèrie. Mesurem la tensió que cau al LED (*gap*).\n",
    "\n",
    "* LED vermell entre j17 i (-)\n",
    "* R $220\\Omega$ entre i17 i i24\n",
    "* Desconnectem l'extrem del cable de A0 de GND a h17\n",
    "\n",
    "**Comprovem que al variar POT1 tant A7, A5 com A0 es mouen junts. Per a u cert valor de POT1 el LED s'encén i les linies es separen, A0 queda per sota de A7 i A5. És el gap del LED. Feu una estimació d'aquest gap. Compareu amb altres colors de LED**\n",
    "\n",
    "\n",
    "\n",
    "\n",
    "\n"
   ]
  },
  {
   "cell_type": "markdown",
   "id": "d500a595-dceb-4a99-8db1-e4771b76cb3f",
   "metadata": {},
   "source": [
    "## Experiment: amplificador no inversor\n",
    "\n",
    "![](img/Control/Op-Amp_Non-Inverting_Amplifier.svg)\n",
    "\n",
    "$V_{out} = V_{in} \\left( 1 + \\frac{ R_2 }{ R_1 } \\right)$\n",
    "\n",
    "Treiem el LED, la resistència i el cable entre j23 i j24. Tornem a connectar l'extrem del cable de A0 a (-)\n",
    "\n",
    "* Resistència $10k\\Omega$ entre i23 i i24\n",
    "* Resistència $10k\\Omega$ entre j23 i (-)\n",
    "\n",
    "**Comprovem que al variar POT1 A5 marca un valor doble de A7. Canviem la resistència entre j23 i (-) per una de $4,7k\\Omega$. Comenteu el resultat**\n",
    "  \n",
    "\n",
    "\n",
    "\n"
   ]
  },
  {
   "cell_type": "markdown",
   "id": "06f1390c-a1fb-491d-a236-dfd711bcd388",
   "metadata": {},
   "source": [
    "## Experiment: Amplificador sumador\n",
    "\n",
    "![](img/Control/Op-Amp_Summing_Amplifier.svg)\n",
    "\n",
    "$V_{out} = -R_{f} \\left( \\frac{V_1}{R_1} + \\frac{V_2}{R_2} + \\cdots + \\frac{V_n}{R_n} \\right) $\n",
    "\n",
    "Treiem les dues resistències de l'experiment anterior.\n",
    "Treiem el cable entre cable entre j29 i j22\n",
    "\n",
    "* Resistència $4.7k\\Omega$ entre j29 i h23\n",
    "* Resistència $10k\\Omega$ entre b29 i g23\n",
    "* Resistència $10k\\Omega$ entre j23 i j24\n",
    "* Cable entre j22 i (-)\n",
    "\n",
    "**Comproveu que la sortida és una mitjana ponderada de le dues entrades. Feu una estimació experimental del pes de cada entrada.**"
   ]
  },
  {
   "cell_type": "code",
   "execution_count": null,
   "id": "24e936a4-f941-47cf-9e26-322b8df92384",
   "metadata": {},
   "outputs": [],
   "source": []
  }
 ],
 "metadata": {
  "kernelspec": {
   "display_name": "venvPy3",
   "language": "python",
   "name": "venvpy3"
  },
  "language_info": {
   "codemirror_mode": {
    "name": "ipython",
    "version": 3
   },
   "file_extension": ".py",
   "mimetype": "text/x-python",
   "name": "python",
   "nbconvert_exporter": "python",
   "pygments_lexer": "ipython3",
   "version": "3.10.12"
  }
 },
 "nbformat": 4,
 "nbformat_minor": 5
}