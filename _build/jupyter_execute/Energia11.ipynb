{
 "cells": [
  {
   "cell_type": "markdown",
   "id": "7df2f400-65dd-4ff5-a83c-0669f20bf51c",
   "metadata": {
    "editable": true,
    "slideshow": {
     "slide_type": ""
    },
    "tags": []
   },
   "source": [
    "# Energia sonora"
   ]
  },
  {
   "cell_type": "markdown",
   "id": "8a581ac3-d120-4134-9d99-659e99ccb10b",
   "metadata": {
    "editable": true,
    "slideshow": {
     "slide_type": ""
    },
    "tags": []
   },
   "source": [
    "```{admonition} Pàgina en desenvolupament\n",
    "Encara estem treballant en aquest document.   \n",
    "Esperem oferir-vos properament el seu contingut.   \n",
    "Disculpeu les molèsties.\n",
    "```"
   ]
  },
  {
   "cell_type": "markdown",
   "id": "cc5c41ca-d506-4523-9e9a-c4d1146a74b8",
   "metadata": {},
   "source": [
    "Els sons que sentim son variacions de pressió de l'aire que es transmeten en forma d'ones, com les produïdes per una pedra que cau a l'aigua d'un estany.\n",
    "\n",
    "Aquestes ones han estat generades com a vibracions de les nostres cordes vocals, les cordes o les paredes d'un instrument musical, els àtoms d'un objecte que ha rebut un cop... I quan aquestes ones de pressió xoquen amb un objecte el fan vibrar, com un vidre de la finestra quan passa un camió, o les membranes dels nostres timpans\n",
    "\n",
    "L'oïda humà és sensible als sons entre el 20Hz i els 20 kHz, encara que amb l'edat perdem sensibilitat als aguts (freqüències més altes). Molts animals superen aquests valors (ultrasons), com ara els gossos (xiulets d'ultrasons) o els ratpenats (ecolocalització). Altres animals utilitzen freqüències més baixes, com les balenes, que permeten comunicar-se a distàncies molt llunyanes sota l'aigua (dissortadament amb l'actual contaminació acústica d'avui en dia aquests animals tenen molts problemes per comunicar-se)"
   ]
  },
  {
   "cell_type": "code",
   "execution_count": null,
   "id": "c6f3a780-3905-4cff-a214-0b7b46dfb77e",
   "metadata": {},
   "outputs": [],
   "source": []
  }
 ],
 "metadata": {
  "kernelspec": {
   "display_name": "venvPy3",
   "language": "python",
   "name": "venvpy3"
  },
  "language_info": {
   "codemirror_mode": {
    "name": "ipython",
    "version": 3
   },
   "file_extension": ".py",
   "mimetype": "text/x-python",
   "name": "python",
   "nbconvert_exporter": "python",
   "pygments_lexer": "ipython3",
   "version": "3.10.12"
  }
 },
 "nbformat": 4,
 "nbformat_minor": 5
}