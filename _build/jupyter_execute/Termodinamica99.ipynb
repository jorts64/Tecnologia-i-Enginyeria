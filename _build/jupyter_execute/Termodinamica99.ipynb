{
 "cells": [
  {
   "cell_type": "markdown",
   "id": "6008c4f5-bbfe-4cdb-ac13-b46bab06a0c9",
   "metadata": {
    "editable": true,
    "raw_mimetype": "",
    "slideshow": {
     "slide_type": ""
    },
    "tags": []
   },
   "source": [
    "# Recursos"
   ]
  },
  {
   "cell_type": "markdown",
   "id": "1a9e6cde-4451-4471-af01-9a2ad2f3c176",
   "metadata": {
    "editable": true,
    "slideshow": {
     "slide_type": ""
    },
    "tags": []
   },
   "source": [
    "```{admonition} Pàgina en desenvolupament\n",
    "Encara estem treballant en aquest document.   \n",
    "Esperem oferir-vos properament el seu contingut.   \n",
    "Disculpeu les molèsties.\n",
    "```"
   ]
  },
  {
   "cell_type": "code",
   "execution_count": 1,
   "id": "efc381d0-fa29-4c2d-9ee6-fa46895ec65c",
   "metadata": {
    "editable": true,
    "slideshow": {
     "slide_type": ""
    },
    "tags": [
     "hide-input"
    ]
   },
   "outputs": [
    {
     "data": {
      "text/html": [
       " <iframe src=\"https://www.falstad.com/gas/gas.html\" width=800 height=\"650\"></iframe> \n"
      ],
      "text/plain": [
       "<IPython.core.display.HTML object>"
      ]
     },
     "metadata": {},
     "output_type": "display_data"
    }
   ],
   "source": [
    "%%html\n",
    " <iframe src=\"https://www.falstad.com/gas/gas.html\" width=800 height=\"650\"></iframe> "
   ]
  },
  {
   "cell_type": "code",
   "execution_count": 2,
   "id": "01194ed0-bd61-4784-b20f-b5895effa522",
   "metadata": {
    "editable": true,
    "slideshow": {
     "slide_type": ""
    },
    "tags": [
     "hide-input"
    ]
   },
   "outputs": [
    {
     "data": {
      "text/html": [
       " <iframe src=\"https://www.falstad.com/engine/\" width=800 height=\"600\"></iframe> \n"
      ],
      "text/plain": [
       "<IPython.core.display.HTML object>"
      ]
     },
     "metadata": {},
     "output_type": "display_data"
    }
   ],
   "source": [
    "%%html\n",
    " <iframe src=\"https://www.falstad.com/engine/\" width=800 height=\"600\"></iframe> "
   ]
  },
  {
   "cell_type": "markdown",
   "id": "6d2d4428-8332-4616-b5a2-e204364cc8b1",
   "metadata": {
    "editable": true,
    "slideshow": {
     "slide_type": ""
    },
    "tags": []
   },
   "source": [
    "[carInfo3D](https://www.youtube.com/@carinfo3d-En/videos)"
   ]
  },
  {
   "cell_type": "markdown",
   "id": "d33d53da-0191-4c6c-90b1-9209b07f0e5f",
   "metadata": {
    "editable": true,
    "slideshow": {
     "slide_type": ""
    },
    "tags": []
   },
   "source": []
  }
 ],
 "metadata": {
  "kernelspec": {
   "display_name": "venvPy3",
   "language": "python",
   "name": "venvpy3"
  },
  "language_info": {
   "codemirror_mode": {
    "name": "ipython",
    "version": 3
   },
   "file_extension": ".py",
   "mimetype": "text/x-python",
   "name": "python",
   "nbconvert_exporter": "python",
   "pygments_lexer": "ipython3",
   "version": "3.10.12"
  }
 },
 "nbformat": 4,
 "nbformat_minor": 5
}