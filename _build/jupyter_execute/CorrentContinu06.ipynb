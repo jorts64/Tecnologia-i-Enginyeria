{
 "cells": [
  {
   "cell_type": "markdown",
   "id": "c3ddf60f-8786-4e5c-802a-d0193f3c0e5c",
   "metadata": {
    "editable": true,
    "slideshow": {
     "slide_type": ""
    },
    "tags": []
   },
   "source": [
    "# Pràctica: Estudi d'una pila i d'una bombeta"
   ]
  },
  {
   "cell_type": "markdown",
   "id": "01a47ff2-fcca-4e43-a3bd-fd197816f5de",
   "metadata": {},
   "source": [
    "## Objectius"
   ]
  },
  {
   "cell_type": "markdown",
   "id": "5f7ada18-4c3e-48c4-a62d-cd34882caa14",
   "metadata": {},
   "source": [
    "* Aprendre el funcionament del polímetre com a voltímetre, amperímetre i ohmímetre\n",
    "* Fer una estimació de la força elecromotriu ($ \\varepsilon $) i de la resistència interna ($r$) d'una pila$\n",
    "* Observar com cau el voltatge d'una pila quan subministra potència a una càrrega\n",
    "* Observar com la resistència d'una bombeta varia amb la temperatura i fer una estimació de la temperatura de funcionament"
   ]
  },
  {
   "cell_type": "markdown",
   "id": "d0418e1d-2a0c-46bf-9ccc-897b61b6acc3",
   "metadata": {},
   "source": [
    "## Materials"
   ]
  },
  {
   "cell_type": "markdown",
   "id": "81aae6de-b80f-495c-9538-8522cd8091db",
   "metadata": {},
   "source": [
    "* Polímetre\n",
    "* Pila de petaca\n",
    "* Bombeta 3,5 V\n",
    "* Cables de connexió"
   ]
  },
  {
   "cell_type": "markdown",
   "id": "aed99025-cb7c-4555-abe6-26ab5edeb2d5",
   "metadata": {},
   "source": [
    "## Observació"
   ]
  },
  {
   "cell_type": "markdown",
   "id": "7a7e7a34-0872-4ac2-a17e-0a249ec51d11",
   "metadata": {},
   "source": [
    "**Característiques de la bombeta:**\n",
    "\n",
    "* Voltatge: 3,8 V\n",
    "* Intensitat: 0,3 A\n"
   ]
  },
  {
   "cell_type": "markdown",
   "id": "1923b930-3dff-40b5-8556-2838a8fab38f",
   "metadata": {},
   "source": [
    "**Característiques de la pila:**\n",
    "\n",
    "* Voltatge.: 4,5 V"
   ]
  },
  {
   "cell_type": "markdown",
   "id": "f484c0f7-45eb-4757-9214-2df268a4b50d",
   "metadata": {},
   "source": [
    "## Mesures prèvies"
   ]
  },
  {
   "cell_type": "markdown",
   "id": "5b9f1bb7-9af9-4748-bffe-b580020231bb",
   "metadata": {},
   "source": [
    "**Mesura de la resistència de la bombeta amb el polímetre configrat com a ohmímetre:** \n",
    "\n",
    "![](img/CorrentContinu/Practica1/fig1.png)\n",
    "\n",
    "* Resistència ($R_0$): $1,7 \\Omega$ "
   ]
  },
  {
   "cell_type": "markdown",
   "id": "c7b2bfcc-9fad-4a68-a246-dbc10b3a2a37",
   "metadata": {},
   "source": [
    "**Mesura de la força electromotriu de la pila amb el polímetre configurat com a voltímetre:**\n",
    "\n",
    "![](img/CorrentContinu/Practica1/fig2.png)\n",
    "\n",
    "* Força electromotriu ($\\varepsilon $): $4,2 \\Omega $"
   ]
  },
  {
   "cell_type": "markdown",
   "id": "1d7dace9-2ec0-4146-93f8-cbaab2fb379c",
   "metadata": {},
   "source": [
    "## Mesures amb el circuit connectat"
   ]
  },
  {
   "cell_type": "markdown",
   "id": "bfe7e37c-374c-492a-adbb-27387b4b262c",
   "metadata": {},
   "source": [
    "![](img/CorrentContinu/Practica1/fig3.png)\n",
    "\n",
    "* Voltatge (U): 3,6 V\n",
    "\n",
    "![](img/CorrentContinu/Practica1/fig4.png)\n",
    "\n",
    "* Intensitat (I): 0,25 A"
   ]
  },
  {
   "cell_type": "markdown",
   "id": "3a071bfe-ec7f-4b88-b597-acaf51075ccf",
   "metadata": {},
   "source": [
    "## Càlculs"
   ]
  },
  {
   "cell_type": "markdown",
   "id": "c6fd38be-0ea7-47c9-91dd-fa35b1cd5fd4",
   "metadata": {},
   "source": [
    "**Calculem la resistència de la bombeta encesa:**\n",
    "\n",
    "$\\Large R_T = \\frac{U}{I} = \\frac{3,6 V}{0,25 A} = 14,4 \\Omega$\n"
   ]
  },
  {
   "cell_type": "markdown",
   "id": "973507ae-72d4-4ec1-98f4-dded2ebab343",
   "metadata": {},
   "source": [
    "**Calculem la resistència interna de la pila:**\n",
    "\n",
    "$\\Large r = \\frac{\\varepsilon - U}{I} = \\frac{4,2 V - 3,6 V}{0,25 A} = 3,6 \\Omega$ "
   ]
  },
  {
   "cell_type": "markdown",
   "id": "feeaf87b-13dc-44f0-908d-62046ee536f5",
   "metadata": {
    "editable": true,
    "slideshow": {
     "slide_type": ""
    },
    "tags": []
   },
   "source": [
    "**Estimem la temperatura del filament:**\n",
    "\n",
    "$\\rho_t = \\rho_{20} \\cdot [1 + \\alpha \\cdot (t-20 ^{\\circ} C)]$\n",
    "\n",
    "La mateixa relació tenim entre les resistències, ja que ni L ni s varien de forma significativa. Suposant que el taller està a $20 ^{\\circ} C$:\n",
    "\n",
    "$\\Large \\frac{R_T}{R_0} = 1 + \\alpha (t - 20 ^{\\circ} C)$\n",
    "\n",
    "Per al tungsté $\\alpha = 0,0045$\n",
    "\n",
    "Amb aquestes dades, podem fer una estimació de la temperatura del fil de tungsté:\n",
    "\n",
    "$\\Large t = \\frac{\\frac{14,4}{1,7}-1}{0,0045} + 20 ^{\\circ} C \\simeq 1680 ^{\\circ} C$\n"
   ]
  },
  {
   "cell_type": "code",
   "execution_count": null,
   "id": "fa942355-5f2e-49cb-ac3b-3720c5a61eaa",
   "metadata": {},
   "outputs": [],
   "source": []
  }
 ],
 "metadata": {
  "kernelspec": {
   "display_name": "venvPy3",
   "language": "python",
   "name": "venvpy3"
  },
  "language_info": {
   "codemirror_mode": {
    "name": "ipython",
    "version": 3
   },
   "file_extension": ".py",
   "mimetype": "text/x-python",
   "name": "python",
   "nbconvert_exporter": "python",
   "pygments_lexer": "ipython3",
   "version": "3.10.12"
  }
 },
 "nbformat": 4,
 "nbformat_minor": 5
}