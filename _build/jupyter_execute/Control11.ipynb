{
 "cells": [
  {
   "cell_type": "markdown",
   "id": "7df2f400-65dd-4ff5-a83c-0669f20bf51c",
   "metadata": {
    "editable": true,
    "slideshow": {
     "slide_type": ""
    },
    "tags": []
   },
   "source": [
    "# Relès"
   ]
  },
  {
   "cell_type": "markdown",
   "id": "e58a9bef-f1d9-44a2-b7b8-2f24ec1c9f03",
   "metadata": {
    "editable": true,
    "slideshow": {
     "slide_type": ""
    },
    "tags": []
   },
   "source": [
    "```{admonition} Pàgina en desenvolupament\n",
    "Encara estem treballant en aquest document.   \n",
    "Esperem oferir-vos properament el seu contingut.   \n",
    "Disculpeu les molèsties.\n",
    "```"
   ]
  },
  {
   "cell_type": "markdown",
   "id": "0f8b3be1-6f0c-4c77-8684-5a1c25f899b6",
   "metadata": {
    "editable": true,
    "slideshow": {
     "slide_type": ""
    },
    "tags": []
   },
   "source": [
    "Els automatismes elèctrics s'han fet servir dècades abans de l'invent del transistor. Com s'ho feia Gaudí per controlar els ascensors dels seus dissenys? Amb relès!"
   ]
  },
  {
   "cell_type": "markdown",
   "id": "01c6decf-5cb7-4265-b10c-c741105231f7",
   "metadata": {
    "editable": true,
    "slideshow": {
     "slide_type": ""
    },
    "tags": []
   },
   "source": [
    "## Enclavament\n",
    "\n",
    "L'equivalent a una bàscula RS actual es fa amb un segon circuit auxiliar en el relè que manté tensió a la bobina encara que deixem de pitjar el polsador ON. Per apagar el llum es fa servir un polsador NT (OFF):"
   ]
  },
  {
   "cell_type": "code",
   "execution_count": 1,
   "id": "255523fa-1ef3-477d-a558-4aa189dfe76d",
   "metadata": {
    "editable": true,
    "slideshow": {
     "slide_type": ""
    },
    "tags": [
     "hide-input"
    ]
   },
   "outputs": [
    {
     "data": {
      "text/html": [
       " <iframe src=\"https://www.falstad.com/circuit/circuitjs.html?ctz=CQAgjCAMB0l3BWcMBMcUHYMGZIA4UA2ATmIxAUgoqoQFMBaMMAKDAzxBRQBZxCq2BCn5VCXKNBEx4cHqVKywpYdmKTISMLLgaRaDWCQzNUFgDcQ2PHxQJxmffaguetF1RgIWAZxA9sJ3FhTjtxKggAFwAnAFc6X3AUUOc0FPCXGPiWAHcuXnBiETBkwulcpM5lYtKwszy0rlSMIPqrGybxANbICqFioopS6raQzqGqwd6GgrABcBLRNuZi+ZWrA2mFkUCqbo3PCv3d-0Dxrf7wDGC169Hbm8FNivsn2lKTrbGTsbresDwEB4PCqpTGJU4gkgGGgAIwwJKGEQBGwyAim2gfBgPAs4GB2zxfDOnn87hJXgqYHx624fHWWypRJE33KeRZE0qbUuEP8IM5vQAHrzyNwkCDUdxOLY+AB5AByLCFVIcKFRI24XS4soAYtqWEA\" width=\"800\" height=\"600\"></iframe>\n"
      ],
      "text/plain": [
       "<IPython.core.display.HTML object>"
      ]
     },
     "metadata": {},
     "output_type": "display_data"
    }
   ],
   "source": [
    "%%html\n",
    " <iframe src=\"https://www.falstad.com/circuit/circuitjs.html?ctz=CQAgjCAMB0l3BWcMBMcUHYMGZIA4UA2ATmIxAUgoqoQFMBaMMAKDAzxBRQBZxCq2BCn5VCXKNBEx4cHqVKywpYdmKTISMLLgaRaDWCQzNUFgDcQ2PHxQJxmffaguetF1RgIWAZxA9sJ3FhTjtxKggAFwAnAFc6X3AUUOc0FPCXGPiWAHcuXnBiETBkwulcpM5lYtKwszy0rlSMIPqrGybxANbICqFioopS6raQzqGqwd6GgrABcBLRNuZi+ZWrA2mFkUCqbo3PCv3d-0Dxrf7wDGC169Hbm8FNivsn2lKTrbGTsbresDwEB4PCqpTGJU4gkgGGgAIwwJKGEQBGwyAim2gfBgPAs4GB2zxfDOnn87hJXgqYHx624fHWWypRJE33KeRZE0qbUuEP8IM5vQAHrzyNwkCDUdxOLY+AB5AByLCFVIcKFRI24XS4soAYtqWEA\" width=\"800\" height=\"600\"></iframe>"
   ]
  },
  {
   "cell_type": "markdown",
   "id": "71036557-e0b0-4478-92c9-b491a86e11c4",
   "metadata": {},
   "source": [
    "## Control d'una porta corredera\n",
    "\n",
    "Aquí teniu un circuit més sofisticat. Els polsadors obrir / tancar posen en marxa el motor en el sentit convenient. Els finals de cursa obert / tancat aturen el respectiu moviment quan s'ha arribat al lloc dessitjat. El polsador NT STOP atura qualsevol moviment.\n",
    "\n",
    "Aquest circuit també serveix per a un ascensor... que funciona només entre dos pisos!"
   ]
  },
  {
   "cell_type": "code",
   "execution_count": 2,
   "id": "86798979-837e-4b36-a731-dad456368395",
   "metadata": {
    "editable": true,
    "slideshow": {
     "slide_type": ""
    },
    "tags": [
     "hide-input"
    ]
   },
   "outputs": [
    {
     "data": {
      "text/html": [
       " <iframe src=\"https://www.falstad.com/circuit/circuitjs.html?ctz=CQAgDOB0YzCsIBsBmSB2AnBxAOALAIwbxiIYhwQKUUCmAtAQQFAFo4gF54gBMeEIrz4CkfKMN6QMeXr2S8C-RHF748DJVDAICsWNskQw0AghPxwrdiG4d+EPNhERE4k8IuxkOMITXIyFiyOuQWuvowhnzGpubQOlZsHHa2BG5OGelinpDC9F6wTljEsEQlcGHQEZHRvLFgZtqJYNYcXDyEbkJpbm65+YUwxVj65ViV2jX6dQ1NXuZttngciJ3OazkSzUUlOFhoqjAYONnhnJENRtrzCYvJnNxIPD2b-dtDfnsHR2AnZ9ULrULNcLLdLK0AOYxDjOertLTGZgAd04GGEcLAsLcrQAMiB6L5Hjx6ApBE9jCAAGYAQwANgBnWgUKwADwJhHJ5FJeDQnFUthEIAA9gAjWgAJwALsx8YTBOiCWS0Z5wNT6UyWa12fRCLoMHzSUEYo4hVKaQA7ADGNJl0LgWmcDuETFVrVRmRATsdOOYer4-AoTzUHDgFKgun5sXBZRKcfjeymnCsqI6vVsKTOKIz6ZWQZ47pzYZ4ch4xZTy0zWWrFa6uey5cLdfLIfzVntWgEVE7Z3bMNsUXh6aRqcVXf746bznHzoHSIASirbAoXMu3QOtWqTHBmIvPXgV+WD+vROYt5Adx6V8hcJWQDeOFD+7w0EZ7DhH32lCk89-bJsR2JO8-1SQshxfF1FQgvtZ2g2CPy3ZhoWPO8ULwADazhV8KC0aCmxXVJCLzKc3GQAVZzIzxdwJXg4DcIl6CHIlKVPLcI2otNsldTgcTVVjKW3ZgdQEZACSYJVeQJFIhTFCUAEsJSEjl6nvQ1kAPDcSx4c1rRpRTUWcZwV2cQtjNI-Isw9PNpzM2somnKI-ybRy1B4zhXMLLjXOyFdWgZGiEMYNxGLosTeIIEApQlABXWhsxC4KfIs31UQS+8XXMqx-MYhCVzS3zkyi2Ls0MtwNgLEq+heJ4AMqr1uieEzs1STZx1qj0ola+yUrneq1z6zynh6P8ek87zFRGils2GtB+mwtgep6IloOY7MVogaCFtrX8xxXUbmr23aXSmj1nC2uBZs4S6SJAIkLvowD7tuqhLq2waS3muaqNTL63Le+KiS2rjruavNoLrPDmuycGfL8WtYYLe84cLCBkGRpcUaXeUMemxUV1bXy1tyyQENAomf3aMdiOo1JsjrXtHCoNjBNOzLKmEQnUXZ9KKCpx9s25wjp2p0dVSHQDxf7IKKyHaXNmlwt5eyVr+dS1s8xViscpSDhtZ5ws9elvXAONtzAN7bJSW+tyrZw-JOdsEy7cQrmtFt2ckWy1sGNoh62KKuK1YQn2EKa1LAaebH-qD7ElQxHrbecW20wNvahu8k73PaJ4UJTpTdVIL0SXU0SDUFQMAGUABUAHkAAVmCAA\" width=\"800\" height=\"600\"></iframe>\n"
      ],
      "text/plain": [
       "<IPython.core.display.HTML object>"
      ]
     },
     "metadata": {},
     "output_type": "display_data"
    }
   ],
   "source": [
    "%%html\n",
    " <iframe src=\"https://www.falstad.com/circuit/circuitjs.html?ctz=CQAgDOB0YzCsIBsBmSB2AnBxAOALAIwbxiIYhwQKUUCmAtAQQFAFo4gF54gBMeEIrz4CkfKMN6QMeXr2S8C-RHF748DJVDAICsWNskQw0AghPxwrdiG4d+EPNhERE4k8IuxkOMITXIyFiyOuQWuvowhnzGpubQOlZsHHa2BG5OGelinpDC9F6wTljEsEQlcGHQEZHRvLFgZtqJYNYcXDyEbkJpbm65+YUwxVj65ViV2jX6dQ1NXuZttngciJ3OazkSzUUlOFhoqjAYONnhnJENRtrzCYvJnNxIPD2b-dtDfnsHR2AnZ9ULrULNcLLdLK0AOYxDjOertLTGZgAd04GGEcLAsLcrQAMiB6L5Hjx6ApBE9jCAAGYAQwANgBnWgUKwADwJhHJ5FJeDQnFUthEIAA9gAjWgAJwALsx8YTBOiCWS0Z5wNT6UyWa12fRCLoMHzSUEYo4hVKaQA7ADGNJl0LgWmcDuETFVrVRmRATsdOOYer4-AoTzUHDgFKgun5sXBZRKcfjeymnCsqI6vVsKTOKIz6ZWQZ47pzYZ4ch4xZTy0zWWrFa6uey5cLdfLIfzVntWgEVE7Z3bMNsUXh6aRqcVXf746bznHzoHSIASirbAoXMu3QOtWqTHBmIvPXgV+WD+vROYt5Adx6V8hcJWQDeOFD+7w0EZ7DhH32lCk89-bJsR2JO8-1SQshxfF1FQgvtZ2g2CPy3ZhoWPO8ULwADazhV8KC0aCmxXVJCLzKc3GQAVZzIzxdwJXg4DcIl6CHIlKVPLcI2otNsldTgcTVVjKW3ZgdQEZACSYJVeQJFIhTFCUAEsJSEjl6nvQ1kAPDcSx4c1rRpRTUWcZwV2cQtjNI-Isw9PNpzM2somnKI-ybRy1B4zhXMLLjXOyFdWgZGiEMYNxGLosTeIIEApQlABXWhsxC4KfIs31UQS+8XXMqx-MYhCVzS3zkyi2Ls0MtwNgLEq+heJ4AMqr1uieEzs1STZx1qj0ola+yUrneq1z6zynh6P8ek87zFRGils2GtB+mwtgep6IloOY7MVogaCFtrX8xxXUbmr23aXSmj1nC2uBZs4S6SJAIkLvowD7tuqhLq2waS3muaqNTL63Le+KiS2rjruavNoLrPDmuycGfL8WtYYLe84cLCBkGRpcUaXeUMemxUV1bXy1tyyQENAomf3aMdiOo1JsjrXtHCoNjBNOzLKmEQnUXZ9KKCpx9s25wjp2p0dVSHQDxf7IKKyHaXNmlwt5eyVr+dS1s8xViscpSDhtZ5ws9elvXAONtzAN7bJSW+tyrZw-JOdsEy7cQrmtFt2ckWy1sGNoh62KKuK1YQn2EKa1LAaebH-qD7ElQxHrbecW20wNvahu8k73PaJ4UJTpTdVIL0SXU0SDUFQMAGUABUAHkAAVmCAA\" width=\"800\" height=\"600\"></iframe>"
   ]
  },
  {
   "cell_type": "code",
   "execution_count": null,
   "id": "d2ff0fc8-41fe-4cb9-882d-b0839489d1eb",
   "metadata": {},
   "outputs": [],
   "source": []
  }
 ],
 "metadata": {
  "kernelspec": {
   "display_name": "venvPy3",
   "language": "python",
   "name": "venvpy3"
  },
  "language_info": {
   "codemirror_mode": {
    "name": "ipython",
    "version": 3
   },
   "file_extension": ".py",
   "mimetype": "text/x-python",
   "name": "python",
   "nbconvert_exporter": "python",
   "pygments_lexer": "ipython3",
   "version": "3.10.12"
  }
 },
 "nbformat": 4,
 "nbformat_minor": 5
}