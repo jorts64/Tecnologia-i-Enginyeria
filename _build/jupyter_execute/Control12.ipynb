{
 "cells": [
  {
   "cell_type": "markdown",
   "id": "7df2f400-65dd-4ff5-a83c-0669f20bf51c",
   "metadata": {
    "editable": true,
    "slideshow": {
     "slide_type": ""
    },
    "tags": []
   },
   "source": [
    "# Electricitat industrial. Contactors"
   ]
  },
  {
   "cell_type": "markdown",
   "id": "e58a9bef-f1d9-44a2-b7b8-2f24ec1c9f03",
   "metadata": {
    "editable": true,
    "slideshow": {
     "slide_type": ""
    },
    "tags": []
   },
   "source": [
    "```{admonition} Pàgina en desenvolupament\n",
    "Encara estem treballant en aquest document.   \n",
    "Esperem oferir-vos properament el seu contingut.   \n",
    "Disculpeu les molèsties.\n",
    "```"
   ]
  },
  {
   "cell_type": "markdown",
   "id": "0f8b3be1-6f0c-4c77-8684-5a1c25f899b6",
   "metadata": {
    "editable": true,
    "slideshow": {
     "slide_type": ""
    },
    "tags": []
   },
   "source": [
    "Si pensem en una instal·lació industrial, la seguretat dels sistemes és fonamental. Es treballa amb intensitats i potències importants, amb comandaments i dispositius de vegades exposats a un entorn hostil. Aquests dispositius han de complir normatives molt exigents, la vida dels treballadors en depèn. \n",
    "\n",
    "Els circuits s'acostumen a representar en dos circuits separats: circuit de potència i circuit de control. Alguns dispositius, com és el cas del contactor, tenen connexions als dos circuits; s'identifica que pertanyen al mateix dispositiu ja que comparteixen nom."
   ]
  },
  {
   "cell_type": "markdown",
   "id": "5a313dbc-7d3e-4420-8f68-f94d5095dbe1",
   "metadata": {},
   "source": [
    "## Dispositius de comandament i senyalització\n",
    "\n",
    "Polsadors, llums pilot, brunzidors són dispositius als que estem acostumats i que ens permeten la interacció amb el sistema. En aquest camp  necessitem dispositius robustos i fiables, fàcils d'integrar en un panel de comandament i amb formes i un codi de colors intuitius.\n",
    "\n",
    "Per exemple: un seccionador és un interruptor que pot obrir i tancar el circuit amb càrrega. Quan parlem de 32 A AC no és trivial fer aquesta operació amb seguretat. El seccionador està dissenyat específicament per a això.\n",
    "\n",
    "| Dispositiu | Imatge | Símbol |\n",
    "| :---: | :---: | :---: |\n",
    "| Llum pilot | ![](img/Control/EI01.jpg) | ![](img/Control/EI01s.png)|\n",
    "| Polsador d'engegada | ![](img/Control/EI02.jpg) | ![](img/Control/EI02s.png)|\n",
    "| Polsador d'aturada | ![](img/Control/EI03.jpg) | ![](img/Control/EI03s.png)|\n",
    "| Polsador d'emergència | ![](img/Control/EI04.jpg) | ![](img/Control/EI04s.png)|\n",
    "| Seccionador | ![](img/Control/EI06.jpg) | ![](img/Control/EI06s.png)|\n",
    "| Brunzidor | ![](img/Control/EI05.jpg) | ![](img/Control/EI05s.png)|\n",
    " \n"
   ]
  },
  {
   "cell_type": "markdown",
   "id": "dd835f17-7267-4ba8-b9bf-ad9c527c3f59",
   "metadata": {},
   "source": [
    "## Dispositius de protecció\n",
    "\n",
    "A banda dels fusibles, que es poden combinar amb sèrie amb un seccionador en un sol dispositiu, tenimaltres elements de protecció molt utilitzats:\n",
    "\n",
    "* **Relé tèrmic**. Amb l'ajut d'un bimetall un seccionador desconnecta el circuit quan es detecta una sobrecàrrega per l'increment de temperatura produit pel corrent que hi circula.\n",
    "* **Magnetotèrmics**, disjuntors o interruptors automàtics. A la protecció contra sobrecàrregues del relé tèrmic s'afegeix la protecció contra curtcircuits gràcies a un electroimant alimentat pel corrent que hi circula. Quan el corrent és escessiu (típicament 3 vegades la intensitat nominal) l'electroimant desconnecta el circuit, amb una resposta del ordre de ms.\n",
    "* **Interruptor diferencial**. Protegeixen a les persones de contactes directes i indirectes. Són molt sensibles (al voltant de 30mA), i mesuren la diferència d'intensitats entre les línies del circuit. Bàsicament un electroimant està alimentat pel secundari d'un transformador. Com a primari actuen les diferents línies: si la suma d'intensitats no és zero l'electroimant dispara el dispositiu. Cal comprovar periòdicament el funcionament d'aquest dispositiu, ja que protegeix a les persones. Per això porta un polsador que genera una petita diferència d'intensitats i permet comprovar-ne el correcte funcionament.\n",
    "\n",
    "| Dispositiu | Imatge | Símbol |\n",
    "| :---: | :---: | :---: |\n",
    "| Seccionador portafusible | ![](img/Control/EI07.jpg) | ![](img/Control/EI07s.png)|\n",
    "| Relé tèrmic | ![](img/Control/EI08.jpg) | ![](img/Control/EI08s.png)|\n",
    "| Magnetotèrmic | ![](img/Control/EI09.jpg) | ![](img/Control/EI09s.png)|\n",
    "| Interruptor diferencial | ![](img/Control/EI10.jpg) | ![](img/Control/EI10s.png)|\n"
   ]
  },
  {
   "cell_type": "markdown",
   "id": "3ddd390c-3360-42e8-9e22-5a01558e50a0",
   "metadata": {
    "jp-MarkdownHeadingCollapsed": true
   },
   "source": [
    "## Dispositius de maniobra. Contactors.\n",
    "\n",
    "Aquests dispositius implementen la lògica cableada del circuit.\n",
    "\n",
    "\n",
    "**Contactors**. La norma IEC 60947-1 defineix el contactor com un *dispositiu de commutació mecànic que només té una posició de repòs, que funciona d'una altra manera que no sigui manualment, capaç de produir, transportar i tallar corrents en condicions normals de circuit, incloses les condicions de sobrecàrrega de funcionament*. En el fons, un contactor és un relé que compleix totes les normes necessàries perfer la seva funció en els circuits de control.\n",
    "\n",
    "Podem incorporar equipament addicional als contactors per ampliar el nombre de contactes o retardar la seva activació o desactivació. Típicament aquest equipament adicional s'incorpora a sobre del propi contactor amb una unió mecànica pròpia del fabricant.\n",
    "\n",
    "\n",
    "| Dispositiu | Imatge | Símbol (potència)| Símbol (bobina a control)|  Símbol (contactes auxiliars a control)| \n",
    "| :---: | :---: | :---: | :---: | :---: |\n",
    "| Contactor | ![](img/Control/EI11.jpg) | ![](img/Control/EI11p.png)| ![](img/Control/EI11b.png)| ![](img/Control/EI11c.png)|\n",
    "| Contactor amb temporització a la connexió | ![](img/Control/EI11.jpg) ![](img/Control/EI12.jpg) | ![](img/Control/EI11p.png)| ![](img/Control/EI12b.png)| ![](img/Control/EI12c.png)|\n",
    "| Contactor amb temporització a la desconnexió | ![](img/Control/EI11.jpg) ![](img/Control/EI13.jpg) | ![](img/Control/EI11p.png)| ![](img/Control/EI13b.png)| ![](img/Control/EI13c.png)|\n",
    "\n"
   ]
  },
  {
   "cell_type": "markdown",
   "id": "a4c4bb77-3efb-49ec-be61-231f6f6e441b",
   "metadata": {},
   "source": [
    "## Engegada motor trifàsic\n",
    "\n",
    "A l'esquerra el circuit de potència, a la dreta el circuit de control:\n",
    "\n",
    "![](img/Control/EI14.png)\n",
    "\n",
    "Donem tensió als circuits:\n",
    "\n",
    "![](img/Control/EI15.png)\n",
    "\n",
    "Premem S2 i el motor engega:\n",
    "\n",
    "![](img/Control/EI16.png)\n",
    "\n",
    "Premem S1 i el motor s'atura:\n",
    "\n",
    "![](img/Control/EI17.png)\n",
    "\n",
    "\n"
   ]
  },
  {
   "cell_type": "markdown",
   "id": "37acc960-8ce4-4c20-bb3c-c73388e7bfb7",
   "metadata": {},
   "source": [
    "## Inversió de gir del motor trifàsic\n",
    "\n",
    "![](img/Control/EI18.png)\n",
    "\n",
    "Premem S2 i el motor engega en sentit anti-horari:\n",
    "\n",
    "![](img/Control/EI19.png)\n",
    "\n",
    "Si premem S3 no passa res, els contactes 11 i 12 de KM1 no permeten activar KM2. Primer hem d'aturar el motor amb S1:\n",
    "\n",
    "![](img/Control/EI20.png)\n",
    "\n",
    "Premem S3 i el motor engega en sentit horari:\n",
    "\n",
    "![](img/Control/EI21.png)\n"
   ]
  },
  {
   "cell_type": "markdown",
   "id": "427c0d16-6b86-4c6a-852e-9c43b70cd78d",
   "metadata": {},
   "source": [
    "## Engegada estrella - triangle del motor trifàsic\n",
    "\n",
    "![](img/Control/EI22.png)\n",
    "\n",
    "Premem S2 i el motor engega en estrella:\n",
    "\n",
    "![](img/Control/EI23.png)\n",
    "\n",
    "Després del temps programat els contactes 55 i 56 de KM2 s'obren i els contactes 67 i 68 es tanquen, el motro passa a connexió en triangle:\n",
    "\n",
    "![](img/Control/EI24.png)\n"
   ]
  },
  {
   "cell_type": "markdown",
   "id": "aa4580fc-25b2-4fdc-8ec3-4fb148db692d",
   "metadata": {},
   "source": [
    "## Per a aprofundir en el tema\n",
    "\n",
    "* [Automatismos eléctricos. Jose Manuel Gea](https://www.automatas.org/siemens/intr_s5_(1).htm)]\n",
    "* [Curso de CADe SIMU](https://cade-simu.com/curso-de-cade-simu/?expand_article=1)\n",
    "* [Catàleg de productes TEM](https://www.tme.eu/es/katalog/contactores-modulos-principales_112512/?params=2:192_fabricante:schneider-electric)\n"
   ]
  },
  {
   "cell_type": "code",
   "execution_count": null,
   "id": "4c1c47c2-d065-4e9e-8a3e-1934ac8fbac5",
   "metadata": {
    "editable": true,
    "slideshow": {
     "slide_type": ""
    },
    "tags": []
   },
   "outputs": [],
   "source": []
  }
 ],
 "metadata": {
  "kernelspec": {
   "display_name": "venvPy3",
   "language": "python",
   "name": "venvpy3"
  },
  "language_info": {
   "codemirror_mode": {
    "name": "ipython",
    "version": 3
   },
   "file_extension": ".py",
   "mimetype": "text/x-python",
   "name": "python",
   "nbconvert_exporter": "python",
   "pygments_lexer": "ipython3",
   "version": "3.10.12"
  }
 },
 "nbformat": 4,
 "nbformat_minor": 5
}