{
 "cells": [
  {
   "cell_type": "markdown",
   "id": "7df2f400-65dd-4ff5-a83c-0669f20bf51c",
   "metadata": {
    "editable": true,
    "slideshow": {
     "slide_type": ""
    },
    "tags": []
   },
   "source": [
    "# Condicionament de la sortida"
   ]
  },
  {
   "cell_type": "markdown",
   "id": "e58a9bef-f1d9-44a2-b7b8-2f24ec1c9f03",
   "metadata": {
    "editable": true,
    "slideshow": {
     "slide_type": ""
    },
    "tags": []
   },
   "source": [
    "```{admonition} Pàgina en desenvolupament\n",
    "Encara estem treballant en aquest document.   \n",
    "Esperem oferir-vos properament el seu contingut.   \n",
    "Disculpeu les molèsties.\n",
    "```"
   ]
  },
  {
   "cell_type": "markdown",
   "id": "bd179940-9c6c-4205-b739-fc167ec5e257",
   "metadata": {
    "editable": true,
    "slideshow": {
     "slide_type": ""
    },
    "tags": []
   },
   "source": [
    "Generalment hem de preparar la sortida per poder satisfer les necessitats de l'actuador que volem controlar. Si volem, per exemple, engegar i aturar un motor DC, que típicament consumeix de l'ordre de 1 A, díficilment ho podrem aconseguir amb la sortida d'un microcontrolador, que està limitada a 20 mA.\n",
    "\n",
    "Veiem alguns exemples:\n"
   ]
  },
  {
   "cell_type": "markdown",
   "id": "e23b6b4f-1f97-4f4b-b3fb-6a715bb4cb6a",
   "metadata": {},
   "source": [
    "## Sortida transistoritzada amb col·lector obert\n",
    "\n",
    "Podem utilitzar un transistor en tall / saturació. Típicament es posa una resistència de $1 k\\Omega$ en sèrie a la base per limitar el corrent.\n",
    "\n",
    "No és un mòdul fàcil de trobar comercialitzat, però el podem fer nosaltres amb una placa de prototips de tires i un transistor [BC337](http://www.jorts.net/jupbook/pdf/BC337.pdf), que ens permet corrents fins a 800 mA:\n",
    "\n",
    "| Cara components | Cara soldadures |\n",
    "| :---: | :---: |\n",
    "|![](img/Control/sortida01.png) |![](img/Control/sortida02.png)|\n",
    "\n",
    "Una avantatge de fer servir transistors és que podem regular la potència de la sortida amb modulació de pulsos (**PWM**), ja que la conmutació del transistor és molt ràpida i no existeixen elements mecànics, a diferència dels relès que no ho permeten: \n"
   ]
  },
  {
   "cell_type": "code",
   "execution_count": 1,
   "id": "35fd9e9f-7a67-4ee6-b9a3-cc74773b8b1a",
   "metadata": {
    "editable": true,
    "slideshow": {
     "slide_type": ""
    },
    "tags": [
     "hide-input"
    ]
   },
   "outputs": [
    {
     "data": {
      "text/html": [
       " <iframe src=\"https://www.falstad.com/circuit/circuitjs.html?ctz=CQAgjCAMB0l3BWK0CcAOFYAskUDYBmArBBAdgTxATWusmoFMBaMMAKABcQAmS3-gTy0+VBhGZZUKGbMxoCc6rDmywCeTx4sU4OCAAmjAGYBDAK4AbTuwBO4LFgFVRzqHrh2QQ2mgY-eHHcCTwB3b2FeMh4I2gIEGMh2cID4mOwnNKh2ADcHTIT8tyckMHg6BkroNDxkkCwwKizUwqS8rHxeNFoOl0haSvqGJEGYBDqAv3rOqaTw3pAphZ5+7PnOnm7ppta6hayGncT2AHtweuDhPCoR6AhxU94LsnB4sAoK2BHzmAIwPnYBFoSAAYhBvmUGKwQAARcycACeAB0AM4AYQRAGNLIx2EA\" width=\"800\" height=\"600\"></iframe>\n"
      ],
      "text/plain": [
       "<IPython.core.display.HTML object>"
      ]
     },
     "metadata": {},
     "output_type": "display_data"
    }
   ],
   "source": [
    "%%html\n",
    " <iframe src=\"https://www.falstad.com/circuit/circuitjs.html?ctz=CQAgjCAMB0l3BWK0CcAOFYAskUDYBmArBBAdgTxATWusmoFMBaMMAKABcQAmS3-gTy0+VBhGZZUKGbMxoCc6rDmywCeTx4sU4OCAAmjAGYBDAK4AbTuwBO4LFgFVRzqHrh2QQ2mgY-eHHcCTwB3b2FeMh4I2gIEGMh2cID4mOwnNKh2ADcHTIT8tyckMHg6BkroNDxkkCwwKizUwqS8rHxeNFoOl0haSvqGJEGYBDqAv3rOqaTw3pAphZ5+7PnOnm7ppta6hayGncT2AHtweuDhPCoR6AhxU94LsnB4sAoK2BHzmAIwPnYBFoSAAYhBvmUGKwQAARcycACeAB0AM4AYQRAGNLIx2EA\" width=\"800\" height=\"600\"></iframe>"
   ]
  },
  {
   "cell_type": "markdown",
   "id": "1a661b45-ec4a-4ff2-a448-072807f71216",
   "metadata": {},
   "source": [
    "El que si que trobarem comercialitzats són mòduls amb transistors MOSFET com el [IRF520](http://www.jorts.net/jupbook/pdf/irf520.pdf) que permeten treballar amb càrregues fins al 5A. A partir de 1A necessitarem posar un radiador.\n",
    "\n",
    "![](img/Control/IRF520.jpg)\n",
    "\n",
    "\n",
    "També podríem haver utilitzat un transistor Darlington com el [BCX38B](http://www.jorts.net/jupbook/pdf/BCX38B.pdf). En aquest cas podem pujar la resistència de base als $10 k\\Omega$, ja que amb una $\\beta \\sim 4000$ no necessitem gaire corrent a la base. Però com aconseguim la mateixa intensitat màxima a la sortida que el BC337 no és un component massa utilitzat. \n",
    "\n",
    "Els transistors Darlington integren en un mateix encapsulat dos transistors: el primer ataca la base del segon. El guany és el producte dels guanys dels dos transistors, $\\beta = \\beta_1 \\ \\beta_2$, arribant fàcilment a valors de milers:"
   ]
  },
  {
   "cell_type": "code",
   "execution_count": 2,
   "id": "091735c6-b3f9-4a93-943f-68a4c49b0046",
   "metadata": {
    "editable": true,
    "slideshow": {
     "slide_type": ""
    },
    "tags": [
     "hide-input"
    ]
   },
   "outputs": [
    {
     "data": {
      "text/html": [
       " <iframe src=\"https://www.falstad.com/circuit/circuitjs.html?ctz=CQAgDOB0YzCsICMZICYaoOyYMxgByoBsAnCZiHEZZRHAKYC0iiAUAC4g5H4ir68ALDD4DwSEI0GQyssoJyCeiIoMkpUOTKlRw4OHHBK6wmKkhEATegDMAhgFcANu1YAnPgVG88a-rwhkWFYAdy4wNRZUEEFBXijwdxi4pERo2N4dNTpIIlDkn3QCrnxIjhiRX2KqwMlpTCIsTFiwEnwzInMNLR09UsbG1BJzIJBre2dXMOEILHSRLMTphdQ1DL5VpeLF9f8t7kyxKr22ACVwyLS+YVToiAgbhHuoOFYAc2rS4pnxMFYAGU8h3iDW8vxA9icAGd6DQ-kA\" width=\"800\" height=\"600\"></iframe>\n"
      ],
      "text/plain": [
       "<IPython.core.display.HTML object>"
      ]
     },
     "metadata": {},
     "output_type": "display_data"
    }
   ],
   "source": [
    "%%html\n",
    " <iframe src=\"https://www.falstad.com/circuit/circuitjs.html?ctz=CQAgDOB0YzCsICMZICYaoOyYMxgByoBsAnCZiHEZZRHAKYC0iiAUAC4g5H4ir68ALDD4DwSEI0GQyssoJyCeiIoMkpUOTKlRw4OHHBK6wmKkhEATegDMAhgFcANu1YAnPgVG88a-rwhkWFYAdy4wNRZUEEFBXijwdxi4pERo2N4dNTpIIlDkn3QCrnxIjhiRX2KqwMlpTCIsTFiwEnwzInMNLR09UsbG1BJzIJBre2dXMOEILHSRLMTphdQ1DL5VpeLF9f8t7kyxKr22ACVwyLS+YVToiAgbhHuoOFYAc2rS4pnxMFYAGU8h3iDW8vxA9icAGd6DQ-kA\" width=\"800\" height=\"600\"></iframe>"
   ]
  },
  {
   "cell_type": "markdown",
   "id": "2cc5772b-5ea3-4bb9-a11c-c3aff119a9b0",
   "metadata": {},
   "source": [
    "En la pràctica el que s'utilitza molt són els xips amb diversos transistors Darlington integrats, com el  [ULN2003](http://www.jorts.net/jupbook/pdf/uln2003a.pdf) que en porta 7 amb diodes de protecció per a càrregues inductives, i que el podem trobar comercialitzat amb diferents mòduls, fins i tot amb el connector del motor pas a pas 28BYJ-48 amb el que s'utilitza habitualment:\n",
    "\n",
    "| Element Darlington | pin-out | mòdul 7 sortides | mòdul per 28BYJ-48|\n",
    "|:---:|:---:|:---:|:---:|\n",
    "|![](img/Control/uln2003-2.gif)|![](img/Control/uln2003-1.png)|![](img/Control/uln2003-3.jpg)|![](img/Control/uln2003-4.png)|\n",
    "\n"
   ]
  },
  {
   "cell_type": "markdown",
   "id": "ffcb4793-e91b-4807-b1a9-7d43dc002d9f",
   "metadata": {},
   "source": [
    "## Relès\n",
    "\n",
    "Amb relès no podem treballar amb PWM, però ens permeten controlar dispositius amb consums importants (10 A), altres tensios de treball o que funcionen a AC. Es comercialitzen mòduls molt econòmics , que incorporen transistors per excitar-los (els relès consumeixen típicament 200 mA) i díodes de protecció (recordeu la llei de Lenz: quan s'obre la bobina del relè es genera una f.e.m. de signe contari que podria fer malbé els nostres components de control).\n",
    "\n",
    "Podem millorar la protecció del nostre sistema de control utilitzan un mòdul amb optoacopladors.\n",
    "\n",
    "| Mòdul de relè | Esquema | Mòdul de 4 relès optoacoplats |\n",
    "|:---:|:---:|:---:|\n",
    "|![](img/Control/rele-2.png)|![](img/Control/rele-1.jpg)|![](img/Control/rele-3.png)|"
   ]
  },
  {
   "cell_type": "markdown",
   "id": "3a631c8b-c88d-44f6-a3ee-ae93583e35e0",
   "metadata": {},
   "source": [
    "## Pont H\n",
    "\n",
    "Quan volem treballar amb els dos sentits de gir d'un motor necessitem un circuit més sofisticat que ens permeti donar i rebre tensió per les dues bandes. Aquest circuit és el **pont H** que podem veure al simulador:"
   ]
  },
  {
   "cell_type": "code",
   "execution_count": 3,
   "id": "9d72bb56-7680-433e-b949-fa75ad87e983",
   "metadata": {
    "editable": true,
    "slideshow": {
     "slide_type": ""
    },
    "tags": [
     "hide-input"
    ]
   },
   "outputs": [
    {
     "data": {
      "text/html": [
       " <iframe src=\"https://www.falstad.com/circuit/circuitjs.html?ctz=CQAgDOB0YzCsICMBOSAOAbAdgCwCYsBmHRORHZNQkLZJCfEOAUwFpFEAoAFxDzgxJkeEITwQUIiSFYJWYSHhy4whNIkKI8GMMjXVEMEABNmAMwCGAVwA23HnwF80aUeOeuI7cDIVKVahpaOnpU9BCmlrb2AO5uEOKuYgk4EGCcccl8qfF8WFIZuYRgOEVwBZnuWklVWILpAEq51bloaT45CO0KcIVZShCEGK4D4JwA5mUiWWqlaYX8gqOLHmNxK5KOSznpADJb2RJ1hz4QljYAzsxMY7wCEsIgFIKb0rK+isqpgZramGjlcImczWOyFZ6iEpPZCCQiA9JxCGjJH5W5MHSrJEuHzeLx+L6qdS-YbDQGGCIg6J9Kp4JLDJC0tbQl6MiGIY4I5l8MCuJE7cE4EY5PnzRGC0SAiFwgr7e4nDA5Ubtc5XG6cuWbOVKwpazoY2meTgkBBDIUMcVKqAIRBILqQUhQWAwKTQa1jYyiemjU0MkbAqJgj0+6Wes18f2g+wenDikMxsMiSKRzjRi3C8UtROUsGZekteO+pkF-Mwwuc4OAmbwvr0uOx6sAe2yIAVHV0dDtYH4PhESlEnCAA\" width=\"800\" height=\"600\"></iframe>\n"
      ],
      "text/plain": [
       "<IPython.core.display.HTML object>"
      ]
     },
     "metadata": {},
     "output_type": "display_data"
    }
   ],
   "source": [
    "%%html\n",
    " <iframe src=\"https://www.falstad.com/circuit/circuitjs.html?ctz=CQAgDOB0YzCsICMBOSAOAbAdgCwCYsBmHRORHZNQkLZJCfEOAUwFpFEAoAFxDzgxJkeEITwQUIiSFYJWYSHhy4whNIkKI8GMMjXVEMEABNmAMwCGAVwA23HnwF80aUeOeuI7cDIVKVahpaOnpU9BCmlrb2AO5uEOKuYgk4EGCcccl8qfF8WFIZuYRgOEVwBZnuWklVWILpAEq51bloaT45CO0KcIVZShCEGK4D4JwA5mUiWWqlaYX8gqOLHmNxK5KOSznpADJb2RJ1hz4QljYAzsxMY7wCEsIgFIKb0rK+isqpgZramGjlcImczWOyFZ6iEpPZCCQiA9JxCGjJH5W5MHSrJEuHzeLx+L6qdS-YbDQGGCIg6J9Kp4JLDJC0tbQl6MiGIY4I5l8MCuJE7cE4EY5PnzRGC0SAiFwgr7e4nDA5Ubtc5XG6cuWbOVKwpazoY2meTgkBBDIUMcVKqAIRBILqQUhQWAwKTQa1jYyiemjU0MkbAqJgj0+6Wes18f2g+wenDikMxsMiSKRzjRi3C8UtROUsGZekteO+pkF-Mwwuc4OAmbwvr0uOx6sAe2yIAVHV0dDtYH4PhESlEnCAA\" width=\"800\" height=\"600\"></iframe>"
   ]
  },
  {
   "cell_type": "markdown",
   "id": "77b685c7-58d4-46c7-b45d-a6088734f337",
   "metadata": {},
   "source": [
    "Trobarem diferents mòduls comercialitzats {cite}`Driving_DC_Motors_with_Microcontrollers`. Actualment els més utilitzats són el [L9110](http://www.jorts.net/jupbook/pdf/L9110.pdf) i el [TB6612FNG](http://www.jorts.net/jupbook/pdf/TB6612FNG.pdf), molt més eficaços que els antics [L293D](http://www.jorts.net/jupbook/pdf/TB6612FNG.pdf) o [L298N](http://www.jorts.net/jupbook/pdf/l293.pdf) {cite}`TB6612FNG_H-Bridge_with_Arduino_Better_Than_L298N`. Tots aquests mòduls porten els díodes de protecció en anti-paral·lel (el L298N no els porta, al mòdul els posen externament).\n",
    "\n",
    "| L9110 | TB6612FNG | L298D |\n",
    "|:---:|:---:|:---:|\n",
    "|![](img/Control/L9110.jpg)|![](img/Control/TB6612FNG.jpg)|![](img/Control/L298N_1.jpg)|"
   ]
  },
  {
   "cell_type": "code",
   "execution_count": null,
   "id": "088ffc2c-e22c-4119-ba48-a0bfb72cdbbb",
   "metadata": {},
   "outputs": [],
   "source": []
  }
 ],
 "metadata": {
  "kernelspec": {
   "display_name": "venvPy3",
   "language": "python",
   "name": "venvpy3"
  },
  "language_info": {
   "codemirror_mode": {
    "name": "ipython",
    "version": 3
   },
   "file_extension": ".py",
   "mimetype": "text/x-python",
   "name": "python",
   "nbconvert_exporter": "python",
   "pygments_lexer": "ipython3",
   "version": "3.10.12"
  }
 },
 "nbformat": 4,
 "nbformat_minor": 5
}