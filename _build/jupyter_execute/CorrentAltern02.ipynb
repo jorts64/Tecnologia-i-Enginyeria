{
 "cells": [
  {
   "cell_type": "markdown",
   "id": "fe940066-452e-4578-8296-3ae1d0096ffa",
   "metadata": {
    "editable": true,
    "slideshow": {
     "slide_type": ""
    },
    "tags": []
   },
   "source": [
    "# Tractament matemàtic del corrent altern. Nombres complexos. Fasors"
   ]
  },
  {
   "cell_type": "markdown",
   "id": "87976f44-70ff-4561-ad14-662f7f5cbd0f",
   "metadata": {
    "editable": true,
    "slideshow": {
     "slide_type": ""
    },
    "tags": []
   },
   "source": [
    "```{admonition} Pàgina en desenvolupament\n",
    "Encara estem treballant en aquest document.   \n",
    "Esperem oferir-vos properament el seu contingut.   \n",
    "Disculpeu les molèsties.\n",
    "```"
   ]
  },
  {
   "cell_type": "markdown",
   "id": "ad9a0186-085c-497a-bec0-0d74ee7761dd",
   "metadata": {
    "editable": true,
    "slideshow": {
     "slide_type": ""
    },
    "tags": []
   },
   "source": [
    "La solució per tractar matemàticament el corrent AC passa per treballar amb nombre complexos i les seves diferents representacions.\n",
    "\n",
    "Recordem la representació al pla complex d'un nombre $z$ i el seu conjugat:\n",
    "\n",
    "<a title=\"Oleg Alexandrov, CC BY-SA 3.0 &lt;http://creativecommons.org/licenses/by-sa/3.0/&gt;, via Wikimedia Commons\" href=\"https://commons.wikimedia.org/wiki/File:Complex_conjugate_picture.svg\"><img width=\"256\" alt=\"Complex conjugate picture\" src=\"https://upload.wikimedia.org/wikipedia/commons/thumb/6/69/Complex_conjugate_picture.svg/256px-Complex_conjugate_picture.svg.png\"></a>\n",
    "\n",
    "Nosaltres utilitzarem la lletra **j** per a indicar $\\sqrt{-1}$, ja que la lletra **i** la utilitzem per a la intensitat instantània. \n"
   ]
  },
  {
   "cell_type": "markdown",
   "id": "b0545744-1d12-475a-9aec-2736e8625c51",
   "metadata": {},
   "source": [
    "## Forma binòmica\n",
    "\n",
    "$z = a + jb$\n",
    "\n",
    "### conjugat\n",
    "\n",
    "$\\overline{z} \\equiv  a - jb$\n",
    "\n",
    "## Forma mòdul-argumental\n",
    "\n",
    "$z = R_{\\varphi}$\n",
    "\n",
    "### Divisió\n",
    "\n",
    "$x = X_{\\alpha}$\n",
    "\n",
    "$y = Y_{\\beta}$\n",
    "\n",
    "$\\frac{x}{y} = \\frac{X_{\\alpha}}{Y_{\\beta}} = Z_{\\varphi}$\n",
    "\n",
    "on\n",
    "\n",
    "$Z = \\frac{X}{Y}$ \n",
    "\n",
    "$\\varphi = \\alpha - \\beta$\n",
    "\n",
    "## Forma trigonomètrica\n",
    "\n",
    "$z = Rcos(\\varphi) + jRsin(\\varphi)$\n",
    "\n",
    "## Forma exponencial\n",
    "\n",
    "$z = Re^{j\\varphi}$"
   ]
  },
  {
   "cell_type": "markdown",
   "id": "6f00bd85-7632-4707-89c3-992d886d3333",
   "metadata": {},
   "source": [
    "## Fasors\n",
    "\n",
    "Ara podem representar la tensió i la intensitat com a nombres complexos, anomenats [fasors](https://ca.wikipedia.org/wiki/Fasor)\n",
    "\n",
    "| receptors | gràfic | fasor |\n",
    "| :---: | :---: | :---: |\n",
    "| R | ![](img/AC/AC02.jpg) | ![](img/AC/fasorR.svg) |\n",
    "| C, R | ![](img/AC/AC03.jpg) | ![](img/AC/fasorRC.svg) |\n",
    "| L, R | ![](img/AC/AC04.jpg) | ![](img/AC/fasorRL.svg) |\n",
    "\n"
   ]
  },
  {
   "cell_type": "code",
   "execution_count": null,
   "id": "33d067ab-0fde-480a-bc12-71b23c388cb8",
   "metadata": {},
   "outputs": [],
   "source": []
  }
 ],
 "metadata": {
  "kernelspec": {
   "display_name": "venvPy3",
   "language": "python",
   "name": "venvpy3"
  },
  "language_info": {
   "codemirror_mode": {
    "name": "ipython",
    "version": 3
   },
   "file_extension": ".py",
   "mimetype": "text/x-python",
   "name": "python",
   "nbconvert_exporter": "python",
   "pygments_lexer": "ipython3",
   "version": "3.10.12"
  }
 },
 "nbformat": 4,
 "nbformat_minor": 5
}