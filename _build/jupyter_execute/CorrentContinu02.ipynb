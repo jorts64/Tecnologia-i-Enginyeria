{
 "cells": [
  {
   "cell_type": "markdown",
   "id": "1445d964-faf3-4f83-8e7f-29d86ed07c68",
   "metadata": {
    "editable": true,
    "slideshow": {
     "slide_type": ""
    },
    "tags": []
   },
   "source": [
    "# Lleis bàsiques del circuit elèctric"
   ]
  },
  {
   "cell_type": "markdown",
   "id": "2507152f-d237-4cb5-a30d-883da000db80",
   "metadata": {},
   "source": [
    "Aquestes lleis són conegudes des de l'Ensenyament Secundari Obligatori"
   ]
  },
  {
   "cell_type": "markdown",
   "id": "28e05573-74e7-4f89-9765-5ad9c5621b32",
   "metadata": {},
   "source": [
    "## Llei d'Ohm"
   ]
  },
  {
   "cell_type": "markdown",
   "id": "4c1fd378-3e93-40e7-bff1-7d024ec4ee1d",
   "metadata": {},
   "source": [
    "![](img/CorrentContinu/lleiOhm.png)"
   ]
  },
  {
   "cell_type": "markdown",
   "id": "f41f5fd7-277c-4c35-9bb8-4d9629aa3dbc",
   "metadata": {},
   "source": [
    "$$ I = \\frac{U}{R}$$"
   ]
  },
  {
   "cell_type": "markdown",
   "id": "8667619a-b143-4736-ae3e-31a0961c15fb",
   "metadata": {},
   "source": [
    "on **I** és la intensitat que circula per una resistència (en A), **U** la diferencia de potencial aplicada sobre ella (en V) i **R** el valor de la resistència (en $\\Omega$)"
   ]
  },
  {
   "cell_type": "markdown",
   "id": "948312e7-c351-4fca-8b1e-238865368b4f",
   "metadata": {},
   "source": [
    "## Efecte Joule"
   ]
  },
  {
   "cell_type": "markdown",
   "id": "19a6d783-324b-41a1-9c83-c59ac387dfdc",
   "metadata": {},
   "source": [
    "$$P = U \\cdot I$$ "
   ]
  },
  {
   "cell_type": "markdown",
   "id": "30d981d7-8848-4648-ac53-d2b70ad625b0",
   "metadata": {},
   "source": [
    "on **P** és la potència (en W)"
   ]
  },
  {
   "cell_type": "markdown",
   "id": "d8d52fe5-5bf4-4c76-b144-210d37985018",
   "metadata": {},
   "source": [
    "Podem expressar la potència com"
   ]
  },
  {
   "cell_type": "markdown",
   "id": "e00ff518-1d94-49f3-ae64-b5f8e6d54106",
   "metadata": {},
   "source": [
    "$$P = U \\cdot I = I \\cdot R \\cdot I = I^2 \\cdot R$$  "
   ]
  },
  {
   "cell_type": "markdown",
   "id": "1d168cbd-eac7-4810-bc50-8a3ca1d12ab6",
   "metadata": {},
   "source": [
    "Expressió molt útil per calcular les pèrdues en forma de calor als conductors elèctrics, especialment els que porten l'electricitat a les ciutats des de les llunyanes centrals elèctriques. Per reduir les pèrdues mantenint la potència transmessa ens interessa reduir **I**, i per això elevem **U** fins els 6 kV o 400 kV"
   ]
  },
  {
   "cell_type": "markdown",
   "id": "7a7e7a34-0872-4ac2-a17e-0a249ec51d11",
   "metadata": {},
   "source": [
    "Recordem que quan vam estudiar les propietats dels [materials](Materials01.ipynb) vam veure que la resistència d'un conductor es pot calcular amb l'expressió"
   ]
  },
  {
   "cell_type": "markdown",
   "id": "d67317c5-a0f7-4be2-a426-869ac137020a",
   "metadata": {},
   "source": [
    "$$R  = \\rho \\cdot \\frac{L}{s}$$"
   ]
  },
  {
   "cell_type": "markdown",
   "id": "86e74d15-334e-4a65-9ca2-0715709fa87b",
   "metadata": {},
   "source": [
    "on $\\rho$ és la resistivitat del material, **L** la longitud del conductor i **s** la seva secció"
   ]
  },
  {
   "cell_type": "markdown",
   "id": "8a6c51c5-4235-4a02-bb4f-49ddca47c65d",
   "metadata": {},
   "source": [
    "## Exemple d'aplicació"
   ]
  },
  {
   "cell_type": "markdown",
   "id": "20f87fd8-d6ca-47e4-ba5b-cde8fc870f42",
   "metadata": {},
   "source": [
    "### PAU 2007 S3 3B"
   ]
  },
  {
   "cell_type": "markdown",
   "id": "b50c8833-9b7a-4c9d-99ed-39edcbd34eb5",
   "metadata": {},
   "source": [
    "![](img/CorrentContinu/PAU2007S3P3B.png)"
   ]
  },
  {
   "cell_type": "markdown",
   "id": "0b64192c-5281-4737-8424-fc605ae031ab",
   "metadata": {},
   "source": [
    "a) Utilitzant la darrera expressió podem calcular la resistència del fil:"
   ]
  },
  {
   "cell_type": "code",
   "execution_count": 1,
   "id": "4cd01911-387b-4ce1-aa70-ba0ad0a8c1ce",
   "metadata": {},
   "outputs": [
    {
     "data": {
      "text/plain": [
       "2.2409015987338865"
      ]
     },
     "execution_count": 1,
     "metadata": {},
     "output_type": "execute_result"
    }
   ],
   "source": [
    "from math import pi\n",
    "rho = 1.1E-6\n",
    "L = 0.4\n",
    "r = 0.5E-3/2\n",
    "s = pi * r * r\n",
    "R =  rho * L / s\n",
    "R"
   ]
  },
  {
   "cell_type": "markdown",
   "id": "04d075d7-8306-410e-a72f-ef0875505252",
   "metadata": {},
   "source": [
    "$R = 2,241 \\Omega$"
   ]
  },
  {
   "cell_type": "markdown",
   "id": "bad44f32-7d78-49ea-843d-924fe1f7c203",
   "metadata": {},
   "source": [
    "b) Hem d'escriure la potència com a funció de la tensió:"
   ]
  },
  {
   "cell_type": "markdown",
   "id": "b258671d-40d6-4ecc-8d86-f426df22a59f",
   "metadata": {},
   "source": [
    "$P = I \\cdot U = \\frac{U}{R} \\cdot U = U^2/R$"
   ]
  },
  {
   "cell_type": "code",
   "execution_count": 2,
   "id": "1b571377-8e3a-41b6-95e1-5db8ad32cd1b",
   "metadata": {},
   "outputs": [
    {
     "data": {
      "image/png": "[encoded data removed]",
      "text/plain": [
       "<Figure size 640x480 with 1 Axes>"
      ]
     },
     "metadata": {},
     "output_type": "display_data"
    }
   ],
   "source": [
    "import matplotlib.pyplot as plt\n",
    "import numpy as np\n",
    "\n",
    "x = np.linspace(0, 20, 100)\n",
    "\n",
    "plt.plot(x, x**2/R)\n",
    "plt.xlabel('U [V]')\n",
    "plt.ylabel('P [W]')\n",
    "plt.title(\"Potència dissipada\")\n",
    "plt.show()"
   ]
  },
  {
   "cell_type": "markdown",
   "id": "bdb66fec-f3c4-482c-8d0b-525195d9fe8c",
   "metadata": {},
   "source": [
    "c) Calculem la potència per $U = 18 V$, la multipliquem pel temps i dividim pel rendiment"
   ]
  },
  {
   "cell_type": "code",
   "execution_count": 3,
   "id": "4ff3c211-3fb5-4364-8091-e8ccde0ce154",
   "metadata": {},
   "outputs": [
    {
     "data": {
      "text/plain": [
       "318.93675418713224"
      ]
     },
     "execution_count": 3,
     "metadata": {},
     "output_type": "execute_result"
    }
   ],
   "source": [
    "P = 18**2/R\n",
    "Eutil = P * 1.5\n",
    "Econs = Eutil / 0.68\n",
    "Econs"
   ]
  },
  {
   "cell_type": "markdown",
   "id": "5a51ec00-dfec-4edb-a60d-52f07dc42776",
   "metadata": {},
   "source": [
    "E = 318,9 Wh"
   ]
  },
  {
   "cell_type": "code",
   "execution_count": null,
   "id": "b25163fc-088c-4a54-a185-0db384d7d68b",
   "metadata": {},
   "outputs": [],
   "source": []
  }
 ],
 "metadata": {
  "kernelspec": {
   "display_name": "venvPy3",
   "language": "python",
   "name": "venvpy3"
  },
  "language_info": {
   "codemirror_mode": {
    "name": "ipython",
    "version": 3
   },
   "file_extension": ".py",
   "mimetype": "text/x-python",
   "name": "python",
   "nbconvert_exporter": "python",
   "pygments_lexer": "ipython3",
   "version": "3.10.12"
  }
 },
 "nbformat": 4,
 "nbformat_minor": 5
}