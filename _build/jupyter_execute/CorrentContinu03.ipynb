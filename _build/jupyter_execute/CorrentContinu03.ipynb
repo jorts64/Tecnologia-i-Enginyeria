{
 "cells": [
  {
   "cell_type": "markdown",
   "id": "c3ddf60f-8786-4e5c-802a-d0193f3c0e5c",
   "metadata": {
    "editable": true,
    "slideshow": {
     "slide_type": ""
    },
    "tags": []
   },
   "source": [
    "# Associacions de resistències"
   ]
  },
  {
   "cell_type": "markdown",
   "id": "01a47ff2-fcca-4e43-a3bd-fd197816f5de",
   "metadata": {},
   "source": [
    "## Associació sèrie"
   ]
  },
  {
   "cell_type": "markdown",
   "id": "5f7ada18-4c3e-48c4-a62d-cd34882caa14",
   "metadata": {},
   "source": [
    "\n",
    "![](img/CorrentContinu/Rserie.png)\n",
    "\n",
    "$\\Large R = \\sum R_i$\n"
   ]
  },
  {
   "cell_type": "markdown",
   "id": "d0418e1d-2a0c-46bf-9ccc-897b61b6acc3",
   "metadata": {},
   "source": [
    "## Associació en paral·lel"
   ]
  },
  {
   "cell_type": "markdown",
   "id": "81aae6de-b80f-495c-9538-8522cd8091db",
   "metadata": {},
   "source": [
    "\n",
    "![](img/CorrentContinu/Rparal.png)\n",
    "\n",
    "$\\Large \\frac{1}{R} = \\sum \\frac{1}{R_i}$\n"
   ]
  },
  {
   "cell_type": "markdown",
   "id": "7a7e7a34-0872-4ac2-a17e-0a249ec51d11",
   "metadata": {},
   "source": [
    "## Exemple d'aplicació"
   ]
  },
  {
   "cell_type": "markdown",
   "id": "3812ec43-793f-4904-8f2d-d755e2e2b14e",
   "metadata": {},
   "source": [
    "### PAU 2006 S1 3B"
   ]
  },
  {
   "cell_type": "markdown",
   "id": "859d13d3-004d-4a4b-8a29-df440afe9e2c",
   "metadata": {},
   "source": [
    "![](img/CorrentContinu/PAU2006S1P3B.png)"
   ]
  },
  {
   "cell_type": "markdown",
   "id": "086b67e4-0f92-4b39-b9e9-d86988c13197",
   "metadata": {},
   "source": [
    "a) El circuit és equivalent a\n",
    "\n",
    "![](img/CorrentContinu/PAU2006S1P3Bfig1.png)"
   ]
  },
  {
   "cell_type": "markdown",
   "id": "14654e7c-ae83-40b2-8ebc-b3202e1d4e80",
   "metadata": {},
   "source": [
    "i pert tant\n",
    "\n",
    "$\\Large \\frac{1}{R_{AB}} = \\frac{1}{2R} + \\frac{1}{2R} = \\frac{2}{2R} = \\frac{1}{R} \\Rightarrow R_{AB} = R = 120 \\Omega$"
   ]
  },
  {
   "cell_type": "markdown",
   "id": "148bfca9-60bd-4d39-bfd2-55a756e90f62",
   "metadata": {},
   "source": [
    "b) Dibuixem el circuit d'una altra manera, per veure realment que tenim:\n",
    "\n",
    "![](img/CorrentContinu/PAU2006S1P3Bfig2.png)\n",
    "\n",
    "que és equivalent a \n",
    "\n",
    "![](img/CorrentContinu/PAU2006S1P3Bfig3.png)\n"
   ]
  },
  {
   "cell_type": "markdown",
   "id": "51a229a2-2957-42d4-aa18-211df361db0f",
   "metadata": {},
   "source": [
    "i pert tant\n",
    "\n",
    "$\\Large \\frac{1}{R_{AC}} = \\frac{1}{R} + \\frac{1}{3R} = \\frac{4}{3R} \\Rightarrow R_{AB} = \\frac{3}{4} \\cdot R = 90 \\Omega$"
   ]
  },
  {
   "cell_type": "markdown",
   "id": "21221312-0de7-48db-abe4-215126da60a3",
   "metadata": {},
   "source": [
    "c) $ P = U \\cdot I = U \\cdot \\frac{U}{R_{AB}} = \\frac{U^2}{R_{AB}}$"
   ]
  },
  {
   "cell_type": "code",
   "execution_count": 1,
   "id": "c08b3f92-72f9-41ba-9721-15e7353a0d61",
   "metadata": {},
   "outputs": [
    {
     "data": {
      "text/plain": [
       "0.20833333333333334"
      ]
     },
     "execution_count": 1,
     "metadata": {},
     "output_type": "execute_result"
    }
   ],
   "source": [
    "P = 5**2/120\n",
    "P"
   ]
  },
  {
   "cell_type": "markdown",
   "id": "804d3809-10f1-4ea8-b55d-87fe098db606",
   "metadata": {},
   "source": [
    "és a dir que el conjunt alimentat entre A i B a 5V dissipa una potència de 0,2083 W"
   ]
  },
  {
   "cell_type": "code",
   "execution_count": null,
   "id": "bcfa2879-c974-4839-8527-45e148d22dd7",
   "metadata": {},
   "outputs": [],
   "source": []
  }
 ],
 "metadata": {
  "kernelspec": {
   "display_name": "venvPy3",
   "language": "python",
   "name": "venvpy3"
  },
  "language_info": {
   "codemirror_mode": {
    "name": "ipython",
    "version": 3
   },
   "file_extension": ".py",
   "mimetype": "text/x-python",
   "name": "python",
   "nbconvert_exporter": "python",
   "pygments_lexer": "ipython3",
   "version": "3.10.12"
  }
 },
 "nbformat": 4,
 "nbformat_minor": 5
}