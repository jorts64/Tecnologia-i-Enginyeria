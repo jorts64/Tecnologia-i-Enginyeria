{
 "cells": [
  {
   "cell_type": "markdown",
   "id": "fe940066-452e-4578-8296-3ae1d0096ffa",
   "metadata": {
    "editable": true,
    "slideshow": {
     "slide_type": ""
    },
    "tags": []
   },
   "source": [
    "# Condensadors"
   ]
  },
  {
   "cell_type": "markdown",
   "id": "87976f44-70ff-4561-ad14-662f7f5cbd0f",
   "metadata": {
    "editable": true,
    "slideshow": {
     "slide_type": ""
    },
    "tags": []
   },
   "source": [
    "```{admonition} Pàgina en desenvolupament\n",
    "Encara estem treballant en aquest document.   \n",
    "Esperem oferir-vos properament el seu contingut.   \n",
    "Disculpeu les molèsties.\n",
    "```"
   ]
  },
  {
   "cell_type": "markdown",
   "id": "0e8992f6-2a93-4bc6-b6a8-f73ba494904f",
   "metadata": {
    "editable": true,
    "slideshow": {
     "slide_type": ""
    },
    "tags": []
   },
   "source": [
    "Ara que coneixem la impedància d'un condensador, paga la pena estudiar amb més detall aquest component."
   ]
  },
  {
   "cell_type": "markdown",
   "id": "89900110-6a2e-4f93-933b-f8adc8f9c168",
   "metadata": {},
   "source": [
    "## Càrrega i descàrrega d'un condensador"
   ]
  },
  {
   "cell_type": "code",
   "execution_count": 1,
   "id": "4f221661-084c-4d2c-8626-15a755d11b38",
   "metadata": {
    "editable": true,
    "slideshow": {
     "slide_type": ""
    },
    "tags": [
     "hide-input"
    ]
   },
   "outputs": [
    {
     "data": {
      "text/html": [
       " <iframe src=\"https://www.falstad.com/circuit/circuitjs.html?ctz=CQAgjCAMB0l3BWcA2aYDMZIA5nrzgEzYCcICk55lCApgLRhgBQAbiCciOvh18gBYowgTWGUYCZgGUQhBFzACh8-kIkgAZgEMANgGdawwswDufEILmjL6s3IDshWyFGUrke25feeXTwDGcgrgysFcquKwcGAkcfEJidiu0Inx2IQCDggkSDAxzABO4SWRfsJYnuac3LxlvFUl5b4NzAD2VGDEIpBxVPl5clTozOjJSABiEBLR8Gnz8VDRWBCMIADC2gAO2gEAlgAu2gB2AbTMABZDXFJAA\" width=\"800\" height=\"600\"></iframe>\n"
      ],
      "text/plain": [
       "<IPython.core.display.HTML object>"
      ]
     },
     "metadata": {},
     "output_type": "display_data"
    }
   ],
   "source": [
    "%%html\n",
    " <iframe src=\"https://www.falstad.com/circuit/circuitjs.html?ctz=CQAgjCAMB0l3BWcA2aYDMZIA5nrzgEzYCcICk55lCApgLRhgBQAbiCciOvh18gBYowgTWGUYCZgGUQhBFzACh8-kIkgAZgEMANgGdawwswDufEILmjL6s3IDshWyFGUrke25feeXTwDGcgrgysFcquKwcGAkcfEJidiu0Inx2IQCDggkSDAxzABO4SWRfsJYnuac3LxlvFUl5b4NzAD2VGDEIpBxVPl5clTozOjJSABiEBLR8Gnz8VDRWBCMIADC2gAO2gEAlgAu2gB2AbTMABZDXFJAA\" width=\"800\" height=\"600\"></iframe>"
   ]
  },
  {
   "cell_type": "markdown",
   "id": "32f1a399-89a5-414a-94fa-bbbfec03dc51",
   "metadata": {
    "editable": true,
    "slideshow": {
     "slide_type": ""
    },
    "tags": []
   },
   "source": [
    "Com veieu al simulador, el condensador actua com un petit magatzem d'energia. Quan el conectem a la pila es carrega i quan el connectem amb curt circuit amb la resistència es descarrega.\n",
    "\n",
    "Es per això que col·loquen condensadors en paral·lel a l'alimentació dels circuits integrats i d'altres circuits. Així tenim una reserva d'energia quan puja la demanda o recull l'excés d'energia quan la demanda baixa.\n",
    "\n",
    "Justament la capacitat del condensador, que es mesura en farads(F), és la càrrega que acumula el ondensador per cada volt de diferència de potencial. Es a dir, $C = Q/U$\n",
    "\n",
    "La càrrega i descarrega es produeix de forma exponencial:\n",
    "\n",
    "$I_c = I_0 e^{-t/T}$\n",
    "\n",
    "$I_d = I_0(1- e^{-t/T})$\n",
    "\n",
    "amb $I_0 = U/R$ i $T=RC$\n",
    "\n",
    "D'aquesta manera s'utilitzan resistències i condensadors per introduir retards als circuits.\n",
    "\n",
    "Finalment, fixeu-vos que passa quan varia la freqüència en el següent circuit:\n"
   ]
  },
  {
   "cell_type": "code",
   "execution_count": 2,
   "id": "134fe1d3-11d4-43b6-95a6-b067a59b9691",
   "metadata": {
    "editable": true,
    "slideshow": {
     "slide_type": ""
    },
    "tags": [
     "hide-input"
    ]
   },
   "outputs": [
    {
     "data": {
      "text/html": [
       " <iframe src=\"https://www.falstad.com/circuit/circuitjs.html?ctz=CQAgjCAMB0l3BWEA2aAWB8CcBmSy0AOBBAdkJE0sskoFMBaMMAKAGMQAmNWsZWnr35QoseBCbpOnLDLTMEOIoWKi4rAE4hB4YTs4qROBCwDy2uLtoIwnKyMgsA5hdoGKOnJ1o+WYUm489t4UfLQ4XLzw1DCsAPbauiI8WBRIMPCQWKTICMic6VyJEQCWAHYsCXZ8yVlpatg5eQXgrXEArgAuLAAWIBEQjkA\" width=\"800\" height=\"600\"></iframe>\n"
      ],
      "text/plain": [
       "<IPython.core.display.HTML object>"
      ]
     },
     "metadata": {},
     "output_type": "display_data"
    }
   ],
   "source": [
    "%%html\n",
    " <iframe src=\"https://www.falstad.com/circuit/circuitjs.html?ctz=CQAgjCAMB0l3BWEA2aAWB8CcBmSy0AOBBAdkJE0sskoFMBaMMAKAGMQAmNWsZWnr35QoseBCbpOnLDLTMEOIoWKi4rAE4hB4YTs4qROBCwDy2uLtoIwnKyMgsA5hdoGKOnJ1o+WYUm489t4UfLQ4XLzw1DCsAPbauiI8WBRIMPCQWKTICMic6VyJEQCWAHYsCXZ8yVlpatg5eQXgrXEArgAuLAAWIBEQjkA\" width=\"800\" height=\"600\"></iframe>"
   ]
  },
  {
   "cell_type": "markdown",
   "id": "3f08f76b-71e6-4f5b-9b1d-36eed283bbdf",
   "metadata": {
    "editable": true,
    "slideshow": {
     "slide_type": ""
    },
    "tags": []
   },
   "source": [
    "El condensador actua com un filtre passa alts. Deixa passar les freqncies altes i esmorteeix les freqüències baixas. El DC no passa. Ara que coneixem l'impedància del condensador que es inversament proporcional a la freqüència ho podem entendre.\n"
   ]
  },
  {
   "cell_type": "code",
   "execution_count": null,
   "id": "3b557de9-10e1-4277-9d8e-ff2a7323e52c",
   "metadata": {
    "editable": true,
    "slideshow": {
     "slide_type": ""
    },
    "tags": []
   },
   "outputs": [],
   "source": []
  }
 ],
 "metadata": {
  "kernelspec": {
   "display_name": "venvPy3",
   "language": "python",
   "name": "venvpy3"
  },
  "language_info": {
   "codemirror_mode": {
    "name": "ipython",
    "version": 3
   },
   "file_extension": ".py",
   "mimetype": "text/x-python",
   "name": "python",
   "nbconvert_exporter": "python",
   "pygments_lexer": "ipython3",
   "version": "3.10.12"
  }
 },
 "nbformat": 4,
 "nbformat_minor": 5
}