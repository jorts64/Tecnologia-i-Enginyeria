{
 "cells": [
  {
   "attachments": {},
   "cell_type": "markdown",
   "id": "335800ff-d505-4474-ac94-b35559842ace",
   "metadata": {
    "editable": true,
    "slideshow": {
     "slide_type": ""
    },
    "tags": []
   },
   "source": [
    "# Plàstics\n",
    "\n"
   ]
  },
  {
   "cell_type": "markdown",
   "id": "f0b79faa-9f2d-484c-86c4-c7345c8e1bdf",
   "metadata": {
    "editable": true,
    "slideshow": {
     "slide_type": ""
    },
    "tags": []
   },
   "source": [
    "```{admonition} Pàgina en desenvolupament\n",
    "Encara estem treballant en aquest document.   \n",
    "Esperem oferir-vos properament el seu contingut.   \n",
    "Disculpeu les molèsties.\n",
    "```"
   ]
  },
  {
   "cell_type": "markdown",
   "id": "5296872d-9060-4352-ac65-5a6cc1d5e75f",
   "metadata": {},
   "source": [
    "Recordem que un plàstic és un polímer amb uns additius: colorants, plastificants, reticulants, antiestàtis, retardantss de flama ... I que tenim tres families ben diferenciades segons la seva estructura i que determinen moltes de les seves propietats: termoplàstics, termoestables i elastòmers.\n",
    "\n",
    "Recordem les seves principals característiques: "
   ]
  },
  {
   "cell_type": "markdown",
   "id": "6ab499eb-cdcd-44cb-bf9e-221f67820018",
   "metadata": {},
   "source": [
    "## Termoplàstics\n",
    "\n",
    "* S’estoven quan s’escalfen i es tornen a endurir al refredar-se.\n",
    "* Poc entrecreuament entre cadenes, fàcil separació en aplicar calor.\n",
    "* Aquest procés es pot repetir tantes vegades com es vulgui. Això implica un **fàcil reciclatge**.\n",
    "* Poden ser 100% amorfs o semicristal·lins, el grau canvia segons el polímer.\n",
    "* Es comercialitzen en forma de pellets.\n",
    "* Molts són transparents, es pot donar color amb pigments.\n"
   ]
  },
  {
   "cell_type": "markdown",
   "id": "0e39a7b8-3a7c-436d-aace-08b2676eb36e",
   "metadata": {},
   "source": [
    "## Termoestables\n",
    "\n",
    "* Solidifiquen mitjançat un [curat](https://ca.wikipedia.org/wiki/Reticulaci%C3%B3_(qu%C3%ADmica)) , els reactius per l'acció d'un catalitzador) generen cadenes que s’entrecreuen.\n",
    "* Són plàstics més rígids i resistents a la temperatura en comparació als termoplàstics. Però són més fràgils.\n",
    "* Es comercialitzen com a resines bicomponents\n",
    "* **No es poden reciclar**: les cadenes estan unides amb tanta força que el plàstic es degrada\n",
    "* Encara no hi ha termoplàstics que tinguin les propietats dels termoestables\n",
    "* Són amorfs"
   ]
  },
  {
   "cell_type": "markdown",
   "id": "c806fc24-9c39-4bc1-8fce-414c87c12a50",
   "metadata": {},
   "source": [
    "## Elastòmers\n",
    "\n",
    "* Les seves macromolècules formen una xarxa que es pot estirar i contraure. Són molt elàstics\n",
    "* No suporten bé la temperatura i, com els termoestables, es degraden\n",
    "* La majoria d'elastòmers són termoestables: es formen enllaços covalents entre cadenes durant la vulcanització.\n",
    "* Els elastòmers termoplàstics (TPE) són més fàcilment conformables, per exemple pe injecció. Els enllaços entre cadenes són secundaris. El reciclatge és possible.\n",
    "  "
   ]
  },
  {
   "cell_type": "code",
   "execution_count": null,
   "id": "a251a23d-0303-4ab0-9ab5-634c25d8b925",
   "metadata": {},
   "outputs": [],
   "source": []
  }
 ],
 "metadata": {
  "kernelspec": {
   "display_name": "venvPy3",
   "language": "python",
   "name": "venvpy3"
  },
  "language_info": {
   "codemirror_mode": {
    "name": "ipython",
    "version": 3
   },
   "file_extension": ".py",
   "mimetype": "text/x-python",
   "name": "python",
   "nbconvert_exporter": "python",
   "pygments_lexer": "ipython3",
   "version": "3.10.12"
  }
 },
 "nbformat": 4,
 "nbformat_minor": 5
}