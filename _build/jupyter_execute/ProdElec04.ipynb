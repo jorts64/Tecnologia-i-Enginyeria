{
 "cells": [
  {
   "cell_type": "markdown",
   "id": "7df2f400-65dd-4ff5-a83c-0669f20bf51c",
   "metadata": {
    "editable": true,
    "slideshow": {
     "slide_type": ""
    },
    "tags": []
   },
   "source": [
    "# Centrals nuclears"
   ]
  },
  {
   "cell_type": "markdown",
   "id": "8a581ac3-d120-4134-9d99-659e99ccb10b",
   "metadata": {
    "editable": true,
    "slideshow": {
     "slide_type": ""
    },
    "tags": []
   },
   "source": [
    "```{admonition} Pàgina en desenvolupament\n",
    "Encara estem treballant en aquest document.   \n",
    "Esperem oferir-vos properament el seu contingut.   \n",
    "Disculpeu les molèsties.\n",
    "```"
   ]
  },
  {
   "cell_type": "markdown",
   "id": "0bd9bd3a-049f-4ebf-ae19-d85675af17b1",
   "metadata": {
    "editable": true,
    "slideshow": {
     "slide_type": ""
    },
    "tags": []
   },
   "source": [
    "Com ja hem comentat, les centrals nuclears no deixen de ser unes centrals tèrmiques on la calor per generar vapor es produeix mitjançant una reacció nuclear. Per tant, molts dels seus elements ja són coneguts nostres, i ens centrarem en els aspectes mes diferenciats.\n",
    "\n",
    "![](img/ProdElec/centralNuclear.png)\n",
    "\n",
    "## Combustible nuclear\n",
    "Les centrals nuclears actualment en funcionament utilitzen exclusivament reaccions de fissió nuclear, es a dir, el trencament de nuclis pesats en altres més lleugers. Típicament s’utilitza l’urani $^{235}U$ , per la seva relativa abundància a la Pechblenda i d’altres minerals.\t\n",
    "\n",
    "$^{235}U + n \\to \\ ^{93}Kr + \\ ^{140}Ba + 3n $\n",
    "\n",
    "Aquesta és només una de les diferents formes en que té l’urani $^{235}U$ la seva fissió, que permet diferents combinacions de fragments amb 33 < Z < 59 seguint una distribució estadística, amb un fragment al voltant de A=95 (Br, Kr, Zr) i l’altre al voltant de A=139 (I, Xe, Ba).\n",
    "\n",
    "<a title=\"File:Produits de fission.png, User:Mubs\n",
    "Original uploader as User:Mubs.\n",
    "Derivative work: KES47, CC BY-SA 3.0 &lt;https://creativecommons.org/licenses/by-sa/3.0&gt;, via Wikimedia Commons\" href=\"https://commons.wikimedia.org/wiki/File:Uranium-235_fission_product-en.svg\"><img width=\"508\" alt=\"Uranium-235 fission product-en\" src=\"https://upload.wikimedia.org/wikipedia/commons/1/1a/Uranium-235_fission_product-en.svg\"></a>\n",
    "\n",
    "L’urani $^{235}U$ es troba a la barra de combustible en una proporció molt baixa (0,7% si s’utilitza en estat natural), on la proporció de $^{238}U$ arriba al 99,3 % i que no es desintegra, però es capaç d’absorbir neutrons i generar $^{239}Pu$, que si que és combustible nuclear. Per aquest motiu el $^{235}U$  es considera un material fèrtil. Moltes vegades la proporció de $^{235}U$ s’incrementa prèviament i parlem d’*urani enriquit*.\n",
    "\n",
    "Les barres de combustible porten l’urani en forma d’òxid $UO_2$\n",
    "\n",
    "## L’absorbent\n",
    "Com heu vist a la reacció anterior en surten més neutrons dels que entren. En aquesta situació tindríem una reacció en cadena, que produiria una explosió com a Hirosima. Per evitar això s’utilitzen unes barres amb un material que absorbeix els neutrons, com ara alliatges de B, Cd, Ag i In. Aquestes barres es poden desplaçar, deixant passar més o menys neutrons i controlant la reacció.\n",
    "\n",
    "## El moderador\n",
    "Per optimitzar la reacció és necessari baixar la velocitat dels neutrons emesos. Per això se’ls fa xocar amb materials amb àtoms petits, com ara l’aigua (normal o pesant, es a dir, amb l’isòtop deuteri de l’hidrogen) o el grafit.\n",
    "\n",
    "## El refrigerant\n",
    "Cal portar la calor generada per la reacció al generador de vapor de la central. S’aconsegueix amb el refrigerant, ja sigui líquid (aigua, Na, K) o gas ($CO_2$, He, $H_2$, $N_2$)\n",
    "\n",
    "## Mur de contenció\n",
    "Les parts més sensibles de la central, que produeixen radiació amb el conseqüent perill estan aïllades per un mur de contenció molt gruix de formigó, que impedeix que surti la radiació.\n",
    "\n",
    "A més a més tota la central està dotada de pressió negativa, es a dir, cada sala té una pressió inferior a la sala exterior contigua, per evitar que surti cap tipus de partícula."
   ]
  },
  {
   "cell_type": "markdown",
   "id": "7d278012-9d30-49f2-bd1c-8a661a017383",
   "metadata": {
    "editable": true,
    "slideshow": {
     "slide_type": ""
    },
    "tags": []
   },
   "source": [
    "## Reactors PWR\n",
    "Els reactors d’aigua a pressió (Pressurized Water Reactor) utilitzen aigua a alta pressió com a moderador, refrigerant i també per generar el vapor que travessa les turbines. Com l’aigua lleugera captura més neutrons que l’aigua pesant, el combustible utilitzat és urani enriquit al 2% - 4 %.\n",
    "\n",
    "Utilitza tres circuits de refrigeració: el primari, amb aigua a alta pressió (16 MPa), recull la calor del nucli del reactor. El circuit secundari rep aquesta energia del primari al generador de vapor. Com l’aigua del circuit secundari no ha estat en contacte directe amb el reactor pot sortir de l’edifici de contenció cap a les turbines. El circuit terciari s’utilitza per refredar el condensador, com a les centrals tèrmiques convencionals.\n",
    "\n",
    "<table><tr><td width=\"512\">\n",
    "<a title=\"No machine-readable author provided. Ub assumed (based on copyright claims)., CC BY-SA 3.0 &lt;http://creativecommons.org/licenses/by-sa/3.0/&gt;, via Wikimedia Commons\" href=\"https://commons.wikimedia.org/wiki/File:PWR1.png\"><img width=\"512\" alt=\"PWR1\" src=\"https://upload.wikimedia.org/wikipedia/commons/c/cc/PWR1.png\"></a>\n",
    "</td>\n",
    "<td>\n",
    "Esquema d'una central nuclear PWR.<br>\n",
    "V: Reactor<br>\n",
    "C: combustible<br>  \n",
    "T: turbina,<br>\n",
    "G: alternador<br>\n",
    "B: generador de vapor<br>\n",
    "K: condensador,<br>\n",
    "P1: circuit primari<br> \n",
    "P2: circuit secundari <br>\n",
    "    <br>\n",
    "El circuit terciari és el que es veu en part, en gris clar, a K, entra aigua per a refredar la de P2 a K, fins a condensar-la, de manera que la del circuit terciari surt escalfada cap a la torre de refrigeració.<br>\n",
    "<br>\n",
    "La línia negra gruixuda indica que es troba dintre de l’edifici de contenció. En aquestes centrals només el reactor i el generador de vapor necessiten aquesta protecció, ja que el fluid que mou les turbines no ha tingut contacte directe amb el nucli del reactor.  \n",
    "</td>\n",
    "</tr></table>\n",
    "<br>\n",
    "Les barres de control es desplacen per la banda superior del reactor: com més avall més neutrons s’absorbeixen. Això és molt interessant: en cas de problemes es deixen caure les barres i la reacció s’atura. Deixar caure les barres no requereix gaire energia, i si falla el servosistema sempre es pot tallar el filferro que eleva la barra amb un robot, una petita càrrega explosiva o amb intervenció humana, aquesta última com a darrer recurs.\n",
    "\n",
    "Al voltant del 60% dels reactors nuclears al món són d’aquest tipus.\n"
   ]
  },
  {
   "cell_type": "markdown",
   "id": "28e30fa1-9189-461b-8539-f8d414f72846",
   "metadata": {
    "editable": true,
    "slideshow": {
     "slide_type": ""
    },
    "tags": []
   },
   "source": [
    "## Reactors BWR\n",
    "Els reactors d’aigua bullent (Boiling Water Reactor) utilitza aigua com a refrigerant i moderador, i  també per generar el vapor que travessa les turbines i que es produeix directament al reactor. \n",
    "\n",
    "Com les turbines reben vapor generat en contacte directe amb el reactor (a 7,6 MPa, 285 °C) han d’estar protegides dintre de l’edifici de contenció. A més a més el vapor s’ha de recollir a la banda superior del reactor, per tant les barres de control han de entrar per la banda inferior i necessiten energia per elevar-les i aturar el reactor. Cap dels sistemes d’emergència explicats al reactor PWR és aplicable en els reactor BWR: sense energia externa no es pot aturar el reactor.\n",
    "\n",
    "En aquest reactors només troben dos circuits de refrigeració: el primari, que travessa el reactor i les turbines; i el secundari, que refreda el condensador.\n",
    "\n",
    "<table>\n",
    "    <tr>\n",
    "        <td width=\"512\">\n",
    "            <a title=\"Robert Steffens (alias RobbyBer 8 November 2004), SVG: Marlus_Gancher, Antonsusi (talk) using a file from Marlus_Gancher. See File talk:Schema Siedewasserreaktor.svg#License history, GFDL &lt;http://www.gnu.org/copyleft/fdl.html&gt;, via Wikimedia Commons\" href=\"https://commons.wikimedia.org/wiki/File:Boiling_water_reactor_no_text.svg\"><img width=\"512\" alt=\"Boiling water reactor no text\" src=\"https://upload.wikimedia.org/wikipedia/commons/thumb/1/16/Boiling_water_reactor_no_text.svg/512px-Boiling_water_reactor_no_text.svg.png\"></a>\n",
    "        </td>\n",
    "        <td>\n",
    "            Esquema d’una central BWR<br>\n",
    "<br>\n",
    "1 Reactor \t\t<br>\n",
    "2 Combustible <br>\n",
    "3 Barres de control<br>\n",
    "4 Bombes de circulació<br>\n",
    "5 Motors de les barres de control<br>\n",
    "6 Vapor \t      <br>\n",
    "8 Turbina alta pressió<br>\n",
    "9 Turbina baixa pressió<br>\n",
    "10 Alternador<br>\n",
    "12 Condensador<br>\n",
    "15 Bomba circuit primari<br>\n",
    "16 Bomba circuit secundari<br>\n",
    "18 Connexió al transformador<br>\n",
    "<br>\n",
    "Fixeu-vos com tot el conjunt ha d’estar protegit per l’edifici de contenció\n",
    "        </td>\n",
    "    </tr>\n",
    "</table>\n",
    "<br>\n",
    "Al voltant del 25 % de centrals nuclears arreu del mon són del tipus BWR"
   ]
  },
  {
   "cell_type": "markdown",
   "id": "e8d2dc57-1640-45ff-b439-ad8fbb302e6a",
   "metadata": {
    "editable": true,
    "slideshow": {
     "slide_type": ""
    },
    "tags": []
   },
   "source": [
    "## Recanvi del combustible\n",
    "Com les barres de combustible centrals són les que més han reaccionat, aquestes són reemplaçades per barres més externes, successivament, i utilitzant barres noves per reemplaçar les més exteriors.\n",
    "\n",
    "Les barres gastades es deixen refredar a una piscina uns mesos. Després s’envien per tren a centres especialitzats en el seu aprofitament (militar moltes vegades, recordem que l’urani genera )  o a cementiris nuclears.\n",
    "\n",
    "## Inèrcia de les centrals nuclears\n",
    "Donada la complexitat i perillositat d’aquestes centrals s’han de fer moltes comprovacions en els cicles d’aturada/posada en marxa. No és estrany períodes de 2-3 dies per aquesta tasca. Recanvis de combustible, desconnexions de la xarxa elèctrica, petites fuites... A més a més es necessita energia fiable per portar-les a terme, per la qual cosa s’acostuma a construir una petita central tèrmica al seu costat.\n",
    "\n",
    "Aquesta inèrcia no permet aturar la central a la nit, quan la demanda a la xarxa baixa. Si a la nit fa vent, moltes vegades s’han de desactivar els aerogeneradors ja que la xarxa no necessita tanta energia i no és capaç d’emmagatzemar-la, ja que es prioritza mantenir les centrals nuclears en marxa. Aquest malbaratament de l’energia es podria evitar construint a prop de les centrals nuclears centres d'emmagatzemament d’energia, en forma d’hidrogen o amb centrals hidràuliques reversibles. Aquestes instal·lacions permetrien també no haver d’aturar les centrals nuclears en cas de desconnexió de la xarxa.\n",
    "\n",
    "## Objectiu estratègic\n",
    "Tota instal·lació energètica és un objectiu estratègic de terroristes i guerres, però les centrals nuclears són especialment sensibles. Per això l’accés està molt restringit, amb perímetres d’exclusió al seu voltant, sensors de metalls i explosius... L’edifici de contenció té forma de cúpula com a defensa d’impactes de míssils o avionetes. No es estrany trobar regiments d’artilleria antiaèria o destacaments de la força aèria a prop seu. Els trens que transporten els residus nuclears són fortament custodiats. \n",
    "\n",
    "## Impacte ambiental\n",
    "Els defensors de l’energia nuclear destaquen els seus avantatges: no produeix CO2, gasten poc combustible i fins-i-tot el poden generar (l’urani genera que es podria profitar en altres centrals optimitzades)...\n",
    "\n",
    "Per altra banda els detractors destaquen els seu problemes:\n",
    "* Els residus tenen un tractament incert, atès que són radioactius per molts anys. Si bé fins fa unes dècades s’abocaven a fosses marines, avui en dia no és una opció ja que les dorsals oceàniques són molt actives. Cal destacar les accions de Greenpeace que van aconseguir la seva prohibició. Avui en dia l’opció amb més adeptes és l’emmagatzematge a cementiris nuclears, típicament mines en desús a gran fondària en entorns geològics adients. Espanya encara no el té resolt: paga a altres països (França. UK) per emmagatzemar temporalment els seu residus, que a la llarga tornaran al nostre país. Entre 1985 i 2005 Espanya va pagar en concepte de gestió de residus radioactius d’alta activitat la quantitat de 1 400 000 000 €.\n",
    "* Si bé les mesures de seguretat és alta, no són estranys els incidents nuclears. Trobareu una llista detallada a https://en.wikipedia.org/wiki/Nuclear_and_radiation_accidents_and_incidents i https://en.wikipedia.org/wiki/Lists_of_nuclear_disasters_and_radioactive_incidents . Cal ressaltar els accidents de Txernòbil i Fukushima:\n",
    "   * L’accident de Txernòbil, el 26 d’abril de 1986, s’ha considerat el més greu de la història. En unes proves de millora del rendiment, en que es van anul·lar criteris de seguretat, un augment sobtat de potència al reactor número 4 de la central va provocar l’explosió de l’hidrogen acumulat dins del nucli pel sobreescalfament. L’incendi va durar 10 dies. 130 000 persones van ser evacuades. Van haver d’intervenir més de 800 000 liquidadors, la majoria dels quals va acabar morts o malalts. L’esperança de vida a Ucraïna va passar de 79 anys a 55 arran de l’accident. El 40% del territori europeu es va contaminar amb els productes dispersats a l’atmosfera. El núvol amb $^{131}I$ - que provoca càncer de tiroides-  va arribar a molts països propers. La zona de Txernòbil romandrà altament contaminada i inhabitable per 40 000 anys. \n",
    "    * A Fukushima el 11 de març del 2011 un tsunami va fer malbé la connexió a la xarxa elèctrica i la central tèrmica auxiliar de la central. L’aplicació del protocol d’emergència, que forçava l’aturada de la central, va ser desastrós: sense energia externa per mantenir el circuit de refrigeració el sobreescalfament va originar explosions, incendis i emissió radioactiva. La mala ubicació de les piscines de residus va empitjorar tot: l’evaporació sobtada de l’aigua de les piscines va deixar a descobert els residus nuclears. Una esquerda a l’estructura del reactor va alliberar material radioactiu al mar, especialment $^{131}I$ i $^{137}Cs$, que han estat detectats tan a les costes d’EEUU com d’Europa."
   ]
  },
  {
   "cell_type": "code",
   "execution_count": null,
   "id": "59818bec-e78f-4a3a-b280-c29357cbeb0b",
   "metadata": {
    "editable": true,
    "slideshow": {
     "slide_type": ""
    },
    "tags": []
   },
   "outputs": [],
   "source": []
  }
 ],
 "metadata": {
  "kernelspec": {
   "display_name": "venvPy3",
   "language": "python",
   "name": "venvpy3"
  },
  "language_info": {
   "codemirror_mode": {
    "name": "ipython",
    "version": 3
   },
   "file_extension": ".py",
   "mimetype": "text/x-python",
   "name": "python",
   "nbconvert_exporter": "python",
   "pygments_lexer": "ipython3",
   "version": "3.10.12"
  }
 },
 "nbformat": 4,
 "nbformat_minor": 5
}