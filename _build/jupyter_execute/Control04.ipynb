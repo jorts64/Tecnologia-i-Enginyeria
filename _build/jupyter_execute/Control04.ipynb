{
 "cells": [
  {
   "cell_type": "markdown",
   "id": "93d9dd8a-670f-48ed-a748-5aa4f4ca610d",
   "metadata": {
    "editable": true,
    "slideshow": {
     "slide_type": ""
    },
    "tags": []
   },
   "source": [
    "# Àlgebra de Boole"
   ]
  },
  {
   "cell_type": "markdown",
   "id": "e58a9bef-f1d9-44a2-b7b8-2f24ec1c9f03",
   "metadata": {
    "editable": true,
    "slideshow": {
     "slide_type": ""
    },
    "tags": []
   },
   "source": [
    "```{admonition} Pàgina en desenvolupament\n",
    "Encara estem treballant en aquest document.   \n",
    "Esperem oferir-vos properament el seu contingut.   \n",
    "Disculpeu les molèsties.\n",
    "```"
   ]
  },
  {
   "cell_type": "markdown",
   "id": "0f8b3be1-6f0c-4c77-8684-5a1c25f899b6",
   "metadata": {
    "editable": true,
    "slideshow": {
     "slide_type": ""
    },
    "tags": []
   },
   "source": [
    "## Una mica d'Història\n",
    "\n",
    "\n",
    "Tots coneixeu el sistemes digitals; només poden agafar dos valor: **0** o **1**. El que potser no conegueu és que aquests sistemes es  poden analitzar i dissenyar amb una estructura matemàtica publicada per George Boole al 1847, coneguda com a **àlgebra de Boole**. No només l'electrònica digital se n'aprofita. La lògica proposicional, els diagrames de Venn, l'enginyeria pneumàtica, la programació informàtica, el disseny 3D, l'electricitat industrial i moltes més disciplines també l'utilitzen {cite}`Boolean_algebra`. De fet, Claude Shannon (si, el mateix que va introduir el concepte d'entropia de la informació) va ser dels primers en utilitzar-la; la va fer servir per analitzar els circuits amb relés i conmutadors, tema de la seva tesis doctoral del 1937 {cite}`Claude_Shannon`. \n",
    "\n",
    "Com té aplicació a moltes disciplines cadascuna ha adaptat la simbologia al seu camp. Per ara utilitzarem la simbologia de l'electrònica digital. Al final del tema trobareu l'equivalència amb altres disiplines."
   ]
  },
  {
   "cell_type": "markdown",
   "id": "c6217877-01a0-4d9b-a2ea-c5538ba44776",
   "metadata": {
    "editable": true,
    "slideshow": {
     "slide_type": ""
    },
    "tags": []
   },
   "source": [
    "## Definició\n",
    "$\\mathcal{B}=\\left\\{0.1\\right\\}$   \n",
    "$(+ \\ , \\ \\cdot) \\ $ operacions\n",
    "\n",
    "L'estructura $(\\mathfrak{B}, +, \\cdot)$ és un àlgebra de Boole quan es cumpleixen els 5 postulats de Huntington \n",
    "\n"
   ]
  },
  {
   "cell_type": "markdown",
   "id": "c4e82b24-1277-436d-bb88-92ac1aa53f38",
   "metadata": {
    "editable": true,
    "slideshow": {
     "slide_type": ""
    },
    "tags": []
   },
   "source": [
    "## Postulats de Huntington \n",
    "\n",
    "$\\forall \\ a,b,c\\in \\mathcal{B}$\n",
    "\n",
    "Primer postulat: **les operacions són internes:**\n",
    "\n",
    "$a+b\\in \\mathcal{B}\\qquad a\\cdot b\\in \\mathcal{B} \\qquad$\n",
    "\n",
    "Segon postulat: **existeix un element neutre per a cada operació:**\n",
    "\n",
    "$a+0 = a\\qquad a\\cdot 1 = a \\qquad$\n",
    "\n",
    "Tercer postulat: **existeix l'element invers:**\n",
    "\n",
    "$a\\cdot \\overline{a} = 0\\qquad a+\\overline{a} = 1 \\qquad$\n",
    "\n",
    "Quart postulat: **existeix la propietat commutativa:**\n",
    "\n",
    "$a+b = b+a\\qquad a\\cdot b = b\\cdot a \\qquad$\n",
    "\n",
    "Cinquè postulat: **existeix la propietat distributiva:**\n",
    "\n",
    "$a\\cdot (b+c) = (a\\cdot b)+(a\\cdot c)\\qquad a+(b\\cdot c) = (a+b)\\cdot (a+c) \\qquad$\n",
    "\n"
   ]
  },
  {
   "cell_type": "markdown",
   "id": "db312f73-f5bf-4321-8467-e2fd2bebd18a",
   "metadata": {
    "editable": true,
    "slideshow": {
     "slide_type": ""
    },
    "tags": []
   },
   "source": [
    "## Altres propietats\n",
    "\n",
    "**Lleis d'absorció:**   \n",
    "\n",
    "$a+(a\\cdot b) = a\\qquad a\\cdot (a+b) = a\\qquad$\n",
    "\n",
    "$a+(\\overline{a}\\cdot b) = a+b\\qquad a\\cdot (\\overline{a}+b) = a\\cdot b\\qquad$\n",
    "\n",
    "**Llei d'idempotència:** \n",
    "\n",
    "$a+a=a\\quad a\\cdot a= a\\qquad$\n",
    "\n",
    "**Llei d'involució:**   \n",
    "\n",
    "$\\overline{(\\overline{a})} = a\\qquad$\n",
    "\n",
    "**Llei de De Morgan:**   \n",
    "\n",
    "$\\overline{a+b} = \\overline{a}\\cdot\\overline{b}\\qquad \\overline{a\\cdot b} = \\overline{a}+\\overline{b}\\qquad$\n",
    "\n",
    "**Propietat associativa:**   \n",
    "\n",
    "$a+(b+c)=(a+b)+c\\qquad a\\cdot(b\\cdot c)=(a\\cdot b)\\cdot c\\qquad$\n"
   ]
  },
  {
   "cell_type": "markdown",
   "id": "2902dc9d-7875-4131-b232-8169bf97eaff",
   "metadata": {
    "editable": true,
    "slideshow": {
     "slide_type": ""
    },
    "tags": []
   },
   "source": [
    "## Simbologia a altres disciplines\n",
    "\n",
    "| Disciplina | Operació 1 | Operació 2 | Element neutre operació 1 | Element neutre operació 2 | Element | Invers |\n",
    "| :---: | :---: | :---: | :---: | :---: | :---: | :---: |\n",
    "| Electrònica digital | + | $\\cdot$ | 0 | 1 | a | $\\overline{a}$ |\n",
    "| Lógica proposicional | o | i | F | V | p | ¬p |\n",
    "| Àlgebra de Venn | $\\cup$ | $\\cap$ | $\\emptyset$ | U| A | $A^\\complement$ |\n",
    "| Portes lógiques | OR | AND | L | H | A | NOT A |\n",
    "| Llenguatge C | \\|\\| | \\&\\& | false | true | nomVariable | !nomVariable |\n",
    "| Llenguatge Python | or | and | False | True | nomVariable | not nomVariable |\n"
   ]
  },
  {
   "cell_type": "markdown",
   "id": "da70d92c-1a8f-4682-9ff0-36d33d0aef7e",
   "metadata": {
    "editable": true,
    "slideshow": {
     "slide_type": ""
    },
    "tags": []
   },
   "source": [
    "## Simbología gràfica\n",
    "\n"
   ]
  },
  {
   "cell_type": "markdown",
   "id": "48d7cb4f-7f15-46d3-a822-8cc91c537d8a",
   "metadata": {
    "editable": true,
    "jp-MarkdownHeadingCollapsed": true,
    "slideshow": {
     "slide_type": ""
    },
    "tags": []
   },
   "source": [
    "### Portes lògiques ISO\n",
    "\n",
    "|OR|AND|NOT|NOR|NAND|XOR|\n",
    "|:---:|:---:|:---:|:---:|:---:|:---:|\n",
    "|![](https://upload.wikimedia.org/wikipedia/commons/3/39/OR_BS.svg)|![](https://upload.wikimedia.org/wikipedia/commons/7/73/AND_BS.svg)|![](https://upload.wikimedia.org/wikipedia/commons/6/65/NOT_BS.svg)|![](https://upload.wikimedia.org/wikipedia/commons/9/9f/NOR_BS.svg)|![](https://upload.wikimedia.org/wikipedia/commons/f/fc/NAND_BS.svg)|![](https://upload.wikimedia.org/wikipedia/commons/9/94/XOR_BS.svg)|"
   ]
  },
  {
   "cell_type": "markdown",
   "id": "c2e03016-9653-40e9-b088-0b42775cfc6f",
   "metadata": {
    "editable": true,
    "slideshow": {
     "slide_type": ""
    },
    "tags": []
   },
   "source": [
    "### Portes lògiques ANSI\n",
    "\n",
    "|OR|AND|NOT|NOR|NAND|XOR|\n",
    "|:---:|:---:|:---:|:---:|:---:|:---:|\n",
    "|![](https://upload.wikimedia.org/wikipedia/commons/b/b5/OR_ANSI.svg)|![](https://upload.wikimedia.org/wikipedia/commons/6/64/AND_ANSI.svg)|![](https://upload.wikimedia.org/wikipedia/commons/b/bc/NOT_ANSI.svg)|![](https://upload.wikimedia.org/wikipedia/commons/6/6c/NOR_ANSI.svg)|![](https://upload.wikimedia.org/wikipedia/commons/f/f2/NAND_ANSI.svg)|![](https://upload.wikimedia.org/wikipedia/commons/0/01/XOR_ANSI.svg)|"
   ]
  },
  {
   "cell_type": "markdown",
   "id": "9d6a5ebf-3188-4fca-ad83-7acabb4593af",
   "metadata": {
    "editable": true,
    "slideshow": {
     "slide_type": ""
    },
    "tags": []
   },
   "source": [
    "## Taules de veritat\n",
    "\n",
    "### Porta OR\n",
    "\n",
    ":::{table}\n",
    ":width: 150px\n",
    ":align: left\n",
    "\n",
    "| a | b | a + b |\n",
    "|:----:|:----:|:----:|\n",
    "| 0 | 0 | **0** |\n",
    "| 0 | 1 | **1** |\n",
    "| 1 | 1 | **1** |\n",
    "| 1 | 1 | **1** |\n",
    "\n",
    ":::\n",
    "\n",
    "### Porta AND\n",
    "\n",
    ":::{table}\n",
    ":width: 150px\n",
    ":align: left\n",
    "\n",
    "| a | b | a $\\cdot$ b |\n",
    "| :-----: | :-----: | :-----: |\n",
    "| 0 | 0 | **0** |\n",
    "| 0 | 1 | **0** |\n",
    "| 1 | 0 | **0** |\n",
    "| 1 | 1 | **1** |\n",
    "\n",
    ":::\n",
    "\n",
    "### Porta NOT\n",
    "\n",
    ":::{table}\n",
    ":width: 130px\n",
    ":align: left\n",
    "\n",
    "| a | $\\overline{a}$\n",
    "| :-----: | :-----: |\n",
    "| 0 | **1** |\n",
    "| 1 | **0** |\n",
    "\n",
    ":::\n"
   ]
  },
  {
   "cell_type": "markdown",
   "id": "0329589b-00a6-448d-a547-a0f3bf5ade2d",
   "metadata": {
    "editable": true,
    "slideshow": {
     "slide_type": ""
    },
    "tags": []
   },
   "source": [
    "## Funcions lògiques combinacionals\n",
    "\n",
    "Qualsevol expressió en l'algebra de Boole és una funció lògica. La lògica **combinacional** es limita a expressions que només depenen de l'entrada actual. A la lògica **seqüencial** la sortida no només depèn de l'entrada actual, sinó també de la història de l'entrada.\n",
    "\n",
    "```{tip}\n",
    "Equivalència de funcions lògiques: dues funcions lògiques són equivalents si comparteixen la mateixa taula de veritat\n",
    "```\n",
    "\n",
    "Podem comprovar la validesa de les lleis de De Morgan comparant les seves taules de veritat\n",
    "\n",
    "\n",
    ":::{table}\n",
    ":width: 200px\n",
    ":align: left\n",
    "\n",
    "|a|b|NOT (a OR b)|NOT a|NOT b|(NOT a) AND (NOT b)|\n",
    "|:-----:|:-----:|:-----:|:-----:|:-----:|:-----:|\n",
    "|0|0|**1**|1|1|**1**|\n",
    "|0|1|**0**|1|0|**0**|\n",
    "|1|0|**0**|0|1|**0**|\n",
    "|1|1|**0**|0|0|**0**|\n"
   ]
  },
  {
   "cell_type": "markdown",
   "id": "4c7446dc-a82a-4717-ac96-5f1f4808449f",
   "metadata": {
    "editable": true,
    "slideshow": {
     "slide_type": ""
    },
    "tags": []
   },
   "source": [
    "Al llarg d'aquest capítol faré servir el següent exemple de funció lògica, del qual, per ara, desconeixem la seva expressió algebraica:\n",
    "\n",
    ":::{table}\n",
    ":width: 300px\n",
    ":align: left\n",
    "\n",
    "| |a|b|c|d|s|\n",
    "| :---: | :---: | :---: | :---: | :---: | :---: |\n",
    "| 0|0|0|0|0|1|\n",
    "| 1|0|0|0|1|1|\n",
    "| 2|0|0|1|0|1|\n",
    "| 3|0|0|1|1|0|\n",
    "| 4|0|1|0|0|0|\n",
    "| 5|0|1|0|1|0|\n",
    "| 6|0|1|1|0|0|\n",
    "| 7|0|1|1|1|0|\n",
    "| 8|1|0|0|0|1|\n",
    "| 9|1|0|0|1|1|\n",
    "|10|1|0|1|0|1|\n",
    "|11|1|0|1|1|0|\n",
    "|12|1|1|0|0|1|\n",
    "|13|1|1|0|1|0|\n",
    "|14|1|1|1|0|1|\n",
    "|15|1|1|1|1|0|\n",
    "\n",
    ":::"
   ]
  },
  {
   "cell_type": "markdown",
   "id": "40c2ae87-b0a4-487c-9132-00bf3b99ba56",
   "metadata": {
    "editable": true,
    "jp-MarkdownHeadingCollapsed": true,
    "slideshow": {
     "slide_type": ""
    },
    "tags": []
   },
   "source": [
    "### minterms\n",
    "\n",
    "Podem expresar la nostra funció lògica com a una suma amb productes de minterms. Cada minterm és un producte de les variables d'entrada , negades si el seu valor es 0; o dit d'una altra manera, el producte de la representació binària del seu índex. Només els minterms on la sortida és 1 apareixen a l'expressió.\n",
    "\n",
    "Veiem l'expressió amb mintems de la nostra funció exemple:\n",
    "\n",
    "$s = m_0 + m_1 + m_2 + m_8 + m_9 + m_{10} + m_{12} + m_{14}$\n",
    "\n",
    "$s = \\overline{a} \\cdot \\overline{b} \\cdot \\overline{c} \\cdot \\overline{d} + \\overline{a} \\cdot \\overline{b} \\cdot \\overline{c} \\cdot d + \\overline{a} \\cdot \\overline{b} \\cdot c \\cdot \\overline{d} + a \\cdot \\overline{b} \\cdot \\overline{c} \\cdot \\overline{d}+ a \\cdot \\overline{b} \\cdot \\overline{c} \\cdot d + a \\cdot \\overline{b} \\cdot c \\cdot \\overline{d} + a \\cdot b \\cdot \\overline{c} \\cdot \\overline{d} + a \\cdot b \\cdot c \\cdot \\overline{d}$"
   ]
  },
  {
   "cell_type": "markdown",
   "id": "1887839c-5221-42d5-be47-c7bb6020f845",
   "metadata": {
    "editable": true,
    "slideshow": {
     "slide_type": ""
    },
    "tags": []
   },
   "source": [
    "### Maxterm\n",
    "\n",
    "Podem expresar la nostra funció lògica com a un producte de sumes amb maxterms. Cada maxterm és una suma de les variables d'entrada , negades si el seu valor es 1; o dit d'una altra manera, la suma producte dels complementaris de la seva representació binària del seu índex. Només els maxterms on la sortida és 0 apareixen a l'expressió.\n",
    "\n",
    "$s = M_3 \\cdot M_4 \\cdot M_5 \\cdot M_6 \\cdot M_7 \\cdot M_{11} \\cdot M_{13} \\cdot M_{15}$\n",
    "$s = (a+b+\\overline{c}+\\overline{d})\n",
    "(a+\\overline{b}+c+d)\n",
    "(a+\\overline{b}+c+\\overline{d})\n",
    "(a+\\overline{b}+\\overline{c}+\\overline{d})\n",
    "(a+\\overline{b}+\\overline{c}+\\overline{d})\n",
    "(\\overline{a}+b+\\overline{c}+\\overline{d})\n",
    "(\\overline{a}+\\overline{b}+c+\\overline{d})\n",
    "(\\overline{a}+\\overline{b}+\\overline{c}+\\overline{d})$"
   ]
  },
  {
   "cell_type": "markdown",
   "id": "69836b9c-74d0-4a8b-a94b-c31e1888eb06",
   "metadata": {
    "editable": true,
    "slideshow": {
     "slide_type": ""
    },
    "tags": []
   },
   "source": [
    "## Simplificació de funcions lògiques"
   ]
  },
  {
   "cell_type": "markdown",
   "id": "2227a18e-6ab1-4800-863f-b4161ab9d108",
   "metadata": {
    "editable": true,
    "slideshow": {
     "slide_type": ""
    },
    "tags": []
   },
   "source": [
    "### Simplificació algebraica\n",
    "\n",
    "Es tracta de manipular algebraicament l'expressió de la funció per a obtenir la versió més senzilla possible. Moltes vegades no és gens fàcil. Però existeixen metòdes gràfics, com ara els mapes de Karnaugh o els diagrames de Veitch que ens poden guiar."
   ]
  },
  {
   "cell_type": "markdown",
   "id": "a1c1978c-7440-4187-bf20-76c148492600",
   "metadata": {
    "editable": true,
    "slideshow": {
     "slide_type": ""
    },
    "tags": []
   },
   "source": [
    "### Diagrames de Veitch\n",
    "\n",
    "Es tracta d'un mètode gràfic on representem totes les combinacions possibles de la taula de veritat. És molt semblant a un altre mètode anomenat **mapa de Karnaugh**, però el diagrama de Veitch és molt més fàcil interpretar el resultat."
   ]
  },
  {
   "cell_type": "markdown",
   "id": "65a738cb-3854-4567-8849-e02cb69fb49f",
   "metadata": {
    "editable": true,
    "slideshow": {
     "slide_type": ""
    },
    "tags": []
   },
   "source": [
    "**Per a 3 variables:**\n",
    "\n",
    "![](img/Control/Veitch3v.png)"
   ]
  },
  {
   "cell_type": "markdown",
   "id": "c242243d-704c-4fe3-b253-c335985f7cf6",
   "metadata": {
    "editable": true,
    "slideshow": {
     "slide_type": ""
    },
    "tags": []
   },
   "source": [
    "**Per a 4 variables:**\n",
    "\n",
    "![](img/Control/Veitch4v.png)"
   ]
  },
  {
   "cell_type": "markdown",
   "id": "e94a20fb-8422-46a7-b1c9-3d687a15c0cd",
   "metadata": {
    "editable": true,
    "slideshow": {
     "slide_type": ""
    },
    "tags": []
   },
   "source": [
    "Cal tenir en compte que el costat de l'esquerra enllaça amb el costat de la dreta i que el costat superior enllaça amb el costat inferior, com passa a molts videojocs. En realitat estem treballant sobre una superfície toroidal:\n",
    "\n",
    "![](img/Control/Torus_from_rectangle.gif) "
   ]
  },
  {
   "cell_type": "markdown",
   "id": "7beaeac7-b824-4f62-b5af-f86c44d46a44",
   "metadata": {
    "editable": true,
    "slideshow": {
     "slide_type": ""
    },
    "tags": []
   },
   "source": [
    "Podeu baixar aquesta [plantilla](http://www.jorts.net/jupbook/pdf/Veitch.pdf) amd diagrames de Veitch per a 2, 3, 4, 5 i 6 variables.\n",
    "\n",
    "El diagrama s'utilitza així:\n",
    "\n",
    "* Col·loquem els minterms de la nostra funció al diagrama\n",
    "* Busquem grups rectangulars (quadrats inclosos) amb un nombre de termes potència de 2: 1, 2, 4, 8, 16 ... Agafem el mínim nombre de grups, els grups més grans possibles, encara que solapin, i que cubreixin tots els nostres minterms.\n",
    "* Interpretem els grups: si la variable té només un valor, és un factor del producte; si presenta els dos valors 0 i 1 no apareix al producte.\n",
    "\n",
    "Veiem un exemple amb la nostra funció:\n",
    "\n",
    "![](img/Control/veitchEjemplo1.png)\n",
    "\n",
    "Per tant:\n",
    "\n",
    "$s = a \\ \\overline{d} + \\overline{b} \\ (\\ \\overline{c} + \\overline{d} \\ )$\n",
    "\n",
    "En el nostre càs he pogut treure manualment un factor comú $\\overline{b}$ a dos dels termes\n"
   ]
  },
  {
   "cell_type": "markdown",
   "id": "b69ff09e-bd37-446b-b41d-07bd0736d251",
   "metadata": {
    "editable": true,
    "slideshow": {
     "slide_type": ""
    },
    "tags": []
   },
   "source": [
    "### Diagrames de Veitch com a guia per a una simplificació algebraica rigurosa\n",
    "\n",
    "Podem agafar els grups que hem detectat al diagrama de Veitch. Si a un minterm solapen diversos grups podem repetir el minterm tante vegades com solapi el minterm, gràcies a la propietat d'idempotència:\n",
    "\n",
    "$s = \\overline{a} \\cdot \\overline{b} \\cdot \\overline{c} \\cdot \\overline{d} + \\overline{a} \\cdot \\overline{b} \\cdot \\overline{c} \\cdot d + \\overline{a} \\cdot \\overline{b} \\cdot c \\cdot \\overline{d} + a \\cdot \\overline{b} \\cdot \\overline{c} \\cdot \\overline{d}+ a \\cdot \\overline{b} \\cdot \\overline{c} \\cdot d + a \\cdot \\overline{b} \\cdot c \\cdot \\overline{d} + a \\cdot \\overline{b} \\cdot \\overline{c} \\cdot d + a \\cdot b \\cdot c \\cdot \\overline{d}$\n",
    "\n",
    "$s = \\overline{a} \\cdot \\overline{b} \\cdot \\overline{c} \\cdot \\overline{d} + \\overline{a} \\cdot \\overline{b} \\cdot \\overline{c} \\cdot \\overline{d} + \\overline{a} \\cdot \\overline{b} \\cdot \\overline{c} \\cdot d + \\overline{a} \\cdot \\overline{b} \\cdot c \\cdot \\overline{d} + a \\cdot \\overline{b} \\cdot \\overline{c} \\cdot \\overline{d}+  a \\cdot \\overline{b} \\cdot \\overline{c} \\cdot \\overline{d} + a \\cdot \\overline{b} \\cdot \\overline{c} \\cdot \\overline{d} \\ +$\n",
    "\n",
    "$\\ \\ \\ \\ \\ + \\  a \\cdot \\overline{b} \\cdot \\overline{c} \\cdot d +  a \\cdot \\overline{b} \\cdot c \\cdot \\overline{d} + a \\cdot \\overline{b} \\cdot c \\cdot \\overline{d} + a \\cdot b \\cdot \\overline{c} \\cdot \\overline{d} + a \\cdot b \\cdot c \\cdot \\overline{d}$\n",
    "\n",
    "Ara amb les propietats conmutativa i associativa agrupem els termes com als grups que hem obtingut al diagrama de Veitch:\n",
    "\n",
    "$s = \\left\\lfloor \\overline{a} \\cdot \\overline{b} \\cdot \\overline{c} \\cdot \\overline{d} + \\overline{a} \\cdot \\overline{b} \\cdot c \\cdot \\overline{d} +  a \\cdot \\overline{b} \\cdot \\overline{c} \\cdot \\overline{d} +a \\cdot \\overline{b} \\cdot c \\cdot \\overline{d} \\right\\rfloor \\ +$\n",
    "\n",
    "$\\ \\ \\ \\ \\ + \\  \\left\\lfloor \\overline{a} \\cdot \\overline{b} \\cdot \\overline{c} \\cdot \\overline{d} +   \\overline{a} \\cdot \\overline{b} \\cdot \\overline{c} \\cdot d + a \\cdot \\overline{b} \\cdot \\overline{c} \\cdot \\overline{d} + a \\cdot \\overline{b} \\cdot \\overline{c} \\cdot d \\right\\rfloor \\ +$\n",
    "\n",
    "$\\ \\ \\ \\ \\ + \\  \\left\\lfloor a \\cdot \\overline{b} \\cdot \\overline{c} \\cdot \\overline{d} + a \\cdot \\overline{b} \\cdot c \\cdot \\overline{d} +  a \\cdot b \\cdot \\overline{c} \\cdot \\overline{d} + a \\cdot b \\cdot c \\cdot \\overline{d} \\right\\rfloor$\n",
    "\n",
    "Ara amb la propieta associativa treiem factors comuns dintre de cada grup:\n",
    "\n",
    "$s = \\left\\lfloor \\overline{a} \\cdot \\overline{b} \\cdot (\\overline{c} + c) \\cdot \\overline{d} +  a \\cdot \\overline{b} \\cdot (\\overline{c} + c) \\cdot \\overline{d}  \\right\\rfloor \\ +$\n",
    "\n",
    "$\\ \\ \\ \\ \\ + \\  \\left\\lfloor \\overline{a} \\cdot \\overline{b} \\cdot \\overline{c} \\cdot (\\overline{d} + d)  + a \\cdot \\overline{b} \\cdot \\overline{c} \\cdot (\\overline{d} + d) \\right\\rfloor \\ +$\n",
    "\n",
    "$\\ \\ \\ \\ \\ + \\  \\left\\lfloor a \\cdot \\overline{b} \\cdot (\\overline{c}+c) \\cdot \\overline{d} +  a \\cdot b \\cdot ( \\overline{c}+c) \\cdot \\overline{d} \\right\\rfloor$\n",
    "\n",
    "Apliquem que la suma d'inversors és 1 i que 1 és l'element neutre del producte:\n",
    "\n",
    "$s = \\left\\lfloor \\overline{a} \\cdot \\overline{b} \\cdot \\overline{d} +  a \\cdot \\overline{b} \\cdot \\overline{d}  \\right\\rfloor \\ +$\n",
    "\n",
    "$\\ \\ \\ \\ \\ + \\  \\left\\lfloor \\overline{a} \\cdot \\overline{b} \\cdot \\overline{c}  + a \\cdot \\overline{b} \\cdot \\overline{c}  \\right\\rfloor \\ +$\n",
    "\n",
    "$\\ \\ \\ \\ \\ + \\  \\left\\lfloor a \\cdot \\overline{b} \\cdot \\overline{d} +  a \\cdot b  \\cdot \\overline{d} \\right\\rfloor$\n",
    "\n",
    "Tornem a treure factors comuns:\n",
    "\n",
    "$s = \\left\\lfloor (\\overline{a} + a) \\cdot \\overline{b} \\cdot \\overline{d}   \\right\\rfloor \\ +$\n",
    "\n",
    "$\\ \\ \\ \\ \\ + \\  \\left\\lfloor (\\overline{a}  + a) \\cdot \\overline{b} \\cdot \\overline{c}    \\right\\rfloor \\ +$\n",
    "\n",
    "$\\ \\ \\ \\ \\ + \\  \\left\\lfloor a \\cdot (\\overline{b}+b) \\cdot \\overline{d} \\right\\rfloor$\n",
    "\n",
    "I tornem a aplicar que la suma d'inversors és 1 i que 1 és l'element neutre del producte:\n",
    "\n",
    "$s = \\left\\lfloor \\overline{b} \\cdot \\overline{d}   \\right\\rfloor \\ +$\n",
    "\n",
    "$\\ \\ \\ \\ \\ + \\  \\left\\lfloor  \\overline{b} \\cdot \\overline{c}    \\right\\rfloor \\ +$\n",
    "\n",
    "$\\ \\ \\ \\ \\ + \\  \\left\\lfloor a  \\cdot \\overline{d} \\right\\rfloor$\n"
   ]
  },
  {
   "cell_type": "markdown",
   "id": "c6c668e1-f0bf-4b01-b274-f4446242adf5",
   "metadata": {
    "editable": true,
    "slideshow": {
     "slide_type": ""
    },
    "tags": []
   },
   "source": [
    "### Programari de simplificació "
   ]
  },
  {
   "cell_type": "markdown",
   "id": "c0af4e56-fcda-460c-90f9-a20e29d4ab32",
   "metadata": {
    "editable": true,
    "slideshow": {
     "slide_type": ""
    },
    "tags": []
   },
   "source": [
    "Utilitzar programari és molt còmode. En aquest que us mostro heu d'escollir l'opció SOP (suma de productes) per obtenir el minterm"
   ]
  },
  {
   "cell_type": "code",
   "execution_count": 1,
   "id": "4c1c47c2-d065-4e9e-8a3e-1934ac8fbac5",
   "metadata": {
    "editable": true,
    "slideshow": {
     "slide_type": ""
    },
    "tags": [
     "hide-input"
    ]
   },
   "outputs": [
    {
     "data": {
      "text/html": [
       "<iframe src=\"http://www.32x8.com/index.html\" width=\"800\" height=\"800\"></iframe>\n"
      ],
      "text/plain": [
       "<IPython.core.display.HTML object>"
      ]
     },
     "metadata": {},
     "output_type": "display_data"
    }
   ],
   "source": [
    "%%html\n",
    "<iframe src=\"http://www.32x8.com/index.html\" width=\"800\" height=\"800\"></iframe>"
   ]
  },
  {
   "cell_type": "markdown",
   "id": "e1ecec8b-b6fa-4cf8-ba02-f798219e4016",
   "metadata": {
    "editable": true,
    "slideshow": {
     "slide_type": ""
    },
    "tags": []
   },
   "source": [
    "[Obrir el programari a una altra finestra del navegador](http://www.32x8.com/index.html)"
   ]
  },
  {
   "cell_type": "markdown",
   "id": "f5c1d93b-ea6a-4032-b121-1eff89d12f43",
   "metadata": {
    "editable": true,
    "slideshow": {
     "slide_type": ""
    },
    "tags": []
   },
   "source": [
    "Utilitzem aquest programari amb la nostra funció exemple:"
   ]
  },
  {
   "cell_type": "code",
   "execution_count": 2,
   "id": "9f8715ab-9bb5-4344-9edd-8ef4b44c2861",
   "metadata": {
    "editable": true,
    "slideshow": {
     "slide_type": ""
    },
    "tags": [
     "hide-input"
    ]
   },
   "outputs": [
    {
     "data": {
      "text/html": [
       "<iframe src=\"http://www.32x8.com/sop4_____A-B-C-D_____m_0-1-2-8-9-10-12-14___________option-8_____898788975272827595797\" width=\"800\" height=\"800\"></iframe>\n"
      ],
      "text/plain": [
       "<IPython.core.display.HTML object>"
      ]
     },
     "metadata": {},
     "output_type": "display_data"
    }
   ],
   "source": [
    "%%html\n",
    "<iframe src=\"http://www.32x8.com/sop4_____A-B-C-D_____m_0-1-2-8-9-10-12-14___________option-8_____898788975272827595797\" width=\"800\" height=\"800\"></iframe>"
   ]
  },
  {
   "cell_type": "markdown",
   "id": "244a1f19-4259-4bc7-baa2-3b30e0e3c0cf",
   "metadata": {
    "editable": true,
    "slideshow": {
     "slide_type": ""
    },
    "tags": []
   },
   "source": [
    "Si us fixeu bé, la diferent ordenació de les variables al mapa en aquest programari ha situat el grup $\\overline{b} \\cdot \\overline{d}$ a les quatre posicions de les cantonades, que també formen un quadrat a l'espai toroidal"
   ]
  },
  {
   "cell_type": "code",
   "execution_count": null,
   "id": "eab5273b-f3b7-43d7-b38a-1fa215b43d26",
   "metadata": {
    "editable": true,
    "slideshow": {
     "slide_type": ""
    },
    "tags": []
   },
   "outputs": [],
   "source": []
  },
  {
   "cell_type": "markdown",
   "id": "7d853fe5-aa1c-4c86-8ca9-022c8e58a4a3",
   "metadata": {
    "editable": true,
    "slideshow": {
     "slide_type": ""
    },
    "tags": []
   },
   "source": [
    "## Esquema de portes lògiques"
   ]
  },
  {
   "cell_type": "markdown",
   "id": "16513406-518f-4141-b636-dbcd6c5e7071",
   "metadata": {
    "editable": true,
    "slideshow": {
     "slide_type": ""
    },
    "tags": []
   },
   "source": [
    "### Simulació amb programari"
   ]
  },
  {
   "cell_type": "markdown",
   "id": "e486bee0-1bd8-4709-b5a0-d2516e256426",
   "metadata": {},
   "source": [
    "Per visualitzar els símbols en format ISO cal anar a **Options -> IEC Gates**"
   ]
  },
  {
   "cell_type": "code",
   "execution_count": 3,
   "id": "caa59b6d-001a-4bd2-826d-b0b44e484cdb",
   "metadata": {
    "editable": true,
    "slideshow": {
     "slide_type": ""
    },
    "tags": [
     "hide-input"
    ]
   },
   "outputs": [
    {
     "data": {
      "text/html": [
       "<iframe src=\"https://www.falstad.com/circuit/circuitjs.html?ctz=CQAgjCAMB0l3BWcMBMcUHYMGZIA4UA2ATmIxAUgoqoQFMBaMMAKABlwwVxCqAWPDyrCQAMwCGAGwDOdapHaduaQQJAqomiTLlIFHZsoSEQalMc1Vts+SwCSSoeGLcwvS9CQJ7jjWBfq+B5ePobqFv5GJsKeFCxglOp4glyC2Hh84CiCVNy08YnZghrpmRq51N4JuclJaRl1mtwhAO7Oru4oKJluwixtXT2d3e1Q-eojkY1TCm1TfgGDY3OLI0UTmbMbo0uYeeO7GMq1e8s7EQG4mwcWV413W+tgfGURL2fmJs+vJg-jU3dPiA-gluHxsMoggguIEcsDKuNSllVBDkWdwa4Ahi0VtsUs8bUtkj1gScoiGho8UEFABZCgwjQIDAmcrqTwsAAeIEI5GIgjwEDAkAgZUy4k53PIz35rmhpnUmQARhLCEh-MQQBhipAwQqQABjFWizIYDXdciikAAEwlCD4auItCZzmw8pG0kUTxhajCImsujGQA\" width=\"800\" height=\"800\"></iframe>\n"
      ],
      "text/plain": [
       "<IPython.core.display.HTML object>"
      ]
     },
     "metadata": {},
     "output_type": "display_data"
    }
   ],
   "source": [
    "%%html\n",
    "<iframe src=\"https://www.falstad.com/circuit/circuitjs.html?ctz=CQAgjCAMB0l3BWcMBMcUHYMGZIA4UA2ATmIxAUgoqoQFMBaMMAKABlwwVxCqAWPDyrCQAMwCGAGwDOdapHaduaQQJAqomiTLlIFHZsoSEQalMc1Vts+SwCSSoeGLcwvS9CQJ7jjWBfq+B5ePobqFv5GJsKeFCxglOp4glyC2Hh84CiCVNy08YnZghrpmRq51N4JuclJaRl1mtwhAO7Oru4oKJluwixtXT2d3e1Q-eojkY1TCm1TfgGDY3OLI0UTmbMbo0uYeeO7GMq1e8s7EQG4mwcWV413W+tgfGURL2fmJs+vJg-jU3dPiA-gluHxsMoggguIEcsDKuNSllVBDkWdwa4Ahi0VtsUs8bUtkj1gScoiGho8UEFABZCgwjQIDAmcrqTwsAAeIEI5GIgjwEDAkAgZUy4k53PIz35rmhpnUmQARhLCEh-MQQBhipAwQqQABjFWizIYDXdciikAAEwlCD4auItCZzmw8pG0kUTxhajCImsujGQA\" width=\"800\" height=\"800\"></iframe>"
   ]
  },
  {
   "cell_type": "markdown",
   "id": "dfbd30d9-0cba-4528-8877-5e2f5ae8720d",
   "metadata": {
    "editable": true,
    "slideshow": {
     "slide_type": ""
    },
    "tags": []
   },
   "source": [
    "## Reducció de funcions iteratives\n",
    "\n",
    "Moltes vegades podem trobar una solució més eficaç a un problema analitzant un problema més senzill.\n",
    "\n",
    "És el cas dels [sumadors](https://es.wikipedia.org/wiki/Sumador). Si volem sumar dos nombres de 8 bits fent la taula de veritat tindríem $2^{16} = 65536$ combinacions a la taula de veritat. Massa feina! \n",
    "\n",
    "El que podem fer és analitzar com sumem els bits. Sumem els bits de la mateixa posició, tenint en compte si ens enportem un 1 de la suma de la posició anterior ( a la dreta) i anotem el resultat i, si és el cas, ens enportem un 1 a la suma següent (posició esquerra). Per tant, el nostre problema es simplifica a sumar dos bits amb un possible bit extra (CARRY) de la suma anterior i obtenir el resultat i el nou CARRY. \n",
    "\n",
    ":::{table}\n",
    ":width: 250px\n",
    ":align: left\n",
    "\n",
    "| $a_i$ | $b_i$ | $c_{i-1}$ | $c_i$|$ s_i$ |\n",
    "|:----:|:----:|:----:|:----:|:----:|\n",
    "| 0 | 0 | 0 | **0** | **0** |\n",
    "| 0 | 0 | 1 | **0** | **1** |\n",
    "| 0 | 1 | 0 | **0** | **1** |\n",
    "| 0 | 1 | 1 | **1** | **0** |\n",
    "| 1 | 0 | 0 | **0** | **1** |\n",
    "| 1 | 0 | 1 | **1** | **0** |\n",
    "| 1 | 1 | 0 | **1** | **0** |\n",
    "| 1 | 1 | 1 | **1** | **1** |\n",
    "\n",
    ":::\n",
    "\n",
    "Ara aplicariem el que hem après i tindríem l'esquema de oportes lògiques per a les dues sortides.\n",
    "\n",
    "Al simulador veurem una altra solució que utilitza portes XOR:"
   ]
  },
  {
   "cell_type": "code",
   "execution_count": 4,
   "id": "4778567a-a590-48e3-8b5c-3131a1e3dafd",
   "metadata": {
    "editable": true,
    "slideshow": {
     "slide_type": ""
    },
    "tags": [
     "hide-input"
    ]
   },
   "outputs": [
    {
     "data": {
      "text/html": [
       "<iframe src=\"https://www.falstad.com/circuit/circuitjs.html?ctz=CQAgjCAMB0l3BWc0FwCwCY0HYEA4cEMElURTJyBTAWjDACgwE1w1WNsMRPveoeAhExYgAzGIBsPBNLSSOsgd0rCA7jy6buYyBy2QGG3fp1TtUI+PNhJlfrcqHj5rPa1vLG-p59YvFhj+YOw8-s4WjoHhVhh4eOBxIPKsYEmGALLkAJzcUZLBdoIYKFb0fPFsHJURIalpIHiU5QFN4A1txNIRnUp1Mt0MADKN9kpoCV2ClABmAIYANgDOVOSWIy1xCRM8lSog88urSIYboUGsOxfTB4sra7Wh-S39tQ3PDVsBKYnbClUBCTSMC5cR6cCgiImCE6cH8CI-KYIbDSKYRZGopQYniQBKZcgonEJAocXHFUrMZpPJJfNJ4m7CSnWYGEn5gQn2IQibhsooIUFRTmqBhAA\" width=\"800\" height=\"800\"></iframe>\n"
      ],
      "text/plain": [
       "<IPython.core.display.HTML object>"
      ]
     },
     "metadata": {},
     "output_type": "display_data"
    }
   ],
   "source": [
    "%%html\n",
    "<iframe src=\"https://www.falstad.com/circuit/circuitjs.html?ctz=CQAgjCAMB0l3BWc0FwCwCY0HYEA4cEMElURTJyBTAWjDACgwE1w1WNsMRPveoeAhExYgAzGIBsPBNLSSOsgd0rCA7jy6buYyBy2QGG3fp1TtUI+PNhJlfrcqHj5rPa1vLG-p59YvFhj+YOw8-s4WjoHhVhh4eOBxIPKsYEmGALLkAJzcUZLBdoIYKFb0fPFsHJURIalpIHiU5QFN4A1txNIRnUp1Mt0MADKN9kpoCV2ClABmAIYANgDOVOSWIy1xCRM8lSog88urSIYboUGsOxfTB4sra7Wh-S39tQ3PDVsBKYnbClUBCTSMC5cR6cCgiImCE6cH8CI-KYIbDSKYRZGopQYniQBKZcgonEJAocXHFUrMZpPJJfNJ4m7CSnWYGEn5gQn2IQibhsooIUFRTmqBhAA\" width=\"800\" height=\"800\"></iframe>"
   ]
  },
  {
   "cell_type": "markdown",
   "id": "4014f08b-a5db-4deb-93b3-d2b7e4ea24b2",
   "metadata": {
    "editable": true,
    "slideshow": {
     "slide_type": ""
    },
    "tags": []
   },
   "source": [
    "\n",
    "Repetint aquest bloc 8 vegades i encadenant-los podem ara resoldre el nostre problema original.\n",
    "\n",
    "Nosaltres ens conformarem amb repetir-lo 4 vegades i tenir un sumador de dos nombres de 4 bits:"
   ]
  },
  {
   "cell_type": "code",
   "execution_count": 5,
   "id": "2413300b-930c-4fea-867d-a6f5af94ea6a",
   "metadata": {
    "editable": true,
    "slideshow": {
     "slide_type": ""
    },
    "tags": [
     "hide-input"
    ]
   },
   "outputs": [
    {
     "data": {
      "text/html": [
       "<iframe src=\"https://www.falstad.com/circuit/circuitjs.html?ctz=CQAgjCAMB0l3BWcMBMcUHYMGZIA4UA2ATmIxAUgoqoQFMBaMMAKDGMJDTxABYxOKBJ36DwbDl3xc8PIYNldx7QdIFV54QhuWTuIbCi7CDRo6wAyUnofAobRqlQBmAQwA2AZzrVILK5KEvCCStlQQbl4+SH4A7iGcQdYgSXEJ4MRmaplQ-unsRpLqUCWR3r55+sVg9lpO4CBl0blW+vY8NXKK9U0VAZyGVHrdDb0xLPGhaMmDuZMivHLSvIst6Ss8kqIlER7l463LAnY82+GNe81puMHbNwZ4wdeQwdiPM+9p+m-B3wiOEwMLxkNmBmmevxMbRMX2kmjaKCegPuxRRtQhJ2SnTmWNq+kkfgAskDXkZsIQHCUUNAECxifdQhT0hoaXSSVxEQYmShOSzafTgdh-lybMK+Wz7osqOTTnh6tTaQAPEDvPDEcDCnK-YIAI2wAB1PK5sCxlXhyDzzAgkDykNqQDqUIbXChTSqyQh1WBKFyjPadWBnawzdg+IpvRBeMRI1xdZBnX5lbxIBByXxath1fbPLw3ZnNlmhMg-bGQJ4TcrM+qeeReEQuLg+KXPK7K8RRbWi+SqNngwZ22G-UXFnbm35+Fm5WGKLVVrRAVLp5KeBjVvcwsjgaFgVOMVPF7vN79OSichiCqZwmfkdML7NmAD4veamHwi+MUKyYLph-ptg07M1wAX+aZgCsOL-pwYG3FO0EQcCi6SnOR58Ksi4bDii5gBgIj7shE4gAwRScAwqzHGAkCcrm8TfFkK44vo0qOBBzG2McsIdNoWLgRx4DgbBPE3tO+4roCIkquEgk0XCihtBgj7JJgRhJEpLESSkwSHvESRTip8lqQ+06GWkZEvmhcAMUcqinBZvHJj2NlOCwBFEQMTKkTYTIUVRgL6BhfmpL5yxJLYvCBdJDgaNIkGWTYaYhWm1x+rYSS8Bu2m3ClryJUFPAqdIWmmCKRXYklmIXqVgIVbUF6FbVUU8IVVQ5G00i8VUOHJGV9lFT8al9dhAyfFVnUDZ1jEsEAA\" width=\"800\" height=\"800\"></iframe>\n"
      ],
      "text/plain": [
       "<IPython.core.display.HTML object>"
      ]
     },
     "metadata": {},
     "output_type": "display_data"
    }
   ],
   "source": [
    "%%html\n",
    "<iframe src=\"https://www.falstad.com/circuit/circuitjs.html?ctz=CQAgjCAMB0l3BWcMBMcUHYMGZIA4UA2ATmIxAUgoqoQFMBaMMAKDGMJDTxABYxOKBJ36DwbDl3xc8PIYNldx7QdIFV54QhuWTuIbCi7CDRo6wAyUnofAobRqlQBmAQwA2AZzrVILK5KEvCCStlQQbl4+SH4A7iGcQdYgSXEJ4MRmaplQ-unsRpLqUCWR3r55+sVg9lpO4CBl0blW+vY8NXKK9U0VAZyGVHrdDb0xLPGhaMmDuZMivHLSvIst6Ss8kqIlER7l463LAnY82+GNe81puMHbNwZ4wdeQwdiPM+9p+m-B3wiOEwMLxkNmBmmevxMbRMX2kmjaKCegPuxRRtQhJ2SnTmWNq+kkfgAskDXkZsIQHCUUNAECxifdQhT0hoaXSSVxEQYmShOSzafTgdh-lybMK+Wz7osqOTTnh6tTaQAPEDvPDEcDCnK-YIAI2wAB1PK5sCxlXhyDzzAgkDykNqQDqUIbXChTSqyQh1WBKFyjPadWBnawzdg+IpvRBeMRI1xdZBnX5lbxIBByXxath1fbPLw3ZnNlmhMg-bGQJ4TcrM+qeeReEQuLg+KXPK7K8RRbWi+SqNngwZ22G-UXFnbm35+Fm5WGKLVVrRAVLp5KeBjVvcwsjgaFgVOMVPF7vN79OSichiCqZwmfkdML7NmAD4veamHwi+MUKyYLph-ptg07M1wAX+aZgCsOL-pwYG3FO0EQcCi6SnOR58Ksi4bDii5gBgIj7shE4gAwRScAwqzHGAkCcrm8TfFkK44vo0qOBBzG2McsIdNoWLgRx4DgbBPE3tO+4roCIkquEgk0XCihtBgj7JJgRhJEpLESSkwSHvESRTip8lqQ+06GWkZEvmhcAMUcqinBZvHJj2NlOCwBFEQMTKkTYTIUVRgL6BhfmpL5yxJLYvCBdJDgaNIkGWTYaYhWm1x+rYSS8Bu2m3ClryJUFPAqdIWmmCKRXYklmIXqVgIVbUF6FbVUU8IVVQ5G00i8VUOHJGV9lFT8al9dhAyfFVnUDZ1jEsEAA\" width=\"800\" height=\"800\"></iframe>"
   ]
  },
  {
   "cell_type": "markdown",
   "id": "c2da7014-0491-4304-9685-6584bd41ea60",
   "metadata": {
    "editable": true,
    "slideshow": {
     "slide_type": ""
    },
    "tags": []
   },
   "source": [
    "Aquet dispositiu es pot trobar comercialitzat com a [74LS83](http://www.jorts.net/jupbook/pdf/sn74ls83.pdf). El seu pin-out és aquest:\n",
    "\n",
    "![](img/Control/74LS83.gif)"
   ]
  },
  {
   "cell_type": "markdown",
   "id": "71a044dd-b5c3-4a2e-a3bb-bbfd1524c8d3",
   "metadata": {
    "editable": true,
    "slideshow": {
     "slide_type": ""
    },
    "tags": []
   },
   "source": [
    "## Reducció a portes NAND\n",
    "\n",
    "|OR|AND|NOT|\n",
    "|:---:|:---:|:---:|\n",
    "|![](https://upload.wikimedia.org/wikipedia/commons/b/b5/OR_ANSI.svg)|![](https://upload.wikimedia.org/wikipedia/commons/6/64/AND_ANSI.svg)|![](https://upload.wikimedia.org/wikipedia/commons/b/bc/NOT_ANSI.svg)|\n",
    "|![](https://upload.wikimedia.org/wikipedia/commons/9/90/OR_from_NAND.svg)|![](https://upload.wikimedia.org/wikipedia/commons/1/16/AND_from_NAND.svg)|![](https://upload.wikimedia.org/wikipedia/commons/3/3f/NOT_from_NAND.svg)|\n"
   ]
  },
  {
   "cell_type": "markdown",
   "id": "23ba7d08-962e-476c-95e8-24044218bc3b",
   "metadata": {
    "editable": true,
    "slideshow": {
     "slide_type": ""
    },
    "tags": []
   },
   "source": [
    "## Famílies lògiques\n",
    "\n",
    "Una família lògica és una implementació de les portes lògiques amb transistors (algunes també fan servir diodes) amb una tensió d'alimentació i uns nivells lògics compatibles. Veiem uns exemples molt típics:\n",
    "\n",
    "| Tecnologia | L | H | Tensió d'alimentació|\n",
    "| :---- |:---:|:---:|:---:|\n",
    "|[TTL](https://archive.org/details/bitsavers_tiTexasInsSeriesMorrisDesigningWithTTLIntegratedCi_11927910/mode/2up)|0 V a 0,8 V|2 V a V <sub>CC</sub>|V <sub>CC</sub> = 5 V|\n",
    "| [CMOS](https://archive.org/details/1983-rca-cmos-ic-databook/mode/2up) |0 V a 30% V <sub>DD</sub>|70% V <sub>DD</sub> a V <sub>DD</sub>|[V <sub>DD</sub>](https://en.wikipedia.org/wiki/IC_power-supply_pin#CMOS)|\n",
    "\n",
    "Si bé podríem implementar una porta NAND amb només 2 transistors (com efectivament es fa a la família lògica NMOS), aquesta compatibilitat necèssaria de nivells lògics i tensions d'alimentació obliguen a adaptar els dissenys a cada família. Al simulador podeu veure diverses implementacions a *Circuiits -> Logic families*"
   ]
  },
  {
   "cell_type": "code",
   "execution_count": 6,
   "id": "64a361ba-2705-4cd3-9d6d-87ddb2ebc3b7",
   "metadata": {
    "editable": true,
    "slideshow": {
     "slide_type": ""
    },
    "tags": [
     "hide-input"
    ]
   },
   "outputs": [
    {
     "data": {
      "text/html": [
       "<iframe src=\"https://www.falstad.com/circuit/circuitjs.html?ctz=CQAgjCAMB0l3BWcMBMcUHYMGZIA4UA2ATmIxAQBYKLIKBTAWjDACgAzETFLla7bIV7VqYaEhiQUrAO4gBQsJX6DwGIZFnzVYddqFo8UVgFl9aoZTgWoXcRy4YeKPEYVdXIUeKixpc9z46QKdjAHNzXBUhdzpNOSCQPGDVZOMA1JTFMB5NACUuKyS6XSE0uK86CVsYBC1SjyNuRuMAGUdnPnAc4VsIdgBDABsAZ3oaTXaGlyMWZ08SkEHR8YlWACdzOa3lWwR4ViA\"  width=\"800\" height=\"800\"></iframe>\n"
      ],
      "text/plain": [
       "<IPython.core.display.HTML object>"
      ]
     },
     "metadata": {},
     "output_type": "display_data"
    }
   ],
   "source": [
    "%%html\n",
    "<iframe src=\"https://www.falstad.com/circuit/circuitjs.html?ctz=CQAgjCAMB0l3BWcMBMcUHYMGZIA4UA2ATmIxAQBYKLIKBTAWjDACgAzETFLla7bIV7VqYaEhiQUrAO4gBQsJX6DwGIZFnzVYddqFo8UVgFl9aoZTgWoXcRy4YeKPEYVdXIUeKixpc9z46QKdjAHNzXBUhdzpNOSCQPGDVZOMA1JTFMB5NACUuKyS6XSE0uK86CVsYBC1SjyNuRuMAGUdnPnAc4VsIdgBDABsAZ3oaTXaGlyMWZ08SkEHR8YlWACdzOa3lWwR4ViA\"  width=\"800\" height=\"800\"></iframe>"
   ]
  },
  {
   "cell_type": "markdown",
   "id": "5a37ebb5-3467-4494-b285-b7452b2e6772",
   "metadata": {
    "editable": true,
    "slideshow": {
     "slide_type": ""
    },
    "tags": []
   },
   "source": [
    "A un circuit integrat CMOS una porta NAND té la següent estructura a l'oblea de silici:\n",
    "\n",
    "![](https://upload.wikimedia.org/wikipedia/commons/8/8f/CMOS_NAND_Layout.svg)"
   ]
  },
  {
   "cell_type": "markdown",
   "id": "f7a2b9c1-ddf9-42f7-8711-a2544840ac29",
   "metadata": {
    "editable": true,
    "slideshow": {
     "slide_type": ""
    },
    "tags": []
   },
   "source": [
    "## Productes comercials\n",
    "\n",
    "| Porta lògica | C.I. TTL | pin-out | C.I. CMOS | pin-out |\n",
    "| :---: | :---: | :---: | :---: | :---: |\n",
    "| NOT | [74LS04](http://www.jorts.net/jupbook/pdf/sn74ls04.pdf)| ![](img/Control/74LS04.jpg) |  [CD4049](http://www.jorts.net/jupbook/pdf/cd4050b.pdf)| ![](img/Control/cd4049.jpg) | \n",
    "| AND | [74LS08](http://www.jorts.net/jupbook/pdf/sn74ls08.pdf)| ![](img/Control/74LS08.jpg) |  [CD4081](http://www.jorts.net/jupbook/pdf/cd4081b.pdf)| ![](img/Control/cd4081.jpg) | \n",
    "| OR | [74LS32](http://www.jorts.net/jupbook/pdf/sn74ls32.pdf)| ![](img/Control/74LS32.jpg) |  [CD4071](http://www.jorts.net/jupbook/pdf/cd4071.pdf)| ![](img/Control/cd4071.jpg) | \n",
    "| NOR | [74LS02](http://www.jorts.net/jupbook/pdf/sn74ls02.pdf)| ![](img/Control/74LS02.jpg) |  [CD4001](http://www.jorts.net/jupbook/pdf/cd4001.pdf)| ![](img/Control/cd4001.jpg) | \n",
    "| NAND | [74LS00](http://www.jorts.net/jupbook/pdf/sn74ls00.pdf)| ![](img/Control/74LS00.jpg) |  [CD4011](http://www.jorts.net/jupbook/pdf/cd4011b.pdf)| ![](img/Control/cd4011.jpg) | \n",
    "| XOR | [74LS86](http://www.jorts.net/jupbook/pdf/sn74ls86.pdf)| ![](img/Control/74LS86.jpg) |  [CD4070](http://www.jorts.net/jupbook/pdf/cd4070b.pdf)| ![](img/Control/cd4070.jpg) | \n",
    "\n"
   ]
  },
  {
   "cell_type": "markdown",
   "id": "024ff9e7-9b3a-4bd4-9e4c-57bdd585ee83",
   "metadata": {
    "editable": true,
    "slideshow": {
     "slide_type": ""
    },
    "tags": []
   },
   "source": [
    "## Dispositius programables: PAL, GAL, FPGA.\n",
    "\n",
    "També podem treballar amb dispositius programables que permeten introduir la nostra funció lògica.\n",
    "\n",
    "Els mé simples són les [PAL](https://en.wikipedia.org/wiki/Programmable_Array_Logic) (Programmable Array Logic) on tens un minterm amb tots els termes possibles i aplicant un voltatge superior al d'alimentació cremes uns fussibles que eliminen els termes no dessitjats de la funció:\n",
    "\n",
    "![](img/Control/Programmable_Logic_Device.svg)\n",
    "\n",
    "Les [GAL](https://ca.wikipedia.org/wiki/Matriu_l%C3%B2gica_gen%C3%A8rica) (Generic Array Logic) van ser un pas endavant: es poden reprogramar i es poden configurar els pins com a entrada o sortida. Malgrat es va considerar un producte obsolet fa uns anys alguns fabricants han tornat a fabricar aquests xips, com és el cas del [GAL22V10](http://www.jorts.net/jupbook/pdf/gal22v10d.pdf), donada la seva demanda.\n",
    "\n",
    "![](img/Control/gal22v10OLMC.png)\n",
    "\n",
    "\n",
    "Els més sofisticats són les [FPGA](https://en.wikipedia.org/wiki/Field-programmable_gate_array) (field-programmable gate array), que es poden reprogramar. Avui en dia podem trobar FPGAs amb 50 milions de portes lògiques integrats.\n",
    "\n",
    "Un exemple utilitzat a la docència i al món maker és el xip [iCE40HX4K-TQ144](https://www.mouser.es/ProductDetail/Lattice/iCE40HX4K-TQ144?qs=F9A14TELRMvGNTZXkNDuOw%3D%3D), que porta 3520 elements lògics integrats i que és el cor de la placa [Alhambra II](https://github.com/FPGAwars/Alhambra-II-FPGA), que es pot programar amb l'entorn lliure [icestudio](https://icestudio.io/) i té un factor de forma Arduino UNO. Amb aquest entorn és possible reproduir un microprocessador [Z80](https://github.com/Obijuan/Z80-FPGA) o una [rèplica](https://github.com/Obijuan/ACC/wiki) de la CPU de l'ordinador de navegació que va aterrar l'Apolo XI a la lluna.\n",
    "\n",
    "![](img/Control/Alhambra-II.jpg)\n",
    "\n",
    "\n"
   ]
  },
  {
   "cell_type": "code",
   "execution_count": null,
   "id": "0a50279d-ca50-45e8-adae-16548936c907",
   "metadata": {},
   "outputs": [],
   "source": []
  }
 ],
 "metadata": {
  "kernelspec": {
   "display_name": "venvPy3",
   "language": "python",
   "name": "venvpy3"
  },
  "language_info": {
   "codemirror_mode": {
    "name": "ipython",
    "version": 3
   },
   "file_extension": ".py",
   "mimetype": "text/x-python",
   "name": "python",
   "nbconvert_exporter": "python",
   "pygments_lexer": "ipython3",
   "version": "3.10.12"
  }
 },
 "nbformat": 4,
 "nbformat_minor": 5
}