{
 "cells": [
  {
   "cell_type": "markdown",
   "id": "7df2f400-65dd-4ff5-a83c-0669f20bf51c",
   "metadata": {
    "editable": true,
    "slideshow": {
     "slide_type": ""
    },
    "tags": []
   },
   "source": [
    "# Energia tèrmica"
   ]
  },
  {
   "cell_type": "markdown",
   "id": "8a581ac3-d120-4134-9d99-659e99ccb10b",
   "metadata": {
    "editable": true,
    "slideshow": {
     "slide_type": ""
    },
    "tags": []
   },
   "source": [
    "```{admonition} Pàgina en desenvolupament\n",
    "Encara estem treballant en aquest document.   \n",
    "Esperem oferir-vos properament el seu contingut.   \n",
    "Disculpeu les molèsties.\n",
    "```"
   ]
  },
  {
   "cell_type": "markdown",
   "id": "1cf43bdc-c24f-4105-8c08-34aff8ee7793",
   "metadata": {},
   "source": [
    "Ja hem comentat que la calor és una forma d'energia. La calor, en realitat, és el moviment microscòpic desordenat d'àtoms, molècules i d'altres partícules. El moviment brownià n'és un exemple, que va ser explicat satisfactòriament per Einstein en un dels seus millors articles.\n",
    "\n",
    "## Conducció, convecció i radiació\n",
    "Quan escalfem un pot ple d'aigua les molècules d'acer del pot en contacte amb l'aigua vibren i transmeten aquesta vibració a les molècules d'aigua per conducció.  El mateix passa quan agafem amb la mà alguna cosa calenta.\n",
    "\n",
    "Si continuem escalfant aquest mecanisme és insuficient per dissipar la calor a l'aigua i es produeixen al fluid uns corrents de convecció que pugen i baixen en l'ebullició de l'aigua. El mateix passa a l'atmosfera amb els vents i huracans.\n",
    "\n",
    "Si continuem escalfant fin evaporar tota l'aigua veure que el metall del pot passa a un color vermell. Potser costaria molt fer això a un pot, però que ho aconseguiries amb la punta d'una agulla. La calor es transmet per radiació. És el principi de funcionament del sistemes de visió nocturna, sensibles a les  radiacions infraroges.\n",
    "\n",
    "## Escalfament d'un objecte \n",
    "Si deixem un got amb gel sobre la taula observem que el got agafa calor de l'ambient i veurem una barreja de gel i aigua. Si el deixem agafar més calor, tot el gel es converteix en aigua i aquesta es va escalfant fins, que després d'un temps, agafa la temperatura de l'entorn.\n",
    "\n",
    "Quan es tracta d'una substancia pura, el canvi d'estat sòlid-líquid es produeix a una temperatura constant i requereix una calor\n",
    "\n",
    "$Q = m \\ L_f$\n",
    "\n",
    "on $L_f$ és la calor latent de fusió de la substància\n",
    "\n",
    "El mateix passa amb la resta de canvis d'estat.\n",
    "\n",
    "Per escalfar l'aigua un increment de temperatura ΔT es necessita una calor\n",
    "\n",
    "$Q = m \\ C_e \\ \\Delta T$\n",
    "\n",
    "on $C_e$ és la calor específica de la substància\n"
   ]
  },
  {
   "cell_type": "code",
   "execution_count": null,
   "id": "847214f9-89d0-4fff-9dd3-698cc4e01944",
   "metadata": {},
   "outputs": [],
   "source": []
  }
 ],
 "metadata": {
  "kernelspec": {
   "display_name": "venvPy3",
   "language": "python",
   "name": "venvpy3"
  },
  "language_info": {
   "codemirror_mode": {
    "name": "ipython",
    "version": 3
   },
   "file_extension": ".py",
   "mimetype": "text/x-python",
   "name": "python",
   "nbconvert_exporter": "python",
   "pygments_lexer": "ipython3",
   "version": "3.10.12"
  }
 },
 "nbformat": 4,
 "nbformat_minor": 5
}