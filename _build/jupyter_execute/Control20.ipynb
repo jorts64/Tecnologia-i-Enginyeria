{
 "cells": [
  {
   "cell_type": "markdown",
   "id": "7df2f400-65dd-4ff5-a83c-0669f20bf51c",
   "metadata": {
    "editable": true,
    "slideshow": {
     "slide_type": ""
    },
    "tags": []
   },
   "source": [
    "# Microcontroladors"
   ]
  },
  {
   "cell_type": "markdown",
   "id": "8a581ac3-d120-4134-9d99-659e99ccb10b",
   "metadata": {
    "editable": true,
    "slideshow": {
     "slide_type": ""
    },
    "tags": []
   },
   "source": [
    "```{admonition} Pàgina en desenvolupament\n",
    "Encara estem treballant en aquest document.   \n",
    "Esperem oferir-vos properament el seu contingut.   \n",
    "Disculpeu les molèsties.\n",
    "```"
   ]
  },
  {
   "cell_type": "markdown",
   "id": "c3bd0346-459f-4908-958a-be3ba675f169",
   "metadata": {},
   "source": [
    "Segons la [Viquipèdia](https://ca.wikipedia.org/wiki/Microcontrolador)\n",
    ">Un microcontrolador (abreujat µC, uC o MCU) és un petit ordinador en un sol circuit integrat especialitzat a controlar equips electrònics, que inclou una CPU (unitat central de processament), una petita quantitat de memòria, unitats d'E/S (Entrada/Sortida) i acostuma a portar una memòria FRAM, NOR flash o una ROM per guardar-hi el programa.\n",
    "\n",
    "Com veieu integra un microprocessador o CPU. Podem dir que un microcontrolador és com un petit ordinador en un xip. \n",
    "\n",
    "De vegades aquest microcontrolador es comercialitza en un mòdul que incorpora algun components auxiliars, com ara una memòria flash, una interfície USB/sèrie, una antena WiFi en PCB... És el cas del *ESP12F* del *Wemos D1 mini*, que porta un microcontrolador [ESP8266](https://ca.wikipedia.org/wiki/ESP8266). En aquest cas parlem d'un [SoC](https://ca.wikipedia.org/wiki/SoC) (System-on-a-chip)\n",
    "\n"
   ]
  },
  {
   "cell_type": "markdown",
   "id": "b1f34f9e-e960-4d66-9907-58626c2dc64a",
   "metadata": {},
   "source": [
    "## ATtiny85\n",
    "\n",
    "Per veure els diferents components d'un microcontrolador he escolit el [ATtiny85](http://www-jorts.net/jupbook/pdf/ATtiny85.pdf), un modern i petit microcontrolador de 8 bits que es pot [programar](https://projecthub.arduino.cc/alaspuresujay/use-an-attiny85-with-arduino-ide-d847c5) amb l'*Arduino IDE*.\n",
    "\n",
    "![](img/Control/uC01.png)\n",
    "\n",
    "**Característiques:**\n",
    "* Arquitectura RISC: 120 instruccions, 32x8 registres de propòsit general.\n",
    "* Memòries de programa i dades no volàtils: 8 KB memòria de programa flash (10 000 cicles w/E); 512 bytes EEPROM (100 000 cicles W/E).\n",
    "* 512 bytes SRAM\n",
    "* Temporitzador/comptador de 8 bits i dos canals PWM\n",
    "* Temporitzador/comptador d'alta velocitat i 2 canals PWM d'alta freqüència\n",
    "* Interfície Sèrie Universal (USI)\n",
    "* ADC de 10 bits, multiplexat a 4 canals\n",
    "* Watchdog programable\n",
    "* 6 pins I/O programables\n",
    "* Oscil·lador intern calibrat\n",
    "\n",
    "Aquest és el seu diagrama de blocs:\n",
    "\n",
    "![](img/Control/uC02.png)\n",
    "\n",
    "Anem a veure que vol dir tot això"
   ]
  },
  {
   "cell_type": "markdown",
   "id": "9432e30b-f136-4748-9199-8b722ed43952",
   "metadata": {},
   "source": [
    "## Arquitectura RISC\n",
    "\n",
    "L'arquitectura computacional descriu l'estructura operacional fonamental del microprocessador. Tenim diferents tipus: [Harvard](https://ca.wikipedia.org/wiki/Arquitectura_Harvard), [von Neumann](https://ca.wikipedia.org/wiki/Arquitectura_de_von_Neumann), [CISC](https://ca.wikipedia.org/wiki/CISC), [RISC](https://ca.wikipedia.org/wiki/RISC)... \n",
    "\n",
    "Un microcontrolador RISC reconeix un nombre reduït d'instruccions de codi màquina. Utilitzen menys transistors, són més barats, més ràpids i dissipen menys calor.\n"
   ]
  },
  {
   "cell_type": "markdown",
   "id": "0ae600f4-ab41-43d1-9997-6775f4a5c243",
   "metadata": {},
   "source": [
    "## Registres de propòsit general\n",
    "\n",
    "Els GPRs (General Purpose Registers) poden guardar tant dades com adreces. L'Attiny85 en té 32 bytes, però podem accedir individualment a cada bit.\n",
    "\n",
    "Aquests registres es poden connectar amb l'[ALU](https://ca.wikipedia.org/wiki/Unitat_aritmeticol%C3%B2gica) o **Unitat Aritmètica Lògica**.\n",
    "\n",
    "En el cas de l'ATtiny85 els darrers 6 GPRs estan agrupats en parelles (X, Y, Z) de 16 bits i permeten adreçar indirectament l'espai de dades.  \n",
    "\n",
    "Altres registres tenen un ús específic, com el registre *SP* (Stack Pointer). Format per la parella *SPH* i *SPL* que gestionen la [pila](https://ca.wikipedia.org/wiki/Mem%C3%B2ria_en_pila_(estructura_de_dades)) on s'emmagatzenen dades i adreces de retorn per [interrupcions](https://ca.wikipedia.org/wiki/Interrupci%C3%B3) i subrutines.\n",
    "\n",
    "Un dels registres més importants d'un microcontrolador és el registre d'estat *SREG*\n",
    "\n",
    "![](img/Control/uC03.png)\n",
    "\n",
    "| bit | | Nom | Funció |\n",
    "|:---:|:---:|:---|:---|\n",
    "| 7 | I | Global Interrupt Enable | Habilita les interrupcions |\n",
    "| 6 | T | Bit Copy Storage | Memòria intermèdia en la còpia de bits |\n",
    "| 5 | H | Half Carry Flag | transport o prestat aritmètic a partir del nibble més baix |\n",
    "| 4 | S | Sign Bit | s'activa en determinades operacions |\n",
    "| 3 | V | Two’s Complement Overflow Flag | s'activa quan el resultat excedeix un byte |\n",
    "| 2 | N | Negative Flag | indica un resultat negatiu |\n",
    "| 1 | Z | Zero Flag | s'activa quan l'operació dona zero |\n",
    "| 0 | C | Carry Flag | transport o prestat aritmètic |\n",
    "\n",
    "\n"
   ]
  },
  {
   "cell_type": "markdown",
   "id": "f3c1d69e-3759-4ae2-a352-3ad5b19ac68b",
   "metadata": {},
   "source": [
    "## Memòria no volàtil\n",
    "\n",
    "Típicament memòries EEPROM o flash EEPROM on es desa el programa i les dades. Es degraden en el procés d'escriptura i esborrat (W/E).\n",
    "\n",
    "Les memòries [flash](https://ca.wikipedia.org/wiki/Mem%C3%B2ria_flaix) són més barates i grans, però es degraden més ràpidament. A més a més s'escriuen i esborren en blocs, en el cas de l'ATtiny de 64 bytes, incrementant aquest fenòmen."
   ]
  },
  {
   "cell_type": "markdown",
   "id": "2385e771-dfce-497a-9338-646d9795b5ef",
   "metadata": {},
   "source": [
    "## Memòria RAM\n",
    "\n",
    "Els microcontroladors tenen una memòria RAM molt limitada. \n",
    "\n",
    "Les memòries [RAM](https://ca.wikipedia.org/wiki/Mem%C3%B2ria_d%27acc%C3%A9s_aleatori) poden ser de dos tipus:\n",
    "* **SRAM**, *estàtiques* : manté el seu contingut inalterat mentre es mantingui alimentada elèctricament. Utilitzen biestables per emmagatzenar els bits.\n",
    "* **DRAM**, *dinàmiques*: cal refrecar el contingut de la memòria ja que es degrada amb el temps: típicament els bits s'emmagatzemen en condensadors, més barat. La complexitat d'aquest procés de refresc les descarta per als microcontroladors."
   ]
  },
  {
   "cell_type": "markdown",
   "id": "2b62bb7e-b360-4cf5-be96-1f5bb9b9c99c",
   "metadata": {},
   "source": [
    "## Temporitzador/comptador de 8 bits i dos canals PWM\n",
    "\n",
    "![](img/Control/uC04.png)\n",
    "\n",
    "L'Attiny té dos comptadors, que es poden decrementar o incrementar amb un senyal de rellotge.\n",
    "\n",
    "* Si utilitzem com a rellotge el CLK del sistema, actuen com a temporitzadors. Així podem mesurar el temps transcorregut o generar un senyal PWM.\n",
    "* Si utilitzem un senyal extern (pin T0) actuen com a comptadors.\n",
    "\n",
    "Com el rellotge del sistema és molt ràpid, tipicament s'utilitza un prescaler que divideix el CLK per 8, 64, 256 o 1024.\n",
    "\n"
   ]
  },
  {
   "cell_type": "markdown",
   "id": "6e7f2181-3326-4b07-9175-ba2645ef7b72",
   "metadata": {},
   "source": [
    "## USI: interfície sèrie universal\n",
    "\n",
    "Permet comunicar el microcontrolador amb altres dispositius per enllaç sèrie. Tenim diferents configuracions:\n",
    "\n",
    "### SPI\n",
    "\n",
    "El bus [SPI](https://ca.wikipedia.org/wiki/Serial_Peripheral_Interface) utilitza tres pins: rellotge (USCK), entrada (DI) i sortida (DO). Es tracta d'una comunicació síncrona full-duplex, on les dades es llegeixen de DI en el flanc de pujada de USCK i s'escriuen a DO en el flanc de baixada.\n",
    "\n",
    "![](img/Control/uC05.png)\n",
    "\n",
    "### I2C\n",
    "\n",
    "Utilitza 2 pins: SCL (rellotge) i SDA (dades). Les connexions són de drenador obert amb pull-ups, permeten conectar diferents dispositius al mateix bus.\n",
    "\n",
    "![](img/Control/uC06.png)\n",
    "\n",
    "Els paquets [I2C](https://ca.wikipedia.org/wiki/I%C2%B2C) s'inicien amb una capcelera que indica l'adreça del dispositiu a que va dirigit la transmissió. Com el darrer bit d'aquesta capcelera indica si la transmissió és de lectura o escriptura, podem comunicar-nos amb 128 dispositius pel mateix bus.\n",
    "\n",
    "![](img/Control/uC07.png)\n",
    "\n",
    "### UART\n",
    "\n",
    "Utilitza 2 pins configurables per la transmissió asíncrona, un per a cada sentit.\n"
   ]
  },
  {
   "cell_type": "markdown",
   "id": "99be8db9-a82d-424f-a555-4e8fea45c9ba",
   "metadata": {},
   "source": [
    "## ADC\n",
    "\n",
    "Un ADC o convertidor analògic-digital ens permet tenir un valor digital, en aquet cas en el rang 0-1023, proporcional a a tensió mesurada en un pin.\n",
    "\n",
    "Normalment els microcontroladors tenen només un bloc ADC, però poden mesurar diferents pins gràcies al multiplexat.\n",
    "\n",
    "![](img/Control/uC08.png)\n",
    "\n",
    "Per mesurar la tensió d'entrada s'utilitza un algorisme d'aproximacions succesives on la tensió d'entrada es compara amb el senyal generat per un DAC, conversor digital analògic. Un DAC és relativament fàcil d'implementar amb un operacional i unes resistències. Amb un comparador es detecta si el senyal d'entrada és superior o inferior al generat.\n",
    "\n",
    "Al simulador podeu veure una implementació d'un DAC de 4 bits (LSB a l'esquerra, MSB a la dreta) amb un convertidor d'escala R-2R\n"
   ]
  },
  {
   "cell_type": "code",
   "execution_count": 1,
   "id": "879ab439-0107-4de7-8fe7-5fd640b018f2",
   "metadata": {
    "editable": true,
    "slideshow": {
     "slide_type": ""
    },
    "tags": [
     "hide-input"
    ]
   },
   "outputs": [
    {
     "data": {
      "text/html": [
       " <iframe src=\"https://www.falstad.com/circuit/circuitjs.html?ctz=CQAgjCAMB0l3BWEAWWB2AHAtaDMCEBOXE3DEANmRCQUhoFMBaMMAKDAvtwCZxlqvED2T16PemHjT4HLuDB8wAhXxFjhkmTLmTCSlWH3DRUTeG3S2Ac3AUTk+zwzkxNkISenPwl2cjuYGheksG+rlBsAO4o5EZ8VODGATHI5Oqxwgj2KZk82eDOWTnRhekFiummuZXFmuUlMRIN9Q6RMYnxlIIS7WVJBtRdNYbGyj1uTZBxxjwiA31zQ7PzvG4AMt0ga1v4fBoAZgCGADYAzgw0kZvj2723e-4gx+eXSAGbS3fiqwj7Zi8LlcAgAnO78HogDAaKRWMGsQaqKEwnTwsajPjQsyw2RgoRYhHIsx0XFIgnGLH0ElwNgAeRQnC2aXonXAbDxkGoLHsyEZ3OJVlsuE5EO2IqCOUiRzF1ESvPsiTi9BYWhk22gRkImAkkH0dEweGYhHVmrQ+jgGFwhEICAwYAQRosqPBWKYaSJVLhIDd5Fd7tuqtknGV-pUPra4kDllKTCEXX5wxjjPjjJ2AVsTESGUz1GcEQ+3tTvX5j0OpyB7zYACVC4o6tzxAUNKYeNAm-42zGhNnu02u2oCu78o0ZYX7MLqO7cvKxwyFdRQaOHiLKU7SSnxyL+eJ8MLAsYE2NJYuWEVbqffSjBYWz2HahL-Emin7L30uliJx6k3Xh97eyUgA\" width=\"800\" height=\"600\"></iframe>\n"
      ],
      "text/plain": [
       "<IPython.core.display.HTML object>"
      ]
     },
     "metadata": {},
     "output_type": "display_data"
    }
   ],
   "source": [
    "%%html\n",
    " <iframe src=\"https://www.falstad.com/circuit/circuitjs.html?ctz=CQAgjCAMB0l3BWEAWWB2AHAtaDMCEBOXE3DEANmRCQUhoFMBaMMAKDAvtwCZxlqvED2T16PemHjT4HLuDB8wAhXxFjhkmTLmTCSlWH3DRUTeG3S2Ac3AUTk+zwzkxNkISenPwl2cjuYGheksG+rlBsAO4o5EZ8VODGATHI5Oqxwgj2KZk82eDOWTnRhekFiummuZXFmuUlMRIN9Q6RMYnxlIIS7WVJBtRdNYbGyj1uTZBxxjwiA31zQ7PzvG4AMt0ga1v4fBoAZgCGADYAzgw0kZvj2723e-4gx+eXSAGbS3fiqwj7Zi8LlcAgAnO78HogDAaKRWMGsQaqKEwnTwsajPjQsyw2RgoRYhHIsx0XFIgnGLH0ElwNgAeRQnC2aXonXAbDxkGoLHsyEZ3OJVlsuE5EO2IqCOUiRzF1ESvPsiTi9BYWhk22gRkImAkkH0dEweGYhHVmrQ+jgGFwhEICAwYAQRosqPBWKYaSJVLhIDd5Fd7tuqtknGV-pUPra4kDllKTCEXX5wxjjPjjJ2AVsTESGUz1GcEQ+3tTvX5j0OpyB7zYACVC4o6tzxAUNKYeNAm-42zGhNnu02u2oCu78o0ZYX7MLqO7cvKxwyFdRQaOHiLKU7SSnxyL+eJ8MLAsYE2NJYuWEVbqffSjBYWz2HahL-Emin7L30uliJx6k3Xh97eyUgA\" width=\"800\" height=\"600\"></iframe>"
   ]
  },
  {
   "cell_type": "markdown",
   "id": "d5802b63-2ec9-4028-b0d7-1876947823e8",
   "metadata": {},
   "source": [
    "## Watchdog\n",
    "\n",
    "És un circuit temporitzador que provoca un reset del microcontrolador si es bloqueja degut a alguna condició de fallada, normalment un error en el codi. \n",
    "\n",
    "![](img/Control/uC08.png)\n",
    "\n",
    "Quan el programa s'executa normalment el comptador del watcdog es reseteja constantment, per exemple amb l'ordre *delay()*. Si no es reseteja el comptador arriba al valor màxim i fa un reset del microcontrlador. El microcontrolador torna a ser operatiu i surt del bloqueig.\n"
   ]
  },
  {
   "cell_type": "markdown",
   "id": "a415afb9-5f95-47e1-a461-6e0dd50a250a",
   "metadata": {},
   "source": [
    "## Pins I/O\n",
    "\n",
    "Els pins d'entrada/sortida permeten llegir i escriure valors digitals. Normalment  es pot seleccionar la direcció d'entrada o sortida i moltes vegades tenen pull-ups programables. \n",
    "\n",
    "![](img/Control/uC10.png)"
   ]
  },
  {
   "cell_type": "markdown",
   "id": "04c42091-bf76-4298-a239-8eb35f7c468f",
   "metadata": {},
   "source": [
    "## Oscil·lador intern\n",
    "\n",
    "Encara que la majoria de microcontroladors poden utilitzar un cristall extern com a referència per generar el rellotge del sistema, normalment s'utilitza un oscil·lador intern. No és tan precís, però deixa lliure els dos pins de l'oscil·lador intern per a altres connexions.\n",
    "\n",
    "![](img/Control/uC11.png)\n",
    "\n"
   ]
  },
  {
   "cell_type": "code",
   "execution_count": null,
   "id": "1fc0cb42-dc69-48e2-a24b-126d23165c44",
   "metadata": {},
   "outputs": [],
   "source": []
  }
 ],
 "metadata": {
  "kernelspec": {
   "display_name": "venvPy3",
   "language": "python",
   "name": "venvpy3"
  },
  "language_info": {
   "codemirror_mode": {
    "name": "ipython",
    "version": 3
   },
   "file_extension": ".py",
   "mimetype": "text/x-python",
   "name": "python",
   "nbconvert_exporter": "python",
   "pygments_lexer": "ipython3",
   "version": "3.10.12"
  }
 },
 "nbformat": 4,
 "nbformat_minor": 5
}