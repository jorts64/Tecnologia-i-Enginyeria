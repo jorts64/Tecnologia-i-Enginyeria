{
 "cells": [
  {
   "cell_type": "markdown",
   "metadata": {},
   "source": [
    "# Circuits AC"
   ]
  },
  {
   "cell_type": "markdown",
   "metadata": {
    "editable": true,
    "slideshow": {
     "slide_type": ""
    },
    "tags": []
   },
   "source": [
    "## Estudi d'un circuit RC sèrie"
   ]
  },
  {
   "cell_type": "markdown",
   "metadata": {
    "editable": true,
    "slideshow": {
     "slide_type": ""
    },
    "tags": []
   },
   "source": [
    "Tornem al nostre circuit d'exemple. Ara trobarem tots els resultats disponibles de forma sistemàtica.\n",
    "\n",
    ">Un circuit sèrie amb una resistència $R = 10 \\ \\Omega$ i un condensador $C = 162,48 \\ \\mu F$ està connectat a una xarxa monofàsica $U = 200 V$ i $f = 50 Hz$"
   ]
  },
  {
   "cell_type": "markdown",
   "metadata": {},
   "source": [
    "$$\n",
    "\\begin{matrix}\n",
    "X_{C} = \\frac{-j}{C \\omega} &\n",
    "\\omega = 2 \\pi f &\n",
    "Z = R + X_{C}\n",
    "\\\\\n",
    "\\end{matrix}\n",
    "$$"
   ]
  },
  {
   "cell_type": "code",
   "execution_count": 1,
   "metadata": {
    "editable": true,
    "slideshow": {
     "slide_type": ""
    },
    "tags": [
     "hide-input"
    ]
   },
   "outputs": [],
   "source": [
    "import numpy as np\n",
    "import matplotlib.pyplot as plt"
   ]
  },
  {
   "cell_type": "markdown",
   "metadata": {
    "editable": true,
    "slideshow": {
     "slide_type": ""
    },
    "tags": []
   },
   "source": [
    "### Dades"
   ]
  },
  {
   "cell_type": "code",
   "execution_count": 2,
   "metadata": {
    "editable": true,
    "slideshow": {
     "slide_type": ""
    },
    "tags": []
   },
   "outputs": [],
   "source": [
    "R = 10\n",
    "C = 162.48 * 10**(-6)\n",
    "U = 220\n",
    "f = 50\n",
    "w = 2 * np.pi * f"
   ]
  },
  {
   "cell_type": "markdown",
   "metadata": {
    "editable": true,
    "slideshow": {
     "slide_type": ""
    },
    "tags": []
   },
   "source": [
    "### Càlcul de les impedàncies"
   ]
  },
  {
   "cell_type": "code",
   "execution_count": 3,
   "metadata": {
    "editable": true,
    "slideshow": {
     "slide_type": ""
    },
    "tags": []
   },
   "outputs": [
    {
     "data": {
      "text/plain": [
       "-19.590711852769j"
      ]
     },
     "execution_count": 3,
     "metadata": {},
     "output_type": "execute_result"
    }
   ],
   "source": [
    "Xc = 0 -1j/(C*w)\n",
    "Xc"
   ]
  },
  {
   "cell_type": "markdown",
   "metadata": {},
   "source": [
    "$X_{C} = 19.59_{-90^{\\circ}} \\ \\Omega$"
   ]
  },
  {
   "cell_type": "code",
   "execution_count": 4,
   "metadata": {},
   "outputs": [
    {
     "data": {
      "text/plain": [
       "(10-19.590711852769j)"
      ]
     },
     "execution_count": 4,
     "metadata": {},
     "output_type": "execute_result"
    }
   ],
   "source": [
    "Z = R + Xc\n",
    "Z"
   ]
  },
  {
   "cell_type": "code",
   "execution_count": 5,
   "metadata": {},
   "outputs": [
    {
     "data": {
      "text/plain": [
       "21.995362940816044"
      ]
     },
     "execution_count": 5,
     "metadata": {},
     "output_type": "execute_result"
    }
   ],
   "source": [
    "modZ = np.abs(Z)\n",
    "modZ"
   ]
  },
  {
   "cell_type": "code",
   "execution_count": 6,
   "metadata": {
    "editable": true,
    "slideshow": {
     "slide_type": ""
    },
    "tags": []
   },
   "outputs": [
    {
     "data": {
      "text/plain": [
       "-62.958143957668284"
      ]
     },
     "execution_count": 6,
     "metadata": {},
     "output_type": "execute_result"
    }
   ],
   "source": [
    "angZ = np.degrees(np.angle(Z))\n",
    "angZ"
   ]
  },
  {
   "cell_type": "markdown",
   "metadata": {},
   "source": [
    "$Z = 22_{-62,96^{\\circ}} \\ \\Omega$"
   ]
  },
  {
   "cell_type": "code",
   "execution_count": 7,
   "metadata": {
    "editable": true,
    "slideshow": {
     "slide_type": ""
    },
    "tags": [
     "hide-input"
    ]
   },
   "outputs": [
    {
     "data": {
      "image/png": "[encoded data removed]",
      "text/plain": [
       "<Figure size 640x480 with 1 Axes>"
      ]
     },
     "metadata": {},
     "output_type": "display_data"
    }
   ],
   "source": [
    "%matplotlib inline\n",
    "\n",
    "\n",
    "plt.annotate('', xy=(np.real(Z), np.imag(Z)), xytext=(0, 0),\n",
    "             arrowprops=dict(facecolor='blue', shrink=0.05),\n",
    "             )\n",
    "\n",
    "plt.annotate('', xy=(np.real(Z), 0), xytext=(0, 0),\n",
    "             arrowprops=dict(facecolor='green', shrink=0.05),\n",
    "             )\n",
    "\n",
    "plt.annotate('', xy=(np.real(Z), np.imag(Z)), xytext=(np.real(Z), 0),\n",
    "             arrowprops=dict(facecolor='red', shrink=0.05),\n",
    "             )\n",
    "\n",
    "plt.annotate(\"$Z = 22 \\ \\Omega$\", xy=(1.5, -12))\n",
    "plt.annotate(\"$R = 10 \\ \\Omega$\", xy=(6, -3))\n",
    "plt.annotate(\"$X_{C} = 19,59 \\ \\Omega$\", xy=(11,-10))\n",
    "plt.annotate(\"$62,96^{\\circ}$\", xy=(2,-2))\n",
    "\n",
    "plt.xlim(0, 25)\n",
    "plt.ylim(-25, 0)\n",
    "plt.axis('off')\n",
    "plt.show()"
   ]
  },
  {
   "cell_type": "markdown",
   "metadata": {
    "editable": true,
    "slideshow": {
     "slide_type": ""
    },
    "tags": []
   },
   "source": [
    "### Factor de potència"
   ]
  },
  {
   "cell_type": "code",
   "execution_count": 8,
   "metadata": {
    "editable": true,
    "slideshow": {
     "slide_type": ""
    },
    "tags": []
   },
   "outputs": [
    {
     "data": {
      "text/plain": [
       "0.9920358997298501"
      ]
     },
     "execution_count": 8,
     "metadata": {},
     "output_type": "execute_result"
    }
   ],
   "source": [
    "fdp = np.cos(angZ)\n",
    "fdp"
   ]
  },
  {
   "cell_type": "markdown",
   "metadata": {
    "editable": true,
    "slideshow": {
     "slide_type": ""
    },
    "tags": []
   },
   "source": [
    "$cos(\\varphi) = 0,9920$"
   ]
  },
  {
   "cell_type": "markdown",
   "metadata": {
    "editable": true,
    "slideshow": {
     "slide_type": ""
    },
    "tags": []
   },
   "source": [
    "### Intensitat"
   ]
  },
  {
   "cell_type": "code",
   "execution_count": 9,
   "metadata": {
    "editable": true,
    "slideshow": {
     "slide_type": ""
    },
    "tags": []
   },
   "outputs": [
    {
     "data": {
      "text/plain": [
       "(4.547371291596367+8.908624066121842j)"
      ]
     },
     "execution_count": 9,
     "metadata": {},
     "output_type": "execute_result"
    }
   ],
   "source": [
    "I = U/Z\n",
    "I"
   ]
  },
  {
   "cell_type": "code",
   "execution_count": 10,
   "metadata": {},
   "outputs": [
    {
     "data": {
      "text/plain": [
       "10.00210819853095"
      ]
     },
     "execution_count": 10,
     "metadata": {},
     "output_type": "execute_result"
    }
   ],
   "source": [
    "modI = np.abs(I)\n",
    "modI"
   ]
  },
  {
   "cell_type": "code",
   "execution_count": 11,
   "metadata": {
    "editable": true,
    "slideshow": {
     "slide_type": ""
    },
    "tags": []
   },
   "outputs": [
    {
     "data": {
      "text/plain": [
       "62.958143957668284"
      ]
     },
     "execution_count": 11,
     "metadata": {},
     "output_type": "execute_result"
    }
   ],
   "source": [
    "angI = np.degrees(np.angle(I))\n",
    "angI"
   ]
  },
  {
   "cell_type": "markdown",
   "metadata": {},
   "source": [
    "$I = 10_{62,96^{\\circ}} \\ A$"
   ]
  },
  {
   "cell_type": "code",
   "execution_count": 12,
   "metadata": {
    "editable": true,
    "slideshow": {
     "slide_type": ""
    },
    "tags": [
     "hide-input"
    ]
   },
   "outputs": [
    {
     "data": {
      "image/png": "[encoded data removed]",
      "text/plain": [
       "<Figure size 640x480 with 1 Axes>"
      ]
     },
     "metadata": {},
     "output_type": "display_data"
    }
   ],
   "source": [
    "%matplotlib inline\n",
    "\n",
    "\n",
    "plt.annotate('', xy=(10*np.real(I), 10*np.imag(I)), xytext=(0, 0),\n",
    "             arrowprops=dict(facecolor='blue', shrink=0.05),\n",
    "             )\n",
    "\n",
    "plt.annotate('', xy=(U, 0), xytext=(0, 0),\n",
    "             arrowprops=dict(facecolor='green', shrink=0.05),\n",
    "             )\n",
    "\n",
    "plt.annotate(\"$I = 10 \\ A$\", xy=(50, 100))\n",
    "plt.annotate(\"$U = 220 \\  V$\", xy=(150, 10))\n",
    "plt.annotate(\"$62,96^{\\circ}$\", xy=(30,20))\n",
    "\n",
    "plt.xlim(0, 250)\n",
    "plt.ylim(0, 250)\n",
    "plt.axis('off')\n",
    "plt.show()"
   ]
  },
  {
   "cell_type": "markdown",
   "metadata": {
    "editable": true,
    "slideshow": {
     "slide_type": ""
    },
    "tags": []
   },
   "source": [
    "### Tensions"
   ]
  },
  {
   "cell_type": "code",
   "execution_count": 13,
   "metadata": {
    "editable": true,
    "slideshow": {
     "slide_type": ""
    },
    "tags": []
   },
   "outputs": [
    {
     "data": {
      "text/plain": [
       "(45.47371291596367+89.08624066121843j)"
      ]
     },
     "execution_count": 13,
     "metadata": {},
     "output_type": "execute_result"
    }
   ],
   "source": [
    "Ur = R * I\n",
    "Ur"
   ]
  },
  {
   "cell_type": "code",
   "execution_count": 14,
   "metadata": {},
   "outputs": [
    {
     "data": {
      "text/plain": [
       "100.02108198530951"
      ]
     },
     "execution_count": 14,
     "metadata": {},
     "output_type": "execute_result"
    }
   ],
   "source": [
    "modUr = np.abs(Ur)\n",
    "modUr"
   ]
  },
  {
   "cell_type": "code",
   "execution_count": 15,
   "metadata": {},
   "outputs": [
    {
     "data": {
      "text/plain": [
       "62.958143957668284"
      ]
     },
     "execution_count": 15,
     "metadata": {},
     "output_type": "execute_result"
    }
   ],
   "source": [
    "angUr = np.degrees(np.angle(Ur))\n",
    "angUr"
   ]
  },
  {
   "cell_type": "markdown",
   "metadata": {},
   "source": [
    "$U_{R} = 100_{62,96^{\\circ}} \\ V$"
   ]
  },
  {
   "cell_type": "code",
   "execution_count": 16,
   "metadata": {},
   "outputs": [
    {
     "data": {
      "text/plain": [
       "(174.52628708403634-89.08624066121843j)"
      ]
     },
     "execution_count": 16,
     "metadata": {},
     "output_type": "execute_result"
    }
   ],
   "source": [
    "Uc = Xc * I\n",
    "Uc"
   ]
  },
  {
   "cell_type": "code",
   "execution_count": 17,
   "metadata": {},
   "outputs": [
    {
     "data": {
      "text/plain": [
       "195.9484196376383"
      ]
     },
     "execution_count": 17,
     "metadata": {},
     "output_type": "execute_result"
    }
   ],
   "source": [
    "modUc = np.abs(Uc)\n",
    "modUc"
   ]
  },
  {
   "cell_type": "code",
   "execution_count": 18,
   "metadata": {},
   "outputs": [
    {
     "data": {
      "text/plain": [
       "-27.04185604233172"
      ]
     },
     "execution_count": 18,
     "metadata": {},
     "output_type": "execute_result"
    }
   ],
   "source": [
    "angUc = np.degrees(np.angle(Uc))\n",
    "angUc"
   ]
  },
  {
   "cell_type": "markdown",
   "metadata": {},
   "source": [
    "$U_{C} = 196_{-27,04^{\\circ}} \\ V$"
   ]
  },
  {
   "cell_type": "code",
   "execution_count": 19,
   "metadata": {
    "editable": true,
    "slideshow": {
     "slide_type": ""
    },
    "tags": [
     "hide-input"
    ]
   },
   "outputs": [
    {
     "data": {
      "image/png": "[encoded data removed]",
      "text/plain": [
       "<Figure size 640x480 with 1 Axes>"
      ]
     },
     "metadata": {},
     "output_type": "display_data"
    }
   ],
   "source": [
    "%matplotlib inline\n",
    "\n",
    "\n",
    "plt.annotate('', xy=(np.real(Ur), np.imag(Ur)), xytext=(0, 0),\n",
    "             arrowprops=dict(facecolor='blue', shrink=0.05),\n",
    "             )\n",
    "\n",
    "plt.annotate('', xy=(U, 0), xytext=(0, 0),\n",
    "             arrowprops=dict(facecolor='green', shrink=0.05),\n",
    "             )\n",
    "\n",
    "plt.annotate('', xy=(U, 0), xytext=(np.real(Ur), np.imag(Ur)),\n",
    "             arrowprops=dict(facecolor='red', shrink=0.05),\n",
    "             )\n",
    "\n",
    "\n",
    "plt.annotate(\"$U_{R} = 45,47 \\ V$\", xy=(0, 100))\n",
    "plt.annotate(\"$U_{C} = 174,5 \\ V$\", xy=(125, 75))\n",
    "plt.annotate(\"$U = 220 \\  V$\", xy=(100, 10))\n",
    "plt.annotate(\"$62,96^{\\circ}$\", xy=(30,20))\n",
    "\n",
    "plt.xlim(0, 250)\n",
    "plt.ylim(0, 250)\n",
    "plt.axis('off')\n",
    "plt.show()"
   ]
  },
  {
   "cell_type": "markdown",
   "metadata": {
    "editable": true,
    "slideshow": {
     "slide_type": ""
    },
    "tags": []
   },
   "source": [
    "### Potències"
   ]
  },
  {
   "cell_type": "code",
   "execution_count": 20,
   "metadata": {
    "editable": true,
    "slideshow": {
     "slide_type": ""
    },
    "tags": []
   },
   "outputs": [
    {
     "data": {
      "text/plain": [
       "(1000.4216841512007-1959.8972945468051j)"
      ]
     },
     "execution_count": 20,
     "metadata": {},
     "output_type": "execute_result"
    }
   ],
   "source": [
    "S = U * np.conj(I)\n",
    "S"
   ]
  },
  {
   "cell_type": "code",
   "execution_count": 21,
   "metadata": {
    "editable": true,
    "slideshow": {
     "slide_type": ""
    },
    "tags": []
   },
   "outputs": [
    {
     "data": {
      "text/plain": [
       "2200.463803676809"
      ]
     },
     "execution_count": 21,
     "metadata": {},
     "output_type": "execute_result"
    }
   ],
   "source": [
    "modS = np.abs(S)\n",
    "modS"
   ]
  },
  {
   "cell_type": "code",
   "execution_count": 22,
   "metadata": {
    "editable": true,
    "slideshow": {
     "slide_type": ""
    },
    "tags": []
   },
   "outputs": [
    {
     "data": {
      "text/plain": [
       "-62.958143957668284"
      ]
     },
     "execution_count": 22,
     "metadata": {},
     "output_type": "execute_result"
    }
   ],
   "source": [
    "angS = np.degrees(np.angle(S))\n",
    "angS"
   ]
  },
  {
   "cell_type": "markdown",
   "metadata": {
    "editable": true,
    "slideshow": {
     "slide_type": ""
    },
    "tags": []
   },
   "source": [
    "$S = 2200_{-62,96^{\\circ}} \\ VA$"
   ]
  },
  {
   "cell_type": "code",
   "execution_count": 23,
   "metadata": {
    "editable": true,
    "slideshow": {
     "slide_type": ""
    },
    "tags": []
   },
   "outputs": [
    {
     "data": {
      "text/plain": [
       "1000.4216841512007"
      ]
     },
     "execution_count": 23,
     "metadata": {},
     "output_type": "execute_result"
    }
   ],
   "source": [
    "P = np.real(S)\n",
    "P"
   ]
  },
  {
   "cell_type": "markdown",
   "metadata": {
    "editable": true,
    "slideshow": {
     "slide_type": ""
    },
    "tags": []
   },
   "source": [
    "$P = 1000 \\ W$"
   ]
  },
  {
   "cell_type": "code",
   "execution_count": 24,
   "metadata": {
    "editable": true,
    "slideshow": {
     "slide_type": ""
    },
    "tags": []
   },
   "outputs": [
    {
     "data": {
      "text/plain": [
       "-1959.8972945468051"
      ]
     },
     "execution_count": 24,
     "metadata": {},
     "output_type": "execute_result"
    }
   ],
   "source": [
    "Q = np.imag(S)\n",
    "Q"
   ]
  },
  {
   "cell_type": "markdown",
   "metadata": {
    "editable": true,
    "slideshow": {
     "slide_type": ""
    },
    "tags": []
   },
   "source": [
    "$Q = -1960 \\ var$"
   ]
  },
  {
   "cell_type": "code",
   "execution_count": 25,
   "metadata": {
    "editable": true,
    "slideshow": {
     "slide_type": ""
    },
    "tags": [
     "hide-input"
    ]
   },
   "outputs": [
    {
     "data": {
      "image/png": "[encoded data removed]",
      "text/plain": [
       "<Figure size 640x480 with 1 Axes>"
      ]
     },
     "metadata": {},
     "output_type": "display_data"
    }
   ],
   "source": [
    "%matplotlib inline\n",
    "\n",
    "\n",
    "plt.annotate('', xy=(np.real(S), np.imag(S)), xytext=(0, 0),\n",
    "             arrowprops=dict(facecolor='blue', shrink=0.05),\n",
    "             )\n",
    "\n",
    "plt.annotate('', xy=(np.real(S), 0), xytext=(0, 0),\n",
    "             arrowprops=dict(facecolor='green', shrink=0.05),\n",
    "             )\n",
    "\n",
    "plt.annotate('', xy=(np.real(S), np.imag(S)), xytext=(np.real(S), 0),\n",
    "             arrowprops=dict(facecolor='red', shrink=0.05),\n",
    "             )\n",
    "\n",
    "plt.annotate(\"$S = 2200 \\ VA$\", xy=(50, -1200))\n",
    "plt.annotate(\"$P = 1000 \\ W$\", xy=(500, -300))\n",
    "plt.annotate(\"$Q = -1960 \\ var$\", xy=(1100,-1000))\n",
    "plt.annotate(\"$62,96^{\\circ}$\", xy=(125,-175))\n",
    "\n",
    "plt.xlim(0, 2500)\n",
    "plt.ylim(-2500, 0)\n",
    "plt.axis('off')\n",
    "plt.show()"
   ]
  },
  {
   "cell_type": "markdown",
   "metadata": {
    "editable": true,
    "slideshow": {
     "slide_type": ""
    },
    "tags": []
   },
   "source": [
    "## Circuit RL sèrie"
   ]
  },
  {
   "cell_type": "markdown",
   "metadata": {
    "editable": true,
    "slideshow": {
     "slide_type": ""
    },
    "tags": []
   },
   "source": [
    "Els circuits RL són semblants als RC, però amb un canvi de signe de la impedància i la potència reactiva, ja que $X_L = jL\\omega$ "
   ]
  },
  {
   "cell_type": "markdown",
   "metadata": {
    "editable": true,
    "slideshow": {
     "slide_type": ""
    },
    "tags": []
   },
   "source": [
    "### PAU ELECTROTÈCNIA 2015 S2 3A (1/2)\n",
    "\n",
    "![](img/AC/PAUELEC2015S2P3A.png)"
   ]
  },
  {
   "cell_type": "markdown",
   "metadata": {
    "editable": true,
    "slideshow": {
     "slide_type": ""
    },
    "tags": []
   },
   "source": [
    "Anem a calcular els apartats **a** i **b**, que són d'un circuit RL sèrie. L'apartat **c** el comentarem més endavant.\n",
    "\n",
    "**a)**\n",
    "\n",
    "$P={A_1}^2 \\ R \\Rightarrow A_1 =\\Large \\sqrt{\\frac{P}{R}}$"
   ]
  },
  {
   "cell_type": "code",
   "execution_count": 26,
   "metadata": {
    "editable": true,
    "slideshow": {
     "slide_type": ""
    },
    "tags": []
   },
   "outputs": [
    {
     "data": {
      "text/plain": [
       "1.91049731745428"
      ]
     },
     "execution_count": 26,
     "metadata": {},
     "output_type": "execute_result"
    }
   ],
   "source": [
    "U=230\n",
    "P=365\n",
    "f=50\n",
    "R=100\n",
    "cosphi=0.83\n",
    "from numpy import pi, sqrt \n",
    "w=2*pi*f\n",
    "A1=sqrt(P/R)\n",
    "A1"
   ]
  },
  {
   "cell_type": "markdown",
   "metadata": {
    "editable": true,
    "slideshow": {
     "slide_type": ""
    },
    "tags": []
   },
   "source": [
    "$A_1=1,915 A$\n",
    "\n",
    "**b)**\n",
    "\n",
    "$P = S cos\\varphi \\Rightarrow S= \\Large \\frac{P}{cos\\varphi}$\n",
    "\n",
    "$Q=S sin\\varphi = S \\sqrt{1-sin^2\\varphi}$"
   ]
  },
  {
   "cell_type": "code",
   "execution_count": 27,
   "metadata": {
    "editable": true,
    "slideshow": {
     "slide_type": ""
    },
    "tags": []
   },
   "outputs": [
    {
     "data": {
      "text/plain": [
       "245.28149108892936"
      ]
     },
     "execution_count": 27,
     "metadata": {},
     "output_type": "execute_result"
    }
   ],
   "source": [
    "S=P/cosphi\n",
    "Q=S*sqrt(1-cosphi**2)\n",
    "Q"
   ]
  },
  {
   "cell_type": "markdown",
   "metadata": {
    "editable": true,
    "slideshow": {
     "slide_type": ""
    },
    "tags": []
   },
   "source": [
    "$Q = 245 \\ var$, potència reactiva inductiva, hem agafat el signe **+** de l'arrel\n",
    "\n",
    "$Q=A_1V_1 \\Rightarrow V_1=\\Large \\frac{Q}{A_1}$"
   ]
  },
  {
   "cell_type": "code",
   "execution_count": 28,
   "metadata": {
    "editable": true,
    "slideshow": {
     "slide_type": ""
    },
    "tags": []
   },
   "outputs": [
    {
     "data": {
      "text/plain": [
       "128.38620020454394"
      ]
     },
     "execution_count": 28,
     "metadata": {},
     "output_type": "execute_result"
    }
   ],
   "source": [
    "V1=Q/A1\n",
    "V1"
   ]
  },
  {
   "cell_type": "markdown",
   "metadata": {
    "editable": true,
    "slideshow": {
     "slide_type": ""
    },
    "tags": []
   },
   "source": [
    "$V_1 = 128,4 V$"
   ]
  },
  {
   "cell_type": "markdown",
   "metadata": {
    "editable": true,
    "slideshow": {
     "slide_type": ""
    },
    "tags": []
   },
   "source": [
    "## Circuit RLC sèrie"
   ]
  },
  {
   "cell_type": "markdown",
   "metadata": {
    "editable": true,
    "slideshow": {
     "slide_type": ""
    },
    "tags": []
   },
   "source": [
    "En aquest cas el que hem de fer es primer sumar les impedàncies de l'eix imaginari $X_C$ i $X_L$. El resultat serà una impedància reactiva equivalent,capacitiva o inductiva, segons qui guanyi. Ara ja podem treballar el circuit com un RC o RL sèrie.\n",
    "\n",
    "### Ressonància\n",
    "\n",
    "Que pasa si $X_L = X_C$? \n",
    "\n",
    "Apareix un fenòmen anomenat **ressonància**. La condició de ressonància és\n",
    "\n",
    "$X_L=X_C \\Rightarrow L\\omega=\\Large \\frac{1}{C\\omega} \\normalsize \\Rightarrow \\omega ^2 = \\Large \\frac{1}{LC} \\normalsize \\Rightarrow \\omega_R= \\Large \\frac{1}{\\sqrt{LC}}$\n",
    "\n",
    "Per a aquesta freqüencia el circuit es comporta com una resistència **R**, amb un factor de potència 1"
   ]
  },
  {
   "cell_type": "code",
   "execution_count": 29,
   "metadata": {
    "editable": true,
    "slideshow": {
     "slide_type": ""
    },
    "tags": [
     "hide-input"
    ]
   },
   "outputs": [
    {
     "data": {
      "text/html": [
       " <iframe src=\"https://www.falstad.com/circuit/circuitjs.html?ctz=CQAgjCAMB0l3BWcAWaAOZYDMYEE4xIAmBAdgDZyJk0QkFI6BTAWjDACgA3ENR9or0ZZB-EFnpQpMBNyEgiRZPLDJlYzLDx1pUaLJ59xWcvJKmNkxtf0cATvJEhkTp-0gcAxs9eCXggWlYeFxwUnQ8LDRSZDxIPDwiNBN1YM4AGxUwPydAsRYYYkhY+CICUkSsYgt7FTUfAPr3LwaUZX8FJSD4SFDs6EVyMoYEZHIsHAhC3o5Mo0V2pwWpKegxvFJsjaJ2NHZNqFr5hFMO8xWPbzOT1omLPR7QlgQBxKHkMnZKGNppjMcTLdAWIYIQiFhSBDyJtIWgqBtDgB7ZwgcjqZzxbTIGxTBQorAcZGkVHo7EJcDkGy0CCCYkE5GEElSMlYmyCdngYQcAAW4B0yA4QA\" width=\"800\" height=\"600\"></iframe>\n"
      ],
      "text/plain": [
       "<IPython.core.display.HTML object>"
      ]
     },
     "metadata": {},
     "output_type": "display_data"
    }
   ],
   "source": [
    "%%html\n",
    " <iframe src=\"https://www.falstad.com/circuit/circuitjs.html?ctz=CQAgjCAMB0l3BWcAWaAOZYDMYEE4xIAmBAdgDZyJk0QkFI6BTAWjDACgA3ENR9or0ZZB-EFnpQpMBNyEgiRZPLDJlYzLDx1pUaLJ59xWcvJKmNkxtf0cATvJEhkTp-0gcAxs9eCXggWlYeFxwUnQ8LDRSZDxIPDwiNBN1YM4AGxUwPydAsRYYYkhY+CICUkSsYgt7FTUfAPr3LwaUZX8FJSD4SFDs6EVyMoYEZHIsHAhC3o5Mo0V2pwWpKegxvFJsjaJ2NHZNqFr5hFMO8xWPbzOT1omLPR7QlgQBxKHkMnZKGNppjMcTLdAWIYIQiFhSBDyJtIWgqBtDgB7ZwgcjqZzxbTIGxTBQorAcZGkVHo7EJcDkGy0CCCYkE5GEElSMlYmyCdngYQcAAW4B0yA4QA\" width=\"800\" height=\"600\"></iframe>"
   ]
  },
  {
   "attachments": {},
   "cell_type": "markdown",
   "metadata": {
    "editable": true,
    "slideshow": {
     "slide_type": ""
    },
    "tags": []
   },
   "source": [
    "### PAU ELECTROTÈCNIA 2017 S1 P3B\n",
    "\n",
    "![](img/AC/PAUELEC2017S1P3B.png)"
   ]
  },
  {
   "cell_type": "code",
   "execution_count": 30,
   "metadata": {
    "editable": true,
    "slideshow": {
     "slide_type": ""
    },
    "tags": []
   },
   "outputs": [],
   "source": [
    "W1=500\n",
    "R=10\n",
    "XL=10\n",
    "XC=20"
   ]
  },
  {
   "cell_type": "markdown",
   "metadata": {
    "editable": true,
    "slideshow": {
     "slide_type": ""
    },
    "tags": []
   },
   "source": [
    "**a)**\n",
    "\n",
    "$W_1=R {A_1}^2 \\Rightarrow A_1=\\Large \\sqrt{\\frac{W}{R}}$"
   ]
  },
  {
   "cell_type": "code",
   "execution_count": 31,
   "metadata": {
    "editable": true,
    "slideshow": {
     "slide_type": ""
    },
    "tags": []
   },
   "outputs": [
    {
     "data": {
      "text/plain": [
       "7.0710678118654755"
      ]
     },
     "execution_count": 31,
     "metadata": {},
     "output_type": "execute_result"
    }
   ],
   "source": [
    "A1=sqrt(W1/R)\n",
    "A1"
   ]
  },
  {
   "cell_type": "markdown",
   "metadata": {
    "editable": true,
    "slideshow": {
     "slide_type": ""
    },
    "tags": []
   },
   "source": [
    "$A_1=7,071 A$\n",
    "\n",
    "**b)**\n",
    "\n",
    "$U=ZI=\\sqrt{R^2+(X_L-X_C)^2} \\cdot A_1$"
   ]
  },
  {
   "cell_type": "code",
   "execution_count": 32,
   "metadata": {
    "editable": true,
    "slideshow": {
     "slide_type": ""
    },
    "tags": []
   },
   "outputs": [
    {
     "data": {
      "text/plain": [
       "100.00000000000001"
      ]
     },
     "execution_count": 32,
     "metadata": {},
     "output_type": "execute_result"
    }
   ],
   "source": [
    "Z=sqrt(R**2+(XL-XC)**2)\n",
    "U=A1*Z\n",
    "U"
   ]
  },
  {
   "cell_type": "markdown",
   "metadata": {
    "editable": true,
    "slideshow": {
     "slide_type": ""
    },
    "tags": []
   },
   "source": [
    "$U=100,0 V$\n",
    "\n",
    "**c)**\n",
    "\n",
    "$Q=XI^2=(X_L-X_C){A_1}^2$"
   ]
  },
  {
   "cell_type": "code",
   "execution_count": 33,
   "metadata": {
    "editable": true,
    "slideshow": {
     "slide_type": ""
    },
    "tags": []
   },
   "outputs": [
    {
     "data": {
      "text/plain": [
       "-500.00000000000006"
      ]
     },
     "execution_count": 33,
     "metadata": {},
     "output_type": "execute_result"
    }
   ],
   "source": [
    "Q=(XL-XC)*A1**2\n",
    "Q"
   ]
  },
  {
   "cell_type": "markdown",
   "metadata": {
    "editable": true,
    "slideshow": {
     "slide_type": ""
    },
    "tags": []
   },
   "source": [
    "$Q = -500,0 var$\n",
    "\n",
    "**d)**\n",
    "\n",
    "Ressonància $\\Rightarrow X_L=X_C$\n",
    "\n",
    "$W_1=R{A_1}^2=R\\Large (\\frac{U}{Z})^2 = \\frac{U^2}{R}$"
   ]
  },
  {
   "cell_type": "code",
   "execution_count": 34,
   "metadata": {
    "editable": true,
    "slideshow": {
     "slide_type": ""
    },
    "tags": []
   },
   "outputs": [
    {
     "data": {
      "text/plain": [
       "1000.0000000000003"
      ]
     },
     "execution_count": 34,
     "metadata": {},
     "output_type": "execute_result"
    }
   ],
   "source": [
    "W1=U**2/R\n",
    "W1"
   ]
  },
  {
   "cell_type": "markdown",
   "metadata": {
    "editable": true,
    "slideshow": {
     "slide_type": ""
    },
    "tags": []
   },
   "source": [
    "$W1 = 1000W$\n",
    "\n",
    "**e)**\n",
    "\n",
    "$X_C=\\Large \\frac{1}{C\\omega} \\normalsize \\Rightarrow C=\\Large \\frac{1}{\\omega X_C}$\n",
    "\n",
    "$X_L = L\\omega \\Rightarrow L=\\Large \\frac{X_L}{\\omega}$"
   ]
  },
  {
   "cell_type": "code",
   "execution_count": 35,
   "metadata": {
    "editable": true,
    "slideshow": {
     "slide_type": ""
    },
    "tags": []
   },
   "outputs": [
    {
     "data": {
      "text/plain": [
       "0.00015915494309189532"
      ]
     },
     "execution_count": 35,
     "metadata": {},
     "output_type": "execute_result"
    }
   ],
   "source": [
    "f=50\n",
    "w=2*pi*f\n",
    "C=1/(w*XC)\n",
    "C"
   ]
  },
  {
   "cell_type": "markdown",
   "metadata": {
    "editable": true,
    "slideshow": {
     "slide_type": ""
    },
    "tags": []
   },
   "source": [
    "$C=159,2 \\mu F$"
   ]
  },
  {
   "cell_type": "code",
   "execution_count": 36,
   "metadata": {
    "editable": true,
    "slideshow": {
     "slide_type": ""
    },
    "tags": []
   },
   "outputs": [
    {
     "data": {
      "text/plain": [
       "0.03183098861837907"
      ]
     },
     "execution_count": 36,
     "metadata": {},
     "output_type": "execute_result"
    }
   ],
   "source": [
    "L=XL/w\n",
    "L"
   ]
  },
  {
   "cell_type": "markdown",
   "metadata": {
    "editable": true,
    "slideshow": {
     "slide_type": ""
    },
    "tags": []
   },
   "source": [
    "$L=31,83 mH$"
   ]
  },
  {
   "cell_type": "markdown",
   "metadata": {
    "editable": true,
    "slideshow": {
     "slide_type": ""
    },
    "tags": []
   },
   "source": [
    "$f_r=\\Large \\frac{1}{2\\pi \\sqrt {LC}}$"
   ]
  },
  {
   "cell_type": "code",
   "execution_count": 37,
   "metadata": {
    "editable": true,
    "slideshow": {
     "slide_type": ""
    },
    "tags": []
   },
   "outputs": [
    {
     "data": {
      "text/plain": [
       "70.71067811865476"
      ]
     },
     "execution_count": 37,
     "metadata": {},
     "output_type": "execute_result"
    }
   ],
   "source": [
    "fr=1/(2*pi*sqrt(L*C))\n",
    "fr"
   ]
  },
  {
   "cell_type": "markdown",
   "metadata": {
    "editable": true,
    "slideshow": {
     "slide_type": ""
    },
    "tags": []
   },
   "source": [
    "$fr=70,71 Hz$"
   ]
  },
  {
   "cell_type": "markdown",
   "metadata": {
    "editable": true,
    "slideshow": {
     "slide_type": ""
    },
    "tags": []
   },
   "source": [
    "Ara que tenim el valor dels component podem simular el circuit i comprovar la ressonància:"
   ]
  },
  {
   "cell_type": "code",
   "execution_count": 38,
   "metadata": {
    "editable": true,
    "slideshow": {
     "slide_type": ""
    },
    "tags": [
     "hide-input"
    ]
   },
   "outputs": [
    {
     "data": {
      "text/html": [
       " <iframe src=\"https://www.falstad.com/circuit/circuitjs.html?ctz=CQAgjCAMB0l3BWcAWaAOZYDMYEE4xIAmBAdgDZyJMQkFJaBTAWjDACgA3ENBtongywC+tBkgaToCdgCdBIYSGRKlfSOwDGy1QJUD+UKLDi48A5gljJkRIllIIwJYslLHT7ADYLD+8M5GMJA4aFggzDBEbmFgyOTmRLhOEuwA9iAC5MhGmJDuRFJoRgICWOmZINm5kHjuhMbFEKWK7FjFDABiEOGFCqwgnbKMAI4ArowAdpoAnuxAA\" width=\"800\" height=\"600\"></iframe>\n"
      ],
      "text/plain": [
       "<IPython.core.display.HTML object>"
      ]
     },
     "metadata": {},
     "output_type": "display_data"
    }
   ],
   "source": [
    "%%html\n",
    " <iframe src=\"https://www.falstad.com/circuit/circuitjs.html?ctz=CQAgjCAMB0l3BWcAWaAOZYDMYEE4xIAmBAdgDZyJMQkFJaBTAWjDACgA3ENBtongywC+tBkgaToCdgCdBIYSGRKlfSOwDGy1QJUD+UKLDi48A5gljJkRIllIIwJYslLHT7ADYLD+8M5GMJA4aFggzDBEbmFgyOTmRLhOEuwA9iAC5MhGmJDuRFJoRgICWOmZINm5kHjuhMbFEKWK7FjFDABiEOGFCqwgnbKMAI4ArowAdpoAnuxAA\" width=\"800\" height=\"600\"></iframe>"
   ]
  },
  {
   "cell_type": "markdown",
   "metadata": {
    "editable": true,
    "slideshow": {
     "slide_type": ""
    },
    "tags": []
   },
   "source": [
    "## Circuits AC paral·lel\n",
    "\n",
    "En aquest circuits és mé fàcil calcular i sumar vectorialment les intensitats de cada branca\n",
    "\n",
    "També apareix el fenèmen de la ressonància, amb la mateixa condició: \n",
    "\n",
    "$\\omega_R= \\Large \\frac{1}{\\sqrt{LC}}$"
   ]
  },
  {
   "cell_type": "code",
   "execution_count": 39,
   "metadata": {
    "editable": true,
    "slideshow": {
     "slide_type": ""
    },
    "tags": [
     "hide-input"
    ]
   },
   "outputs": [
    {
     "data": {
      "text/html": [
       " <iframe src=\"https://www.falstad.com/circuit/circuitjs.html?ctz=CQAgjCAMB0l3BWcAWaAOZYDMYEE4xIAmBAdgDZyIEsQkFI6BTAWjDACgA3Ec5EIskZ9w5RowiZYeOlDkwEHAMYhkyNKMZqNg8VFjwwyPCdNnzILNFzq8yUkUR40EGHE4B3XvzBjweIk0oDi8wAKCsRyDIEMso3y11aI4AGziJP0jGXTlXWGwXBARkMjRINEpIZHJggCd-QISGgSE5RzhYsMCcrJbxWN6c7T667xGukYkOnhEwIg0RJIlLRiQ9BWVVJO2kuY1xA3djcxPTAWhHUhMEMArIrAr+N0hPMd3wpc6PjV7Pr1+NMNPmkAelwPNciAWG4iL4wKQKERHIQcMgsKRRhN3o0Idl4F8cT94riBsTAbsSfVZhCJntctMxlgEIEREQHJCGLJ1tBFCphmzAsMmYEDvAXsdTidwNB0VdSHNynwcFg1Pp3LFWeyJgLgqFwjrBuyYv8ojr+UbUmCDVFhZDofk0WjSHAiOi0KQ0FgajF6tqteFbXiOnrArbeoHSYxbULmaMRLaJoHwB0APbJsZaSB4DFEHlqkhtdNYDhp4RPVRZnN557kAsQEWWEsCMtyITZ85rWAF7rNxsAC3Ask4QA\" width=\"800\" height=\"600\"></iframe>\n"
      ],
      "text/plain": [
       "<IPython.core.display.HTML object>"
      ]
     },
     "metadata": {},
     "output_type": "display_data"
    }
   ],
   "source": [
    "%%html\n",
    " <iframe src=\"https://www.falstad.com/circuit/circuitjs.html?ctz=CQAgjCAMB0l3BWcAWaAOZYDMYEE4xIAmBAdgDZyIEsQkFI6BTAWjDACgA3Ec5EIskZ9w5RowiZYeOlDkwEHAMYhkyNKMZqNg8VFjwwyPCdNnzILNFzq8yUkUR40EGHE4B3XvzBjweIk0oDi8wAKCsRyDIEMso3y11aI4AGziJP0jGXTlXWGwXBARkMjRINEpIZHJggCd-QISGgSE5RzhYsMCcrJbxWN6c7T667xGukYkOnhEwIg0RJIlLRiQ9BWVVJO2kuY1xA3djcxPTAWhHUhMEMArIrAr+N0hPMd3wpc6PjV7Pr1+NMNPmkAelwPNciAWG4iL4wKQKERHIQcMgsKRRhN3o0Idl4F8cT94riBsTAbsSfVZhCJntctMxlgEIEREQHJCGLJ1tBFCphmzAsMmYEDvAXsdTidwNB0VdSHNynwcFg1Pp3LFWeyJgLgqFwjrBuyYv8ojr+UbUmCDVFhZDofk0WjSHAiOi0KQ0FgajF6tqteFbXiOnrArbeoHSYxbULmaMRLaJoHwB0APbJsZaSB4DFEHlqkhtdNYDhp4RPVRZnN557kAsQEWWEsCMtyITZ85rWAF7rNxsAC3Ask4QA\" width=\"800\" height=\"600\"></iframe>"
   ]
  },
  {
   "cell_type": "markdown",
   "metadata": {
    "editable": true,
    "slideshow": {
     "slide_type": ""
    },
    "tags": []
   },
   "source": [
    "### PAU ELECTROTÈCNIA 2015 S2 3A (2/2)\n",
    "\n",
    "![](img/AC/PAUELEC2015S2P3A.png)"
   ]
  },
  {
   "cell_type": "markdown",
   "metadata": {
    "editable": true,
    "slideshow": {
     "slide_type": ""
    },
    "tags": []
   },
   "source": [
    "Ara ja podem treballar l'apartat **c** que teníem pendent.\n",
    "\n",
    "Com està en ressonància, $Q_L + Q_C = 0 \\Rightarrow A_2 = Q/U$"
   ]
  },
  {
   "cell_type": "code",
   "execution_count": 40,
   "metadata": {
    "editable": true,
    "slideshow": {
     "slide_type": ""
    },
    "tags": []
   },
   "outputs": [
    {
     "data": {
      "text/plain": [
       "1.0664347826086957"
      ]
     },
     "execution_count": 40,
     "metadata": {},
     "output_type": "execute_result"
    }
   ],
   "source": [
    "Q=245.28\n",
    "U=230\n",
    "A2=Q/U\n",
    "A2"
   ]
  },
  {
   "cell_type": "markdown",
   "metadata": {
    "editable": true,
    "slideshow": {
     "slide_type": ""
    },
    "tags": []
   },
   "source": [
    "$A2=1,066 A$"
   ]
  },
  {
   "attachments": {},
   "cell_type": "markdown",
   "metadata": {
    "editable": true,
    "slideshow": {
     "slide_type": ""
    },
    "tags": []
   },
   "source": [
    "### PAU ELECTROTÈCNIA 2019 S4 P3A\n",
    "\n",
    "![](img/AC/PAUELEC2019S4P3A.png)\n",
    "\n",
    "![](img/AC/PAUELEC2019S4P3As.png)\n",
    "\n"
   ]
  },
  {
   "cell_type": "code",
   "execution_count": null,
   "metadata": {
    "editable": true,
    "slideshow": {
     "slide_type": ""
    },
    "tags": []
   },
   "outputs": [],
   "source": []
  },
  {
   "cell_type": "code",
   "execution_count": null,
   "metadata": {
    "editable": true,
    "slideshow": {
     "slide_type": ""
    },
    "tags": []
   },
   "outputs": [],
   "source": []
  }
 ],
 "metadata": {
  "kernelspec": {
   "display_name": "venvPy3",
   "language": "python",
   "name": "venvpy3"
  },
  "language_info": {
   "codemirror_mode": {
    "name": "ipython",
    "version": 3
   },
   "file_extension": ".py",
   "mimetype": "text/x-python",
   "name": "python",
   "nbconvert_exporter": "python",
   "pygments_lexer": "ipython3",
   "version": "3.10.12"
  }
 },
 "nbformat": 4,
 "nbformat_minor": 4
}