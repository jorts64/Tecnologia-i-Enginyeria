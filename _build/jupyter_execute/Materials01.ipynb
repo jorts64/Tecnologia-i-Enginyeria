{
 "cells": [
  {
   "attachments": {},
   "cell_type": "markdown",
   "id": "335800ff-d505-4474-ac94-b35559842ace",
   "metadata": {
    "editable": true,
    "slideshow": {
     "slide_type": ""
    },
    "tags": []
   },
   "source": [
    "# Materials\n",
    "\n"
   ]
  },
  {
   "cell_type": "markdown",
   "id": "f0b79faa-9f2d-484c-86c4-c7345c8e1bdf",
   "metadata": {
    "editable": true,
    "slideshow": {
     "slide_type": ""
    },
    "tags": []
   },
   "source": [
    "```{admonition} Pàgina en desenvolupament\n",
    "Encara estem treballant en aquest document.   \n",
    "Esperem oferir-vos properament el seu contingut.   \n",
    "Disculpeu les molèsties.\n",
    "```"
   ]
  },
  {
   "cell_type": "markdown",
   "id": "996004c8-6bc9-4fe7-8130-c5c70e47d909",
   "metadata": {
    "editable": true,
    "slideshow": {
     "slide_type": ""
    },
    "tags": []
   },
   "source": [
    "Un enginyer ha d’escollir els materials que fa servir segons els requisits del seu ús. Les propietats d’aquests materials depenen de la seva estructura interna. Conèixer aquesta estructura és fonamental per entendre les propietats i per aconseguir nous materials amb un conjunt de propietats. Actualment la ciència i enginyeria de materials és una de les disciplines amb més interès, recolzada per les universitats més prestigioses."
   ]
  },
  {
   "cell_type": "markdown",
   "id": "d3658005-a299-4615-a61e-945454736cf1",
   "metadata": {
    "editable": true,
    "slideshow": {
     "slide_type": ""
    },
    "tags": []
   },
   "source": [
    "## Organització atòmica\n",
    "Com heu estudiat a 3r d’ESO, els àtoms poden interaccionar mitjançant diferents tipus d’enllaços: iònic, covalent, metàl·lic ... El tipus d’enllaç dependrà de l’estructura atòmica dels elements constituents. Un bon coneixement de la [taula periòdica](https://ptable.com/?lang=ca) és important.\n",
    "Aquests enllaços permeten organitzar la matèria en molècules, sòlids cristal·lins ... \n",
    "\n",
    "|Densitat/nombre atòmic|Radi atòmic/nombre atòmic|\n",
    "|:---:|:---:|\n",
    "|![](img/Materials/TPdensitat.png)|![](img/Materials/TPradi.png)|\n",
    "\n",
    "Moltes propietats es poden derivar d’aquesta organització. Per exemple, ja vau veure a 3r d’ESO que els cristalls iònics son durs i fràgils, amb un punt de fusió alt, aïllants però conductors quan es fonen ...\n",
    "\n",
    "Segons l’ordre aconseguit poden classificar el compost:\n",
    "* Sense ordre\n",
    "  * gasos inerts\n",
    "* Ordre de curt abast\n",
    "  * alguns gasos ($H_20$)\n",
    "  * líquids\n",
    "  * sòlids amorfs (vidre)\n",
    "* Ordre de llarg abast\n",
    "  * sòlids cristal·lins"
   ]
  },
  {
   "cell_type": "code",
   "execution_count": null,
   "id": "a152d980-ec20-4bcc-8d26-2c0f752dd069",
   "metadata": {},
   "outputs": [],
   "source": []
  }
 ],
 "metadata": {
  "kernelspec": {
   "display_name": "venvPy3",
   "language": "python",
   "name": "venvpy3"
  },
  "language_info": {
   "codemirror_mode": {
    "name": "ipython",
    "version": 3
   },
   "file_extension": ".py",
   "mimetype": "text/x-python",
   "name": "python",
   "nbconvert_exporter": "python",
   "pygments_lexer": "ipython3",
   "version": "3.10.12"
  }
 },
 "nbformat": 4,
 "nbformat_minor": 5
}