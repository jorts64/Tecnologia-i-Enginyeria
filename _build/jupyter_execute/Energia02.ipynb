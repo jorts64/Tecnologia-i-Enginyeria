{
 "cells": [
  {
   "cell_type": "markdown",
   "id": "7df2f400-65dd-4ff5-a83c-0669f20bf51c",
   "metadata": {
    "editable": true,
    "slideshow": {
     "slide_type": ""
    },
    "tags": []
   },
   "source": [
    "# Formes d'energia. Transformacions energètiques"
   ]
  },
  {
   "cell_type": "markdown",
   "id": "8a581ac3-d120-4134-9d99-659e99ccb10b",
   "metadata": {
    "editable": true,
    "slideshow": {
     "slide_type": ""
    },
    "tags": []
   },
   "source": [
    "```{admonition} Pàgina en desenvolupament\n",
    "Encara estem treballant en aquest document.   \n",
    "Esperem oferir-vos properament el seu contingut.   \n",
    "Disculpeu les molèsties.\n",
    "```"
   ]
  },
  {
   "cell_type": "markdown",
   "id": "277514cc-36c4-4ecb-9d6d-c0a4d257104c",
   "metadata": {},
   "source": [
    "## Formes d'energia\n",
    "\n",
    "L'energia es presenta en diferents formes, entre les quals pot transformar-se mitjançant un treball. Algunes d'aquestes formes d'energia són:\n",
    "* Energia cinètica, la que té un cos a causa del seu moviment\n",
    "* Energia potencial, la que té un cos a causa de la seva alçada\n",
    "* Energia elèctrica, produïda pel moviment de les càrregues elèctriques\n",
    "* Energia tèrmica, la que té un cos a causa de la seva temperatura\n",
    "* Energia química, la que té un cos a causa dels enllaços entre els seus àtoms\n",
    "* Energia nuclear,  la que té un cos a causa de la unió de les partícules dels seus nuclis atòmics\n",
    "* Energia radiant,  transportada per les radiacions electromagnètiques\n",
    "* Energia sonora, que respon a les ones de pressió que es desplacen"
   ]
  },
  {
   "cell_type": "markdown",
   "id": "efd80eae-da72-413d-8d38-aefa4ca79570",
   "metadata": {},
   "source": [
    "## Transformacions energètiques\n",
    "\n",
    "Ja hem dit reiteradament que l'energia es transforma. Moltes vegades de forma industrial, com la transformació d'energia química del combustible en energia elèctrica a les centrals tèrmiques, o de forma domèstica, com la transformació d'energia elèctrica en llum al monitor del teu ordinador. Algunes vegades es tracta de processos astronòmics, com l'emissió de radiació infraroja de Júpiter pel seu col·lapse gravitatori. D'altres vegades a petita escala, com la transformació de l'energia sonora en elèctrica a un micròfon.\n",
    "\n",
    "Al quadre es pot veure la diversitat de transformacions amb alguns exemples:\n",
    "\n",
    "|Produïda ► <br>▼ Consumida|mecànica|elèctrica|tèrmica|química|nuclear|radiant|sonora|\n",
    "|:---|:---|:---|:---|:---|:---|:---|:---|\n",
    "|**mecànica**|Biela /  manovella <br>Canonada forçada|Dinamo<br>Alternador<br>Piezoelèctric|Fregament|Reacció química|Bombardeig neutrons<br>Estrella|Làser He-Ne|Piano<br>|Ona de xoc|\n",
    "|**elèctrica**|Motor CC<br>Piezoelèctric|Transformador|estufa|bateria|Accelerador de partícules|Bombeta<br>Sincrotró|Altaveu<br>Piezoelèctric|\n",
    "|**tèrmica**|Motor Stirling|Efecte Peltier||Reacció química|Reactor de fusió|Ferro roent<br>Cos negre|Cocció|\n",
    "|**química**|Motor 4T|Pila<br>Bateria|Cremador|Reacció química||Fosforescència|Explosió|\n",
    "|**nuclear**|Emissió α|Pila betavoltaica|Reactor nuclear|Bomba de cobalt|Reactor reproductor|Reactor nuclear|Bomba atòmica|\n",
    "|**radiant**|Molí solar|Fotovoltaica|Forn solar<br>Microones|Fotosíntesis|Ressonància Mössbauer|Fluorescència||\n",
    "|**sonora**|Enregistrament gramofònic|Micròfon<br>Piezoelèctric||Desestabilització estat metaestable||||\n",
    "\n",
    "\n",
    "\n",
    "\n"
   ]
  },
  {
   "cell_type": "code",
   "execution_count": null,
   "id": "02f8db08-941d-4b05-86af-b0f697532873",
   "metadata": {},
   "outputs": [],
   "source": []
  }
 ],
 "metadata": {
  "kernelspec": {
   "display_name": "venvPy3",
   "language": "python",
   "name": "venvpy3"
  },
  "language_info": {
   "codemirror_mode": {
    "name": "ipython",
    "version": 3
   },
   "file_extension": ".py",
   "mimetype": "text/x-python",
   "name": "python",
   "nbconvert_exporter": "python",
   "pygments_lexer": "ipython3",
   "version": "3.10.12"
  }
 },
 "nbformat": 4,
 "nbformat_minor": 5
}