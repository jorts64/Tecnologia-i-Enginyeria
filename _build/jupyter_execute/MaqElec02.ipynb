{
 "cells": [
  {
   "cell_type": "markdown",
   "id": "e87da23c-2e75-49c7-9cb8-39f8e4c58076",
   "metadata": {
    "editable": true,
    "slideshow": {
     "slide_type": ""
    },
    "tags": []
   },
   "source": [
    "# Equacions fonamentals"
   ]
  },
  {
   "cell_type": "markdown",
   "id": "a71136c2-e4d5-465c-909a-976a3b99240c",
   "metadata": {},
   "source": [
    "## Llei d'Ampère"
   ]
  },
  {
   "cell_type": "markdown",
   "id": "0550b69b-cb25-4a95-b281-5e0d6b228ac6",
   "metadata": {},
   "source": [
    "Si un corrent $i$ travessa un solenoide de longitud L i N espires podem aproximar {cite}`Campo_magnético_producido_por_un_solenoide` la intensitat del camp magnètic generat per\n",
    "\n",
    "$\\Large B = \\mu_0 \\cdot \\frac{N}{L} \\cdot i$"
   ]
  },
  {
   "cell_type": "markdown",
   "id": "4e8babd4-7aac-4056-a248-5a6fb89cb6c5",
   "metadata": {},
   "source": [
    "![](img/MaqElec/solenoide.png)"
   ]
  },
  {
   "cell_type": "markdown",
   "id": "25de647e-ae66-44b7-84b4-239ca8ac35bb",
   "metadata": {},
   "source": [
    "## Flux magnètic"
   ]
  },
  {
   "cell_type": "markdown",
   "id": "84e39f8d-1d79-4b87-acd7-e91ef14cd17a",
   "metadata": {
    "editable": true,
    "slideshow": {
     "slide_type": ""
    },
    "tags": []
   },
   "source": [
    "El flux magnètic té en compte la intensitat, extensió i direcció d'un camp magnètic.  Es simbolitza amb la lletra grega $\\Phi$ i es mesura en weber (Wb) {cite}`Flux_magnètic`.\n",
    "\n",
    "Per a un camp magnètic constant que travessa una superfície S formant un angle $\\theta$ el flux val\n",
    "\n",
    "$\\Phi = \\overrightarrow{B} \\cdot \\overrightarrow{S} = B \\cdot S \\cdot cos\\theta $\n",
    "\n",
    "on $\\overrightarrow{S}$ és un vector perpendicular a S i amb el valor de la superfície com a mòdul."
   ]
  },
  {
   "cell_type": "markdown",
   "id": "b86ad5e3-d6af-4225-9bfd-8b67dcd05279",
   "metadata": {},
   "source": [
    "## Llei de Lenz"
   ]
  },
  {
   "cell_type": "markdown",
   "id": "ec4e8ecc-279a-4e36-96e7-c20d4bcb24e7",
   "metadata": {},
   "source": [
    "Si tenim un conductor elèctric tancat un circuit i està sotmès a un flux  quevaria amb el temps es genera una força electromotriu que intenta generar un camp oposat a aquest canvi {cite}`Espiras_en_un_campo_magnético_variable_con_el_tiempo`. Aquesta és la llei de Lenz:\n",
    "\n",
    "$\\Large \\varepsilon = - \\frac{d\\Phi}{dt}$"
   ]
  },
  {
   "cell_type": "markdown",
   "id": "e813b991-2050-4e9c-bf83-cc94ce96838e",
   "metadata": {},
   "source": [
    "## Equacions fonamentals dels motors"
   ]
  },
  {
   "cell_type": "markdown",
   "id": "2952f50d-4f92-45fe-be41-7f0f5b76f932",
   "metadata": {},
   "source": [
    "En un motor les espires del rotor canvien l'angle d'incidència al llarg de la volta:\n",
    "\n",
    "$\\Phi = S \\cdot B_0 \\cdot cos(\\omega t)$\n",
    "\n",
    "aplicant la llei de Lenz:\n",
    "\n",
    "$\\Large \\varepsilon = - \\frac{d\\Phi}{dt} = \\omega \\cdot S \\cdot B_0 \\cdot sin(\\omega t)$\n",
    "\n",
    "Caldria fer un promig d'aquest valor, tenir en compte el temps que el rotor no està connectat mentre canvia la polaritat de les espires i, especialment, que tindrem moltes espires, no només una. Tot això ho podem representar per una constant constructiva del motor que anomerarem $k$. Finalment podem escriure:\n"
   ]
  },
  {
   "cell_type": "markdown",
   "id": "0baf1df5-91c4-40d7-968f-77d4ae607232",
   "metadata": {},
   "source": [
    "$$\\Large \\varepsilon = k \\cdot \\Phi \\cdot \\omega$$"
   ]
  },
  {
   "cell_type": "markdown",
   "id": "ded56639-975d-4f86-8b91-2fcce620ba3f",
   "metadata": {
    "editable": true,
    "slideshow": {
     "slide_type": ""
    },
    "tags": []
   },
   "source": [
    "Per altra banda les espires estan sotmeses a un parell de forces segons l'expressió {cite}`Fuerza_y_momento_sobre_una_espira`\n",
    "\n",
    "$\\Gamma = I \\cdot S \\cdot B \\cdot cos\\theta = \\Phi \\cdot I$\n",
    "\n",
    "Analògament al cas anterior apareix la nostra constant constructiva $k$, i podem escriure:"
   ]
  },
  {
   "cell_type": "markdown",
   "id": "645a8df9-5b8c-4180-b4a4-d2acf67e98d3",
   "metadata": {
    "editable": true,
    "slideshow": {
     "slide_type": ""
    },
    "tags": []
   },
   "source": [
    "$$\\Large \\Gamma = k \\cdot \\Phi \\cdot I_i$$"
   ]
  },
  {
   "cell_type": "markdown",
   "id": "6028112e-33a1-41fa-ae41-00b3e420780f",
   "metadata": {},
   "source": [
    "Cal tenir en compte que la intensitat involucrada és la que travessa les espires del rotor. Si en lloc de generar el camp magnètic del estator amb imants permanent ho fem amb electroimants, les intensitats que alimenten aquets electroimants no afecten a la nostra $I_i$. Per això hem afegit el subindex $i$ a la intensitat per indicar que nomes hem de comptabilitzar la intensistat que travessa el rotor."
   ]
  },
  {
   "cell_type": "markdown",
   "id": "21e2321c-dc9a-46a6-b77d-904e6708540c",
   "metadata": {
    "editable": true,
    "slideshow": {
     "slide_type": ""
    },
    "tags": []
   },
   "source": [
    "## Simulació d'un motor"
   ]
  },
  {
   "cell_type": "code",
   "execution_count": 1,
   "id": "ea3a9a44-2ec1-481d-9324-215f12abd2a6",
   "metadata": {
    "editable": true,
    "slideshow": {
     "slide_type": ""
    },
    "tags": [
     "hide-input"
    ]
   },
   "outputs": [
    {
     "data": {
      "text/html": [
       " <iframe src=\"https://www.falstad.com/motor/\" width=800 height=\"450\"></iframe> \n"
      ],
      "text/plain": [
       "<IPython.core.display.HTML object>"
      ]
     },
     "metadata": {},
     "output_type": "display_data"
    }
   ],
   "source": [
    "%%html\n",
    " <iframe src=\"https://www.falstad.com/motor/\" width=800 height=\"450\"></iframe> "
   ]
  },
  {
   "cell_type": "code",
   "execution_count": null,
   "id": "6cf01820-04fe-4775-8821-5866cca74cda",
   "metadata": {
    "editable": true,
    "slideshow": {
     "slide_type": ""
    },
    "tags": []
   },
   "outputs": [],
   "source": []
  }
 ],
 "metadata": {
  "kernelspec": {
   "display_name": "venvPy3",
   "language": "python",
   "name": "venvpy3"
  },
  "language_info": {
   "codemirror_mode": {
    "name": "ipython",
    "version": 3
   },
   "file_extension": ".py",
   "mimetype": "text/x-python",
   "name": "python",
   "nbconvert_exporter": "python",
   "pygments_lexer": "ipython3",
   "version": "3.10.12"
  }
 },
 "nbformat": 4,
 "nbformat_minor": 5
}