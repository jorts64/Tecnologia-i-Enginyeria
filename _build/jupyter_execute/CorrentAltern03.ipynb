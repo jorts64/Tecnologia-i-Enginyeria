{
 "cells": [
  {
   "cell_type": "markdown",
   "id": "fe940066-452e-4578-8296-3ae1d0096ffa",
   "metadata": {
    "editable": true,
    "slideshow": {
     "slide_type": ""
    },
    "tags": []
   },
   "source": [
    "# Llei d'Ohm. Impedància"
   ]
  },
  {
   "cell_type": "markdown",
   "id": "87976f44-70ff-4561-ad14-662f7f5cbd0f",
   "metadata": {
    "editable": true,
    "slideshow": {
     "slide_type": ""
    },
    "tags": []
   },
   "source": [
    "```{admonition} Pàgina en desenvolupament\n",
    "Encara estem treballant en aquest document.   \n",
    "Esperem oferir-vos properament el seu contingut.   \n",
    "Disculpeu les molèsties.\n",
    "```"
   ]
  },
  {
   "cell_type": "markdown",
   "id": "07df78e3-4a1d-4804-bccf-2a1ea951bdc7",
   "metadata": {
    "editable": true,
    "slideshow": {
     "slide_type": ""
    },
    "tags": []
   },
   "source": [
    "## Llei d'Ohm a AC\n",
    "\n",
    "Si nosaltres volem mantenir la nsotra preuada llei d'Ohm a AC, haurem de canviar la resistència per quelcom que reprodueixi el canvis de fase de la intensitat respecte al voltatge. La impedància complexa $Z$ és la solució:\n",
    "\n",
    "$\\Large I = \\frac{U}{Z}$"
   ]
  },
  {
   "cell_type": "markdown",
   "id": "16966878-3472-4aff-9ff2-a25caab7fee4",
   "metadata": {},
   "source": [
    "## Impedància d'una resistència\n",
    "\n",
    "La resistència no ens va donar problemes\n",
    "\n",
    "$Z = R$"
   ]
  },
  {
   "cell_type": "markdown",
   "id": "cc4fc8ec-8d0e-4264-8d6c-93c236819d4d",
   "metadata": {},
   "source": [
    "## Impedància d'un condensador\n",
    "\n",
    "El condensador va introduir un avançament de la intensitat. Per altra banda es pot comprovar que la intensitat aumenta amb la freqüència i és proporcional a la capacitat del condensdor. Per tant, tenent en compte que la intensitat és inversament proporcional a la impedància\n",
    "\n",
    "$\\large Z \\equiv X_C = -j \\ \\frac{1}{C\\omega}$\n",
    "\n",
    "La impedància d'un condensador s'anomena **reactància capacitiva**."
   ]
  },
  {
   "cell_type": "markdown",
   "id": "2d0ee9ea-009a-4af7-ac86-fab27ae9547a",
   "metadata": {},
   "source": [
    "## Impedància d'una bobina\n",
    "\n",
    "La bobina o inductor va introduir un retard de la intensitat. Per altra banda es pot comprovar que la intensitat disminueix amb la freqüència i és inversament proporcional a la inductància $L$, que s'expressa en henrys (H). Per tant, tenent en compte que la intensitat és inversament proporcional a la impedància\n",
    "\n",
    "$\\large Z \\equiv X_L = j \\ L$\n",
    "\n",
    "La impedància d'un inductor s'anomena **reactància inductiva**.\n"
   ]
  },
  {
   "cell_type": "markdown",
   "id": "8d30fc8c-62e7-4a27-b676-8925338e82fd",
   "metadata": {},
   "source": [
    "## Associacions d'impedàncies\n",
    "\n",
    "Les fòrmules d'associació sèrie i paral·lel de resistències són vàlides per les impedàncies (compte! treballem amb nombres complexos)\n",
    "\n",
    "### Associació en sèrie\n",
    "\n",
    "$Z_s = \\sum Z_i$\n",
    "\n",
    "### Associació en paral·lel\n",
    "\n",
    "$\\large \\frac{1}{Z_p} = \\sum \\frac{1}{Z_i}$\n"
   ]
  },
  {
   "cell_type": "markdown",
   "id": "25332e87-0650-4f65-8ffe-a3f7493d03c5",
   "metadata": {},
   "source": [
    "## Associació en sèrie. Triangle d'impedàncies"
   ]
  },
  {
   "cell_type": "markdown",
   "id": "b9d90efc-7b5d-421c-94cf-fc95974c5d99",
   "metadata": {},
   "source": [
    "Ja hem dit que treballem amb impedàncies complexes. Qaun sumem dos elements en sèrie, per exemple una resistència i un condensador, hem de fer uina suma vectorial. R, $X_C$ i Z formen un triangle, anomenat triangle d'impedàncies.\n",
    "\n",
    "Veiem un exemple:\n",
    "\n",
    "Un circuit sèrie amb una resistència $R = 10 \\ \\Omega$ i un condensador $C = 162,48 \\ \\mu F$ està connectat a una xarxa monofàsica $U = 200 V$ i $f = 50 Hz$"
   ]
  },
  {
   "cell_type": "markdown",
   "id": "5e80f901-cb83-47a2-a089-df910b22d0a3",
   "metadata": {},
   "source": [
    "$$\n",
    "\\begin{matrix}\n",
    "X_{C} = \\frac{-j}{C \\omega} &\n",
    "\\omega = 2 \\pi f &\n",
    "Z = R + X_{C}\n",
    "\\\\\n",
    "\\end{matrix}\n",
    "$$"
   ]
  },
  {
   "cell_type": "code",
   "execution_count": 1,
   "id": "33f0f4b5-fab0-48ae-b16e-a9ebb0fa8ae7",
   "metadata": {
    "editable": true,
    "scrolled": true,
    "slideshow": {
     "slide_type": ""
    },
    "tags": []
   },
   "outputs": [
    {
     "data": {
      "text/plain": [
       "-19.590711852769j"
      ]
     },
     "execution_count": 1,
     "metadata": {},
     "output_type": "execute_result"
    }
   ],
   "source": [
    "import numpy as np\n",
    "import matplotlib.pyplot as plt\n",
    "R = 10\n",
    "C = 162.48 * 10**(-6)\n",
    "U = 220\n",
    "f = 50\n",
    "w = 2 * np.pi * f\n",
    "Xc = 0 -1j/(C*w)\n",
    "Xc"
   ]
  },
  {
   "cell_type": "markdown",
   "id": "efa14448-28b7-4cfe-bdbc-24b143bbbc82",
   "metadata": {},
   "source": [
    "$X_{C} = 19.59_{-90^{\\circ}} \\ \\Omega$"
   ]
  },
  {
   "cell_type": "code",
   "execution_count": 2,
   "id": "b6b19d31-fdaf-4590-82bb-97b8669a44e5",
   "metadata": {
    "editable": true,
    "slideshow": {
     "slide_type": ""
    },
    "tags": []
   },
   "outputs": [
    {
     "data": {
      "text/plain": [
       "(10-19.590711852769j)"
      ]
     },
     "execution_count": 2,
     "metadata": {},
     "output_type": "execute_result"
    }
   ],
   "source": [
    "Z = R + Xc\n",
    "Z"
   ]
  },
  {
   "cell_type": "code",
   "execution_count": 3,
   "id": "af4789a6-1dfd-4641-bda7-ad4d2037bda2",
   "metadata": {},
   "outputs": [
    {
     "data": {
      "text/plain": [
       "21.995362940816044"
      ]
     },
     "execution_count": 3,
     "metadata": {},
     "output_type": "execute_result"
    }
   ],
   "source": [
    "modZ = np.abs(Z)\n",
    "modZ"
   ]
  },
  {
   "cell_type": "code",
   "execution_count": 4,
   "id": "0661a127-f3de-4552-9495-eba271112585",
   "metadata": {},
   "outputs": [
    {
     "data": {
      "text/plain": [
       "-62.958143957668284"
      ]
     },
     "execution_count": 4,
     "metadata": {},
     "output_type": "execute_result"
    }
   ],
   "source": [
    "angZ = np.degrees(np.angle(Z))\n",
    "angZ"
   ]
  },
  {
   "cell_type": "markdown",
   "id": "390f8a8a-a09c-40be-b920-3029a7f0478a",
   "metadata": {},
   "source": [
    "$Z = 22_{-62,96^{\\circ}} \\ \\Omega$\n",
    "\n",
    "Representem aquesta suma vectorial i visualitzarem el triangle d'impedàncies:"
   ]
  },
  {
   "cell_type": "code",
   "execution_count": 5,
   "id": "571c2dfd-348b-43e9-affd-a749f852aebd",
   "metadata": {
    "editable": true,
    "slideshow": {
     "slide_type": ""
    },
    "tags": [
     "hide-input"
    ]
   },
   "outputs": [
    {
     "data": {
      "image/png": "[encoded data removed]",
      "text/plain": [
       "<Figure size 640x480 with 1 Axes>"
      ]
     },
     "metadata": {},
     "output_type": "display_data"
    }
   ],
   "source": [
    "%matplotlib inline\n",
    "\n",
    "plt.annotate('', xy=(np.real(Z), np.imag(Z)), xytext=(0, 0),\n",
    "             arrowprops=dict(facecolor='blue', shrink=0.05),\n",
    "             )\n",
    "\n",
    "plt.annotate('', xy=(np.real(Z), 0), xytext=(0, 0),\n",
    "             arrowprops=dict(facecolor='green', shrink=0.05),\n",
    "             )\n",
    "\n",
    "plt.annotate('', xy=(np.real(Z), np.imag(Z)), xytext=(np.real(Z), 0),\n",
    "             arrowprops=dict(facecolor='red', shrink=0.05),\n",
    "             )\n",
    "\n",
    "plt.annotate(\"$Z = 22 \\ \\Omega$\", xy=(1.5, -12))\n",
    "plt.annotate(\"$R = 10 \\ \\Omega$\", xy=(6, -3))\n",
    "plt.annotate(\"$X_{C} = 19,59 \\ \\Omega$\", xy=(11,-10))\n",
    "plt.annotate(\"$62,96^{\\circ}$\", xy=(2,-2))\n",
    "\n",
    "plt.xlim(0, 25)\n",
    "plt.ylim(-25, 0)\n",
    "plt.axis('off')\n",
    "plt.show()"
   ]
  },
  {
   "cell_type": "code",
   "execution_count": null,
   "id": "436d01ac-425d-40ad-820d-cdd80d0033eb",
   "metadata": {
    "editable": true,
    "slideshow": {
     "slide_type": ""
    },
    "tags": []
   },
   "outputs": [],
   "source": []
  }
 ],
 "metadata": {
  "kernelspec": {
   "display_name": "venvPy3",
   "language": "python",
   "name": "venvpy3"
  },
  "language_info": {
   "codemirror_mode": {
    "name": "ipython",
    "version": 3
   },
   "file_extension": ".py",
   "mimetype": "text/x-python",
   "name": "python",
   "nbconvert_exporter": "python",
   "pygments_lexer": "ipython3",
   "version": "3.10.12"
  }
 },
 "nbformat": 4,
 "nbformat_minor": 5
}