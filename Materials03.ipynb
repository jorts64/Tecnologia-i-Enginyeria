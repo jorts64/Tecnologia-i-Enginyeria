{
 "cells": [
  {
   "cell_type": "markdown",
   "id": "7df2f400-65dd-4ff5-a83c-0669f20bf51c",
   "metadata": {
    "editable": true,
    "slideshow": {
     "slide_type": ""
    },
    "tags": []
   },
   "source": [
    "# Aliatges"
   ]
  },
  {
   "cell_type": "markdown",
   "id": "8a581ac3-d120-4134-9d99-659e99ccb10b",
   "metadata": {
    "editable": true,
    "slideshow": {
     "slide_type": ""
    },
    "tags": []
   },
   "source": [
    "```{admonition} Pàgina en desenvolupament\n",
    "Encara estem treballant en aquest document.   \n",
    "Esperem oferir-vos properament el seu contingut.   \n",
    "Disculpeu les molèsties.\n",
    "```"
   ]
  },
  {
   "cell_type": "markdown",
   "id": "9d3e393f-5b47-4965-9d96-dcccec9c9a33",
   "metadata": {
    "editable": true,
    "slideshow": {
     "slide_type": ""
    },
    "tags": []
   },
   "source": [
    "Un aliatge és una barreja homogènia de dos o més elements, dels quals com a mínim un ha de ser un metall. Aquest compost pot tenir propietats ben diferents dels elements constituents. De vegades només una petita proporció d’un dels components pot canviar molt les propietats de l’aliatge.\n",
    "\n",
    "Alguns aliatges comuns:\n",
    "\n",
    "|Acers|Acers inoxidables|Llautó|Bronzes|Amalgames|Duralumini|\n",
    "|:---|:---|:---|:---|:---|:---|\n",
    "|Fe, C|Fe, Cr, Ni|Cu, Zn|Cu, M(Sn)|Hg, M|Al, Cu, Mg, Mn, Si|\n",
    "\n",
    "\n",
    "|Alpaca|Nicrom|Alnico|Constantà|Nitinol|Zamak|\n",
    "|:---|:---|:---|:---|:---|:---|\n",
    "|Zn, Cu, Ni|Ni, Cr|Co, Al, Ni|Cu, Ni|Ni, Ti|Zn, Al, Mg, Cu|\n",
    "\n",
    "De fet utilitzem més els aliatges que els metalls purs. Rarament fem servir ferro dolç (ferro pur), únicament en nuclis d’electroimants; normalment fem servir acers i foses, que milloren les propietats mecàniques del ferro. Quan al taller soldem amb estany en realitat ho fem amb un aliatge amb aquest metall com a principal component, però amb altres metalls que baixen el seu punt de fusió (típicament es feia servir plom, amb una proporció 60% Sn / 40% Pb; avui en dia s’evita utilitzar el plom donada la seva toxicitat). La majoria d’objectes metàl·lics daurats que veiem estan fets amb llautó.\n",
    "\n"
   ]
  },
  {
   "cell_type": "markdown",
   "id": "159e9457-0445-4901-9724-1c1f0b8df2df",
   "metadata": {
    "editable": true,
    "slideshow": {
     "slide_type": ""
    },
    "tags": []
   },
   "source": [
    "\n",
    "## Tipus d'aliatges\n",
    "\n",
    "Els aliatges poden ser de tipus substitucional:  alguns àtoms de la xarxa es substitueixen per àtoms d’altre element. És el cas del llautó, on alguns àtoms de Cu es substitueixen per Zn.\n",
    "\n",
    "Una altra opció és encabir àtoms d’un altre element en els espais que deixen lliures els àtoms metàl·lics entre ells, són els aliatges intersticials. Un exemple és l’acer, on àtoms de C s’infiltren entre els àtom de Fe.\n",
    "\n",
    "Podem tenir un aliatge mixt, com és el cas de l’acer inoxidable: àtoms de Ni i Cr substituint Fe amb àtoms de C infiltrats.\n",
    "\n",
    "![](img/Materials/Tipus_aliatges.svg)"
   ]
  },
  {
   "cell_type": "markdown",
   "id": "5474b549-726e-48c9-97d0-1a97b5bb8e2b",
   "metadata": {
    "editable": true,
    "slideshow": {
     "slide_type": ""
    },
    "tags": []
   },
   "source": [
    "## Diagrama de fases\n",
    "La millor forma de representar un aliatge és amb un gràfic amb el percentatge d’un dels constituents al eix x i la temperatura al eix y. Aquest gràfic s’anomena diagrama de fases.\n",
    "\n",
    "<a title=\"Materialspedia, CC BY-SA 4.0 &lt;https://creativecommons.org/licenses/by-sa/4.0&gt;, via Wikimedia Commons\" href=\"https://commons.wikimedia.org/wiki/File:Binary_Phase_Diagram_(Ta-W).png\"><img width=\"749\" alt=\"Binary Phase Diagram (Ta-W)\" src=https://upload.wikimedia.org/wikipedia/commons/3/38/Binary_Phase_Diagram_%28Ta-W%29.png></a>\n",
    "\n",
    "Fixeu-vos en el diagrama de fases Ta-W. A l’eix x hem representat el % de W: a l’esquerra tenim Ta pur, a la dreta W pur. Únicament en aquests extrem tenim una temperatura de fusió constant, característica de les substàncies pures. Al mig tenim una zona, entre la línia contínua (per sota d’ella tenim sòlid) i la discontínua (per sobre d’ella tenim líquid) en que coexisteixen es fases sòlida i líquida. \n",
    "\n",
    "Aquesta coexistència de fases la trobarem freqüentment als aliatges.\n",
    "\n"
   ]
  },
  {
   "cell_type": "markdown",
   "id": "dfb0237c-9e3c-41e5-9248-c01097ff517f",
   "metadata": {
    "editable": true,
    "slideshow": {
     "slide_type": ""
    },
    "tags": []
   },
   "source": [
    "## Punt eutèctic\n",
    "\n",
    "En alguns aliatges trobem un comportament peculiar al diagrama de fases: per a una certa composició (anomenada composició eutèctica) el canvi de sòlid a líquid es realitza a temperatura constant (anomenada temperatura eutèctica), com si es tractés d’una substància pura. Fixeu-vos en el cas del Sn-Pb: té un punt eutèctic amb un 61,9 % de Sn i 183 °C, temperatura per sota dels 232 °C a que fon el Sn pur i els 327 °C del Pb pur. Per això s’utilitza o utilitzava estany amb una composició Sn 60 %  / Pb 40 % per soldar al taller.\n",
    "\n",
    "![](img/Materials/diagramaSnPb.svg)\n",
    "\n",
    "Fixeu-vos com en aquest cas com domina l’estructura de xarxa de l’estany quan tenim poc plom (α) i com domina l’estructura de xarxa del plom quan tenim poc estany (β). Per altres concentracions tenim una barreja d’ambdues xarxes (α+β)."
   ]
  },
  {
   "cell_type": "markdown",
   "id": "dfbc4958-9ff9-42ed-bd3d-47a9b96c71e6",
   "metadata": {
    "editable": true,
    "slideshow": {
     "slide_type": ""
    },
    "tags": []
   },
   "source": [
    "## Diagrama de fases Fe-C\n",
    "\n",
    "Com l’aliatge Fe-C és de tipus intersticial, només arriba al 6.67 % de C, que representa que el C ha omplert tots els forats existents a la xarxa de Fe.\n",
    "\n",
    "![](img/Materials/Diagrama_ferro-carboni.svg)\n",
    "\n",
    "Fixeu-vos quin diagrama  més ric: per sota del 2,1 % de C tenim els acers, per sobre les foses. Apareix un punt eutèctic amb un 4,3 % de C, i un punt eutectoide amb el 0,77 %. L’anomenem punt eutectoide perquè no hi ha un canvio d’estat, l’austenita també és un sòlid. Justament l’existència de l’austenita diferencia als acers de les foses: si l’acer el tenim en fase austenita i el refredem ràpidament podrem congelar aquesta estructura de xarxa a temperatura ambient (martensita). Això no ho podem fer amb les foses."
   ]
  },
  {
   "cell_type": "markdown",
   "id": "71008631-d8a8-4968-a64b-a58d4d5c541f",
   "metadata": {
    "editable": true,
    "slideshow": {
     "slide_type": ""
    },
    "tags": []
   },
   "source": [
    "## Els llautons\n",
    "\n",
    "![](img/Materials/Diagramme_binaire_Cu_Zn.svg)\n",
    "\n",
    "Com veieu els llautons també presenten una gran riquesa de fases (en té 6), que es manifesta en la complexitat del seu diagrama. El Cu és mal·leable i dúctil. El Zn és dur i té una gran resistència metàl·lica. Quan els barregem obtenim diferents comportaments:\n",
    "* Amb un 75-85% de Cu l’aliatge és vermellós/daurat i mal·leable\n",
    "* Amb un 60-70% de Cu el llautó és groc i mal·leable\n",
    "* Per sota del 50% de Cu l’aliatge és blanc, no mal·leable i trencadís."
   ]
  },
  {
   "cell_type": "code",
   "execution_count": null,
   "id": "b906d859-f5f2-4644-a829-1317b355d92d",
   "metadata": {
    "editable": true,
    "slideshow": {
     "slide_type": ""
    },
    "tags": []
   },
   "outputs": [],
   "source": []
  }
 ],
 "metadata": {
  "kernelspec": {
   "display_name": "venvPy3",
   "language": "python",
   "name": "venvpy3"
  },
  "language_info": {
   "codemirror_mode": {
    "name": "ipython",
    "version": 3
   },
   "file_extension": ".py",
   "mimetype": "text/x-python",
   "name": "python",
   "nbconvert_exporter": "python",
   "pygments_lexer": "ipython3",
   "version": "3.10.12"
  }
 },
 "nbformat": 4,
 "nbformat_minor": 5
}
