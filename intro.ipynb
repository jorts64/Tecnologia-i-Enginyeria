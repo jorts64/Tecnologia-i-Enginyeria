{
 "cells": [
  {
   "cell_type": "markdown",
   "id": "865e16e2-dfc4-42c9-9674-59fa10b273c5",
   "metadata": {
    "editable": true,
    "slideshow": {
     "slide_type": ""
    },
    "tags": []
   },
   "source": [
    "# Tecnologia i Enginyeria"
   ]
  },
  {
   "cell_type": "markdown",
   "id": "35e7d8d2-61b4-40e9-addf-48799564255d",
   "metadata": {
    "editable": true,
    "slideshow": {
     "slide_type": ""
    },
    "tags": []
   },
   "source": [
    "![](logo.png)"
   ]
  },
  {
   "cell_type": "markdown",
   "id": "ba1ce07b-48aa-42e0-ad66-31ab704d7a46",
   "metadata": {
    "editable": true,
    "slideshow": {
     "slide_type": ""
    },
    "tags": []
   },
   "source": [
    "```{admonition} Pàgina en desenvolupament\n",
    "Encara estem treballant en aquest document.   \n",
    "Esperem oferir-vos properament el seu contingut.   \n",
    "Disculpeu les molèsties.\n",
    "```"
   ]
  },
  {
   "cell_type": "markdown",
   "id": "dbb546cd-b98f-4ff0-890c-9035ae69d25d",
   "metadata": {
    "editable": true,
    "slideshow": {
     "slide_type": ""
    },
    "tags": []
   },
   "source": [
    "Al curs 1998/99 s'introdueix la Tecnologia Industrial com a matèria de modalitat al Batxillerat LOGSE a tot el territori català. D'això fa ja més de 25 anys. \n",
    "\n",
    "En aquest temps, he estat sempre professor de la matèria. Crec que puc dir que tinc la ma trencada en aquest tema. I sempre m'ha agradat compartir el que he après, tant amb alumnes com amb professors. De fet, molt del que he anat afegint a la meva motxilla de coneixements ha estat gràcies a ells, als meus alumnes de l'INS Príncep de Viana i als meus companys de professió, del meu departament a l'institut, del seminari permanent de Tecnologia, de l'AulaTEC, de l'APTC, del CESIRE, de la SCT ... Una abraçada a tots ells.\n",
    "\n",
    "La LOGSE va ser molt criticada. Però un dels grans encerts d'aquesta llei va ser la introducció de la Tecnologia al currículum de Secundària. En aquest punt cal reconèixer la feina realitzada per en Jordi Font i Agustí, aleshores Inspector en Cap de Tecnologia; en Salvador Cardona Foix, Coordinador de les PAU de Tecnologia durant molts anys; en Josep Ramon Izquierdo Clemente, primer president de la malauradament desapareguda Associació del Professorat de Catalunya (APTC); en Roger Hoyos Garcia, que va ser el seu successor en el càrrec; en Joan Busquets i Tendero i en Jordi Regalés i Barta, del CESIRE/AULATEC; n'Estalisnau Tomàs i Morera, que va ser president de la Societat Catalana de Tecnologia de l'Institut d'Estudis Catalans (SCT-IEC); na Núria Salán Ballesteros, presidenta de la SCT-IEC i impulsora de diferents iniciatives per la promoció de la dona en les carreres tècniques; en Toni Moreno Rey, ànima del ROBOLOT; na Roser Cussó Calabuig, Cap de l'Àrea de Cultura Digital; en Joan de Gràcia, ànima de la Linkat ... Son tantes les persones que han anat moldejant el que és avui l'ensenyament de la Tecnologia a Catalunya que segur em deixo algunes, disculpeu.\n",
    "\n",
    "La Tecnologia Industrial va passar a anomenar-se Tecnologia i Enginyeria al curs 20202/23. Ha estat una lluita del professorat de Tecnologia de molts anys. Però la matèria, adaptada als canvis tecnològics d'aquest 25 anys, manté el seu esperit: acostar els estudis superiors de Tecnologia i Enginyeria als nois i noies que cursen el Batxillerat, donant-los les competències i cultura cientifico-tècnica per afrontar amb èxit els estudis superiors, ja siguin cicles de Formació Professional o graus d'Enginyeria o Ciències.\n",
    "\n",
    "Sí. També graus de Ciències. L'any 2000 vaig ser convidat per la Societat Catalana de Física (SCF-IEC) per donar una ponència dintre del marc de les *XVI Trobades Científiques de la Mediterrània*. La matèria de Tecnologia Industrial era la gran desconeguda al món universitari. Jo volia comunicar com aquesta matèria dona una cultura cientíco-tècnica que permet a l'alumnat tenir una idea de base dels camps i conceptes de la Física. El meu suport gràfic eren tres transparències A4 a 3 columnes amb paraules claus del currículum de Tecnologia Industrial. Quan vaig acabar, en Jordi Ortín Rull, aleshores Cap d'Estudis de la Facultat de Física de la UB, va prendre la paraula i va dir, textualment: \"Aquests són els alumnes que volem!\". Malauradament, al curs 2023/24 la matèria de Tecnologia i Enginyeria no pondera a la part específica de les PAU pels graus de Física o Enginyeria Física. En aquest sentit hem tornat 25 any enrera.\n",
    "\n",
    "I és que Tecnologia i Enginyeria abarca moltes disciplines. És díficil dominar-les totes. Cap grau d'Enginyeria o Ciències et prepara en tot el seu abast. Repeteixo: cap.\n",
    "Per tant és tasca del professor formar-se, especialment en aquelles disciplines més llunyanes del grau que va cursar. I no només dels continguts, també dels mètodes pedagògics. En el meu cas han estat 25 anys de formació constant, 25 anys d'experiència. I la vull transmetre a tots vosaltres, alumnes i professors. \n",
    "\n",
    "Espero que gaudiu d'aquest llibre tant com jo he gaudit redactant-lo. Millor dir, en gaudeixo. Per què encara n'aprenc cosses i les penso aportar en noves revisions d'aquest llibre.\n",
    "\n",
    "Bona feina!\n"
   ]
  }
 ],
 "metadata": {
  "kernelspec": {
   "display_name": "venvPy3",
   "language": "python",
   "name": "venvpy3"
  },
  "language_info": {
   "codemirror_mode": {
    "name": "ipython",
    "version": 3
   },
   "file_extension": ".py",
   "mimetype": "text/x-python",
   "name": "python",
   "nbconvert_exporter": "python",
   "pygments_lexer": "ipython3",
   "version": "3.10.12"
  }
 },
 "nbformat": 4,
 "nbformat_minor": 5
}
