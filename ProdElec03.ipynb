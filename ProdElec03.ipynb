{
 "cells": [
  {
   "cell_type": "markdown",
   "metadata": {
    "editable": true,
    "slideshow": {
     "slide_type": ""
    },
    "tags": []
   },
   "source": [
    "# Centrals tèrmiques."
   ]
  },
  {
   "cell_type": "markdown",
   "metadata": {
    "editable": true,
    "slideshow": {
     "slide_type": ""
    },
    "tags": []
   },
   "source": [
    "```{admonition} Pàgina en desenvolupament\n",
    "Encara estem treballant en aquest document.   \n",
    "Esperem oferir-vos properament el seu contingut.   \n",
    "Disculpeu les molèsties.\n",
    "```"
   ]
  },
  {
   "cell_type": "markdown",
   "metadata": {
    "editable": true,
    "slideshow": {
     "slide_type": ""
    },
    "tags": []
   },
   "source": [
    "A les centrals tèrmiques es crema un combustible per produir vapor a pressió, que mitjançant una turbina acoblada a un alternador generarà energia elèctrica. El seu diagrama d’energies és, per tant:\n",
    "\n",
    "![](img/ProdElec/centralTermica.png)\n",
    "\n",
    "Típicament el combustible cremat és un combustible fòssil (carbó, gas...), una font de energia exhaurible que estem esgotant i que és incompatible amb un desenvolupament sostenible. A més a més, la utilització d’aquests combustibles fòssils implica contaminació i altres impactes ambientals importants que estudiarem.\n",
    "\n",
    "## Central tèrmica convencional\n",
    "\n",
    "<a title=\"en:User:BillC, CC BY-SA 3.0 &lt;http://creativecommons.org/licenses/by-sa/3.0/&gt;, via Wikimedia Commons\" href=\"https://commons.wikimedia.org/wiki/File:PowerStation2.svg\"><img width=\"800\" alt=\"PowerStation2\" src=\"https://upload.wikimedia.org/wikipedia/commons/e/e5/PowerStation2.svg\"></a>\n",
    "\n",
    "01  Torre de refrigeració   \n",
    "02  Bomba hidràulica   \n",
    "03  Línia de transmissió   \n",
    "04  Transformador   \n",
    "05  Generador elèctric   \n",
    "06  Turbina vapor baixa pressió   \n",
    "07  Bomba de condensació   \n",
    "08  Condensador de superfície   \n",
    "09  Turbina de mitja pressió   \n",
    "10  Vàlvula de control de gasos   \n",
    "11  Turbina de vapor alta pressió   \n",
    "12  Desgassificador   \n",
    "13  Escalfador   \n",
    "14  Cinta transportadora de carbó   \n",
    "15  Tremuja de carbó   \n",
    "16  Pulveritzador de carbó     \n",
    "17  Tambor de carbó   \n",
    "18  Tremuja de cendres    \n",
    "19  Superescalfador    \n",
    "20  Ventilador de flux forçat   \n",
    "21  Reescalfador    \n",
    "22  Presa d'aire de combustió    \n",
    "23  Economitzador   \n",
    "24  Preescalfador d'aire   \n",
    "25  Precipitador electroestàtic   \n",
    "26  Ventilador de fluix induït   \n",
    "27  Xemeneia d'emissions.   \n",
    "28  bomba d'alimentació d'aigua    \n",
    "\n",
    "### Sistemes de refrigeració\n",
    "El rendiment de la central millora si en lloc d’alliberar el vapor una vegada que ha exercit força sobre les turbines el condensem obtenint aigua molt calenta que tornem a introduir al cicle de generació. Per a aquest motiu es fa servir un condensador que es refreda amb un circuit exterior d’aigua, aigua freda que es pot obtenir del mar o d’un riu. En aquest segon cas l’aigua escalfada pel condensador ha de ser a la seva vegada refredada per l'atmosfera en un torre de refrigeració abans de tornar al riu, per minimitzar el seu impacte ecològic.\n",
    "\n",
    "|Refrigeració amb aigua de mar: Canonades refrigeració central tèrmica Sant Adrià de Besòs.|Refrigeració amb torre de refrigeració: Torre de refrigeració central tèrmica Cercs |\n",
    "|:---:|:---:|\n",
    "|![](img/ProdElec/canonadesStAdria.jpeg)|![](img/ProdElec/torreRefrigeracioCercs.jpeg)|\n",
    "\n",
    "\n",
    "Això també és aplicable a les centrals nuclears, que veurem més endavant, ja que les centrals nuclears no deixen de ser centrals tèrmiques on la calor es produeix per una reacció nuclear, en lloc de la reacció química a les centrals tèrmiques convencionals.\n",
    "\n",
    "### Turbines d’alta, mitja i baixa pressió\n",
    "Les turbines de vapor de les centrals tèrmiques i nuclears són molt diferents de les que hem vist a les centrals hidràuliques. La força del vapor produït a la caldera és tan gran que l’única solució possible per extraure tota aquesta força sense trencar la turbina es treballar inicialment  amb àleps molt petits, i conforme el vapor perd pressió, incrementar la mida de l’àlep per mantenir el producte F = p · S constant. Per optimitzar aquest sistema, es treballa típicament amb tres conjunts de turbines connectades, d’alta, mitja i baixa pressió, amb radis cada vegada més grans.\n",
    "\n",
    "![](img/ProdElec/turbinesSantAdria.jpeg)\n",
    "\n",
    "Degut a les altes temperatures i esforços a que estan sotmeses les turbines de vapor aquestes es fabriquen amb superal·liatges de niquel amb alumini i titani, recoberts amb una capa de ceràmica de diòxid de zirconi. \n",
    "\n",
    "### Rendiment\n",
    "El rendiment típic d’una central tèrmica es baix, al voltant d’un 33 %. Això vol dir que per cada kWh d’electricitat que arriba a casa nostra s’allibera el doble d’energia en forma de calor al nostre planeta, contribuint al seu escalfament global.\n",
    "\n",
    "### Impacte ambiental\n",
    "\n",
    "A més a més de la seva contribució a l’escalfament global pel seu rendiment, les central tèrmiques produeixen CO2 en la combustió, incrementant l’efecte hivernacle al nostre planeta.\n",
    "\n",
    "![](img/ProdElec/ximeneiaCercs.jpeg)\n",
    "\n",
    "\n",
    "Per altra banda, la utilització de carbó com a combustible, que porta compostos de sofre i d’altres impureses, afegeix la producció d’òxids de nitrogen i sofre, que provoquen la pluja àcida i boires fotoquímiques, amb un efecte devastador sobre la zona.\n",
    "\n",
    "A més a més, les torres de refrigeració incrementen la humitat de l’aire, moltes vegades produint un xim-xim constant, que, per exemple a la central de Cercs, barrejat amb el fum de la xemeneia, feia malbé els cotxes dels treballadors. En el seu defecte, a les centrals refrigerades amb aigua de mar, la temperatura al voltant de la seva desembocadura puja uns graus, alterant l’ecosistema marí."
   ]
  },
  {
   "cell_type": "markdown",
   "metadata": {
    "editable": true,
    "slideshow": {
     "slide_type": ""
    },
    "tags": []
   },
   "source": [
    "## Centrals de cicle combinat\n",
    "Si el combustible és gas, en lloc de cremar-lo a la caldera es fa a una turbina de gas connectada a un segon alternador, i utilitzant la calor de la turbina per generar vapor en el típic cicle de la central tèrmica, s’aconsegueix augmentar el rendiment fins al 45 %.\n",
    "\n",
    "![](img/ProdElec/centralCicleCombinat.png)\n",
    "\n",
    "El gas, a més a més, fa una combustió neta, on els productes generats son CO2 i vapor d’aigua. Per tant, si bé no genera pluja àcida ni boires fotoquímiques, contribueix a l’escalfament del planeta agreujat per l’efecte hivernacle del CO2, a més d’utilitzar una font d’energia exhaurible."
   ]
  },
  {
   "cell_type": "markdown",
   "metadata": {
    "editable": true,
    "slideshow": {
     "slide_type": ""
    },
    "tags": []
   },
   "source": [
    "## Centrals de cogeneració\n",
    "Si part de la calor generada a la central s’aprofita, per exemple, per escalfar aigua sanitària, aigua d’una piscina... parlem de cogeneració, on el rendiment pot arribar al 85 %.\n",
    "\n",
    "Si a més a més el combustible cremat no és un combustible fòssil, si no que es tracta de biomassa o biocombustible (fonts renovables d’energia), hem de considerar que el CO2 alliberat es tornarà a capturar en la producció de nou combustible als conreus.\n",
    "\n",
    "Amb aquest rendiment i en absència d’emissions netes de CO2 (el CO2 alliberat és el mateix que va capturar la planta que vam conrear) aquesta és, potser, una de les fonts d’energia més sostenible dintre de les centrals tèrmiques que podem trobar."
   ]
  },
  {
   "cell_type": "markdown",
   "metadata": {
    "editable": true,
    "slideshow": {
     "slide_type": ""
    },
    "tags": []
   },
   "source": [
    "## Inèrcia de les centrals tèrmiques\n",
    "Típicament una central tèrmica triga unes 2h en aconseguir un funcionament òptim des de que iniciem la producció, ja que s’han d’escalfar molts elements. Per això cal programar la seva engegada unes hores abans de l’increment de la demanda, previsió feta a base d’estadístiques de consum."
   ]
  },
  {
   "cell_type": "markdown",
   "metadata": {
    "editable": true,
    "slideshow": {
     "slide_type": ""
    },
    "tags": []
   },
   "source": [
    "## Exemple: PAU 2007 S3 4B\n",
    "\n",
    "![](http://www.jorts.net/PAU/dbase/img/Screenshots_2013-05-01-18-26-30.png)"
   ]
  },
  {
   "cell_type": "markdown",
   "metadata": {
    "editable": true,
    "slideshow": {
     "slide_type": ""
    },
    "tags": []
   },
   "source": [
    "Primer farem un diagrama del flux d'energia, ubicant les dades i les incògnites:\n",
    "\n",
    "![](img/ProdElec/diagramaCogeneracio.png)\n",
    "\n",
    "Introduim les dades (S.I.):\n",
    "\n"
   ]
  },
  {
   "cell_type": "code",
   "execution_count": 1,
   "metadata": {
    "editable": true,
    "slideshow": {
     "slide_type": ""
    },
    "tags": []
   },
   "outputs": [],
   "source": [
    "Eelec = 65*10**6*3600\n",
    "mr = 75*10**3\n",
    "p = 11.8*10**6\n",
    "ma = 3*10**6\n",
    "deltat = 40\n",
    "ce = 4.18*10**3"
   ]
  },
  {
   "cell_type": "markdown",
   "metadata": {},
   "source": [
    "**a)** Calculem la calor Qc generada cada dia:\n",
    "\n"
   ]
  },
  {
   "cell_type": "code",
   "execution_count": 2,
   "metadata": {},
   "outputs": [
    {
     "data": {
      "text/plain": [
       "885000000000.0"
      ]
     },
     "execution_count": 2,
     "metadata": {},
     "output_type": "execute_result"
    }
   ],
   "source": [
    "Qc = mr*p\n",
    "Qc"
   ]
  },
  {
   "cell_type": "markdown",
   "metadata": {},
   "source": [
    "Ara podem calcular el rendiment mitja de la planta $\\eta_{elèc}$ com el quocient de l'energia generada i l'energia consumida cada dia:\n",
    "\n"
   ]
  },
  {
   "cell_type": "code",
   "execution_count": 3,
   "metadata": {},
   "outputs": [
    {
     "data": {
      "text/plain": [
       "0.26440677966101694"
      ]
     },
     "execution_count": 3,
     "metadata": {},
     "output_type": "execute_result"
    }
   ],
   "source": [
    "etaelec = Eelec/Qc\n",
    "etaelec"
   ]
  },
  {
   "cell_type": "markdown",
   "metadata": {},
   "source": [
    "Arrodonint, $\\eta_{elèc}$ = 0,2644"
   ]
  },
  {
   "cell_type": "markdown",
   "metadata": {},
   "source": [
    "**b)** Calculem la calor Q no aprofitada per la planta\n",
    "\n",
    "$Q = (1 - \\eta_{elèc}) \\cdot Q_{c}$"
   ]
  },
  {
   "cell_type": "code",
   "execution_count": 4,
   "metadata": {},
   "outputs": [
    {
     "data": {
      "text/plain": [
       "651000000000.0"
      ]
     },
     "execution_count": 4,
     "metadata": {},
     "output_type": "execute_result"
    }
   ],
   "source": [
    "Q = (1-etaelec)*Qc\n",
    "Q"
   ]
  },
  {
   "cell_type": "markdown",
   "metadata": {},
   "source": [
    "La calor util Qu que escalfa l'aigua el podem calcular com\n",
    "\n",
    "$Q_{u} = m_{a} \\cdot c_{e} \\cdot \\Delta t$\n"
   ]
  },
  {
   "cell_type": "code",
   "execution_count": 5,
   "metadata": {},
   "outputs": [
    {
     "data": {
      "text/plain": [
       "501600000000.0"
      ]
     },
     "execution_count": 5,
     "metadata": {},
     "output_type": "execute_result"
    }
   ],
   "source": [
    "Qu = ma*ce*deltat\n",
    "Qu"
   ]
  },
  {
   "cell_type": "markdown",
   "metadata": {},
   "source": [
    "El rendiment tèrmic mitja $\\eta_{tèrmic}$ serà el quocient entre la calor útil (Qu) i la que no s'ha aprofitat a la transformació elèctrica (Q)"
   ]
  },
  {
   "cell_type": "code",
   "execution_count": 6,
   "metadata": {},
   "outputs": [
    {
     "data": {
      "text/plain": [
       "0.7705069124423963"
      ]
     },
     "execution_count": 6,
     "metadata": {},
     "output_type": "execute_result"
    }
   ],
   "source": [
    "etatermic = Qu/Q\n",
    "etatermic"
   ]
  },
  {
   "cell_type": "markdown",
   "metadata": {},
   "source": [
    "Arrodonint, $\\eta_{tèrmic} = 0,7705$"
   ]
  },
  {
   "cell_type": "markdown",
   "metadata": {},
   "source": [
    "**c)** Com un dia té 86400 s :"
   ]
  },
  {
   "cell_type": "code",
   "execution_count": 7,
   "metadata": {},
   "outputs": [
    {
     "data": {
      "text/plain": [
       "2708333.3333333335"
      ]
     },
     "execution_count": 7,
     "metadata": {},
     "output_type": "execute_result"
    }
   ],
   "source": [
    "Pelec = Eelec/86400\n",
    "Pelec"
   ]
  },
  {
   "cell_type": "markdown",
   "metadata": {},
   "source": [
    "Arrodonint $P_{elèc} = 2,708 \\hspace{1mm} MW$"
   ]
  },
  {
   "cell_type": "markdown",
   "metadata": {},
   "source": [
    "En un dia el volum d'aigua escalfada sera la massa d'aigua dividida per la densitat:"
   ]
  },
  {
   "cell_type": "code",
   "execution_count": 8,
   "metadata": {},
   "outputs": [
    {
     "data": {
      "text/plain": [
       "3000.0"
      ]
     },
     "execution_count": 8,
     "metadata": {},
     "output_type": "execute_result"
    }
   ],
   "source": [
    "Va = ma / 1000\n",
    "Va"
   ]
  },
  {
   "cell_type": "markdown",
   "metadata": {},
   "source": [
    "Per tant, el cabal -que és aquest volum dividit pels 86400 s d'un dia- serà, en m³/s:"
   ]
  },
  {
   "cell_type": "code",
   "execution_count": 9,
   "metadata": {},
   "outputs": [
    {
     "data": {
      "text/plain": [
       "0.034722222222222224"
      ]
     },
     "execution_count": 9,
     "metadata": {},
     "output_type": "execute_result"
    }
   ],
   "source": [
    "q = Va/86400\n",
    "q"
   ]
  },
  {
   "cell_type": "markdown",
   "metadata": {},
   "source": [
    "Arrodonint, $q = 34,72 \\hspace{1mm} l/s$"
   ]
  },
  {
   "cell_type": "markdown",
   "metadata": {
    "editable": true,
    "slideshow": {
     "slide_type": ""
    },
    "tags": []
   },
   "source": [
    "**Rendiment total de la planta de cogeneració**"
   ]
  },
  {
   "cell_type": "markdown",
   "metadata": {
    "editable": true,
    "slideshow": {
     "slide_type": ""
    },
    "tags": []
   },
   "source": [
    "Si ens preguntem quin és el rendiment total, primer podríem calcular l'energia total aprofitada, tant en producció elèctrica com en l'escalfament de l'aigua\n",
    "\n",
    "$E_{util} = E_{elèc} + Q_{u} = Q{c} \\cdot \\eta_{elèc} + Q{c} \\cdot (1 - \\eta_{elèc}) \\cdot \\eta_{tèrmic}$\n",
    "\n",
    "dividint per la calor consumida obtenim el rendiment total:\n",
    "\n",
    "$\\eta_{} = \\eta_{elèc} + (1 - \\eta_{elèc}) \\cdot \\eta_{tèrmic}$\n",
    "\n",
    "en el nostre cas"
   ]
  },
  {
   "cell_type": "code",
   "execution_count": 10,
   "metadata": {},
   "outputs": [
    {
     "data": {
      "text/plain": [
       "0.8311864406779661"
      ]
     },
     "execution_count": 10,
     "metadata": {},
     "output_type": "execute_result"
    }
   ],
   "source": [
    "eta = etaelec+(1-etaelec)*etatermic\n",
    "eta"
   ]
  },
  {
   "cell_type": "markdown",
   "metadata": {},
   "source": [
    "Arrodonint, tenim un rendiment total $\\eta = 83,12 \\%$"
   ]
  },
  {
   "cell_type": "code",
   "execution_count": null,
   "metadata": {
    "editable": true,
    "slideshow": {
     "slide_type": ""
    },
    "tags": []
   },
   "outputs": [],
   "source": []
  }
 ],
 "metadata": {
  "kernelspec": {
   "display_name": "venvPy3",
   "language": "python",
   "name": "venvpy3"
  },
  "language_info": {
   "codemirror_mode": {
    "name": "ipython",
    "version": 3
   },
   "file_extension": ".py",
   "mimetype": "text/x-python",
   "name": "python",
   "nbconvert_exporter": "python",
   "pygments_lexer": "ipython3",
   "version": "3.10.12"
  }
 },
 "nbformat": 4,
 "nbformat_minor": 4
}
